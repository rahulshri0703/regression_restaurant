{
 "cells": [
  {
   "cell_type": "code",
   "execution_count": 1,
   "metadata": {},
   "outputs": [],
   "source": [
    "import pandas as pd\n",
    "from boosting_model.config.core import config\n",
    "from boosting_model.processing.load_data import load_dataset,load_pipeline\n",
    "from boosting_model.processing.validation import validate_input\n",
    "from boosting_model import __version__ as _version\n",
    "import typing as t\n",
    "import logging"
   ]
  },
  {
   "cell_type": "code",
   "execution_count": 13,
   "metadata": {},
   "outputs": [],
   "source": [
    "_logger = logging.getLogger(__name__)"
   ]
  },
  {
   "cell_type": "code",
   "execution_count": 3,
   "metadata": {},
   "outputs": [
    {
     "data": {
      "text/plain": [
       "'final_pipeline2.pkl'"
      ]
     },
     "execution_count": 3,
     "metadata": {},
     "output_type": "execute_result"
    }
   ],
   "source": [
    "config.app_config.pipeline_name"
   ]
  },
  {
   "cell_type": "code",
   "execution_count": 2,
   "metadata": {},
   "outputs": [],
   "source": [
    "pipeline_final = load_pipeline(filename=config.app_config.pipeline_name)"
   ]
  },
  {
   "cell_type": "code",
   "execution_count": 3,
   "metadata": {},
   "outputs": [
    {
     "data": {
      "text/plain": [
       "Pipeline(steps=[('pipeline',\n",
       "                 Pipeline(steps=[('drop feature',\n",
       "                                  featuresDrop(variables=['location', 'name'])),\n",
       "                                 ('functional',\n",
       "                                  sklearnTransformerWrapper(transformer=FunctionTransformer(func=<function transform_log at 0x7fd5d94ce700>),\n",
       "                                                            variable=['votes',\n",
       "                                                                      'approx_cost'])),\n",
       "                                 ('scale',\n",
       "                                  sklearnTransformerWrapper(transformer=StandardScaler(),\n",
       "                                                            variable=['votes',\n",
       "                                                                      'approx_cos...\n",
       "                                                gpu_id=-1,\n",
       "                                                grow_policy='depthwise',\n",
       "                                                importance_type=None,\n",
       "                                                interaction_constraints='',\n",
       "                                                learning_rate=0.300000012,\n",
       "                                                max_bin=256,\n",
       "                                                max_cat_to_onehot=4,\n",
       "                                                max_delta_step=0, max_depth=10,\n",
       "                                                max_leaves=0,\n",
       "                                                min_child_weight=1, missing=nan,\n",
       "                                                monotone_constraints='()',\n",
       "                                                n_estimators=100, n_jobs=0,\n",
       "                                                num_parallel_tree=1,\n",
       "                                                predictor='auto',\n",
       "                                                random_state=0, reg_alpha=2,\n",
       "                                                reg_lambda=3, ...)))])"
      ]
     },
     "execution_count": 3,
     "metadata": {},
     "output_type": "execute_result"
    }
   ],
   "source": [
    "pipeline_final"
   ]
  },
  {
   "cell_type": "code",
   "execution_count": 4,
   "metadata": {},
   "outputs": [
    {
     "data": {
      "text/plain": [
       "'0.0.1'"
      ]
     },
     "execution_count": 4,
     "metadata": {},
     "output_type": "execute_result"
    }
   ],
   "source": [
    "_version"
   ]
  },
  {
   "cell_type": "code",
   "execution_count": 25,
   "metadata": {},
   "outputs": [],
   "source": [
    "def make_prediction(*,input_data : t.Union[pd.DataFrame,dict])->dict :\n",
    "\n",
    "    try:\n",
    "        data = pd.DataFrame(input_data)\n",
    "    except:\n",
    "        data = pd.DataFrame(input_data,index=[0])\n",
    "\n",
    "    validated_data,errors = validate_input(input_data=data)\n",
    "    results = dict(prediction= None , version = _version , error = errors)\n",
    "\n",
    "    if not errors:\n",
    "        prediction = pipeline_final.predict(validated_data[config.model_config.features])\n",
    "\n",
    "        _logger.info(\n",
    "        f\"Making predictions with model version: {_version} \"\n",
    "        f\"Predictions: {prediction}\"\n",
    "            )\n",
    "        results = {\"predictions\": list(prediction), \"version\": _version, \"errors\": errors}\n",
    "\n",
    "    return results"
   ]
  },
  {
   "cell_type": "code",
   "execution_count": 6,
   "metadata": {},
   "outputs": [
    {
     "data": {
      "text/html": [
       "<div>\n",
       "<style scoped>\n",
       "    .dataframe tbody tr th:only-of-type {\n",
       "        vertical-align: middle;\n",
       "    }\n",
       "\n",
       "    .dataframe tbody tr th {\n",
       "        vertical-align: top;\n",
       "    }\n",
       "\n",
       "    .dataframe thead th {\n",
       "        text-align: right;\n",
       "    }\n",
       "</style>\n",
       "<table border=\"1\" class=\"dataframe\">\n",
       "  <thead>\n",
       "    <tr style=\"text-align: right;\">\n",
       "      <th></th>\n",
       "      <th>name</th>\n",
       "      <th>online_order</th>\n",
       "      <th>book_table</th>\n",
       "      <th>votes</th>\n",
       "      <th>location</th>\n",
       "      <th>rest_type</th>\n",
       "      <th>cuisines</th>\n",
       "      <th>approx_cost</th>\n",
       "      <th>reviews_list</th>\n",
       "      <th>listed_in_type</th>\n",
       "      <th>listed_in_city</th>\n",
       "    </tr>\n",
       "  </thead>\n",
       "  <tbody>\n",
       "    <tr>\n",
       "      <th>9179</th>\n",
       "      <td>Sri Banashankari Donne Biriyani</td>\n",
       "      <td>1</td>\n",
       "      <td>0</td>\n",
       "      <td>80</td>\n",
       "      <td>Banaswadi</td>\n",
       "      <td>Quick Bites</td>\n",
       "      <td>Biryani</td>\n",
       "      <td>150</td>\n",
       "      <td>[('Rated 1.0', \"RATED\\n  Don't ever order in t...</td>\n",
       "      <td>Dine-out</td>\n",
       "      <td>Kammanahalli</td>\n",
       "    </tr>\n",
       "    <tr>\n",
       "      <th>25117</th>\n",
       "      <td>RK Fresh Food</td>\n",
       "      <td>1</td>\n",
       "      <td>0</td>\n",
       "      <td>13</td>\n",
       "      <td>BTM</td>\n",
       "      <td>Quick Bites</td>\n",
       "      <td>Fast Food</td>\n",
       "      <td>300</td>\n",
       "      <td>[('Rated 5.0', 'RATED\\n  Must try egg grilled ...</td>\n",
       "      <td>Delivery</td>\n",
       "      <td>BTM</td>\n",
       "    </tr>\n",
       "  </tbody>\n",
       "</table>\n",
       "</div>"
      ],
      "text/plain": [
       "                                  name  online_order  book_table  votes  \\\n",
       "9179   Sri Banashankari Donne Biriyani             1           0     80   \n",
       "25117                    RK Fresh Food             1           0     13   \n",
       "\n",
       "        location    rest_type   cuisines  approx_cost  \\\n",
       "9179   Banaswadi  Quick Bites    Biryani          150   \n",
       "25117        BTM  Quick Bites  Fast Food          300   \n",
       "\n",
       "                                            reviews_list listed_in_type  \\\n",
       "9179   [('Rated 1.0', \"RATED\\n  Don't ever order in t...       Dine-out   \n",
       "25117  [('Rated 5.0', 'RATED\\n  Must try egg grilled ...       Delivery   \n",
       "\n",
       "      listed_in_city  \n",
       "9179    Kammanahalli  \n",
       "25117            BTM  "
      ]
     },
     "execution_count": 6,
     "metadata": {},
     "output_type": "execute_result"
    }
   ],
   "source": [
    "input_data = load_dataset(filename=config.app_config.training_x_file)\n",
    "input_data.head(2)"
   ]
  },
  {
   "cell_type": "code",
   "execution_count": 38,
   "metadata": {},
   "outputs": [
    {
     "name": "stderr",
     "output_type": "stream",
     "text": [
      "/Users/rahul/anacond/anaconda3/lib/python3.9/site-packages/boosting_model/processing/validation.py:37: FutureWarning: Using short name for 'orient' is deprecated. Only the options: ('dict', list, 'series', 'split', 'records', 'index') will be used in a future version. Use one of the above to silence this warning.\n",
      "  schema.load(input_data.replace(\n"
     ]
    },
    {
     "data": {
      "text/plain": [
       "{'predictions': [3.592446,\n",
       "  3.7441888,\n",
       "  3.646734,\n",
       "  3.8365648,\n",
       "  4.077434,\n",
       "  3.758862,\n",
       "  3.3357074,\n",
       "  3.9709024,\n",
       "  4.204882,\n",
       "  3.8052242,\n",
       "  3.9007702,\n",
       "  3.9979615,\n",
       "  3.6424994,\n",
       "  3.970372,\n",
       "  3.8007553,\n",
       "  4.0199966,\n",
       "  3.9375224,\n",
       "  4.317169,\n",
       "  3.9895115,\n",
       "  3.7127001,\n",
       "  4.1211305,\n",
       "  4.0600514,\n",
       "  3.6598182,\n",
       "  3.6651287,\n",
       "  3.7902722,\n",
       "  4.3496675,\n",
       "  4.0775466,\n",
       "  3.837095,\n",
       "  3.6420703,\n",
       "  3.220551,\n",
       "  3.4548483,\n",
       "  3.594973,\n",
       "  4.4069695,\n",
       "  3.6153452,\n",
       "  3.9171236,\n",
       "  3.9297183,\n",
       "  3.2875533,\n",
       "  3.354087,\n",
       "  4.081868,\n",
       "  3.864164,\n",
       "  3.494306,\n",
       "  3.9437125,\n",
       "  3.9667094,\n",
       "  3.5527773,\n",
       "  3.3499856,\n",
       "  3.394226,\n",
       "  3.8149006,\n",
       "  3.7262902,\n",
       "  3.7732549,\n",
       "  3.6828048,\n",
       "  3.8720288,\n",
       "  3.6450582,\n",
       "  4.1049113,\n",
       "  4.1220107,\n",
       "  3.5172603,\n",
       "  4.085744,\n",
       "  4.1502604,\n",
       "  3.9729261,\n",
       "  3.9421139,\n",
       "  3.3814445,\n",
       "  3.8744743,\n",
       "  3.7870421,\n",
       "  4.193424,\n",
       "  4.3257713,\n",
       "  3.3981206,\n",
       "  4.1688714,\n",
       "  3.943849,\n",
       "  3.9918692,\n",
       "  3.763473,\n",
       "  3.4910817,\n",
       "  3.852091,\n",
       "  3.8150058,\n",
       "  4.003123,\n",
       "  4.042388,\n",
       "  3.6676664,\n",
       "  3.5144165,\n",
       "  3.7343013,\n",
       "  3.08392,\n",
       "  3.9248056,\n",
       "  3.735847,\n",
       "  4.0297165,\n",
       "  3.7314303,\n",
       "  3.5579603,\n",
       "  3.715976,\n",
       "  3.667389,\n",
       "  4.2382393,\n",
       "  3.8446736,\n",
       "  3.8024104,\n",
       "  3.8904922,\n",
       "  3.966537,\n",
       "  3.9597752,\n",
       "  3.9552968,\n",
       "  3.423449,\n",
       "  3.771141,\n",
       "  3.9672093,\n",
       "  3.6372845,\n",
       "  3.6155276,\n",
       "  3.742612,\n",
       "  3.9988022,\n",
       "  3.8235219],\n",
       " 'version': '0.0.1',\n",
       " 'errors': None}"
      ]
     },
     "execution_count": 38,
     "metadata": {},
     "output_type": "execute_result"
    }
   ],
   "source": [
    "# making prediction on pandas dataframe\n",
    "make_prediction(input_data=input_data)"
   ]
  },
  {
   "cell_type": "code",
   "execution_count": 41,
   "metadata": {},
   "outputs": [
    {
     "data": {
      "text/plain": [
       "{'name': {9179: 'Sri Banashankari Donne Biriyani',\n",
       "  25117: 'RK Fresh Food',\n",
       "  10558: 'Royal Restaurant'},\n",
       " 'online_order': {9179: 1, 25117: 1, 10558: 0},\n",
       " 'book_table': {9179: 0, 25117: 0, 10558: 0},\n",
       " 'votes': {9179: 80, 25117: 13, 10558: 7},\n",
       " 'location': {9179: 'Banaswadi', 25117: 'BTM', 10558: 'Shivajinagar'},\n",
       " 'rest_type': {9179: 'Quick Bites',\n",
       "  25117: 'Quick Bites',\n",
       "  10558: 'Quick Bites'},\n",
       " 'cuisines': {9179: 'Biryani',\n",
       "  25117: 'Fast Food',\n",
       "  10558: 'North Indian, Chinese'},\n",
       " 'approx_cost': {9179: 150, 25117: 300, 10558: 200},\n",
       " 'reviews_list': {9179: '[(\\'Rated 1.0\\', \"RATED\\\\n  Don\\'t ever order in this restaurant. Worst Mutton Biryani that we have eaten in years. Briyani made with looks like Govt Ration broken rice, can\\'t call it mutton biriyani but special bone & fat biryani. Only bones no flesh, raitha was onion with water and watery gravy.\\\\nTried calling the restaurant to give a mouthful but nobody picked the call.\"), (\\'Rated 1.0\\', \\'RATED\\\\n  Taste was good however only one small piece and a bone Mutton for 180 rupees. Disappointed with the Mutton quantity. Packaging and gravy, Raitha was good.\\'), (\\'Rated 1.0\\', \"RATED\\\\n  Worst biriyani.... Sorry is not biriyani just jeera rice.... I never eat this type of worst biriyani in my life....it\\'s true.. if u don\\'t believe just order food,eat ones then only you know i say truth...finally don\\'t waste money and time. Thanks...\"), (\\'Rated 1.0\\', \"RATED\\\\n  Ordered Donne Chicken Biriyani - I haven\\'t eaten anything tasteless than this. Even plain white rice would have tasted better. My platter looked like a bunch of misplaced rice dumpling had a roller coaster ride on the grasses in the morning & came home tired in the afternoon! Well they also managed to bring a crow\\'s fleshy tail (if it exists). A single piece of chicken, the synonymous of Kauwa Biriyani!\"), (\\'Rated 4.0\\', \"RATED\\\\n  Food was good.. we ordered the mutton biryani meal!! Quantity of biryani was good.. others were barely less than stater\\'s.. but very tasty... They must include raita.. as food is too heavy.. just one problem is in description it says egg.. but did not receive it..\"), (\\'Rated 2.0\\', \\'RATED\\\\n  In chicken thali ragi ball was not available, they should include all items what they show in the menu. This is kind of cheating only. next time onwards if u canÃ\\x83\\\\x83Ã\\x82\\\\x83Ã\\x83\\\\x82Ã\\x82\\\\x83Ã\\x83\\\\x83Ã\\x82\\\\x82Ã\\x83\\\\x82Ã\\x82Â¢Ã\\x83\\\\x83Ã\\x82\\\\x83Ã\\x83\\\\x82Ã\\x82\\\\x82Ã\\x83\\\\x83Ã\\x82\\\\x82Ã\\x83\\\\x82Ã\\x82\\\\x80Ã\\x83\\\\x83Ã\\x82\\\\x83Ã\\x83\\\\x82Ã\\x82\\\\x82Ã\\x83\\\\x83Ã\\x82\\\\x82Ã\\x83\\\\x82Ã\\x82\\\\x99t cover all the shown item in thali then remove those items from d menu.\\'), (\\'Rated 3.0\\', \\'RATED\\\\n  Expected a good good taste but it was an average !!! and chicken pieces in biriyani was not fully cooked and it was half cooked! and kshatriya kebab was horrible!!\\'), (\\'Rated 2.0\\', \\'RATED\\\\n  not good...food was cold...n we had ordered for kebab...which was full of just bones..\\'), (\\'Rated 2.0\\', \\'RATED\\\\n  Biriyani was fine. Leg soup was a disaster. Water has been added much later after preparation to make up the quantity. It was bad. We would not order again\\'), (\\'Rated 3.0\\', \\'RATED\\\\n \\\\nno issue with the delivery, but chicken pieces in the biriyani was not billed properly...\\'), (\\'Rated 1.0\\', \\'RATED\\\\n  not up to the mark\\'), (\\'Rated 1.0\\', \\'RATED\\\\n  food was very terrible and declined\\'), (\\'Rated 5.0\\', \\'RATED\\\\n  realy good\\'), (\\'Rated 3.0\\', \\'RATED\\\\n  Good\\'), (\\'Rated 5.0\\', \\'RATED\\\\n  Good\\'), (\\'Rated 1.0\\', \\'RATED\\\\n  not up to the mark\\'), (\\'Rated 1.0\\', \\'RATED\\\\n  food was very terrible and declined\\'), (\\'Rated 5.0\\', \\'RATED\\\\n  realy good\\'), (\\'Rated 3.0\\', \\'RATED\\\\n  Good\\'), (\\'Rated 5.0\\', \\'RATED\\\\n  Good\\'), (\\'Rated 5.0\\', \\'RATED\\\\n \\\\nvery good and in time\\'), (\\'Rated 4.0\\', \\'RATED\\\\n  quality is not good\\'), (\\'Rated 5.0\\', \\'RATED\\\\n  Good..\\'), (\\'Rated 5.0\\', \\'RATED\\\\n  Awsm food\\'), (\\'Rated 1.0\\', \\'RATED\\\\n  quantity is not okay .insufficient food delivered\\'), (\\'Rated 5.0\\', \\'RATED\\\\n \\\\nvery good and in time\\'), (\\'Rated 4.0\\', \\'RATED\\\\n  quality is not good\\'), (\\'Rated 5.0\\', \\'RATED\\\\n  Good..\\'), (\\'Rated 5.0\\', \\'RATED\\\\n  Awsm food\\'), (\\'Rated 1.0\\', \\'RATED\\\\n  quantity is not okay .insufficient food delivered\\'), (\\'Rated 5.0\\', \\'RATED\\\\n \\\\nvery good and in time\\'), (\\'Rated 4.0\\', \\'RATED\\\\n  quality is not good\\'), (\\'Rated 5.0\\', \\'RATED\\\\n  Good..\\'), (\\'Rated 5.0\\', \\'RATED\\\\n  Awsm food\\'), (\\'Rated 1.0\\', \\'RATED\\\\n  quantity is not okay .insufficient food delivered\\'), (\\'Rated 5.0\\', \\'RATED\\\\n \\\\nvery good and in time\\'), (\\'Rated 4.0\\', \\'RATED\\\\n  quality is not good\\'), (\\'Rated 5.0\\', \\'RATED\\\\n  Good..\\'), (\\'Rated 5.0\\', \\'RATED\\\\n  Awsm food\\'), (\\'Rated 1.0\\', \\'RATED\\\\n  quantity is not okay .insufficient food delivered\\'), (\\'Rated 5.0\\', \\'RATED\\\\n \\\\nvery good and in time\\'), (\\'Rated 4.0\\', \\'RATED\\\\n  quality is not good\\'), (\\'Rated 5.0\\', \\'RATED\\\\n  Good..\\'), (\\'Rated 5.0\\', \\'RATED\\\\n  Awsm food\\'), (\\'Rated 1.0\\', \\'RATED\\\\n  quantity is not okay .insufficient food delivered\\'), (\\'Rated 5.0\\', \\'RATED\\\\n \\\\nvery good and in time\\'), (\\'Rated 4.0\\', \\'RATED\\\\n  quality is not good\\'), (\\'Rated 5.0\\', \\'RATED\\\\n  Good..\\'), (\\'Rated 5.0\\', \\'RATED\\\\n  Awsm food\\'), (\\'Rated 1.0\\', \\'RATED\\\\n  quantity is not okay .insufficient food delivered\\'), (\\'Rated 5.0\\', \\'RATED\\\\n \\\\nvery good and in time\\'), (\\'Rated 4.0\\', \\'RATED\\\\n  quality is not good\\'), (\\'Rated 5.0\\', \\'RATED\\\\n  Good..\\'), (\\'Rated 5.0\\', \\'RATED\\\\n  Awsm food\\'), (\\'Rated 1.0\\', \\'RATED\\\\n  quantity is not okay .insufficient food delivered\\'), (\\'Rated 5.0\\', \\'RATED\\\\n \\\\nvery good and in time\\'), (\\'Rated 4.0\\', \\'RATED\\\\n  quality is not good\\'), (\\'Rated 5.0\\', \\'RATED\\\\n  Good..\\'), (\\'Rated 5.0\\', \\'RATED\\\\n  Awsm food\\'), (\\'Rated 1.0\\', \\'RATED\\\\n  quantity is not okay .insufficient food delivered\\'), (\\'Rated 5.0\\', \\'RATED\\\\n \\\\nvery good and in time\\'), (\\'Rated 4.0\\', \\'RATED\\\\n  quality is not good\\'), (\\'Rated 5.0\\', \\'RATED\\\\n  Good..\\'), (\\'Rated 5.0\\', \\'RATED\\\\n  Awsm food\\'), (\\'Rated 1.0\\', \\'RATED\\\\n  quantity is not okay .insufficient food delivered\\'), (\\'Rated 3.0\\', \\'RATED\\\\n  good\\'), (\\'Rated 5.0\\', \\'RATED\\\\n  Good\\'), (\\'Rated 4.0\\', \\'RATED\\\\n  Good\\'), (\\'Rated 4.0\\', \\'RATED\\\\n  Taste was goodÃ\\x83\\\\x83Ã\\x82\\\\x83Ã\\x83\\\\x82Ã\\x82\\\\x83Ã\\x83\\\\x83Ã\\x82\\\\x82Ã\\x83\\\\x82Ã\\x82Â°Ã\\x83\\\\x83Ã\\x82\\\\x83Ã\\x83\\\\x82Ã\\x82\\\\x82Ã\\x83\\\\x83Ã\\x82\\\\x82Ã\\x83\\\\x82Ã\\x82\\\\x9fÃ\\x83\\\\x83Ã\\x82\\\\x83Ã\\x83\\\\x82Ã\\x82\\\\x82Ã\\x83\\\\x83Ã\\x82\\\\x82Ã\\x83\\\\x82Ã\\x82\\\\x98Ã\\x83\\\\x83Ã\\x82\\\\x83Ã\\x83\\\\x82Ã\\x82\\\\x82Ã\\x83\\\\x83Ã\\x82\\\\x82Ã\\x83\\\\x82Ã\\x82\\\\x80. But no were they charge for containersÃ\\x83\\\\x83Ã\\x82\\\\x83Ã\\x83\\\\x82Ã\\x82\\\\x83Ã\\x83\\\\x83Ã\\x82\\\\x82Ã\\x83\\\\x82Ã\\x82Â°Ã\\x83\\\\x83Ã\\x82\\\\x83Ã\\x83\\\\x82Ã\\x82\\\\x82Ã\\x83\\\\x83Ã\\x82\\\\x82Ã\\x83\\\\x82Ã\\x82\\\\x9fÃ\\x83\\\\x83Ã\\x82\\\\x83Ã\\x83\\\\x82Ã\\x82\\\\x82Ã\\x83\\\\x83Ã\\x82\\\\x82Ã\\x83\\\\x82Ã\\x82\\\\x98Ã\\x83\\\\x83Ã\\x82\\\\x83Ã\\x83\\\\x82Ã\\x82\\\\x82Ã\\x83\\\\x83Ã\\x82\\\\x82Ã\\x83\\\\x82Ã\\x82\\\\x92Ã\\x83\\\\x83Ã\\x82\\\\x83Ã\\x83\\\\x82Ã\\x82\\\\x83Ã\\x83\\\\x83Ã\\x82\\\\x82Ã\\x83\\\\x82Ã\\x82Â°Ã\\x83\\\\x83Ã\\x82\\\\x83Ã\\x83\\\\x82Ã\\x82\\\\x82Ã\\x83\\\\x83Ã\\x82\\\\x82Ã\\x83\\\\x82Ã\\x82\\\\x9fÃ\\x83\\\\x83Ã\\x82\\\\x83Ã\\x83\\\\x82Ã\\x82\\\\x82Ã\\x83\\\\x83Ã\\x82\\\\x82Ã\\x83\\\\x82Ã\\x82Â¤Ã\\x83\\\\x83Ã\\x82\\\\x83Ã\\x83\\\\x82Ã\\x82\\\\x82Ã\\x83\\\\x83Ã\\x82\\\\x82Ã\\x83\\\\x82Ã\\x82\\\\x94\\'), (\\'Rated 2.0\\', \\'RATED\\\\n  got wrong order\\'), (\\'Rated 3.0\\', \\'RATED\\\\n  good\\'), (\\'Rated 5.0\\', \\'RATED\\\\n  Good\\'), (\\'Rated 4.0\\', \\'RATED\\\\n  Good\\'), (\\'Rated 4.0\\', \\'RATED\\\\n  Taste was goodÃ\\x83\\\\x83Ã\\x82\\\\x83Ã\\x83\\\\x82Ã\\x82\\\\x83Ã\\x83\\\\x83Ã\\x82\\\\x82Ã\\x83\\\\x82Ã\\x82Â°Ã\\x83\\\\x83Ã\\x82\\\\x83Ã\\x83\\\\x82Ã\\x82\\\\x82Ã\\x83\\\\x83Ã\\x82\\\\x82Ã\\x83\\\\x82Ã\\x82\\\\x9fÃ\\x83\\\\x83Ã\\x82\\\\x83Ã\\x83\\\\x82Ã\\x82\\\\x82Ã\\x83\\\\x83Ã\\x82\\\\x82Ã\\x83\\\\x82Ã\\x82\\\\x98Ã\\x83\\\\x83Ã\\x82\\\\x83Ã\\x83\\\\x82Ã\\x82\\\\x82Ã\\x83\\\\x83Ã\\x82\\\\x82Ã\\x83\\\\x82Ã\\x82\\\\x80. But no were they charge for containersÃ\\x83\\\\x83Ã\\x82\\\\x83Ã\\x83\\\\x82Ã\\x82\\\\x83Ã\\x83\\\\x83Ã\\x82\\\\x82Ã\\x83\\\\x82Ã\\x82Â°Ã\\x83\\\\x83Ã\\x82\\\\x83Ã\\x83\\\\x82Ã\\x82\\\\x82Ã\\x83\\\\x83Ã\\x82\\\\x82Ã\\x83\\\\x82Ã\\x82\\\\x9fÃ\\x83\\\\x83Ã\\x82\\\\x83Ã\\x83\\\\x82Ã\\x82\\\\x82Ã\\x83\\\\x83Ã\\x82\\\\x82Ã\\x83\\\\x82Ã\\x82\\\\x98Ã\\x83\\\\x83Ã\\x82\\\\x83Ã\\x83\\\\x82Ã\\x82\\\\x82Ã\\x83\\\\x83Ã\\x82\\\\x82Ã\\x83\\\\x82Ã\\x82\\\\x92Ã\\x83\\\\x83Ã\\x82\\\\x83Ã\\x83\\\\x82Ã\\x82\\\\x83Ã\\x83\\\\x83Ã\\x82\\\\x82Ã\\x83\\\\x82Ã\\x82Â°Ã\\x83\\\\x83Ã\\x82\\\\x83Ã\\x83\\\\x82Ã\\x82\\\\x82Ã\\x83\\\\x83Ã\\x82\\\\x82Ã\\x83\\\\x82Ã\\x82\\\\x9fÃ\\x83\\\\x83Ã\\x82\\\\x83Ã\\x83\\\\x82Ã\\x82\\\\x82Ã\\x83\\\\x83Ã\\x82\\\\x82Ã\\x83\\\\x82Ã\\x82Â¤Ã\\x83\\\\x83Ã\\x82\\\\x83Ã\\x83\\\\x82Ã\\x82\\\\x82Ã\\x83\\\\x83Ã\\x82\\\\x82Ã\\x83\\\\x82Ã\\x82\\\\x94\\'), (\\'Rated 2.0\\', \\'RATED\\\\n  got wrong order\\'), (\\'Rated 3.0\\', \\'RATED\\\\n  good\\'), (\\'Rated 5.0\\', \\'RATED\\\\n  Good\\'), (\\'Rated 4.0\\', \\'RATED\\\\n  Good\\'), (\\'Rated 4.0\\', \\'RATED\\\\n  Taste was goodÃ\\x83\\\\x83Ã\\x82\\\\x83Ã\\x83\\\\x82Ã\\x82\\\\x83Ã\\x83\\\\x83Ã\\x82\\\\x82Ã\\x83\\\\x82Ã\\x82Â°Ã\\x83\\\\x83Ã\\x82\\\\x83Ã\\x83\\\\x82Ã\\x82\\\\x82Ã\\x83\\\\x83Ã\\x82\\\\x82Ã\\x83\\\\x82Ã\\x82\\\\x9fÃ\\x83\\\\x83Ã\\x82\\\\x83Ã\\x83\\\\x82Ã\\x82\\\\x82Ã\\x83\\\\x83Ã\\x82\\\\x82Ã\\x83\\\\x82Ã\\x82\\\\x98Ã\\x83\\\\x83Ã\\x82\\\\x83Ã\\x83\\\\x82Ã\\x82\\\\x82Ã\\x83\\\\x83Ã\\x82\\\\x82Ã\\x83\\\\x82Ã\\x82\\\\x80. But no were they charge for containersÃ\\x83\\\\x83Ã\\x82\\\\x83Ã\\x83\\\\x82Ã\\x82\\\\x83Ã\\x83\\\\x83Ã\\x82\\\\x82Ã\\x83\\\\x82Ã\\x82Â°Ã\\x83\\\\x83Ã\\x82\\\\x83Ã\\x83\\\\x82Ã\\x82\\\\x82Ã\\x83\\\\x83Ã\\x82\\\\x82Ã\\x83\\\\x82Ã\\x82\\\\x9fÃ\\x83\\\\x83Ã\\x82\\\\x83Ã\\x83\\\\x82Ã\\x82\\\\x82Ã\\x83\\\\x83Ã\\x82\\\\x82Ã\\x83\\\\x82Ã\\x82\\\\x98Ã\\x83\\\\x83Ã\\x82\\\\x83Ã\\x83\\\\x82Ã\\x82\\\\x82Ã\\x83\\\\x83Ã\\x82\\\\x82Ã\\x83\\\\x82Ã\\x82\\\\x92Ã\\x83\\\\x83Ã\\x82\\\\x83Ã\\x83\\\\x82Ã\\x82\\\\x83Ã\\x83\\\\x83Ã\\x82\\\\x82Ã\\x83\\\\x82Ã\\x82Â°Ã\\x83\\\\x83Ã\\x82\\\\x83Ã\\x83\\\\x82Ã\\x82\\\\x82Ã\\x83\\\\x83Ã\\x82\\\\x82Ã\\x83\\\\x82Ã\\x82\\\\x9fÃ\\x83\\\\x83Ã\\x82\\\\x83Ã\\x83\\\\x82Ã\\x82\\\\x82Ã\\x83\\\\x83Ã\\x82\\\\x82Ã\\x83\\\\x82Ã\\x82Â¤Ã\\x83\\\\x83Ã\\x82\\\\x83Ã\\x83\\\\x82Ã\\x82\\\\x82Ã\\x83\\\\x83Ã\\x82\\\\x82Ã\\x83\\\\x82Ã\\x82\\\\x94\\'), (\\'Rated 2.0\\', \\'RATED\\\\n  got wrong order\\'), (\\'Rated 3.0\\', \\'RATED\\\\n  good\\'), (\\'Rated 5.0\\', \\'RATED\\\\n  Good\\'), (\\'Rated 4.0\\', \\'RATED\\\\n  Good\\'), (\\'Rated 4.0\\', \\'RATED\\\\n  Taste was goodÃ\\x83\\\\x83Ã\\x82\\\\x83Ã\\x83\\\\x82Ã\\x82\\\\x83Ã\\x83\\\\x83Ã\\x82\\\\x82Ã\\x83\\\\x82Ã\\x82Â°Ã\\x83\\\\x83Ã\\x82\\\\x83Ã\\x83\\\\x82Ã\\x82\\\\x82Ã\\x83\\\\x83Ã\\x82\\\\x82Ã\\x83\\\\x82Ã\\x82\\\\x9fÃ\\x83\\\\x83Ã\\x82\\\\x83Ã\\x83\\\\x82Ã\\x82\\\\x82Ã\\x83\\\\x83Ã\\x82\\\\x82Ã\\x83\\\\x82Ã\\x82\\\\x98Ã\\x83\\\\x83Ã\\x82\\\\x83Ã\\x83\\\\x82Ã\\x82\\\\x82Ã\\x83\\\\x83Ã\\x82\\\\x82Ã\\x83\\\\x82Ã\\x82\\\\x80. But no were they charge for containersÃ\\x83\\\\x83Ã\\x82\\\\x83Ã\\x83\\\\x82Ã\\x82\\\\x83Ã\\x83\\\\x83Ã\\x82\\\\x82Ã\\x83\\\\x82Ã\\x82Â°Ã\\x83\\\\x83Ã\\x82\\\\x83Ã\\x83\\\\x82Ã\\x82\\\\x82Ã\\x83\\\\x83Ã\\x82\\\\x82Ã\\x83\\\\x82Ã\\x82\\\\x9fÃ\\x83\\\\x83Ã\\x82\\\\x83Ã\\x83\\\\x82Ã\\x82\\\\x82Ã\\x83\\\\x83Ã\\x82\\\\x82Ã\\x83\\\\x82Ã\\x82\\\\x98Ã\\x83\\\\x83Ã\\x82\\\\x83Ã\\x83\\\\x82Ã\\x82\\\\x82Ã\\x83\\\\x83Ã\\x82\\\\x82Ã\\x83\\\\x82Ã\\x82\\\\x92Ã\\x83\\\\x83Ã\\x82\\\\x83Ã\\x83\\\\x82Ã\\x82\\\\x83Ã\\x83\\\\x83Ã\\x82\\\\x82Ã\\x83\\\\x82Ã\\x82Â°Ã\\x83\\\\x83Ã\\x82\\\\x83Ã\\x83\\\\x82Ã\\x82\\\\x82Ã\\x83\\\\x83Ã\\x82\\\\x82Ã\\x83\\\\x82Ã\\x82\\\\x9fÃ\\x83\\\\x83Ã\\x82\\\\x83Ã\\x83\\\\x82Ã\\x82\\\\x82Ã\\x83\\\\x83Ã\\x82\\\\x82Ã\\x83\\\\x82Ã\\x82Â¤Ã\\x83\\\\x83Ã\\x82\\\\x83Ã\\x83\\\\x82Ã\\x82\\\\x82Ã\\x83\\\\x83Ã\\x82\\\\x82Ã\\x83\\\\x82Ã\\x82\\\\x94\\'), (\\'Rated 2.0\\', \\'RATED\\\\n  got wrong order\\'), (\\'Rated 3.0\\', \\'RATED\\\\n  good\\'), (\\'Rated 5.0\\', \\'RATED\\\\n  Good\\'), (\\'Rated 4.0\\', \\'RATED\\\\n  Good\\'), (\\'Rated 4.0\\', \\'RATED\\\\n  Taste was goodÃ\\x83\\\\x83Ã\\x82\\\\x83Ã\\x83\\\\x82Ã\\x82\\\\x83Ã\\x83\\\\x83Ã\\x82\\\\x82Ã\\x83\\\\x82Ã\\x82Â°Ã\\x83\\\\x83Ã\\x82\\\\x83Ã\\x83\\\\x82Ã\\x82\\\\x82Ã\\x83\\\\x83Ã\\x82\\\\x82Ã\\x83\\\\x82Ã\\x82\\\\x9fÃ\\x83\\\\x83Ã\\x82\\\\x83Ã\\x83\\\\x82Ã\\x82\\\\x82Ã\\x83\\\\x83Ã\\x82\\\\x82Ã\\x83\\\\x82Ã\\x82\\\\x98Ã\\x83\\\\x83Ã\\x82\\\\x83Ã\\x83\\\\x82Ã\\x82\\\\x82Ã\\x83\\\\x83Ã\\x82\\\\x82Ã\\x83\\\\x82Ã\\x82\\\\x80. But no were they charge for containersÃ\\x83\\\\x83Ã\\x82\\\\x83Ã\\x83\\\\x82Ã\\x82\\\\x83Ã\\x83\\\\x83Ã\\x82\\\\x82Ã\\x83\\\\x82Ã\\x82Â°Ã\\x83\\\\x83Ã\\x82\\\\x83Ã\\x83\\\\x82Ã\\x82\\\\x82Ã\\x83\\\\x83Ã\\x82\\\\x82Ã\\x83\\\\x82Ã\\x82\\\\x9fÃ\\x83\\\\x83Ã\\x82\\\\x83Ã\\x83\\\\x82Ã\\x82\\\\x82Ã\\x83\\\\x83Ã\\x82\\\\x82Ã\\x83\\\\x82Ã\\x82\\\\x98Ã\\x83\\\\x83Ã\\x82\\\\x83Ã\\x83\\\\x82Ã\\x82\\\\x82Ã\\x83\\\\x83Ã\\x82\\\\x82Ã\\x83\\\\x82Ã\\x82\\\\x92Ã\\x83\\\\x83Ã\\x82\\\\x83Ã\\x83\\\\x82Ã\\x82\\\\x83Ã\\x83\\\\x83Ã\\x82\\\\x82Ã\\x83\\\\x82Ã\\x82Â°Ã\\x83\\\\x83Ã\\x82\\\\x83Ã\\x83\\\\x82Ã\\x82\\\\x82Ã\\x83\\\\x83Ã\\x82\\\\x82Ã\\x83\\\\x82Ã\\x82\\\\x9fÃ\\x83\\\\x83Ã\\x82\\\\x83Ã\\x83\\\\x82Ã\\x82\\\\x82Ã\\x83\\\\x83Ã\\x82\\\\x82Ã\\x83\\\\x82Ã\\x82Â¤Ã\\x83\\\\x83Ã\\x82\\\\x83Ã\\x83\\\\x82Ã\\x82\\\\x82Ã\\x83\\\\x83Ã\\x82\\\\x82Ã\\x83\\\\x82Ã\\x82\\\\x94\\'), (\\'Rated 2.0\\', \\'RATED\\\\n  got wrong order\\'), (\\'Rated 3.0\\', \\'RATED\\\\n  good\\'), (\\'Rated 5.0\\', \\'RATED\\\\n  Good\\'), (\\'Rated 4.0\\', \\'RATED\\\\n  Good\\'), (\\'Rated 4.0\\', \\'RATED\\\\n  Taste was goodÃ\\x83\\\\x83Ã\\x82\\\\x83Ã\\x83\\\\x82Ã\\x82\\\\x83Ã\\x83\\\\x83Ã\\x82\\\\x82Ã\\x83\\\\x82Ã\\x82Â°Ã\\x83\\\\x83Ã\\x82\\\\x83Ã\\x83\\\\x82Ã\\x82\\\\x82Ã\\x83\\\\x83Ã\\x82\\\\x82Ã\\x83\\\\x82Ã\\x82\\\\x9fÃ\\x83\\\\x83Ã\\x82\\\\x83Ã\\x83\\\\x82Ã\\x82\\\\x82Ã\\x83\\\\x83Ã\\x82\\\\x82Ã\\x83\\\\x82Ã\\x82\\\\x98Ã\\x83\\\\x83Ã\\x82\\\\x83Ã\\x83\\\\x82Ã\\x82\\\\x82Ã\\x83\\\\x83Ã\\x82\\\\x82Ã\\x83\\\\x82Ã\\x82\\\\x80. But no were they charge for containersÃ\\x83\\\\x83Ã\\x82\\\\x83Ã\\x83\\\\x82Ã\\x82\\\\x83Ã\\x83\\\\x83Ã\\x82\\\\x82Ã\\x83\\\\x82Ã\\x82Â°Ã\\x83\\\\x83Ã\\x82\\\\x83Ã\\x83\\\\x82Ã\\x82\\\\x82Ã\\x83\\\\x83Ã\\x82\\\\x82Ã\\x83\\\\x82Ã\\x82\\\\x9fÃ\\x83\\\\x83Ã\\x82\\\\x83Ã\\x83\\\\x82Ã\\x82\\\\x82Ã\\x83\\\\x83Ã\\x82\\\\x82Ã\\x83\\\\x82Ã\\x82\\\\x98Ã\\x83\\\\x83Ã\\x82\\\\x83Ã\\x83\\\\x82Ã\\x82\\\\x82Ã\\x83\\\\x83Ã\\x82\\\\x82Ã\\x83\\\\x82Ã\\x82\\\\x92Ã\\x83\\\\x83Ã\\x82\\\\x83Ã\\x83\\\\x82Ã\\x82\\\\x83Ã\\x83\\\\x83Ã\\x82\\\\x82Ã\\x83\\\\x82Ã\\x82Â°Ã\\x83\\\\x83Ã\\x82\\\\x83Ã\\x83\\\\x82Ã\\x82\\\\x82Ã\\x83\\\\x83Ã\\x82\\\\x82Ã\\x83\\\\x82Ã\\x82\\\\x9fÃ\\x83\\\\x83Ã\\x82\\\\x83Ã\\x83\\\\x82Ã\\x82\\\\x82Ã\\x83\\\\x83Ã\\x82\\\\x82Ã\\x83\\\\x82Ã\\x82Â¤Ã\\x83\\\\x83Ã\\x82\\\\x83Ã\\x83\\\\x82Ã\\x82\\\\x82Ã\\x83\\\\x83Ã\\x82\\\\x82Ã\\x83\\\\x82Ã\\x82\\\\x94\\'), (\\'Rated 2.0\\', \\'RATED\\\\n  got wrong order\\'), (\\'Rated 3.0\\', \\'RATED\\\\n  good\\'), (\\'Rated 5.0\\', \\'RATED\\\\n  Good\\'), (\\'Rated 4.0\\', \\'RATED\\\\n  Good\\'), (\\'Rated 4.0\\', \\'RATED\\\\n  Taste was goodÃ\\x83\\\\x83Ã\\x82\\\\x83Ã\\x83\\\\x82Ã\\x82\\\\x83Ã\\x83\\\\x83Ã\\x82\\\\x82Ã\\x83\\\\x82Ã\\x82Â°Ã\\x83\\\\x83Ã\\x82\\\\x83Ã\\x83\\\\x82Ã\\x82\\\\x82Ã\\x83\\\\x83Ã\\x82\\\\x82Ã\\x83\\\\x82Ã\\x82\\\\x9fÃ\\x83\\\\x83Ã\\x82\\\\x83Ã\\x83\\\\x82Ã\\x82\\\\x82Ã\\x83\\\\x83Ã\\x82\\\\x82Ã\\x83\\\\x82Ã\\x82\\\\x98Ã\\x83\\\\x83Ã\\x82\\\\x83Ã\\x83\\\\x82Ã\\x82\\\\x82Ã\\x83\\\\x83Ã\\x82\\\\x82Ã\\x83\\\\x82Ã\\x82\\\\x80. But no were they charge for containersÃ\\x83\\\\x83Ã\\x82\\\\x83Ã\\x83\\\\x82Ã\\x82\\\\x83Ã\\x83\\\\x83Ã\\x82\\\\x82Ã\\x83\\\\x82Ã\\x82Â°Ã\\x83\\\\x83Ã\\x82\\\\x83Ã\\x83\\\\x82Ã\\x82\\\\x82Ã\\x83\\\\x83Ã\\x82\\\\x82Ã\\x83\\\\x82Ã\\x82\\\\x9fÃ\\x83\\\\x83Ã\\x82\\\\x83Ã\\x83\\\\x82Ã\\x82\\\\x82Ã\\x83\\\\x83Ã\\x82\\\\x82Ã\\x83\\\\x82Ã\\x82\\\\x98Ã\\x83\\\\x83Ã\\x82\\\\x83Ã\\x83\\\\x82Ã\\x82\\\\x82Ã\\x83\\\\x83Ã\\x82\\\\x82Ã\\x83\\\\x82Ã\\x82\\\\x92Ã\\x83\\\\x83Ã\\x82\\\\x83Ã\\x83\\\\x82Ã\\x82\\\\x83Ã\\x83\\\\x83Ã\\x82\\\\x82Ã\\x83\\\\x82Ã\\x82Â°Ã\\x83\\\\x83Ã\\x82\\\\x83Ã\\x83\\\\x82Ã\\x82\\\\x82Ã\\x83\\\\x83Ã\\x82\\\\x82Ã\\x83\\\\x82Ã\\x82\\\\x9fÃ\\x83\\\\x83Ã\\x82\\\\x83Ã\\x83\\\\x82Ã\\x82\\\\x82Ã\\x83\\\\x83Ã\\x82\\\\x82Ã\\x83\\\\x82Ã\\x82Â¤Ã\\x83\\\\x83Ã\\x82\\\\x83Ã\\x83\\\\x82Ã\\x82\\\\x82Ã\\x83\\\\x83Ã\\x82\\\\x82Ã\\x83\\\\x82Ã\\x82\\\\x94\\'), (\\'Rated 2.0\\', \\'RATED\\\\n  got wrong order\\'), (\\'Rated 5.0\\', \\'RATED\\\\n  good taste!\\'), (\\'Rated 2.0\\', \\'RATED\\\\n  food was great but I got different item delivered\\'), (\\'Rated 1.0\\', \\'RATED\\\\n  Uncooked food. Poor quality and quantity\\'), (\\'Rated 4.0\\', \\'RATED\\\\n  Raitha and vegetable salad(onion and cucumber) was missing with the delivered food.\\'), (\\'Rated 5.0\\', \\'RATED\\\\n  Nice food\\'), (\\'Rated 5.0\\', \\'RATED\\\\n  good taste!\\'), (\\'Rated 2.0\\', \\'RATED\\\\n  food was great but I got different item delivered\\'), (\\'Rated 1.0\\', \\'RATED\\\\n  Uncooked food. Poor quality and quantity\\'), (\\'Rated 4.0\\', \\'RATED\\\\n  Raitha and vegetable salad(onion and cucumber) was missing with the delivered food.\\'), (\\'Rated 5.0\\', \\'RATED\\\\n  Nice food\\'), (\\'Rated 5.0\\', \\'RATED\\\\n  good taste!\\'), (\\'Rated 2.0\\', \\'RATED\\\\n  food was great but I got different item delivered\\'), (\\'Rated 1.0\\', \\'RATED\\\\n  Uncooked food. Poor quality and quantity\\'), (\\'Rated 4.0\\', \\'RATED\\\\n  Raitha and vegetable salad(onion and cucumber) was missing with the delivered food.\\'), (\\'Rated 5.0\\', \\'RATED\\\\n  Nice food\\'), (\\'Rated 5.0\\', \\'RATED\\\\n  good taste!\\'), (\\'Rated 2.0\\', \\'RATED\\\\n  food was great but I got different item delivered\\'), (\\'Rated 1.0\\', \\'RATED\\\\n  Uncooked food. Poor quality and quantity\\'), (\\'Rated 4.0\\', \\'RATED\\\\n  Raitha and vegetable salad(onion and cucumber) was missing with the delivered food.\\'), (\\'Rated 5.0\\', \\'RATED\\\\n  Nice food\\'), (\\'Rated 5.0\\', \\'RATED\\\\n  good taste!\\'), (\\'Rated 2.0\\', \\'RATED\\\\n  food was great but I got different item delivered\\'), (\\'Rated 1.0\\', \\'RATED\\\\n  Uncooked food. Poor quality and quantity\\'), (\\'Rated 4.0\\', \\'RATED\\\\n  Raitha and vegetable salad(onion and cucumber) was missing with the delivered food.\\'), (\\'Rated 5.0\\', \\'RATED\\\\n  Nice food\\'), (\\'Rated 5.0\\', \\'RATED\\\\n  awesome\\'), (\\'Rated 5.0\\', \\'RATED\\\\n  worth the money\\'), (\\'Rated 2.0\\', \\'RATED\\\\n  Ok\\'), (\\'Rated 1.0\\', \\'RATED\\\\n  bad\\'), (\\'Rated 1.0\\', \\'RATED\\\\n  Worst food ever n delivered the stale food. PLEASE DONOT ORDER FOOD FROM THIS HOTEL.... YOU WILL DEFINATELY GET ADMITTED TO HOSPITAL\\'), (\\'Rated 5.0\\', \\'RATED\\\\n  awesome\\'), (\\'Rated 5.0\\', \\'RATED\\\\n  worth the money\\'), (\\'Rated 2.0\\', \\'RATED\\\\n  Ok\\'), (\\'Rated 1.0\\', \\'RATED\\\\n  bad\\'), (\\'Rated 1.0\\', \\'RATED\\\\n  Worst food ever n delivered the stale food. PLEASE DONOT ORDER FOOD FROM THIS HOTEL.... YOU WILL DEFINATELY GET ADMITTED TO HOSPITAL\\'), (\\'Rated 5.0\\', \\'RATED\\\\n  awesome\\'), (\\'Rated 5.0\\', \\'RATED\\\\n  worth the money\\'), (\\'Rated 2.0\\', \\'RATED\\\\n  Ok\\'), (\\'Rated 1.0\\', \\'RATED\\\\n  bad\\'), (\\'Rated 1.0\\', \\'RATED\\\\n  Worst food ever n delivered the stale food. PLEASE DONOT ORDER FOOD FROM THIS HOTEL.... YOU WILL DEFINATELY GET ADMITTED TO HOSPITAL\\'), (\\'Rated 5.0\\', \\'RATED\\\\n  awesome\\'), (\\'Rated 5.0\\', \\'RATED\\\\n  worth the money\\'), (\\'Rated 2.0\\', \\'RATED\\\\n  Ok\\'), (\\'Rated 1.0\\', \\'RATED\\\\n  bad\\'), (\\'Rated 1.0\\', \\'RATED\\\\n  Worst food ever n delivered the stale food. PLEASE DONOT ORDER FOOD FROM THIS HOTEL.... YOU WILL DEFINATELY GET ADMITTED TO HOSPITAL\\'), (\\'Rated 5.0\\', \\'RATED\\\\n  awesome\\'), (\\'Rated 5.0\\', \\'RATED\\\\n  worth the money\\'), (\\'Rated 2.0\\', \\'RATED\\\\n  Ok\\'), (\\'Rated 1.0\\', \\'RATED\\\\n  bad\\'), (\\'Rated 1.0\\', \\'RATED\\\\n  Worst food ever n delivered the stale food. PLEASE DONOT ORDER FOOD FROM THIS HOTEL.... YOU WILL DEFINATELY GET ADMITTED TO HOSPITAL\\'), (\\'Rated 5.0\\', \\'RATED\\\\n  awesome\\'), (\\'Rated 5.0\\', \\'RATED\\\\n  worth the money\\'), (\\'Rated 2.0\\', \\'RATED\\\\n  Ok\\'), (\\'Rated 1.0\\', \\'RATED\\\\n  bad\\'), (\\'Rated 1.0\\', \\'RATED\\\\n  Worst food ever n delivered the stale food. PLEASE DONOT ORDER FOOD FROM THIS HOTEL.... YOU WILL DEFINATELY GET ADMITTED TO HOSPITAL\\'), (\\'Rated 5.0\\', \\'RATED\\\\n  awesome\\'), (\\'Rated 5.0\\', \\'RATED\\\\n  worth the money\\'), (\\'Rated 2.0\\', \\'RATED\\\\n  Ok\\'), (\\'Rated 1.0\\', \\'RATED\\\\n  bad\\'), (\\'Rated 1.0\\', \\'RATED\\\\n  Worst food ever n delivered the stale food. PLEASE DONOT ORDER FOOD FROM THIS HOTEL.... YOU WILL DEFINATELY GET ADMITTED TO HOSPITAL\\'), (\\'Rated 3.0\\', \\'RATED\\\\n  good\\'), (\\'Rated 5.0\\', \\'RATED\\\\n  good\\'), (\\'Rated 1.0\\', \"RATED\\\\n  it\\'s very dealy\"), (\\'Rated 4.0\\', \\'RATED\\\\n  again good biriyani\\'), (\\'Rated 1.0\\', \\'RATED\\\\n \\\\nNo gravy...wtf how to eat food. Worst service this second time\\'), (\\'Rated 3.0\\', \\'RATED\\\\n  good\\'), (\\'Rated 5.0\\', \\'RATED\\\\n  good\\'), (\\'Rated 1.0\\', \"RATED\\\\n  it\\'s very dealy\"), (\\'Rated 4.0\\', \\'RATED\\\\n  again good biriyani\\'), (\\'Rated 1.0\\', \\'RATED\\\\n \\\\nNo gravy...wtf how to eat food. Worst service this second time\\'), (\\'Rated 3.0\\', \\'RATED\\\\n  good\\'), (\\'Rated 5.0\\', \\'RATED\\\\n  good\\'), (\\'Rated 1.0\\', \"RATED\\\\n  it\\'s very dealy\"), (\\'Rated 4.0\\', \\'RATED\\\\n  again good biriyani\\'), (\\'Rated 1.0\\', \\'RATED\\\\n \\\\nNo gravy...wtf how to eat food. Worst service this second time\\'), (\\'Rated 3.0\\', \\'RATED\\\\n  good\\'), (\\'Rated 5.0\\', \\'RATED\\\\n  good\\'), (\\'Rated 1.0\\', \"RATED\\\\n  it\\'s very dealy\"), (\\'Rated 4.0\\', \\'RATED\\\\n  again good biriyani\\'), (\\'Rated 1.0\\', \\'RATED\\\\n \\\\nNo gravy...wtf how to eat food. Worst service this second time\\'), (\\'Rated 3.0\\', \\'RATED\\\\n  good\\'), (\\'Rated 5.0\\', \\'RATED\\\\n  good\\'), (\\'Rated 1.0\\', \"RATED\\\\n  it\\'s very dealy\"), (\\'Rated 4.0\\', \\'RATED\\\\n  again good biriyani\\'), (\\'Rated 1.0\\', \\'RATED\\\\n \\\\nNo gravy...wtf how to eat food. Worst service this second time\\'), (\\'Rated 3.0\\', \\'RATED\\\\n  yeah!! its good for me bcoz iam tasting Donne biriyani for d frst time!! good!!\\'), (\\'Rated 5.0\\', \\'RATED\\\\n  Awesome taste\\'), (\\'Rated 1.0\\', \\'RATED\\\\n  worst services they have not accepted my order in partnership wuth zomato they are fioling the consumers and their money earners very sad on them ratinng thier is no zero star\\'), (\\'Rated 2.0\\', \\'RATED\\\\n  food\\'), (\\'Rated 1.0\\', \"RATED\\\\n  They don\\'t know cooking, their dishes were literally a joke with no connection with South Indian or even to North Indian cuisine. Never again.\"), (\\'Rated 3.0\\', \\'RATED\\\\n  yeah!! its good for me bcoz iam tasting Donne biriyani for d frst time!! good!!\\'), (\\'Rated 5.0\\', \\'RATED\\\\n  Awesome taste\\'), (\\'Rated 1.0\\', \\'RATED\\\\n  worst services they have not accepted my order in partnership wuth zomato they are fioling the consumers and their money earners very sad on them ratinng thier is no zero star\\'), (\\'Rated 2.0\\', \\'RATED\\\\n  food\\'), (\\'Rated 1.0\\', \"RATED\\\\n  They don\\'t know cooking, their dishes were literally a joke with no connection with South Indian or even to North Indian cuisine. Never again.\"), (\\'Rated 3.0\\', \\'RATED\\\\n  yeah!! its good for me bcoz iam tasting Donne biriyani for d frst time!! good!!\\'), (\\'Rated 5.0\\', \\'RATED\\\\n  Awesome taste\\'), (\\'Rated 1.0\\', \\'RATED\\\\n  worst services they have not accepted my order in partnership wuth zomato they are fioling the consumers and their money earners very sad on them ratinng thier is no zero star\\'), (\\'Rated 2.0\\', \\'RATED\\\\n  food\\'), (\\'Rated 1.0\\', \"RATED\\\\n  They don\\'t know cooking, their dishes were literally a joke with no connection with South Indian or even to North Indian cuisine. Never again.\"), (\\'Rated 3.0\\', \\'RATED\\\\n  yeah!! its good for me bcoz iam tasting Donne biriyani for d frst time!! good!!\\'), (\\'Rated 5.0\\', \\'RATED\\\\n  Awesome taste\\'), (\\'Rated 1.0\\', \\'RATED\\\\n  worst services they have not accepted my order in partnership wuth zomato they are fioling the consumers and their money earners very sad on them ratinng thier is no zero star\\'), (\\'Rated 2.0\\', \\'RATED\\\\n  food\\'), (\\'Rated 1.0\\', \"RATED\\\\n  They don\\'t know cooking, their dishes were literally a joke with no connection with South Indian or even to North Indian cuisine. Never again.\"), (\\'Rated 3.0\\', \\'RATED\\\\n  yeah!! its good for me bcoz iam tasting Donne biriyani for d frst time!! good!!\\'), (\\'Rated 5.0\\', \\'RATED\\\\n  Awesome taste\\'), (\\'Rated 1.0\\', \\'RATED\\\\n  worst services they have not accepted my order in partnership wuth zomato they are fioling the consumers and their money earners very sad on them ratinng thier is no zero star\\'), (\\'Rated 2.0\\', \\'RATED\\\\n  food\\'), (\\'Rated 1.0\\', \"RATED\\\\n  They don\\'t know cooking, their dishes were literally a joke with no connection with South Indian or even to North Indian cuisine. Never again.\"), (\\'Rated 5.0\\', \\'RATED\\\\n  quality and quantity good.\\')]',\n",
       "  25117: '[(\\'Rated 5.0\\', \\'RATED\\\\n  Must try egg grilled Sandwich.\\\\nSmall outlet but good food. The person takes some time while preparing but whatever he prepares is awesome and good.\\'), (\\'Rated 3.0\\', \\'RATED\\\\n  Poha Quality may be not good\\'), (\\'Rated 5.0\\', \\'RATED\\\\n  The guy is really polite....Nd he puts a lot of effort in whatever he prepares.\\\\nThe name totally justifies RK \"fresh\"food.\\\\nI usually have the Dabeli vada pav here... it\\\\\\'s really great Nd a must have here.\\'), (\\'Rated 5.0\\', \"RATED\\\\n  A person like me, who loves Poha, now has a goto option. Served just the way you\\'d like it. They\\'re pretty cheap on the pocket too. Do try their Vada Pav as well, it\\'ll bring tears of happiness to anyone who\\'s from Maharashtra.\")]',\n",
       "  10558: '[(\\'Rated 1.0\\', \\'RATED\\\\n  Order was declined after payment went thru because there were no agents to deliver. They should not have accepted order if they know they cannot deliver. The refund process is a big headache. Worst experience\\'), (\\'Rated 3.0\\', \"RATED\\\\n  The place is not meant for those gourmet and extravagant experiences. The ambience and hygiene would need a compromise but certainly your taste buds will not. We ordered half tandoori chicken and half chicken majestic, and portions were giant to quench the hunger of two famished guys. The wheat paratha was also huge and the best bread option. Found the roomali roti a tad chewy. Overall a good place for non vegetarian food that is authentic and doesn\\'t pinch your pockets.\"), (\\'Rated 3.5\\', \\'RATED\\\\n  Amazing Place , Biryani was amazing with Chicken Kebab. It was a celebration Of Muslim artistry over Biryanis and Kebabs. Have visited during Lunch\\'), (\\'Rated 3.0\\', \"RATED\\\\n  The food is quite good but only eat here on a Friday to be on the safer side - so you can rest at the toilet over the weekend. Very unhygienic place and you\\'ll find cockroaches and rats all around the place. That being said, try the paya soup, the bheja and the thithar.\")]'},\n",
       " 'listed_in_type': {9179: 'Dine-out', 25117: 'Delivery', 10558: 'Dine-out'},\n",
       " 'listed_in_city': {9179: 'Kammanahalli', 25117: 'BTM', 10558: 'Lavelle Road'}}"
      ]
     },
     "execution_count": 41,
     "metadata": {},
     "output_type": "execute_result"
    }
   ],
   "source": [
    "# make prediction on a dict\n",
    "\n",
    "d = input_data.iloc[0:3].to_dict()\n",
    "d"
   ]
  },
  {
   "cell_type": "code",
   "execution_count": 42,
   "metadata": {},
   "outputs": [
    {
     "name": "stderr",
     "output_type": "stream",
     "text": [
      "/Users/rahul/anacond/anaconda3/lib/python3.9/site-packages/boosting_model/processing/validation.py:37: FutureWarning: Using short name for 'orient' is deprecated. Only the options: ('dict', list, 'series', 'split', 'records', 'index') will be used in a future version. Use one of the above to silence this warning.\n",
      "  schema.load(input_data.replace(\n"
     ]
    },
    {
     "data": {
      "text/plain": [
       "{'predictions': [3.592446, 3.7441888, 3.646734],\n",
       " 'version': '0.0.1',\n",
       " 'errors': None}"
      ]
     },
     "execution_count": 42,
     "metadata": {},
     "output_type": "execute_result"
    }
   ],
   "source": [
    "make_prediction(input_data=d)"
   ]
  },
  {
   "cell_type": "code",
   "execution_count": 61,
   "metadata": {},
   "outputs": [],
   "source": [
    "# make prediction on single data point\n",
    "\n",
    "d=input_data.iloc[0].to_dict()\n"
   ]
  },
  {
   "cell_type": "code",
   "execution_count": 52,
   "metadata": {},
   "outputs": [
    {
     "name": "stderr",
     "output_type": "stream",
     "text": [
      "/Users/rahul/anacond/anaconda3/lib/python3.9/site-packages/boosting_model/processing/validation.py:37: FutureWarning: Using short name for 'orient' is deprecated. Only the options: ('dict', list, 'series', 'split', 'records', 'index') will be used in a future version. Use one of the above to silence this warning.\n",
      "  schema.load(input_data.replace(\n"
     ]
    },
    {
     "data": {
      "text/plain": [
       "{'predictions': [3.592446], 'version': '0.0.1', 'errors': None}"
      ]
     },
     "execution_count": 52,
     "metadata": {},
     "output_type": "execute_result"
    }
   ],
   "source": [
    "make_prediction(input_data=d)"
   ]
  },
  {
   "cell_type": "code",
   "execution_count": 60,
   "metadata": {},
   "outputs": [
    {
     "data": {
      "text/plain": [
       "{'name': 'Sri Banashankari Donne Biriyani',\n",
       " 'online_order': 1,\n",
       " 'book_table': 0,\n",
       " 'votes': 80,\n",
       " 'location': 'Banaswadi',\n",
       " 'rest_type': 'Quick Bites',\n",
       " 'cuisines': 'Biryani',\n",
       " 'approx_cost': 150,\n",
       " 'reviews_list': '',\n",
       " 'listed_in_type': 'Dine-out',\n",
       " 'listed_in_city': 'Kammanahalli'}"
      ]
     },
     "execution_count": 60,
     "metadata": {},
     "output_type": "execute_result"
    }
   ],
   "source": [
    "d=input_data.iloc[0].to_dict()\n",
    "d['reviews_list']=''\n",
    "d"
   ]
  },
  {
   "cell_type": "code",
   "execution_count": 31,
   "metadata": {},
   "outputs": [
    {
     "data": {
      "text/plain": [
       "(1.75, 5.05)"
      ]
     },
     "execution_count": 31,
     "metadata": {},
     "output_type": "execute_result"
    }
   ],
   "source": [
    "\n",
    "\n",
    "# Generate rough benchmarks (you would tweak depending on your model)\n",
    "benchmark_flexibility = 0.05\n",
    "# setting ndigits to -4 will round the value to the nearest 10,000 i.e. 210,000\n",
    "benchmark_lower_boundary = (\n",
    "    1.8 - benchmark_flexibility\n",
    ")\n",
    "benchmark_upper_boundary = (\n",
    "    5 + benchmark_flexibility\n",
    ")\n",
    "\n",
    "benchmark_lower_boundary,benchmark_upper_boundary\n"
   ]
  },
  {
   "cell_type": "code",
   "execution_count": 30,
   "metadata": {},
   "outputs": [
    {
     "data": {
      "text/plain": [
       "0.0"
      ]
     },
     "execution_count": 30,
     "metadata": {},
     "output_type": "execute_result"
    }
   ],
   "source": [
    "round(1.8, ndigits=-4)"
   ]
  },
  {
   "cell_type": "code",
   "execution_count": 26,
   "metadata": {},
   "outputs": [
    {
     "name": "stderr",
     "output_type": "stream",
     "text": [
      "/Users/rahul/anacond/anaconda3/lib/python3.9/site-packages/boosting_model/processing/validation.py:37: FutureWarning: Using short name for 'orient' is deprecated. Only the options: ('dict', list, 'series', 'split', 'records', 'index') will be used in a future version. Use one of the above to silence this warning.\n",
      "  schema.load(input_data.replace(\n"
     ]
    },
    {
     "data": {
      "text/plain": [
       "{'predictions': array([3.592446], dtype=float32),\n",
       " 'version': '0.0.1',\n",
       " 'errors': None}"
      ]
     },
     "execution_count": 26,
     "metadata": {},
     "output_type": "execute_result"
    }
   ],
   "source": [
    "# When\n",
    "subject = make_prediction(input_data=input_data.iloc[0].to_dict())\n",
    "subject\n",
    "\n",
    "\n"
   ]
  },
  {
   "cell_type": "code",
   "execution_count": 27,
   "metadata": {},
   "outputs": [
    {
     "data": {
      "text/plain": [
       "numpy.float32"
      ]
     },
     "execution_count": 27,
     "metadata": {},
     "output_type": "execute_result"
    }
   ],
   "source": [
    "prediction = subject.get(\"predictions\")[0]\n",
    "type(prediction)"
   ]
  },
  {
   "cell_type": "code",
   "execution_count": 28,
   "metadata": {},
   "outputs": [],
   "source": [
    "import numpy as np\n",
    "assert isinstance(prediction, np.float32)\n"
   ]
  },
  {
   "cell_type": "code",
   "execution_count": null,
   "metadata": {},
   "outputs": [],
   "source": []
  }
 ],
 "metadata": {
  "kernelspec": {
   "display_name": "base",
   "language": "python",
   "name": "python3"
  },
  "language_info": {
   "codemirror_mode": {
    "name": "ipython",
    "version": 3
   },
   "file_extension": ".py",
   "mimetype": "text/x-python",
   "name": "python",
   "nbconvert_exporter": "python",
   "pygments_lexer": "ipython3",
   "version": "3.9.12"
  },
  "orig_nbformat": 4,
  "vscode": {
   "interpreter": {
    "hash": "3f93a3dbba94e8ffcc84a72ade146a7d2acdb8d5577685d602337589bba21908"
   }
  }
 },
 "nbformat": 4,
 "nbformat_minor": 2
}
