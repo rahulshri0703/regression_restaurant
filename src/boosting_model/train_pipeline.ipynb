{
 "cells": [
  {
   "cell_type": "code",
   "execution_count": 1,
   "metadata": {},
   "outputs": [],
   "source": [
    "from boosting_model.processing.load_data import load_dataset,save_pipeline\n",
    "from boosting_model.processing.validation import validate_input\n",
    "from boosting_model import pipeline\n",
    "from boosting_model.config.core import config\n",
    "from xgboost import XGBRegressor\n",
    "import joblib\n",
    "from boosting_model.config import core\n",
    "from sklearn.pipeline import make_pipeline\n"
   ]
  },
  {
   "cell_type": "code",
   "execution_count": 2,
   "metadata": {},
   "outputs": [],
   "source": [
    "x = load_dataset(filename=config.app_config.training_x_file)\n",
    "y = load_dataset(filename=config.app_config.training_y_file)"
   ]
  },
  {
   "cell_type": "code",
   "execution_count": 3,
   "metadata": {},
   "outputs": [],
   "source": [
    "x.rename(columns=config.model_config.rename,inplace=True)"
   ]
  },
  {
   "cell_type": "code",
   "execution_count": 6,
   "metadata": {},
   "outputs": [],
   "source": [
    "path = core.TRAINED_MODEL_DIR/ config.app_config.saved_model_name"
   ]
  },
  {
   "cell_type": "code",
   "execution_count": 7,
   "metadata": {},
   "outputs": [
    {
     "data": {
      "text/plain": [
       "'loaded model'"
      ]
     },
     "execution_count": 7,
     "metadata": {},
     "output_type": "execute_result"
    }
   ],
   "source": [
    "model = pipeline.model_maker(model=XGBRegressor())\n",
    "model.load_model(path)\n",
    "    "
   ]
  },
  {
   "cell_type": "code",
   "execution_count": 8,
   "metadata": {},
   "outputs": [
    {
     "data": {
      "text/plain": [
       "model_maker(model=XGBRegressor(base_score=0.5, booster='gbtree', callbacks=None,\n",
       "                               colsample_bylevel=1, colsample_bynode=1,\n",
       "                               colsample_bytree=1, early_stopping_rounds=None,\n",
       "                               enable_categorical=False, eval_metric=None,\n",
       "                               gamma=0, gpu_id=-1, grow_policy='depthwise',\n",
       "                               importance_type=None, interaction_constraints='',\n",
       "                               learning_rate=0.300000012, max_bin=256,\n",
       "                               max_cat_to_onehot=4, max_delta_step=0,\n",
       "                               max_depth=10, max_leaves=0, min_child_weight=1,\n",
       "                               missing=nan, monotone_constraints='()',\n",
       "                               n_estimators=100, n_jobs=0, num_parallel_tree=1,\n",
       "                               predictor='auto', random_state=0, reg_alpha=2,\n",
       "                               reg_lambda=3, ...))"
      ]
     },
     "execution_count": 8,
     "metadata": {},
     "output_type": "execute_result"
    }
   ],
   "source": [
    "model"
   ]
  },
  {
   "cell_type": "code",
   "execution_count": 9,
   "metadata": {},
   "outputs": [],
   "source": [
    "p = pipeline.pipe.fit(x)\n"
   ]
  },
  {
   "cell_type": "code",
   "execution_count": 10,
   "metadata": {},
   "outputs": [
    {
     "data": {
      "text/html": [
       "<div>\n",
       "<style scoped>\n",
       "    .dataframe tbody tr th:only-of-type {\n",
       "        vertical-align: middle;\n",
       "    }\n",
       "\n",
       "    .dataframe tbody tr th {\n",
       "        vertical-align: top;\n",
       "    }\n",
       "\n",
       "    .dataframe thead th {\n",
       "        text-align: right;\n",
       "    }\n",
       "</style>\n",
       "<table border=\"1\" class=\"dataframe\">\n",
       "  <thead>\n",
       "    <tr style=\"text-align: right;\">\n",
       "      <th></th>\n",
       "      <th>online_order</th>\n",
       "      <th>book_table</th>\n",
       "      <th>votes</th>\n",
       "      <th>approx_cost</th>\n",
       "      <th>listed_in_type_Buffet</th>\n",
       "      <th>listed_in_type_Cafes</th>\n",
       "      <th>listed_in_type_Delivery</th>\n",
       "      <th>listed_in_type_Desserts</th>\n",
       "      <th>listed_in_type_Dine-out</th>\n",
       "      <th>listed_in_type_Drinks &amp; nightlife</th>\n",
       "      <th>...</th>\n",
       "      <th>veg</th>\n",
       "      <th>visit</th>\n",
       "      <th>visited</th>\n",
       "      <th>want</th>\n",
       "      <th>went</th>\n",
       "      <th>worth</th>\n",
       "      <th>xfã</th>\n",
       "      <th>xs</th>\n",
       "      <th>xã</th>\n",
       "      <th>zomato</th>\n",
       "    </tr>\n",
       "  </thead>\n",
       "  <tbody>\n",
       "    <tr>\n",
       "      <th>38765</th>\n",
       "      <td>0</td>\n",
       "      <td>0</td>\n",
       "      <td>0.932101</td>\n",
       "      <td>1.107742</td>\n",
       "      <td>0.0</td>\n",
       "      <td>0.0</td>\n",
       "      <td>0.0</td>\n",
       "      <td>0.0</td>\n",
       "      <td>1.0</td>\n",
       "      <td>0.0</td>\n",
       "      <td>...</td>\n",
       "      <td>0.0</td>\n",
       "      <td>0.033003</td>\n",
       "      <td>0.0</td>\n",
       "      <td>0.043458</td>\n",
       "      <td>0.000000</td>\n",
       "      <td>0.000000</td>\n",
       "      <td>0.0</td>\n",
       "      <td>0.0</td>\n",
       "      <td>0.759688</td>\n",
       "      <td>0.00000</td>\n",
       "    </tr>\n",
       "    <tr>\n",
       "      <th>24221</th>\n",
       "      <td>1</td>\n",
       "      <td>0</td>\n",
       "      <td>0.553880</td>\n",
       "      <td>0.566266</td>\n",
       "      <td>0.0</td>\n",
       "      <td>0.0</td>\n",
       "      <td>1.0</td>\n",
       "      <td>0.0</td>\n",
       "      <td>0.0</td>\n",
       "      <td>0.0</td>\n",
       "      <td>...</td>\n",
       "      <td>0.0</td>\n",
       "      <td>0.000000</td>\n",
       "      <td>0.0</td>\n",
       "      <td>0.000000</td>\n",
       "      <td>0.000000</td>\n",
       "      <td>0.459509</td>\n",
       "      <td>0.0</td>\n",
       "      <td>0.0</td>\n",
       "      <td>0.000000</td>\n",
       "      <td>0.18455</td>\n",
       "    </tr>\n",
       "    <tr>\n",
       "      <th>34893</th>\n",
       "      <td>1</td>\n",
       "      <td>0</td>\n",
       "      <td>0.830707</td>\n",
       "      <td>-0.282696</td>\n",
       "      <td>0.0</td>\n",
       "      <td>0.0</td>\n",
       "      <td>1.0</td>\n",
       "      <td>0.0</td>\n",
       "      <td>0.0</td>\n",
       "      <td>0.0</td>\n",
       "      <td>...</td>\n",
       "      <td>0.0</td>\n",
       "      <td>0.000000</td>\n",
       "      <td>0.0</td>\n",
       "      <td>0.000000</td>\n",
       "      <td>0.000000</td>\n",
       "      <td>0.000000</td>\n",
       "      <td>0.0</td>\n",
       "      <td>0.0</td>\n",
       "      <td>0.000000</td>\n",
       "      <td>0.00000</td>\n",
       "    </tr>\n",
       "    <tr>\n",
       "      <th>16478</th>\n",
       "      <td>1</td>\n",
       "      <td>0</td>\n",
       "      <td>0.057207</td>\n",
       "      <td>-2.378461</td>\n",
       "      <td>0.0</td>\n",
       "      <td>0.0</td>\n",
       "      <td>1.0</td>\n",
       "      <td>0.0</td>\n",
       "      <td>0.0</td>\n",
       "      <td>0.0</td>\n",
       "      <td>...</td>\n",
       "      <td>0.0</td>\n",
       "      <td>0.000000</td>\n",
       "      <td>0.0</td>\n",
       "      <td>0.000000</td>\n",
       "      <td>0.394047</td>\n",
       "      <td>0.000000</td>\n",
       "      <td>0.0</td>\n",
       "      <td>0.0</td>\n",
       "      <td>0.000000</td>\n",
       "      <td>0.00000</td>\n",
       "    </tr>\n",
       "    <tr>\n",
       "      <th>16607</th>\n",
       "      <td>1</td>\n",
       "      <td>0</td>\n",
       "      <td>-0.916078</td>\n",
       "      <td>-0.282696</td>\n",
       "      <td>0.0</td>\n",
       "      <td>0.0</td>\n",
       "      <td>1.0</td>\n",
       "      <td>0.0</td>\n",
       "      <td>0.0</td>\n",
       "      <td>0.0</td>\n",
       "      <td>...</td>\n",
       "      <td>0.0</td>\n",
       "      <td>0.204625</td>\n",
       "      <td>0.0</td>\n",
       "      <td>0.000000</td>\n",
       "      <td>0.000000</td>\n",
       "      <td>0.000000</td>\n",
       "      <td>0.0</td>\n",
       "      <td>0.0</td>\n",
       "      <td>0.000000</td>\n",
       "      <td>0.00000</td>\n",
       "    </tr>\n",
       "  </tbody>\n",
       "</table>\n",
       "<p>5 rows × 334 columns</p>\n",
       "</div>"
      ],
      "text/plain": [
       "       online_order  book_table     votes  approx_cost  listed_in_type_Buffet  \\\n",
       "38765             0           0  0.932101     1.107742                    0.0   \n",
       "24221             1           0  0.553880     0.566266                    0.0   \n",
       "34893             1           0  0.830707    -0.282696                    0.0   \n",
       "16478             1           0  0.057207    -2.378461                    0.0   \n",
       "16607             1           0 -0.916078    -0.282696                    0.0   \n",
       "\n",
       "       listed_in_type_Cafes  listed_in_type_Delivery  listed_in_type_Desserts  \\\n",
       "38765                   0.0                      0.0                      0.0   \n",
       "24221                   0.0                      1.0                      0.0   \n",
       "34893                   0.0                      1.0                      0.0   \n",
       "16478                   0.0                      1.0                      0.0   \n",
       "16607                   0.0                      1.0                      0.0   \n",
       "\n",
       "       listed_in_type_Dine-out  listed_in_type_Drinks & nightlife  ...  veg  \\\n",
       "38765                      1.0                                0.0  ...  0.0   \n",
       "24221                      0.0                                0.0  ...  0.0   \n",
       "34893                      0.0                                0.0  ...  0.0   \n",
       "16478                      0.0                                0.0  ...  0.0   \n",
       "16607                      0.0                                0.0  ...  0.0   \n",
       "\n",
       "          visit  visited      want      went     worth  xfã   xs        xã  \\\n",
       "38765  0.033003      0.0  0.043458  0.000000  0.000000  0.0  0.0  0.759688   \n",
       "24221  0.000000      0.0  0.000000  0.000000  0.459509  0.0  0.0  0.000000   \n",
       "34893  0.000000      0.0  0.000000  0.000000  0.000000  0.0  0.0  0.000000   \n",
       "16478  0.000000      0.0  0.000000  0.394047  0.000000  0.0  0.0  0.000000   \n",
       "16607  0.204625      0.0  0.000000  0.000000  0.000000  0.0  0.0  0.000000   \n",
       "\n",
       "        zomato  \n",
       "38765  0.00000  \n",
       "24221  0.18455  \n",
       "34893  0.00000  \n",
       "16478  0.00000  \n",
       "16607  0.00000  \n",
       "\n",
       "[5 rows x 334 columns]"
      ]
     },
     "execution_count": 10,
     "metadata": {},
     "output_type": "execute_result"
    }
   ],
   "source": [
    "xx = p.transform(x)\n",
    "xx.head()"
   ]
  },
  {
   "cell_type": "code",
   "execution_count": 11,
   "metadata": {},
   "outputs": [],
   "source": [
    "\n",
    "#joblib.dump(p,'best_model/only_pipeline2.pkl')"
   ]
  },
  {
   "cell_type": "code",
   "execution_count": 12,
   "metadata": {},
   "outputs": [],
   "source": [
    "#joblib.load('best_model/only_pipeline2.pkl')"
   ]
  },
  {
   "cell_type": "code",
   "execution_count": 15,
   "metadata": {},
   "outputs": [],
   "source": [
    "final_pipe = make_pipeline(p,model)"
   ]
  },
  {
   "cell_type": "code",
   "execution_count": 16,
   "metadata": {},
   "outputs": [
    {
     "name": "stdout",
     "output_type": "stream",
     "text": [
      "[3.5823956 3.6694782 3.880002  3.92301   3.5107567 3.3534896 3.5878024\n",
      " 3.8492756 3.4758792 3.8052106]\n"
     ]
    }
   ],
   "source": [
    "print(final_pipe.predict(x.iloc[:10]))"
   ]
  },
  {
   "cell_type": "code",
   "execution_count": 18,
   "metadata": {},
   "outputs": [],
   "source": [
    "#joblib.dump(final_pipe,'best_model/final_pipeline2.pkl')"
   ]
  },
  {
   "cell_type": "code",
   "execution_count": 4,
   "metadata": {},
   "outputs": [
    {
     "name": "stdout",
     "output_type": "stream",
     "text": [
      "/Users/rahul/anacond/anaconda3/lib/python3.9/site-packages/boosting_model-0.0.0-py3.9.egg/boosting_model/best_model/final_pipeline2.pkl\n"
     ]
    }
   ],
   "source": [
    "final_pipe = core.TRAINED_MODEL_DIR/ config.app_config.pipeline_name\n",
    "print(final_pipe)"
   ]
  },
  {
   "cell_type": "code",
   "execution_count": 5,
   "metadata": {},
   "outputs": [],
   "source": [
    "r = joblib.load(final_pipe)"
   ]
  },
  {
   "cell_type": "code",
   "execution_count": 6,
   "metadata": {},
   "outputs": [
    {
     "data": {
      "text/plain": [
       "[('pipeline',\n",
       "  Pipeline(steps=[('drop feature', featuresDrop(variables=['location', 'name'])),\n",
       "                  ('functional',\n",
       "                   sklearnTransformerWrapper(transformer=FunctionTransformer(func=<function transform_log at 0x7f9a247da160>),\n",
       "                                             variable=['votes', 'approx_cost'])),\n",
       "                  ('scale',\n",
       "                   sklearnTransformerWrapper(transformer=StandardScaler(),\n",
       "                                             variable=['votes', 'approx_cost'])),\n",
       "                  ('onehot',\n",
       "                   sklearnOne(transformer=OneHotEncoder(handle_unknown='ignore',\n",
       "                                                        sparse=False),\n",
       "                              variable=['listed_in_type', 'rest_type',\n",
       "                                        'listed_in_city'])),\n",
       "                  ('countVector', sklearnCountVector(variable='cuisines')),\n",
       "                  ('tfidf', reviewsTransform(variable='reviews_list'))])),\n",
       " ('model_maker',\n",
       "  model_maker(model=XGBRegressor(base_score=0.5, booster='gbtree', callbacks=None,\n",
       "                                 colsample_bylevel=1, colsample_bynode=1,\n",
       "                                 colsample_bytree=1, early_stopping_rounds=None,\n",
       "                                 enable_categorical=False, eval_metric=None,\n",
       "                                 gamma=0, gpu_id=-1, grow_policy='depthwise',\n",
       "                                 importance_type=None, interaction_constraints='',\n",
       "                                 learning_rate=0.300000012, max_bin=256,\n",
       "                                 max_cat_to_onehot=4, max_delta_step=0,\n",
       "                                 max_depth=10, max_leaves=0, min_child_weight=1,\n",
       "                                 missing=nan, monotone_constraints='()',\n",
       "                                 n_estimators=100, n_jobs=0, num_parallel_tree=1,\n",
       "                                 predictor='auto', random_state=0, reg_alpha=2,\n",
       "                                 reg_lambda=3, ...)))]"
      ]
     },
     "execution_count": 6,
     "metadata": {},
     "output_type": "execute_result"
    }
   ],
   "source": [
    "r.steps"
   ]
  },
  {
   "cell_type": "code",
   "execution_count": 7,
   "metadata": {},
   "outputs": [
    {
     "data": {
      "text/plain": [
       "array([3.5823956, 3.6694782, 3.880002 , 3.92301  , 3.5107567, 3.3534896,\n",
       "       3.5878024, 3.8492756, 3.4758792, 3.8052106], dtype=float32)"
      ]
     },
     "execution_count": 7,
     "metadata": {},
     "output_type": "execute_result"
    }
   ],
   "source": [
    "r.predict(x.iloc[:10])"
   ]
  },
  {
   "cell_type": "code",
   "execution_count": 8,
   "metadata": {},
   "outputs": [],
   "source": [
    "x = load_dataset(filename=config.app_config.training_x_file)\n",
    "y = load_dataset(filename=config.app_config.training_y_file)"
   ]
  },
  {
   "cell_type": "code",
   "execution_count": 10,
   "metadata": {},
   "outputs": [
    {
     "name": "stderr",
     "output_type": "stream",
     "text": [
      "/Users/rahul/anacond/anaconda3/lib/python3.9/site-packages/boosting_model-0.0.0-py3.9.egg/boosting_model/processing/validation.py:37: FutureWarning: Using short name for 'orient' is deprecated. Only the options: ('dict', list, 'series', 'split', 'records', 'index') will be used in a future version. Use one of the above to silence this warning.\n",
      "  schema.load(input_data.replace(\n"
     ]
    }
   ],
   "source": [
    "x,e = validate_input(input_data=x)"
   ]
  },
  {
   "cell_type": "code",
   "execution_count": 11,
   "metadata": {},
   "outputs": [
    {
     "data": {
      "text/html": [
       "<div>\n",
       "<style scoped>\n",
       "    .dataframe tbody tr th:only-of-type {\n",
       "        vertical-align: middle;\n",
       "    }\n",
       "\n",
       "    .dataframe tbody tr th {\n",
       "        vertical-align: top;\n",
       "    }\n",
       "\n",
       "    .dataframe thead th {\n",
       "        text-align: right;\n",
       "    }\n",
       "</style>\n",
       "<table border=\"1\" class=\"dataframe\">\n",
       "  <thead>\n",
       "    <tr style=\"text-align: right;\">\n",
       "      <th></th>\n",
       "      <th>name</th>\n",
       "      <th>online_order</th>\n",
       "      <th>book_table</th>\n",
       "      <th>votes</th>\n",
       "      <th>location</th>\n",
       "      <th>rest_type</th>\n",
       "      <th>cuisines</th>\n",
       "      <th>approx_cost</th>\n",
       "      <th>reviews_list</th>\n",
       "      <th>listed_in_type</th>\n",
       "      <th>listed_in_city</th>\n",
       "    </tr>\n",
       "  </thead>\n",
       "  <tbody>\n",
       "    <tr>\n",
       "      <th>38765</th>\n",
       "      <td>WYT RestroPub</td>\n",
       "      <td>0</td>\n",
       "      <td>0</td>\n",
       "      <td>406</td>\n",
       "      <td>MG Road</td>\n",
       "      <td>Pub</td>\n",
       "      <td>North Indian, Chinese</td>\n",
       "      <td>1000</td>\n",
       "      <td>[('Rated 1.0', \"RATED\\n  It's just a pocket fr...</td>\n",
       "      <td>Dine-out</td>\n",
       "      <td>Lavelle Road</td>\n",
       "    </tr>\n",
       "    <tr>\n",
       "      <th>24221</th>\n",
       "      <td>Olive Garden</td>\n",
       "      <td>1</td>\n",
       "      <td>0</td>\n",
       "      <td>214</td>\n",
       "      <td>Kalyan Nagar</td>\n",
       "      <td>Casual Dining</td>\n",
       "      <td>Arabian, North Indian, Chinese, Beverages</td>\n",
       "      <td>700</td>\n",
       "      <td>[('Rated 4.0', 'RATED\\n  Loved the al faham ch...</td>\n",
       "      <td>Delivery</td>\n",
       "      <td>Kalyan Nagar</td>\n",
       "    </tr>\n",
       "    <tr>\n",
       "      <th>34893</th>\n",
       "      <td>Hotel Manu</td>\n",
       "      <td>1</td>\n",
       "      <td>0</td>\n",
       "      <td>342</td>\n",
       "      <td>HSR</td>\n",
       "      <td>Quick Bites</td>\n",
       "      <td>South Indian, Kerala, Chinese, North Indian</td>\n",
       "      <td>400</td>\n",
       "      <td>[('Rated 4.0', 'RATED\\n  I have ordered a mala...</td>\n",
       "      <td>Delivery</td>\n",
       "      <td>Koramangala 7th Block</td>\n",
       "    </tr>\n",
       "    <tr>\n",
       "      <th>16478</th>\n",
       "      <td>Mumbai Kulfi</td>\n",
       "      <td>1</td>\n",
       "      <td>0</td>\n",
       "      <td>92</td>\n",
       "      <td>HSR</td>\n",
       "      <td>Dessert Parlor</td>\n",
       "      <td>Ice Cream</td>\n",
       "      <td>100</td>\n",
       "      <td>[('Rated 4.0', 'RATED\\n  went here on sunday e...</td>\n",
       "      <td>Delivery</td>\n",
       "      <td>HSR</td>\n",
       "    </tr>\n",
       "    <tr>\n",
       "      <th>16607</th>\n",
       "      <td>Bellandur Kitchen</td>\n",
       "      <td>1</td>\n",
       "      <td>0</td>\n",
       "      <td>17</td>\n",
       "      <td>Bellandur</td>\n",
       "      <td>Quick Bites</td>\n",
       "      <td>North Indian, Chinese</td>\n",
       "      <td>400</td>\n",
       "      <td>[('Rated 5.0', 'RATED\\n  Egg omlet is damn tas...</td>\n",
       "      <td>Delivery</td>\n",
       "      <td>HSR</td>\n",
       "    </tr>\n",
       "  </tbody>\n",
       "</table>\n",
       "</div>"
      ],
      "text/plain": [
       "                    name  online_order  book_table  votes      location  \\\n",
       "38765      WYT RestroPub             0           0    406       MG Road   \n",
       "24221       Olive Garden             1           0    214  Kalyan Nagar   \n",
       "34893         Hotel Manu             1           0    342           HSR   \n",
       "16478       Mumbai Kulfi             1           0     92           HSR   \n",
       "16607  Bellandur Kitchen             1           0     17     Bellandur   \n",
       "\n",
       "            rest_type                                     cuisines  \\\n",
       "38765             Pub                        North Indian, Chinese   \n",
       "24221   Casual Dining    Arabian, North Indian, Chinese, Beverages   \n",
       "34893     Quick Bites  South Indian, Kerala, Chinese, North Indian   \n",
       "16478  Dessert Parlor                                    Ice Cream   \n",
       "16607     Quick Bites                        North Indian, Chinese   \n",
       "\n",
       "       approx_cost                                       reviews_list  \\\n",
       "38765         1000  [('Rated 1.0', \"RATED\\n  It's just a pocket fr...   \n",
       "24221          700  [('Rated 4.0', 'RATED\\n  Loved the al faham ch...   \n",
       "34893          400  [('Rated 4.0', 'RATED\\n  I have ordered a mala...   \n",
       "16478          100  [('Rated 4.0', 'RATED\\n  went here on sunday e...   \n",
       "16607          400  [('Rated 5.0', 'RATED\\n  Egg omlet is damn tas...   \n",
       "\n",
       "      listed_in_type         listed_in_city  \n",
       "38765       Dine-out           Lavelle Road  \n",
       "24221       Delivery           Kalyan Nagar  \n",
       "34893       Delivery  Koramangala 7th Block  \n",
       "16478       Delivery                    HSR  \n",
       "16607       Delivery                    HSR  "
      ]
     },
     "execution_count": 11,
     "metadata": {},
     "output_type": "execute_result"
    }
   ],
   "source": [
    "x.head()"
   ]
  },
  {
   "cell_type": "code",
   "execution_count": 12,
   "metadata": {},
   "outputs": [
    {
     "data": {
      "text/plain": [
       "array([3.5823956, 3.6694782, 3.880002 , 3.92301  , 3.5107567, 3.3534896,\n",
       "       3.5878024, 3.8492756, 3.4758792, 3.8052106], dtype=float32)"
      ]
     },
     "execution_count": 12,
     "metadata": {},
     "output_type": "execute_result"
    }
   ],
   "source": [
    "r.predict(x.iloc[:10])"
   ]
  },
  {
   "cell_type": "code",
   "execution_count": 25,
   "metadata": {},
   "outputs": [],
   "source": [
    "x = load_dataset(filename=config.app_config.training_x_file)\n",
    "y = load_dataset(filename=config.app_config.training_y_file)\n",
    "\n",
    "x.reset_index(drop=True,inplace=True)\n",
    "y.index = x.index\n",
    "\n",
    "xx = x.sample(100)\n"
   ]
  },
  {
   "cell_type": "code",
   "execution_count": 26,
   "metadata": {},
   "outputs": [],
   "source": [
    "yy = y.iloc[xx.index]"
   ]
  },
  {
   "cell_type": "code",
   "execution_count": 24,
   "metadata": {},
   "outputs": [],
   "source": [
    "from sklearn.metrics import r2_score"
   ]
  },
  {
   "cell_type": "code",
   "execution_count": 29,
   "metadata": {},
   "outputs": [
    {
     "name": "stderr",
     "output_type": "stream",
     "text": [
      "/Users/rahul/anacond/anaconda3/lib/python3.9/site-packages/boosting_model-0.0.0-py3.9.egg/boosting_model/processing/validation.py:37: FutureWarning: Using short name for 'orient' is deprecated. Only the options: ('dict', list, 'series', 'split', 'records', 'index') will be used in a future version. Use one of the above to silence this warning.\n",
      "  schema.load(input_data.replace(\n"
     ]
    }
   ],
   "source": [
    "xx,e = validate_input(input_data=xx)\n",
    "yhat = r.predict(xx)"
   ]
  },
  {
   "cell_type": "code",
   "execution_count": 30,
   "metadata": {},
   "outputs": [
    {
     "data": {
      "text/plain": [
       "0.8664856895231372"
      ]
     },
     "execution_count": 30,
     "metadata": {},
     "output_type": "execute_result"
    }
   ],
   "source": [
    "r2_score(yy,yhat)"
   ]
  },
  {
   "cell_type": "code",
   "execution_count": 31,
   "metadata": {},
   "outputs": [],
   "source": [
    "# xx.to_csv('data/x_train.csv')\n",
    "# yy.to_csv('data/y_train.csv')"
   ]
  },
  {
   "cell_type": "code",
   "execution_count": null,
   "metadata": {},
   "outputs": [],
   "source": []
  }
 ],
 "metadata": {
  "kernelspec": {
   "display_name": "base",
   "language": "python",
   "name": "python3"
  },
  "language_info": {
   "codemirror_mode": {
    "name": "ipython",
    "version": 3
   },
   "file_extension": ".py",
   "mimetype": "text/x-python",
   "name": "python",
   "nbconvert_exporter": "python",
   "pygments_lexer": "ipython3",
   "version": "3.9.12"
  },
  "orig_nbformat": 4,
  "vscode": {
   "interpreter": {
    "hash": "3f93a3dbba94e8ffcc84a72ade146a7d2acdb8d5577685d602337589bba21908"
   }
  }
 },
 "nbformat": 4,
 "nbformat_minor": 2
}
