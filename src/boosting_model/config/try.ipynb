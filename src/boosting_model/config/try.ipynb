{
 "cells": [
  {
   "cell_type": "code",
   "execution_count": 1,
   "metadata": {},
   "outputs": [],
   "source": [
    "import core"
   ]
  },
  {
   "cell_type": "code",
   "execution_count": 2,
   "metadata": {},
   "outputs": [],
   "source": [
    "r = open(core.CONFIG_FILE_PATH,'r')"
   ]
  },
  {
   "cell_type": "code",
   "execution_count": 3,
   "metadata": {},
   "outputs": [],
   "source": [
    "import yaml\n",
    "y = yaml.safe_load(r)"
   ]
  },
  {
   "cell_type": "code",
   "execution_count": 4,
   "metadata": {},
   "outputs": [
    {
     "data": {
      "text/plain": [
       "PosixPath('/Users/rahul/Documents/stat+ML+sql/projects/regression/regression_restaurant/src/boosting_model/config.yaml')"
      ]
     },
     "execution_count": 4,
     "metadata": {},
     "output_type": "execute_result"
    }
   ],
   "source": [
    "core.find_config_file()"
   ]
  },
  {
   "cell_type": "code",
   "execution_count": 6,
   "metadata": {},
   "outputs": [
    {
     "data": {
      "text/plain": [
       "{'package_name': 'boosting_model',\n",
       " 'training_x_file': 'x_train.csv',\n",
       " 'training_y_file': 'y_train.csv',\n",
       " 'test_x_file': 'x_test.csv',\n",
       " 'test_y_file': 'y_test.csv',\n",
       " 'saved_model_name': 'xgboost',\n",
       " 'pipeline_name': 'xgboost_pipe',\n",
       " 'feature_to_drop': ['location', 'name'],\n",
       " 'count_vector': ['cuisines'],\n",
       " 'tfidf': ['reviews_list'],\n",
       " 'categorical': ['listed_in(type)', 'rest_type', 'listed_in(city)'],\n",
       " 'numerical': ['votes', 'approx_cost(for two people)'],\n",
       " 'target': ['rate']}"
      ]
     },
     "execution_count": 6,
     "metadata": {},
     "output_type": "execute_result"
    }
   ],
   "source": [
    "core.fetch_config_from_yaml().data"
   ]
  },
  {
   "cell_type": "code",
   "execution_count": 9,
   "metadata": {},
   "outputs": [],
   "source": [
    "c = core.create_and_validate_config()"
   ]
  },
  {
   "cell_type": "code",
   "execution_count": 12,
   "metadata": {},
   "outputs": [
    {
     "data": {
      "text/plain": [
       "{'package_name': 'boosting_model',\n",
       " 'pipeline_name': 'xgboost_pipe',\n",
       " 'training_x_file': 'x_train.csv',\n",
       " 'training_y_file': 'y_train.csv',\n",
       " 'test_x_file': 'x_test.csv',\n",
       " 'test_y_file': 'y_test.csv',\n",
       " 'saved_model_name': 'xgboost'}"
      ]
     },
     "execution_count": 12,
     "metadata": {},
     "output_type": "execute_result"
    }
   ],
   "source": [
    "c.app_config.dict()"
   ]
  },
  {
   "cell_type": "code",
   "execution_count": 13,
   "metadata": {},
   "outputs": [
    {
     "data": {
      "text/plain": [
       "{'feature_to_drop': ['location', 'name'],\n",
       " 'count_vector': ['cuisines'],\n",
       " 'tfidf': ['reviews_list'],\n",
       " 'categorical': ['listed_in(type)', 'rest_type', 'listed_in(city)'],\n",
       " 'numerical': ['votes', 'approx_cost(for two people)'],\n",
       " 'target': ['rate']}"
      ]
     },
     "execution_count": 13,
     "metadata": {},
     "output_type": "execute_result"
    }
   ],
   "source": [
    "c.model_config.dict()"
   ]
  },
  {
   "cell_type": "code",
   "execution_count": 3,
   "metadata": {},
   "outputs": [
    {
     "data": {
      "text/plain": [
       "Config(app_config=AppConfig(package_name='boosting_model', pipeline_name='xgboost_pipe', training_x_file='x_train.csv', training_y_file='y_train.csv', test_x_file='x_test.csv', test_y_file='y_test.csv', saved_model_name='xgboost'), model_config=ModelConfig(feature_to_drop=['location', 'name'], count_vector=['cuisines'], tfidf=['reviews_list'], categorical=['listed_in(type)', 'rest_type', 'listed_in(city)'], numerical=['votes', 'approx_cost(for two people)'], target=['rate']))"
      ]
     },
     "execution_count": 3,
     "metadata": {},
     "output_type": "execute_result"
    }
   ],
   "source": [
    "core.config"
   ]
  },
  {
   "cell_type": "code",
   "execution_count": 2,
   "metadata": {},
   "outputs": [
    {
     "data": {
      "text/plain": [
       "PosixPath('/Users/rahul/Documents/stat+ML+sql/projects/regression/regression_restaurant/src/boosting_model')"
      ]
     },
     "execution_count": 2,
     "metadata": {},
     "output_type": "execute_result"
    }
   ],
   "source": [
    "core.PACKAGE_DIR"
   ]
  },
  {
   "cell_type": "code",
   "execution_count": 2,
   "metadata": {},
   "outputs": [
    {
     "data": {
      "text/plain": [
       "PosixPath('/Users/rahul/Documents/stat+ML+sql/projects/regression/regression_restaurant/src/boosting_model/data')"
      ]
     },
     "execution_count": 2,
     "metadata": {},
     "output_type": "execute_result"
    }
   ],
   "source": [
    "core.DATASET_DIR"
   ]
  },
  {
   "cell_type": "code",
   "execution_count": 3,
   "metadata": {},
   "outputs": [
    {
     "data": {
      "text/plain": [
       "PosixPath('/Users/rahul/Documents/stat+ML+sql/projects/regression/regression_restaurant/src/boosting_model')"
      ]
     },
     "execution_count": 3,
     "metadata": {},
     "output_type": "execute_result"
    }
   ],
   "source": [
    "core.PACKAGE_DIR"
   ]
  },
  {
   "cell_type": "code",
   "execution_count": 5,
   "metadata": {},
   "outputs": [
    {
     "data": {
      "text/plain": [
       "PosixPath('/Users/rahul/Documents/stat+ML+sql/projects/regression/regression_restaurant/src/boosting_model/best_model')"
      ]
     },
     "execution_count": 5,
     "metadata": {},
     "output_type": "execute_result"
    }
   ],
   "source": [
    "core.TRAINED_MODEL_DIR"
   ]
  },
  {
   "cell_type": "code",
   "execution_count": 6,
   "metadata": {},
   "outputs": [],
   "source": [
    "from boosting_model.processing.load_data import load_dataset"
   ]
  },
  {
   "cell_type": "code",
   "execution_count": null,
   "metadata": {},
   "outputs": [],
   "source": []
  }
 ],
 "metadata": {
  "kernelspec": {
   "display_name": "base",
   "language": "python",
   "name": "python3"
  },
  "language_info": {
   "codemirror_mode": {
    "name": "ipython",
    "version": 3
   },
   "file_extension": ".py",
   "mimetype": "text/x-python",
   "name": "python",
   "nbconvert_exporter": "python",
   "pygments_lexer": "ipython3",
   "version": "3.9.12"
  },
  "orig_nbformat": 4,
  "vscode": {
   "interpreter": {
    "hash": "3f93a3dbba94e8ffcc84a72ade146a7d2acdb8d5577685d602337589bba21908"
   }
  }
 },
 "nbformat": 4,
 "nbformat_minor": 2
}
