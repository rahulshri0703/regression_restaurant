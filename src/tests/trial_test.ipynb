{
 "cells": [
  {
   "cell_type": "code",
   "execution_count": 9,
   "metadata": {},
   "outputs": [],
   "source": [
    "from pydantic import ValidationError\n",
    "from strictyaml import load\n",
    "from boosting_model.config.core import create_and_validate_config"
   ]
  },
  {
   "cell_type": "code",
   "execution_count": 5,
   "metadata": {},
   "outputs": [
    {
     "ename": "IndentationError",
     "evalue": "expected an indented block (3351336545.py, line 8)",
     "output_type": "error",
     "traceback": [
      "\u001b[0;36m  Input \u001b[0;32mIn [5]\u001b[0;36m\u001b[0m\n\u001b[0;31m    create_and_validate_config(parsed_config=TEST_CONFIG_TEXT)\u001b[0m\n\u001b[0m    ^\u001b[0m\n\u001b[0;31mIndentationError\u001b[0m\u001b[0;31m:\u001b[0m expected an indented block\n"
     ]
    }
   ],
   "source": [
    "    # Given\n",
    "    # We make use of the pytest built-in tmpdir fixture\n",
    "\n",
    "\n",
    "\n"
   ]
  },
  {
   "cell_type": "code",
   "execution_count": 10,
   "metadata": {},
   "outputs": [
    {
     "ename": "ValidationError",
     "evalue": "6 validation errors for AppConfig\npipeline_name\n  field required (type=value_error.missing)\ntraining_x_file\n  field required (type=value_error.missing)\ntraining_y_file\n  field required (type=value_error.missing)\ntest_x_file\n  field required (type=value_error.missing)\ntest_y_file\n  field required (type=value_error.missing)\nsaved_model_name\n  field required (type=value_error.missing)",
     "output_type": "error",
     "traceback": [
      "\u001b[0;31m---------------------------------------------------------------------------\u001b[0m",
      "\u001b[0;31mValidationError\u001b[0m                           Traceback (most recent call last)",
      "\u001b[1;32m/Users/rahul/Documents/stat+ML+sql/projects/regression/regression_restaurant/src/tests/trial_test.ipynb Cell 3\u001b[0m in \u001b[0;36m<cell line: 2>\u001b[0;34m()\u001b[0m\n\u001b[1;32m      <a href='vscode-notebook-cell:/Users/rahul/Documents/stat%2BML%2Bsql/projects/regression/regression_restaurant/src/tests/trial_test.ipynb#W3sZmlsZQ%3D%3D?line=0'>1</a>\u001b[0m TEST_CONFIG_TEXT \u001b[39m=\u001b[39m load(\u001b[39mopen\u001b[39m(\u001b[39m'\u001b[39m\u001b[39mtrial.yaml\u001b[39m\u001b[39m'\u001b[39m,\u001b[39m'\u001b[39m\u001b[39mr\u001b[39m\u001b[39m'\u001b[39m)\u001b[39m.\u001b[39mread())\n\u001b[0;32m----> <a href='vscode-notebook-cell:/Users/rahul/Documents/stat%2BML%2Bsql/projects/regression/regression_restaurant/src/tests/trial_test.ipynb#W3sZmlsZQ%3D%3D?line=1'>2</a>\u001b[0m create_and_validate_config(parsed_config\u001b[39m=\u001b[39;49mTEST_CONFIG_TEXT)\n",
      "File \u001b[0;32m~/anacond/anaconda3/lib/python3.9/site-packages/boosting_model-0.0.0-py3.9.egg/boosting_model/config/core.py:108\u001b[0m, in \u001b[0;36mcreate_and_validate_config\u001b[0;34m(parsed_config)\u001b[0m\n\u001b[1;32m    104\u001b[0m     parsed_config \u001b[39m=\u001b[39m fetch_config_from_yaml()\n\u001b[1;32m    106\u001b[0m \u001b[39m# specify the data attribute from the strictyaml YAML type.\u001b[39;00m\n\u001b[1;32m    107\u001b[0m _config \u001b[39m=\u001b[39m Config(\n\u001b[0;32m--> 108\u001b[0m     app_config\u001b[39m=\u001b[39mAppConfig(\u001b[39m*\u001b[39;49m\u001b[39m*\u001b[39;49mparsed_config\u001b[39m.\u001b[39;49mdata),\n\u001b[1;32m    109\u001b[0m     model_config\u001b[39m=\u001b[39mModelConfig(\u001b[39m*\u001b[39m\u001b[39m*\u001b[39mparsed_config\u001b[39m.\u001b[39mdata),\n\u001b[1;32m    110\u001b[0m )\n\u001b[1;32m    112\u001b[0m \u001b[39mreturn\u001b[39;00m _config\n",
      "File \u001b[0;32m~/anacond/anaconda3/lib/python3.9/site-packages/pydantic/main.py:406\u001b[0m, in \u001b[0;36mpydantic.main.BaseModel.__init__\u001b[0;34m()\u001b[0m\n",
      "\u001b[0;31mValidationError\u001b[0m: 6 validation errors for AppConfig\npipeline_name\n  field required (type=value_error.missing)\ntraining_x_file\n  field required (type=value_error.missing)\ntraining_y_file\n  field required (type=value_error.missing)\ntest_x_file\n  field required (type=value_error.missing)\ntest_y_file\n  field required (type=value_error.missing)\nsaved_model_name\n  field required (type=value_error.missing)"
     ]
    }
   ],
   "source": [
    "\n",
    "TEST_CONFIG_TEXT = load(open('trial.yaml','r').read())\n",
    "create_and_validate_config(parsed_config=TEST_CONFIG_TEXT)"
   ]
  },
  {
   "cell_type": "code",
   "execution_count": 19,
   "metadata": {},
   "outputs": [
    {
     "name": "stdout",
     "output_type": "stream",
     "text": [
      "6 validation errors for AppConfig\n",
      "pipeline_name\n",
      "  field required (type=value_error.missing)\n",
      "training_x_file\n",
      "  field required (type=value_error.missing)\n",
      "training_y_file\n",
      "  field required (type=value_error.missing)\n",
      "test_x_file\n",
      "  field required (type=value_error.missing)\n",
      "test_y_file\n",
      "  field required (type=value_error.missing)\n",
      "saved_model_name\n",
      "  field required (type=value_error.missing)\n"
     ]
    }
   ],
   "source": [
    "try:\n",
    "    create_and_validate_config(parsed_config=TEST_CONFIG_TEXT)\n",
    "\n",
    "except ValidationError as e:\n",
    "    f = e\n",
    "    print(e)"
   ]
  },
  {
   "cell_type": "code",
   "execution_count": 17,
   "metadata": {},
   "outputs": [
    {
     "data": {
      "text/plain": [
       "pydantic.error_wrappers.ValidationError"
      ]
     },
     "execution_count": 17,
     "metadata": {},
     "output_type": "execute_result"
    }
   ],
   "source": [
    "type(f)"
   ]
  },
  {
   "cell_type": "code",
   "execution_count": 1,
   "metadata": {},
   "outputs": [],
   "source": [
    "from boosting_model import pipeline\n",
    "from boosting_model.config.core import config\n",
    "from boosting_model.processing.validation import validate_input\n",
    "from xgboost import XGBRegressor\n",
    "from sklearn.pipeline import make_pipeline\n",
    "from boosting_model.processing.load_data import load_dataset"
   ]
  },
  {
   "cell_type": "code",
   "execution_count": 2,
   "metadata": {},
   "outputs": [],
   "source": [
    "x_train = load_dataset(filename=config.app_config.training_x_file)\n",
    "y_train = load_dataset(filename=config.app_config.training_y_file)"
   ]
  },
  {
   "cell_type": "code",
   "execution_count": 3,
   "metadata": {},
   "outputs": [
    {
     "name": "stderr",
     "output_type": "stream",
     "text": [
      "/Users/rahul/anacond/anaconda3/lib/python3.9/site-packages/boosting_model/processing/validation.py:37: FutureWarning: Using short name for 'orient' is deprecated. Only the options: ('dict', list, 'series', 'split', 'records', 'index') will be used in a future version. Use one of the above to silence this warning.\n",
      "  schema.load(input_data.replace(\n"
     ]
    }
   ],
   "source": [
    "input_data, error = validate_input(input_data=x_train)"
   ]
  },
  {
   "cell_type": "code",
   "execution_count": 4,
   "metadata": {},
   "outputs": [
    {
     "data": {
      "text/html": [
       "<div>\n",
       "<style scoped>\n",
       "    .dataframe tbody tr th:only-of-type {\n",
       "        vertical-align: middle;\n",
       "    }\n",
       "\n",
       "    .dataframe tbody tr th {\n",
       "        vertical-align: top;\n",
       "    }\n",
       "\n",
       "    .dataframe thead th {\n",
       "        text-align: right;\n",
       "    }\n",
       "</style>\n",
       "<table border=\"1\" class=\"dataframe\">\n",
       "  <thead>\n",
       "    <tr style=\"text-align: right;\">\n",
       "      <th></th>\n",
       "      <th>name</th>\n",
       "      <th>online_order</th>\n",
       "      <th>book_table</th>\n",
       "      <th>votes</th>\n",
       "      <th>location</th>\n",
       "      <th>rest_type</th>\n",
       "      <th>cuisines</th>\n",
       "      <th>approx_cost</th>\n",
       "      <th>reviews_list</th>\n",
       "      <th>listed_in_type</th>\n",
       "      <th>listed_in_city</th>\n",
       "    </tr>\n",
       "  </thead>\n",
       "  <tbody>\n",
       "    <tr>\n",
       "      <th>9179</th>\n",
       "      <td>Sri Banashankari Donne Biriyani</td>\n",
       "      <td>1</td>\n",
       "      <td>0</td>\n",
       "      <td>80</td>\n",
       "      <td>Banaswadi</td>\n",
       "      <td>Quick Bites</td>\n",
       "      <td>Biryani</td>\n",
       "      <td>150</td>\n",
       "      <td>[('Rated 1.0', \"RATED\\n  Don't ever order in t...</td>\n",
       "      <td>Dine-out</td>\n",
       "      <td>Kammanahalli</td>\n",
       "    </tr>\n",
       "    <tr>\n",
       "      <th>25117</th>\n",
       "      <td>RK Fresh Food</td>\n",
       "      <td>1</td>\n",
       "      <td>0</td>\n",
       "      <td>13</td>\n",
       "      <td>BTM</td>\n",
       "      <td>Quick Bites</td>\n",
       "      <td>Fast Food</td>\n",
       "      <td>300</td>\n",
       "      <td>[('Rated 5.0', 'RATED\\n  Must try egg grilled ...</td>\n",
       "      <td>Delivery</td>\n",
       "      <td>BTM</td>\n",
       "    </tr>\n",
       "    <tr>\n",
       "      <th>10558</th>\n",
       "      <td>Royal Restaurant</td>\n",
       "      <td>0</td>\n",
       "      <td>0</td>\n",
       "      <td>7</td>\n",
       "      <td>Shivajinagar</td>\n",
       "      <td>Quick Bites</td>\n",
       "      <td>North Indian, Chinese</td>\n",
       "      <td>200</td>\n",
       "      <td>[('Rated 1.0', 'RATED\\n  Order was declined af...</td>\n",
       "      <td>Dine-out</td>\n",
       "      <td>Lavelle Road</td>\n",
       "    </tr>\n",
       "    <tr>\n",
       "      <th>2972</th>\n",
       "      <td>Namma Kadai</td>\n",
       "      <td>0</td>\n",
       "      <td>0</td>\n",
       "      <td>4</td>\n",
       "      <td>BTM</td>\n",
       "      <td>Quick Bites</td>\n",
       "      <td>South Indian</td>\n",
       "      <td>150</td>\n",
       "      <td>[('Rated 4.0', 'RATED\\n  I just explored this ...</td>\n",
       "      <td>Dine-out</td>\n",
       "      <td>Koramangala 7th Block</td>\n",
       "    </tr>\n",
       "    <tr>\n",
       "      <th>21445</th>\n",
       "      <td>A1 Garam Masala</td>\n",
       "      <td>1</td>\n",
       "      <td>0</td>\n",
       "      <td>25</td>\n",
       "      <td>Kanakapura Road</td>\n",
       "      <td>Casual Dining</td>\n",
       "      <td>North Indian, Andhra, Chinese</td>\n",
       "      <td>500</td>\n",
       "      <td>[('Rated 5.0', 'RATED\\n  The food was very goo...</td>\n",
       "      <td>Delivery</td>\n",
       "      <td>JP Nagar</td>\n",
       "    </tr>\n",
       "    <tr>\n",
       "      <th>...</th>\n",
       "      <td>...</td>\n",
       "      <td>...</td>\n",
       "      <td>...</td>\n",
       "      <td>...</td>\n",
       "      <td>...</td>\n",
       "      <td>...</td>\n",
       "      <td>...</td>\n",
       "      <td>...</td>\n",
       "      <td>...</td>\n",
       "      <td>...</td>\n",
       "      <td>...</td>\n",
       "    </tr>\n",
       "    <tr>\n",
       "      <th>5047</th>\n",
       "      <td>Earth Plate Express</td>\n",
       "      <td>1</td>\n",
       "      <td>0</td>\n",
       "      <td>33</td>\n",
       "      <td>JP Nagar</td>\n",
       "      <td>Food Court</td>\n",
       "      <td>Italian, Continental</td>\n",
       "      <td>600</td>\n",
       "      <td>[('Rated 4.0', 'RATED\\n  Well Earth Plate Expr...</td>\n",
       "      <td>Dine-out</td>\n",
       "      <td>JP Nagar</td>\n",
       "    </tr>\n",
       "    <tr>\n",
       "      <th>10821</th>\n",
       "      <td>Radha Rani</td>\n",
       "      <td>1</td>\n",
       "      <td>0</td>\n",
       "      <td>244</td>\n",
       "      <td>Brookefield</td>\n",
       "      <td>Quick Bites</td>\n",
       "      <td>Bengali, North Indian, Chinese</td>\n",
       "      <td>400</td>\n",
       "      <td>[('Rated 4.0', 'RATED\\n  One of my favourite b...</td>\n",
       "      <td>Delivery</td>\n",
       "      <td>Brookefield</td>\n",
       "    </tr>\n",
       "    <tr>\n",
       "      <th>15497</th>\n",
       "      <td>Chai Street</td>\n",
       "      <td>1</td>\n",
       "      <td>0</td>\n",
       "      <td>5</td>\n",
       "      <td>Koramangala 5th Block</td>\n",
       "      <td>Beverage Shop</td>\n",
       "      <td>Beverages</td>\n",
       "      <td>150</td>\n",
       "      <td>[('Rated 1.0', 'RATED\\n  Ordered gulab jamun f...</td>\n",
       "      <td>Delivery</td>\n",
       "      <td>Koramangala 7th Block</td>\n",
       "    </tr>\n",
       "    <tr>\n",
       "      <th>16510</th>\n",
       "      <td>Tandoor Garden</td>\n",
       "      <td>1</td>\n",
       "      <td>0</td>\n",
       "      <td>71</td>\n",
       "      <td>BTM</td>\n",
       "      <td>Quick Bites</td>\n",
       "      <td>North Indian, Chinese, Kebab</td>\n",
       "      <td>350</td>\n",
       "      <td>[('Rated 5.0', 'RATED\\n  This place might look...</td>\n",
       "      <td>Delivery</td>\n",
       "      <td>Koramangala 7th Block</td>\n",
       "    </tr>\n",
       "    <tr>\n",
       "      <th>13448</th>\n",
       "      <td>Dal Roti</td>\n",
       "      <td>1</td>\n",
       "      <td>0</td>\n",
       "      <td>117</td>\n",
       "      <td>JP Nagar</td>\n",
       "      <td>Quick Bites</td>\n",
       "      <td>North Indian</td>\n",
       "      <td>150</td>\n",
       "      <td>[('Rated 3.0', 'RATED\\n  Home cooked food. but...</td>\n",
       "      <td>Dine-out</td>\n",
       "      <td>Jayanagar</td>\n",
       "    </tr>\n",
       "  </tbody>\n",
       "</table>\n",
       "<p>100 rows × 11 columns</p>\n",
       "</div>"
      ],
      "text/plain": [
       "                                  name  online_order  book_table  votes  \\\n",
       "9179   Sri Banashankari Donne Biriyani             1           0     80   \n",
       "25117                    RK Fresh Food             1           0     13   \n",
       "10558                 Royal Restaurant             0           0      7   \n",
       "2972                       Namma Kadai             0           0      4   \n",
       "21445                  A1 Garam Masala             1           0     25   \n",
       "...                                ...           ...         ...    ...   \n",
       "5047               Earth Plate Express             1           0     33   \n",
       "10821                       Radha Rani             1           0    244   \n",
       "15497                      Chai Street             1           0      5   \n",
       "16510                   Tandoor Garden             1           0     71   \n",
       "13448                         Dal Roti             1           0    117   \n",
       "\n",
       "                    location      rest_type                        cuisines  \\\n",
       "9179               Banaswadi    Quick Bites                         Biryani   \n",
       "25117                    BTM    Quick Bites                       Fast Food   \n",
       "10558           Shivajinagar    Quick Bites           North Indian, Chinese   \n",
       "2972                     BTM    Quick Bites                    South Indian   \n",
       "21445        Kanakapura Road  Casual Dining   North Indian, Andhra, Chinese   \n",
       "...                      ...            ...                             ...   \n",
       "5047                JP Nagar     Food Court            Italian, Continental   \n",
       "10821            Brookefield    Quick Bites  Bengali, North Indian, Chinese   \n",
       "15497  Koramangala 5th Block  Beverage Shop                       Beverages   \n",
       "16510                    BTM    Quick Bites    North Indian, Chinese, Kebab   \n",
       "13448               JP Nagar    Quick Bites                    North Indian   \n",
       "\n",
       "       approx_cost                                       reviews_list  \\\n",
       "9179           150  [('Rated 1.0', \"RATED\\n  Don't ever order in t...   \n",
       "25117          300  [('Rated 5.0', 'RATED\\n  Must try egg grilled ...   \n",
       "10558          200  [('Rated 1.0', 'RATED\\n  Order was declined af...   \n",
       "2972           150  [('Rated 4.0', 'RATED\\n  I just explored this ...   \n",
       "21445          500  [('Rated 5.0', 'RATED\\n  The food was very goo...   \n",
       "...            ...                                                ...   \n",
       "5047           600  [('Rated 4.0', 'RATED\\n  Well Earth Plate Expr...   \n",
       "10821          400  [('Rated 4.0', 'RATED\\n  One of my favourite b...   \n",
       "15497          150  [('Rated 1.0', 'RATED\\n  Ordered gulab jamun f...   \n",
       "16510          350  [('Rated 5.0', 'RATED\\n  This place might look...   \n",
       "13448          150  [('Rated 3.0', 'RATED\\n  Home cooked food. but...   \n",
       "\n",
       "      listed_in_type         listed_in_city  \n",
       "9179        Dine-out           Kammanahalli  \n",
       "25117       Delivery                    BTM  \n",
       "10558       Dine-out           Lavelle Road  \n",
       "2972        Dine-out  Koramangala 7th Block  \n",
       "21445       Delivery               JP Nagar  \n",
       "...              ...                    ...  \n",
       "5047        Dine-out               JP Nagar  \n",
       "10821       Delivery            Brookefield  \n",
       "15497       Delivery  Koramangala 7th Block  \n",
       "16510       Delivery  Koramangala 7th Block  \n",
       "13448       Dine-out              Jayanagar  \n",
       "\n",
       "[100 rows x 11 columns]"
      ]
     },
     "execution_count": 4,
     "metadata": {},
     "output_type": "execute_result"
    }
   ],
   "source": [
    "input_data"
   ]
  },
  {
   "cell_type": "code",
   "execution_count": 4,
   "metadata": {},
   "outputs": [
    {
     "data": {
      "text/plain": [
       "ModelConfig(feature_to_drop=['location', 'name'], count_vector=['cuisines'], tfidf=['reviews_list'], categorical=['listed_in_type', 'rest_type', 'listed_in_city'], numerical=['votes', 'approx_cost'], target=['rate'], ordinal=['online_order', 'book_table'], rename={'approx_cost(for two people)': 'approx_cost', 'listed_in(type)': 'listed_in_type', 'listed_in(city)': 'listed_in_city'}, features=['location', 'name', 'cuisines', 'reviews_list', 'listed_in_type', 'rest_type', 'listed_in_city', 'votes', 'approx_cost', 'online_order', 'book_table', 'approx_cost', 'listed_in_type', 'listed_in_city'])"
      ]
     },
     "execution_count": 4,
     "metadata": {},
     "output_type": "execute_result"
    }
   ],
   "source": [
    "config.model_config"
   ]
  },
  {
   "cell_type": "code",
   "execution_count": 5,
   "metadata": {},
   "outputs": [],
   "source": [
    "input_data =input_data[config.model_config.features]"
   ]
  },
  {
   "cell_type": "code",
   "execution_count": 6,
   "metadata": {},
   "outputs": [],
   "source": [
    "  \n",
    "\n",
    "p = pipeline.pipe\n",
    "model = pipeline.model_maker(model=XGBRegressor(max_depth=3))\n",
    "\n",
    "p.fit(input_data)\n",
    "\n",
    "xx = p.transform(input_data)\n",
    "\n",
    "model.fit(xx.to_numpy(), y_train)\n",
    "\n",
    "final_pipe = make_pipeline(p, model)\n",
    "\n",
    "prediction = final_pipe.predict(input_data)"
   ]
  },
  {
   "cell_type": "code",
   "execution_count": 10,
   "metadata": {},
   "outputs": [
    {
     "data": {
      "text/plain": [
       "Index(['name', 'online_order', 'book_table', 'votes', 'location', 'rest_type',\n",
       "       'cuisines', 'approx_cost', 'reviews_list', 'listed_in_type',\n",
       "       'listed_in_city'],\n",
       "      dtype='object')"
      ]
     },
     "execution_count": 10,
     "metadata": {},
     "output_type": "execute_result"
    }
   ],
   "source": [
    "input_data.columns"
   ]
  },
  {
   "cell_type": "code",
   "execution_count": 11,
   "metadata": {},
   "outputs": [
    {
     "data": {
      "text/plain": [
       "Index(['cuisines', 'reviews_list', 'listed_in_type', 'rest_type',\n",
       "       'listed_in_city', 'votes', 'approx_cost', 'online_order', 'book_table',\n",
       "       'approx_cost', 'listed_in_type', 'listed_in_city'],\n",
       "      dtype='object')"
      ]
     },
     "execution_count": 11,
     "metadata": {},
     "output_type": "execute_result"
    }
   ],
   "source": [
    "x.columns"
   ]
  },
  {
   "cell_type": "code",
   "execution_count": 3,
   "metadata": {},
   "outputs": [],
   "source": [
    "from boosting_model.processing import preprocessor"
   ]
  },
  {
   "cell_type": "code",
   "execution_count": 4,
   "metadata": {},
   "outputs": [],
   "source": [
    "assert config.model_config.count_vector[0] in list(x_train.columns)"
   ]
  },
  {
   "cell_type": "code",
   "execution_count": 5,
   "metadata": {},
   "outputs": [],
   "source": [
    "\n",
    "\n",
    "transformer = preprocessor.sklearnCountVector(\n",
    "    variable=config.model_config.count_vector)\n",
    "\n",
    "\n"
   ]
  },
  {
   "cell_type": "code",
   "execution_count": 13,
   "metadata": {},
   "outputs": [
    {
     "ename": "NameError",
     "evalue": "name 'x_trainj' is not defined",
     "output_type": "error",
     "traceback": [
      "\u001b[0;31m---------------------------------------------------------------------------\u001b[0m",
      "\u001b[0;31mNameError\u001b[0m                                 Traceback (most recent call last)",
      "\u001b[1;32m/Users/rahul/Documents/stat+ML+sql/projects/regression/regression_restaurant/src/tests/trial_test.ipynb Cell 18\u001b[0m in \u001b[0;36m<cell line: 1>\u001b[0;34m()\u001b[0m\n\u001b[0;32m----> <a href='vscode-notebook-cell:/Users/rahul/Documents/stat%2BML%2Bsql/projects/regression/regression_restaurant/src/tests/trial_test.ipynb#X23sZmlsZQ%3D%3D?line=0'>1</a>\u001b[0m t \u001b[39m=\u001b[39m transformer\u001b[39m.\u001b[39mfit_transform(x_trainj)\n",
      "\u001b[0;31mNameError\u001b[0m: name 'x_trainj' is not defined"
     ]
    }
   ],
   "source": [
    "t = transformer.fit_transform(x_trainj)\n"
   ]
  },
  {
   "cell_type": "code",
   "execution_count": 14,
   "metadata": {},
   "outputs": [
    {
     "ename": "NameError",
     "evalue": "name 't' is not defined",
     "output_type": "error",
     "traceback": [
      "\u001b[0;31m---------------------------------------------------------------------------\u001b[0m",
      "\u001b[0;31mNameError\u001b[0m                                 Traceback (most recent call last)",
      "\u001b[1;32m/Users/rahul/Documents/stat+ML+sql/projects/regression/regression_restaurant/src/tests/trial_test.ipynb Cell 19\u001b[0m in \u001b[0;36m<cell line: 1>\u001b[0;34m()\u001b[0m\n\u001b[0;32m----> <a href='vscode-notebook-cell:/Users/rahul/Documents/stat%2BML%2Bsql/projects/regression/regression_restaurant/src/tests/trial_test.ipynb#X24sZmlsZQ%3D%3D?line=0'>1</a>\u001b[0m \u001b[39massert\u001b[39;00m t \u001b[39mis\u001b[39;00m \u001b[39mnot\u001b[39;00m \u001b[39mNone\u001b[39;00m\n",
      "\u001b[0;31mNameError\u001b[0m: name 't' is not defined"
     ]
    }
   ],
   "source": [
    "assert t is not None"
   ]
  },
  {
   "cell_type": "code",
   "execution_count": 15,
   "metadata": {},
   "outputs": [],
   "source": [
    "import typing"
   ]
  },
  {
   "cell_type": "code",
   "execution_count": null,
   "metadata": {},
   "outputs": [],
   "source": [
    "typing.Union"
   ]
  }
 ],
 "metadata": {
  "kernelspec": {
   "display_name": "base",
   "language": "python",
   "name": "python3"
  },
  "language_info": {
   "codemirror_mode": {
    "name": "ipython",
    "version": 3
   },
   "file_extension": ".py",
   "mimetype": "text/x-python",
   "name": "python",
   "nbconvert_exporter": "python",
   "pygments_lexer": "ipython3",
   "version": "3.9.12"
  },
  "orig_nbformat": 4,
  "vscode": {
   "interpreter": {
    "hash": "3f93a3dbba94e8ffcc84a72ade146a7d2acdb8d5577685d602337589bba21908"
   }
  }
 },
 "nbformat": 4,
 "nbformat_minor": 2
}
