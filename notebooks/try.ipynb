{
 "cells": [
  {
   "cell_type": "code",
   "execution_count": 1,
   "metadata": {},
   "outputs": [],
   "source": [
    "import yaml"
   ]
  },
  {
   "cell_type": "code",
   "execution_count": 2,
   "metadata": {},
   "outputs": [],
   "source": [
    "r = yaml.safe_load(open('config.yaml','r'))"
   ]
  },
  {
   "cell_type": "code",
   "execution_count": 3,
   "metadata": {},
   "outputs": [
    {
     "data": {
      "text/plain": [
       "{'feature_to_drop': ['location', 'name'],\n",
       " 'count_vector': ['cuisines'],\n",
       " 'tfidf': ['reviews_list'],\n",
       " 'categorical': ['listed_in(type)', 'rest_type', 'listed_in(city)'],\n",
       " 'numerical': ['votes', 'approx_cost(for two people)'],\n",
       " 'target': ['rate'],\n",
       " 'rename': {'approx_cost(for two people)': 'approx_cost',\n",
       "  'listed_in(type)': 'listed_in_type',\n",
       "  'listed_in(city)': 'listed_in_city'}}"
      ]
     },
     "execution_count": 3,
     "metadata": {},
     "output_type": "execute_result"
    }
   ],
   "source": [
    "r"
   ]
  },
  {
   "cell_type": "code",
   "execution_count": null,
   "metadata": {},
   "outputs": [],
   "source": []
  }
 ],
 "metadata": {
  "kernelspec": {
   "display_name": "base",
   "language": "python",
   "name": "python3"
  },
  "language_info": {
   "codemirror_mode": {
    "name": "ipython",
    "version": 3
   },
   "file_extension": ".py",
   "mimetype": "text/x-python",
   "name": "python",
   "nbconvert_exporter": "python",
   "pygments_lexer": "ipython3",
   "version": "3.9.12"
  },
  "orig_nbformat": 4,
  "vscode": {
   "interpreter": {
    "hash": "3f93a3dbba94e8ffcc84a72ade146a7d2acdb8d5577685d602337589bba21908"
   }
  }
 },
 "nbformat": 4,
 "nbformat_minor": 2
}
