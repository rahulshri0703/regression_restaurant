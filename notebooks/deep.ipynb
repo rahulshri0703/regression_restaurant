{
 "cells": [
  {
   "cell_type": "code",
   "execution_count": 1,
   "id": "92a7cf96-0f2a-449d-b234-9ac997ee1a69",
   "metadata": {},
   "outputs": [
    {
     "name": "stderr",
     "output_type": "stream",
     "text": [
      "2022-12-29 20:52:43.263298: I tensorflow/core/platform/cpu_feature_guard.cc:193] This TensorFlow binary is optimized with oneAPI Deep Neural Network Library (oneDNN) to use the following CPU instructions in performance-critical operations:  AVX2 FMA\n",
      "To enable them in other operations, rebuild TensorFlow with the appropriate compiler flags.\n"
     ]
    }
   ],
   "source": [
    "import numpy as np\n",
    "import pandas as pd\n",
    "import mlflow\n",
    "import tensorflow as tf\n",
    "from tensorflow import keras\n"
   ]
  },
  {
   "cell_type": "code",
   "execution_count": 2,
   "id": "ae2533c7-14a8-42b4-a810-b368356ec569",
   "metadata": {},
   "outputs": [],
   "source": [
    "x_train = pd.read_csv('../data/split/train/x_train.csv',index_col=0)\n",
    "y_train = pd.read_csv('../data/split/train/y_train.csv',index_col=0)\n",
    "\n",
    "x_test = pd.read_csv('../data/split/test/x_test.csv',index_col=0)\n",
    "y_test = pd.read_csv('../data/split/test/y_test.csv',index_col=0)"
   ]
  },
  {
   "cell_type": "code",
   "execution_count": 3,
   "id": "1807b711-64ae-4ad1-a072-5d3fe2c5abb7",
   "metadata": {},
   "outputs": [
    {
     "name": "stderr",
     "output_type": "stream",
     "text": [
      "2022-12-29 20:52:56.152632: I tensorflow/core/platform/cpu_feature_guard.cc:193] This TensorFlow binary is optimized with oneAPI Deep Neural Network Library (oneDNN) to use the following CPU instructions in performance-critical operations:  AVX2 FMA\n",
      "To enable them in other operations, rebuild TensorFlow with the appropriate compiler flags.\n"
     ]
    }
   ],
   "source": [
    "train = tf.data.Dataset.from_tensor_slices((x_train,y_train))\n",
    "test = tf.data.Dataset.from_tensor_slices((x_test,y_test))"
   ]
  },
  {
   "cell_type": "code",
   "execution_count": 4,
   "id": "5ebf16be-aba7-45b1-b924-0443e614129a",
   "metadata": {},
   "outputs": [],
   "source": [
    "train = train.batch(32).prefetch(tf.data.AUTOTUNE)\n",
    "test = test.batch(32).prefetch(tf.data.AUTOTUNE)"
   ]
  },
  {
   "cell_type": "code",
   "execution_count": 5,
   "id": "56b41ad9-ba42-4b36-99ad-413c11770bee",
   "metadata": {},
   "outputs": [
    {
     "data": {
      "text/plain": [
       "(<tf.Tensor: shape=(32, 334), dtype=float64, numpy=\n",
       " array([[ 1.        ,  0.        , -0.28296123, ...,  0.        ,\n",
       "          0.        ,  0.        ],\n",
       "        [ 0.        ,  0.        , -1.32247844, ...,  0.        ,\n",
       "          0.        ,  0.        ],\n",
       "        [ 1.        ,  0.        ,  1.09629694, ...,  0.04727024,\n",
       "          0.89125582,  0.        ],\n",
       "        ...,\n",
       "        [ 1.        ,  0.        , -0.82032844, ...,  0.        ,\n",
       "          0.        ,  0.        ],\n",
       "        [ 1.        ,  0.        ,  0.44631664, ...,  0.        ,\n",
       "          0.        ,  0.01771176],\n",
       "        [ 0.        ,  0.        , -0.48465488, ...,  0.        ,\n",
       "          0.99830131,  0.        ]])>,\n",
       " <tf.Tensor: shape=(32, 1), dtype=float64, numpy=\n",
       " array([[4. ],\n",
       "        [3.5],\n",
       "        [4.2],\n",
       "        [3.8],\n",
       "        [4.2],\n",
       "        [3. ],\n",
       "        [3.8],\n",
       "        [3. ],\n",
       "        [4.4],\n",
       "        [4.4],\n",
       "        [4. ],\n",
       "        [3.6],\n",
       "        [3.7],\n",
       "        [4.4],\n",
       "        [4. ],\n",
       "        [4. ],\n",
       "        [3.2],\n",
       "        [2.8],\n",
       "        [3.6],\n",
       "        [2.6],\n",
       "        [3.9],\n",
       "        [3.6],\n",
       "        [3.4],\n",
       "        [4.4],\n",
       "        [3.5],\n",
       "        [3.8],\n",
       "        [2.9],\n",
       "        [3. ],\n",
       "        [3.8],\n",
       "        [3. ],\n",
       "        [2.9],\n",
       "        [3.9]])>)"
      ]
     },
     "execution_count": 5,
     "metadata": {},
     "output_type": "execute_result"
    }
   ],
   "source": [
    "next(iter(train))"
   ]
  },
  {
   "cell_type": "code",
   "execution_count": null,
   "id": "e9c92efb-f49a-4874-abfe-c4383a00d083",
   "metadata": {},
   "outputs": [],
   "source": []
  },
  {
   "cell_type": "code",
   "execution_count": 6,
   "id": "e8d73575-7bc9-42dd-9327-fef12ab43b8c",
   "metadata": {},
   "outputs": [],
   "source": [
    "model = keras.Sequential([\n",
    "\n",
    "    keras.layers.Dense(64,activation='relu',input_shape=[334]),\n",
    "    keras.layers.BatchNormalization(),\n",
    "    \n",
    "    keras.layers.Dense(124,activation='relu',\n",
    "                       kernel_initializer=keras.initializers.glorot_normal(),\n",
    "                      kernel_regularizer=keras.regularizers.L1(l1=0.01)),\n",
    "    keras.layers.BatchNormalization(),\n",
    "    keras.layers.Dropout(0.5),\n",
    "    \n",
    "    keras.layers.Dense(256,activation='relu'),\n",
    "    keras.layers.BatchNormalization(),\n",
    "    keras.layers.Dropout(0.5),\n",
    "    \n",
    "    keras.layers.Dense(1,activation='linear')]\n",
    "\n",
    "\n",
    ")\n"
   ]
  },
  {
   "cell_type": "code",
   "execution_count": 7,
   "id": "18e5ac4a-aa30-426c-b0d2-e9a4aeff480a",
   "metadata": {},
   "outputs": [
    {
     "name": "stdout",
     "output_type": "stream",
     "text": [
      "Model: \"sequential\"\n",
      "_________________________________________________________________\n",
      " Layer (type)                Output Shape              Param #   \n",
      "=================================================================\n",
      " dense (Dense)               (None, 64)                21440     \n",
      "                                                                 \n",
      " batch_normalization (BatchN  (None, 64)               256       \n",
      " ormalization)                                                   \n",
      "                                                                 \n",
      " dense_1 (Dense)             (None, 124)               8060      \n",
      "                                                                 \n",
      " batch_normalization_1 (Batc  (None, 124)              496       \n",
      " hNormalization)                                                 \n",
      "                                                                 \n",
      " dropout (Dropout)           (None, 124)               0         \n",
      "                                                                 \n",
      " dense_2 (Dense)             (None, 256)               32000     \n",
      "                                                                 \n",
      " batch_normalization_2 (Batc  (None, 256)              1024      \n",
      " hNormalization)                                                 \n",
      "                                                                 \n",
      " dropout_1 (Dropout)         (None, 256)               0         \n",
      "                                                                 \n",
      " dense_3 (Dense)             (None, 1)                 257       \n",
      "                                                                 \n",
      "=================================================================\n",
      "Total params: 63,533\n",
      "Trainable params: 62,645\n",
      "Non-trainable params: 888\n",
      "_________________________________________________________________\n"
     ]
    }
   ],
   "source": [
    "model.summary()"
   ]
  },
  {
   "cell_type": "code",
   "execution_count": null,
   "id": "b0ed0592-628d-4d50-bd25-acacc6042887",
   "metadata": {},
   "outputs": [],
   "source": []
  },
  {
   "cell_type": "code",
   "execution_count": 11,
   "id": "33150969-aa3b-4ec9-a6e2-8d2f149b2ed3",
   "metadata": {},
   "outputs": [
    {
     "name": "stdout",
     "output_type": "stream",
     "text": [
      "You must install pydot (`pip install pydot`) and install graphviz (see instructions at https://graphviz.gitlab.io/download/) for plot_model to work.\n"
     ]
    }
   ],
   "source": [
    "keras.utils.plot_model(model)"
   ]
  },
  {
   "cell_type": "code",
   "execution_count": 9,
   "id": "14fb1398-f124-4c92-8a3e-3068fcbb02b3",
   "metadata": {},
   "outputs": [],
   "source": [
    "import os"
   ]
  },
  {
   "cell_type": "code",
   "execution_count": 10,
   "id": "fbd96de9-27b2-4197-9445-1faf910baedb",
   "metadata": {},
   "outputs": [
    {
     "data": {
      "text/plain": [
       "0"
      ]
     },
     "execution_count": 10,
     "metadata": {},
     "output_type": "execute_result"
    }
   ],
   "source": [
    "os.system('mkdir -p deepModel_output/regression')"
   ]
  },
  {
   "cell_type": "code",
   "execution_count": 116,
   "id": "0f61d1bc-16da-46bc-83cf-a807bb9ded3c",
   "metadata": {},
   "outputs": [],
   "source": [
    "path = 'deepModel_output/regression'"
   ]
  },
  {
   "cell_type": "code",
   "execution_count": 117,
   "id": "ec420b6c-f25f-44ff-8790-2c8b3c45497d",
   "metadata": {},
   "outputs": [],
   "source": [
    "\n",
    "check = keras.callbacks.ModelCheckpoint(path +'/weights.{epoch:02d}.hdf5',\n",
    "                               save_best_only=False,save_weights_only=True)"
   ]
  },
  {
   "cell_type": "code",
   "execution_count": 118,
   "id": "d685890a-bc58-4c6b-a821-dee89cd21681",
   "metadata": {},
   "outputs": [],
   "source": [
    "\n",
    "output_dir='model_output/'\n",
    "\n",
    "run_name='regression_base'\n",
    "output_path=output_dir + run_name\n",
    "\n",
    "if not os.path.exists(output_path):\n",
    "    os.makedirs(output_path)\n",
    "    \n",
    "model_checkpoint=keras.callbacks.ModelCheckpoint(output_path + '/weights.{epoch:02d}.hdf5',\n",
    "                                                 save_best_only=False,\n",
    "                                                  save_weights_only=True) "
   ]
  },
  {
   "cell_type": "code",
   "execution_count": 119,
   "id": "cba2e746-c738-435b-ba2c-5f6587af8b9a",
   "metadata": {},
   "outputs": [
    {
     "data": {
      "text/plain": [
       "'model_output/regression_base'"
      ]
     },
     "execution_count": 119,
     "metadata": {},
     "output_type": "execute_result"
    }
   ],
   "source": [
    "output_path"
   ]
  },
  {
   "cell_type": "code",
   "execution_count": 120,
   "id": "7ce89de4-0870-4cfc-8964-3a30ad44fd08",
   "metadata": {},
   "outputs": [],
   "source": [
    "root_logdir = os.path.join(os.curdir,\"my_logs\")"
   ]
  },
  {
   "cell_type": "code",
   "execution_count": 121,
   "id": "e228fc03-e2b2-4d17-af19-0e382ea46cf7",
   "metadata": {},
   "outputs": [
    {
     "data": {
      "text/plain": [
       "'./my_logs/run_2022_12_29-20_36_44'"
      ]
     },
     "execution_count": 121,
     "metadata": {},
     "output_type": "execute_result"
    }
   ],
   "source": [
    "def get_run_logdir():\n",
    "    import time\n",
    "    run_id = time.strftime(\"run_%Y_%m_%d-%H_%M_%S\")\n",
    "    return os.path.join(root_logdir, run_id)\n",
    "\n",
    "run_logdir = get_run_logdir()\n",
    "run_logdir  "
   ]
  },
  {
   "cell_type": "code",
   "execution_count": 122,
   "id": "7a9a5d8c-06aa-41aa-b557-6f9f662b96d8",
   "metadata": {},
   "outputs": [],
   "source": [
    "tensorboard_cb =keras.callbacks.TensorBoard(root_logdir)"
   ]
  },
  {
   "cell_type": "code",
   "execution_count": 123,
   "id": "9e704623-4a08-43d7-a14e-dd11891568ee",
   "metadata": {},
   "outputs": [],
   "source": [
    "model.compile(loss=keras.losses.MSE,optimizer='adam',\n",
    "              metrics=[keras.metrics.RootMeanSquaredError()],\n",
    "             )"
   ]
  },
  {
   "cell_type": "code",
   "execution_count": 124,
   "id": "89cd4318-c462-4d25-8ac5-1185625c4283",
   "metadata": {},
   "outputs": [
    {
     "name": "stdout",
     "output_type": "stream",
     "text": [
      "Epoch 1/10\n",
      "836/836 [==============================] - 8s 6ms/step - loss: 8.2973 - root_mean_squared_error: 1.6989 - val_loss: 3.9512 - val_root_mean_squared_error: 0.3898\n",
      "Epoch 2/10\n",
      "836/836 [==============================] - 5s 7ms/step - loss: 2.7611 - root_mean_squared_error: 0.7306 - val_loss: 1.0959 - val_root_mean_squared_error: 0.3368\n",
      "Epoch 3/10\n",
      "836/836 [==============================] - 5s 6ms/step - loss: 0.9311 - root_mean_squared_error: 0.5896 - val_loss: 0.5133 - val_root_mean_squared_error: 0.3270\n",
      "Epoch 4/10\n",
      "836/836 [==============================] - 6s 7ms/step - loss: 0.6182 - root_mean_squared_error: 0.5186 - val_loss: 0.4004 - val_root_mean_squared_error: 0.3280\n",
      "Epoch 5/10\n",
      "836/836 [==============================] - 4s 5ms/step - loss: 0.4737 - root_mean_squared_error: 0.4686 - val_loss: 0.3232 - val_root_mean_squared_error: 0.3114\n",
      "Epoch 6/10\n",
      "836/836 [==============================] - 4s 5ms/step - loss: 0.3798 - root_mean_squared_error: 0.4325 - val_loss: 0.2591 - val_root_mean_squared_error: 0.2957\n",
      "Epoch 7/10\n",
      "836/836 [==============================] - 5s 6ms/step - loss: 0.3139 - root_mean_squared_error: 0.4039 - val_loss: 0.2125 - val_root_mean_squared_error: 0.2940\n",
      "Epoch 8/10\n",
      "836/836 [==============================] - 5s 6ms/step - loss: 0.2677 - root_mean_squared_error: 0.3817 - val_loss: 0.2052 - val_root_mean_squared_error: 0.2961\n",
      "Epoch 9/10\n",
      "836/836 [==============================] - 5s 6ms/step - loss: 0.2373 - root_mean_squared_error: 0.3658 - val_loss: 0.1802 - val_root_mean_squared_error: 0.2866\n",
      "Epoch 10/10\n",
      "836/836 [==============================] - 5s 6ms/step - loss: 0.2130 - root_mean_squared_error: 0.3501 - val_loss: 0.1631 - val_root_mean_squared_error: 0.2817\n"
     ]
    }
   ],
   "source": [
    "history = model.fit(train,epochs=10,validation_data=test,\n",
    "                   callbacks=[check,model_checkpoint,tensorboard_cb])"
   ]
  },
  {
   "cell_type": "code",
   "execution_count": 125,
   "id": "cad7b93b-5c70-42c6-bb2f-7daf303ff3b6",
   "metadata": {},
   "outputs": [
    {
     "name": "stdout",
     "output_type": "stream",
     "text": [
      "258/258 [==============================] - 1s 2ms/step\n"
     ]
    }
   ],
   "source": [
    "y_pred = model.predict(x_test)"
   ]
  },
  {
   "cell_type": "code",
   "execution_count": 126,
   "id": "3c5ffa87-46fd-44f2-b73e-6d552390544f",
   "metadata": {},
   "outputs": [],
   "source": [
    "from sklearn.metrics import r2_score"
   ]
  },
  {
   "cell_type": "code",
   "execution_count": 127,
   "id": "5ecc3a82-1e41-4f8f-8872-87256598e2f9",
   "metadata": {},
   "outputs": [
    {
     "data": {
      "text/plain": [
       "0.6042645194150045"
      ]
     },
     "execution_count": 127,
     "metadata": {},
     "output_type": "execute_result"
    }
   ],
   "source": [
    "r2_score(y_test,y_pred)"
   ]
  },
  {
   "cell_type": "code",
   "execution_count": 35,
   "id": "be3f7eb3-2835-4cc8-a25b-76feea01087a",
   "metadata": {},
   "outputs": [
    {
     "data": {
      "text/plain": [
       "{'loss': [3.4610157012939453,\n",
       "  0.6469147801399231,\n",
       "  0.3945517838001251,\n",
       "  0.29459047317504883,\n",
       "  0.2336430549621582,\n",
       "  0.19640947878360748,\n",
       "  0.1675654798746109,\n",
       "  0.146799236536026,\n",
       "  0.13103559613227844,\n",
       "  0.11805925518274307],\n",
       " 'root_mean_squared_error': [1.8603805303573608,\n",
       "  0.804310142993927,\n",
       "  0.6281335949897766,\n",
       "  0.5427619218826294,\n",
       "  0.48336637020111084,\n",
       "  0.4431810975074768,\n",
       "  0.40934762358665466,\n",
       "  0.3831438720226288,\n",
       "  0.3619883954524994,\n",
       "  0.34359753131866455],\n",
       " 'val_loss': [0.21797418594360352,\n",
       "  0.1230018362402916,\n",
       "  0.10286083072423935,\n",
       "  0.09413357824087143,\n",
       "  0.08716659247875214,\n",
       "  0.08236849308013916,\n",
       "  0.07871747016906738,\n",
       "  0.07853997498750687,\n",
       "  0.07424172759056091,\n",
       "  0.07172266393899918],\n",
       " 'val_root_mean_squared_error': [0.4668770432472229,\n",
       "  0.35071617364883423,\n",
       "  0.32071924209594727,\n",
       "  0.30681195855140686,\n",
       "  0.2952398955821991,\n",
       "  0.2869991064071655,\n",
       "  0.28056633472442627,\n",
       "  0.28024983406066895,\n",
       "  0.27247336506843567,\n",
       "  0.2678108811378479]}"
      ]
     },
     "execution_count": 35,
     "metadata": {},
     "output_type": "execute_result"
    }
   ],
   "source": [
    "history.history"
   ]
  },
  {
   "cell_type": "code",
   "execution_count": 88,
   "id": "0c1d4b4a-e191-42fb-a153-70fa242b9ef1",
   "metadata": {},
   "outputs": [],
   "source": [
    "#%load_ext tensorboard\n"
   ]
  },
  {
   "cell_type": "code",
   "execution_count": null,
   "id": "bb8a5744-b675-4bcd-a8d6-c21753226307",
   "metadata": {},
   "outputs": [],
   "source": [
    "#%tensorboard --logdir=./my_logs --port=6006"
   ]
  },
  {
   "cell_type": "code",
   "execution_count": 161,
   "id": "3d5f1f21-d341-43d1-b41d-d2a0427d160c",
   "metadata": {},
   "outputs": [],
   "source": [
    "class R2Metric(keras.metrics.Metric):\n",
    "    \n",
    "    def __init__(self):\n",
    "        self.r2 = r2_score\n",
    "        self.total = 0\n",
    "        self.count = 0 \n",
    "        super().__init__()\n",
    "        \n",
    "    def update_state(self, y_true, y_pred, sample_weight=None):\n",
    "        \n",
    "        metric = self.r2(y_true.numpy(), y_pred.numpy())\n",
    "     \n",
    "        self.total += metric\n",
    "        self.count += 1\n",
    "        \n",
    "    def result(self):\n",
    "        return self.total / self.count\n",
    "    \n",
    "    def get_config(self):\n",
    "        base_config = super().get_config()\n",
    "        return {**base_config,} "
   ]
  },
  {
   "cell_type": "code",
   "execution_count": 162,
   "id": "bda6ba4f-3b38-4dd1-9952-7b871b400226",
   "metadata": {},
   "outputs": [],
   "source": [
    "model = keras.Sequential([\n",
    "\n",
    "    keras.layers.Dense(64,activation='relu',input_shape=[334]),\n",
    "    keras.layers.BatchNormalization(),\n",
    "    \n",
    "    keras.layers.Dense(64,activation='relu'),\n",
    "    keras.layers.BatchNormalization(),\n",
    "    keras.layers.Dropout(0.5),\n",
    " \n",
    "    keras.layers.Dense(1,activation='linear')]\n",
    "\n",
    "\n",
    ")\n",
    "\n",
    "\n"
   ]
  },
  {
   "cell_type": "code",
   "execution_count": 163,
   "id": "beb8a679-e338-46de-8f1b-464c78cbfa16",
   "metadata": {},
   "outputs": [],
   "source": [
    "r2 = R2Metric()\n",
    "model.compile(loss=keras.losses.MSE,optimizer='adam',\n",
    "              metrics=[r2],\n",
    "              run_eagerly=True # to run numpy functions\n",
    "             )"
   ]
  },
  {
   "cell_type": "code",
   "execution_count": 172,
   "id": "fc5c2b15-8c2a-4d71-b49f-a56c2e772f5a",
   "metadata": {},
   "outputs": [
    {
     "name": "stdout",
     "output_type": "stream",
     "text": [
      "Epoch 1/20\n",
      "836/836 [==============================] - 192s 230ms/step - loss: 3.3827 - r2_metric_11: -21.5293 - val_loss: 0.1991 - val_r2_metric_11: -16.6239\n",
      "Epoch 2/20\n",
      "836/836 [==============================] - 188s 225ms/step - loss: 0.7248 - r2_metric_11: -10.8899 - val_loss: 0.1319 - val_r2_metric_11: -9.5906\n",
      "Epoch 3/20\n",
      "836/836 [==============================] - 185s 221ms/step - loss: 0.4440 - r2_metric_11: -7.3842 - val_loss: 0.0990 - val_r2_metric_11: -6.7717\n",
      "Epoch 4/20\n",
      "836/836 [==============================] - 191s 229ms/step - loss: 0.3265 - r2_metric_11: -5.5783 - val_loss: 0.0910 - val_r2_metric_11: -5.2209\n",
      "Epoch 5/20\n",
      "836/836 [==============================] - 195s 234ms/step - loss: 0.2580 - r2_metric_11: -4.4616 - val_loss: 0.0838 - val_r2_metric_11: -4.2258\n",
      "Epoch 6/20\n",
      "836/836 [==============================] - 202s 242ms/step - loss: 0.2111 - r2_metric_11: -3.6933 - val_loss: 0.0808 - val_r2_metric_11: -3.5260\n",
      "Epoch 7/20\n",
      "836/836 [==============================] - 199s 239ms/step - loss: 0.1803 - r2_metric_11: -3.1307 - val_loss: 0.0791 - val_r2_metric_11: -3.0058\n",
      "Epoch 8/20\n",
      "836/836 [==============================] - 194s 233ms/step - loss: 0.1594 - r2_metric_11: -2.7008 - val_loss: 0.0764 - val_r2_metric_11: -2.6035\n",
      "Epoch 9/20\n",
      "836/836 [==============================] - 196s 234ms/step - loss: 0.1398 - r2_metric_11: -2.3581 - val_loss: 0.0737 - val_r2_metric_11: -2.2803\n",
      "Epoch 10/20\n",
      "836/836 [==============================] - 198s 236ms/step - loss: 0.1249 - r2_metric_11: -2.0784 - val_loss: 0.0718 - val_r2_metric_11: -2.0148\n",
      "Epoch 11/20\n",
      "836/836 [==============================] - 183s 219ms/step - loss: 0.1104 - r2_metric_11: -1.8448 - val_loss: 0.0685 - val_r2_metric_11: -1.7915\n",
      "Epoch 12/20\n",
      "836/836 [==============================] - 180s 215ms/step - loss: 0.0979 - r2_metric_11: -1.6458 - val_loss: 0.0668 - val_r2_metric_11: -1.6007\n",
      "Epoch 13/20\n",
      "836/836 [==============================] - 179s 215ms/step - loss: 0.0860 - r2_metric_11: -1.4740 - val_loss: 0.0625 - val_r2_metric_11: -1.4350\n",
      "Epoch 14/20\n",
      "836/836 [==============================] - 176s 211ms/step - loss: 0.0766 - r2_metric_11: -1.3237 - val_loss: 0.0612 - val_r2_metric_11: -1.2901\n",
      "Epoch 15/20\n",
      "836/836 [==============================] - 176s 210ms/step - loss: 0.0687 - r2_metric_11: -1.1916 - val_loss: 0.0594 - val_r2_metric_11: -1.1620\n",
      "Epoch 16/20\n",
      "836/836 [==============================] - 177s 212ms/step - loss: 0.0615 - r2_metric_11: -1.0740 - val_loss: 0.0577 - val_r2_metric_11: -1.0480\n",
      "Epoch 17/20\n",
      "836/836 [==============================] - 178s 213ms/step - loss: 0.0564 - r2_metric_11: -0.9691 - val_loss: 0.0535 - val_r2_metric_11: -0.9457\n",
      "Epoch 18/20\n",
      "836/836 [==============================] - 176s 211ms/step - loss: 0.0512 - r2_metric_11: -0.8744 - val_loss: 0.0538 - val_r2_metric_11: -0.8536\n",
      "Epoch 19/20\n",
      "836/836 [==============================] - 178s 213ms/step - loss: 0.0477 - r2_metric_11: -0.7890 - val_loss: 0.0532 - val_r2_metric_11: -0.7703\n",
      "Epoch 20/20\n",
      "836/836 [==============================] - 194s 232ms/step - loss: 0.0449 - r2_metric_11: -0.7116 - val_loss: 0.0512 - val_r2_metric_11: -0.6946\n"
     ]
    }
   ],
   "source": [
    "history = model.fit(train,epochs=20,validation_data=test,\n",
    "                 )"
   ]
  },
  {
   "cell_type": "code",
   "execution_count": 27,
   "id": "1ff26cce-7484-4407-a5e9-ec1ce3fb05c3",
   "metadata": {},
   "outputs": [],
   "source": [
    "class keras_model(keras.models.Model,keras.layers.Layer):\n",
    "    \n",
    "    def __init__(self,n1=32,n2=64,number_of_hidden=1):\n",
    "        \n",
    "        super().__init__()\n",
    "        \n",
    "        self.n1 = n1\n",
    "        self.n2 = n2\n",
    "        self.hidden = number_of_hidden\n",
    "        \n",
    "        self.inp = keras.layers.Dense(self.n1,activation='relu',\n",
    "                                     input_shape=[334])\n",
    "        self.dense = [keras.layers.Dense(self.n2,activation='relu') \n",
    "                      for _ in range(self.hidden)]\n",
    "        \n",
    "        self.out = keras.layers.Dense(1,activation='linear')\n",
    "        \n",
    "    def call(self,X):\n",
    "        \n",
    "        \n",
    "        x = self.inp(X)\n",
    "        \n",
    "        for i in range(self.hidden):\n",
    "            x = self.dense[i](x)\n",
    "            \n",
    "        x = self.out(x)\n",
    "        \n",
    "        return x\n",
    "            \n",
    "            "
   ]
  },
  {
   "cell_type": "code",
   "execution_count": 28,
   "id": "d50b0609-35ae-489e-a54d-cc54b31ca86e",
   "metadata": {},
   "outputs": [],
   "source": [
    "mod = keras_model()"
   ]
  },
  {
   "cell_type": "code",
   "execution_count": 29,
   "id": "17dfa127-d007-4a41-92d1-e76122ece716",
   "metadata": {},
   "outputs": [],
   "source": [
    "for x,y in train.take(10):\n",
    "    x = x\n",
    "    y= y"
   ]
  },
  {
   "cell_type": "code",
   "execution_count": 30,
   "id": "bb661f3a-2743-4208-8b61-cbe0624fc9cc",
   "metadata": {},
   "outputs": [
    {
     "data": {
      "text/plain": [
       "<tf.Tensor: shape=(32, 334), dtype=float64, numpy=\n",
       "array([[ 0.        ,  0.        , -1.67082946, ...,  0.        ,\n",
       "         0.        ,  0.        ],\n",
       "       [ 1.        ,  0.        , -0.11532296, ...,  0.        ,\n",
       "         0.86989142,  0.02269441],\n",
       "       [ 0.        ,  0.        , -1.01973828, ...,  0.        ,\n",
       "         0.        ,  0.        ],\n",
       "       ...,\n",
       "       [ 0.        ,  1.        ,  0.37941883, ...,  0.        ,\n",
       "         0.        ,  0.10417623],\n",
       "       [ 0.        ,  0.        , -1.56277682, ...,  0.        ,\n",
       "         0.        ,  0.        ],\n",
       "       [ 1.        ,  0.        , -1.67082946, ...,  0.        ,\n",
       "         0.        ,  0.        ]])>"
      ]
     },
     "execution_count": 30,
     "metadata": {},
     "output_type": "execute_result"
    }
   ],
   "source": [
    "x"
   ]
  },
  {
   "cell_type": "code",
   "execution_count": 31,
   "id": "df931d0b-578e-4e2a-b41a-7bcc7565a715",
   "metadata": {},
   "outputs": [
    {
     "data": {
      "text/plain": [
       "<tf.Tensor: shape=(32, 1), dtype=float32, numpy=\n",
       "array([[-0.00517076],\n",
       "       [-0.03515961],\n",
       "       [-0.03365399],\n",
       "       [ 0.12868959],\n",
       "       [ 0.05268732],\n",
       "       [ 0.10490862],\n",
       "       [ 0.09504446],\n",
       "       [ 0.18889442],\n",
       "       [ 0.11253962],\n",
       "       [-0.0765232 ],\n",
       "       [ 0.10094057],\n",
       "       [ 0.12044689],\n",
       "       [ 0.161417  ],\n",
       "       [ 0.16433206],\n",
       "       [ 0.06888251],\n",
       "       [ 0.04917868],\n",
       "       [ 0.05450829],\n",
       "       [ 0.04466913],\n",
       "       [ 0.12830158],\n",
       "       [ 0.00954445],\n",
       "       [ 0.02855715],\n",
       "       [ 0.06640767],\n",
       "       [-0.02633381],\n",
       "       [ 0.09247842],\n",
       "       [ 0.06112412],\n",
       "       [ 0.09665776],\n",
       "       [-0.02265366],\n",
       "       [ 0.02275902],\n",
       "       [ 0.12482721],\n",
       "       [ 0.13401881],\n",
       "       [ 0.20620126],\n",
       "       [ 0.10298152]], dtype=float32)>"
      ]
     },
     "execution_count": 31,
     "metadata": {},
     "output_type": "execute_result"
    }
   ],
   "source": [
    "mod(x)"
   ]
  },
  {
   "cell_type": "code",
   "execution_count": 32,
   "id": "d55d8646-7ad7-4515-b198-22f6ddef47d0",
   "metadata": {},
   "outputs": [
    {
     "data": {
      "text/plain": [
       "<tf.Tensor: shape=(32, 1), dtype=float32, numpy=\n",
       "array([[0.07708843],\n",
       "       [0.16725789],\n",
       "       [0.05312563],\n",
       "       [0.07799217],\n",
       "       [0.05855339],\n",
       "       [0.05830543],\n",
       "       [0.13300273],\n",
       "       [0.13985828],\n",
       "       [0.15085603],\n",
       "       [0.11162497],\n",
       "       [0.0547572 ],\n",
       "       [0.05365266],\n",
       "       [0.14978483],\n",
       "       [0.10343893],\n",
       "       [0.15183179],\n",
       "       [0.05559872],\n",
       "       [0.08936116],\n",
       "       [0.07109427],\n",
       "       [0.21506605],\n",
       "       [0.13087232],\n",
       "       [0.12073077],\n",
       "       [0.18239449],\n",
       "       [0.12463128],\n",
       "       [0.1784492 ],\n",
       "       [0.20427985],\n",
       "       [0.15811962],\n",
       "       [0.19690359],\n",
       "       [0.12880063],\n",
       "       [0.13705225],\n",
       "       [0.11926618],\n",
       "       [0.12125569],\n",
       "       [0.153039  ]], dtype=float32)>"
      ]
     },
     "execution_count": 32,
     "metadata": {},
     "output_type": "execute_result"
    }
   ],
   "source": [
    "mod = keras_model(number_of_hidden=2)\n",
    "mod(x)"
   ]
  },
  {
   "cell_type": "code",
   "execution_count": 40,
   "id": "6d1ac635-5c9f-4980-aed7-fd30bfb52d3e",
   "metadata": {},
   "outputs": [],
   "source": [
    "def make_model(n1=32,n2=64,number_of_hidden=1,lr =0.001):\n",
    "    \n",
    "    model = keras_model(n1=n1,n2=n2,number_of_hidden=number_of_hidden)\n",
    "    \n",
    "    optim = keras.optimizers.Adam(learning_rate=lr)\n",
    " \n",
    "    model.compile(loss='mse',optimizer=optim,metrics=[keras.metrics.RootMeanSquaredError()])\n",
    "    \n",
    "    return model"
   ]
  },
  {
   "cell_type": "code",
   "execution_count": 41,
   "id": "0303d3c2-6636-4ce2-86ca-7c86c34a059e",
   "metadata": {},
   "outputs": [
    {
     "data": {
      "text/plain": [
       "<tf.Tensor: shape=(32, 1), dtype=float32, numpy=\n",
       "array([[-0.01810424],\n",
       "       [ 0.16639733],\n",
       "       [ 0.13981707],\n",
       "       [ 0.15100709],\n",
       "       [ 0.2849092 ],\n",
       "       [ 0.00554674],\n",
       "       [ 0.13321805],\n",
       "       [ 0.07785926],\n",
       "       [-0.03820976],\n",
       "       [ 0.16829328],\n",
       "       [ 0.01529009],\n",
       "       [ 0.10931933],\n",
       "       [ 0.0322672 ],\n",
       "       [-0.04213046],\n",
       "       [ 0.0900993 ],\n",
       "       [ 0.07622078],\n",
       "       [ 0.0530047 ],\n",
       "       [ 0.08104876],\n",
       "       [ 0.08833349],\n",
       "       [ 0.00110856],\n",
       "       [ 0.05298845],\n",
       "       [ 0.15813407],\n",
       "       [ 0.01024166],\n",
       "       [ 0.13364324],\n",
       "       [ 0.07478476],\n",
       "       [ 0.10118894],\n",
       "       [ 0.10557467],\n",
       "       [ 0.02474373],\n",
       "       [ 0.08411843],\n",
       "       [ 0.11399116],\n",
       "       [ 0.1610299 ],\n",
       "       [ 0.04858422]], dtype=float32)>"
      ]
     },
     "execution_count": 41,
     "metadata": {},
     "output_type": "execute_result"
    }
   ],
   "source": [
    "m = make_model()\n",
    "m(x)"
   ]
  },
  {
   "cell_type": "code",
   "execution_count": 42,
   "id": "c58810fa-dcec-4867-8985-9e9dc8b3fa81",
   "metadata": {},
   "outputs": [
    {
     "name": "stdout",
     "output_type": "stream",
     "text": [
      "Model: \"keras_model_8\"\n",
      "_________________________________________________________________\n",
      " Layer (type)                Output Shape              Param #   \n",
      "=================================================================\n",
      " dense_29 (Dense)            multiple                  10720     \n",
      "                                                                 \n",
      " dense_30 (Dense)            multiple                  2112      \n",
      "                                                                 \n",
      " dense_31 (Dense)            multiple                  65        \n",
      "                                                                 \n",
      "=================================================================\n",
      "Total params: 12,897\n",
      "Trainable params: 12,897\n",
      "Non-trainable params: 0\n",
      "_________________________________________________________________\n"
     ]
    }
   ],
   "source": [
    "m.summary()"
   ]
  },
  {
   "cell_type": "code",
   "execution_count": 70,
   "id": "e85915f3-96ea-4f08-9017-0c9f4a9a5fc3",
   "metadata": {},
   "outputs": [
    {
     "name": "stdout",
     "output_type": "stream",
     "text": [
      "836/836 [==============================] - 3s 2ms/step - loss: 0.4637 - root_mean_squared_error: 0.6809\n"
     ]
    },
    {
     "data": {
      "text/plain": [
       "<keras.callbacks.History at 0x7fd5ca594c10>"
      ]
     },
     "execution_count": 70,
     "metadata": {},
     "output_type": "execute_result"
    }
   ],
   "source": [
    "m.fit(train)"
   ]
  },
  {
   "cell_type": "code",
   "execution_count": 71,
   "id": "457af7fe-5d06-4229-9f12-3dde4b638918",
   "metadata": {},
   "outputs": [],
   "source": [
    "mod = KerasRegressor(make_model,n1=32,n2=64,number_of_hidden=1,lr =0.001)"
   ]
  },
  {
   "cell_type": "code",
   "execution_count": 74,
   "id": "b93e219f-fc56-476f-8e8d-1d194adc29a2",
   "metadata": {},
   "outputs": [],
   "source": [
    "from sklearn.model_selection import KFold"
   ]
  },
  {
   "cell_type": "code",
   "execution_count": 78,
   "id": "695f619a-0e01-423d-b67e-091b953233f6",
   "metadata": {},
   "outputs": [],
   "source": [
    "# CROSS VALIDATION FOR NN\n",
    "\n",
    "k = KFold(n_splits=5,shuffle=True)"
   ]
  },
  {
   "cell_type": "code",
   "execution_count": 79,
   "id": "0d8326c6-2102-4510-8701-3adc3cd8e68c",
   "metadata": {},
   "outputs": [
    {
     "data": {
      "text/plain": [
       "[(array([    0,     1,     2, ..., 26734, 26735, 26737]),\n",
       "  array([    3,     6,     9, ..., 26728, 26729, 26736])),\n",
       " (array([    0,     1,     3, ..., 26734, 26735, 26736]),\n",
       "  array([    2,     8,    17, ..., 26715, 26730, 26737])),\n",
       " (array([    0,     1,     2, ..., 26734, 26736, 26737]),\n",
       "  array([    4,     7,    10, ..., 26727, 26731, 26735])),\n",
       " (array([    1,     2,     3, ..., 26735, 26736, 26737]),\n",
       "  array([    0,    14,    15, ..., 26719, 26725, 26732])),\n",
       " (array([    0,     2,     3, ..., 26735, 26736, 26737]),\n",
       "  array([    1,     5,    11, ..., 26726, 26733, 26734]))]"
      ]
     },
     "execution_count": 79,
     "metadata": {},
     "output_type": "execute_result"
    }
   ],
   "source": [
    "list(k.split(x_train,y_train))"
   ]
  },
  {
   "cell_type": "code",
   "execution_count": 82,
   "id": "6d166fc7-bf7d-43f7-b815-6039a263cf19",
   "metadata": {},
   "outputs": [],
   "source": [
    "\n",
    "ksplit = k.split(x_train,y_train)"
   ]
  },
  {
   "cell_type": "code",
   "execution_count": 83,
   "id": "58323942-1a4f-4654-bcdd-2d1ae4ad1ca5",
   "metadata": {},
   "outputs": [
    {
     "name": "stdout",
     "output_type": "stream",
     "text": [
      "Epoch 1/10\n",
      "669/669 [==============================] - 3s 4ms/step - loss: 0.7274 - root_mean_squared_error: 0.8529 - val_loss: 0.0911 - val_root_mean_squared_error: 0.3019\n",
      "Epoch 2/10\n",
      "669/669 [==============================] - 2s 2ms/step - loss: 0.0824 - root_mean_squared_error: 0.2871 - val_loss: 0.0833 - val_root_mean_squared_error: 0.2885\n",
      "Epoch 3/10\n",
      "669/669 [==============================] - 2s 2ms/step - loss: 0.0762 - root_mean_squared_error: 0.2761 - val_loss: 0.0816 - val_root_mean_squared_error: 0.2857\n",
      "Epoch 4/10\n",
      "669/669 [==============================] - 2s 3ms/step - loss: 0.0712 - root_mean_squared_error: 0.2668 - val_loss: 0.0751 - val_root_mean_squared_error: 0.2741\n",
      "Epoch 5/10\n",
      "669/669 [==============================] - 2s 3ms/step - loss: 0.0674 - root_mean_squared_error: 0.2595 - val_loss: 0.0721 - val_root_mean_squared_error: 0.2686\n",
      "Epoch 6/10\n",
      "669/669 [==============================] - 2s 3ms/step - loss: 0.0643 - root_mean_squared_error: 0.2535 - val_loss: 0.0720 - val_root_mean_squared_error: 0.2682\n",
      "Epoch 7/10\n",
      "669/669 [==============================] - 2s 3ms/step - loss: 0.0607 - root_mean_squared_error: 0.2465 - val_loss: 0.0725 - val_root_mean_squared_error: 0.2692\n",
      "Epoch 8/10\n",
      "669/669 [==============================] - 2s 3ms/step - loss: 0.0571 - root_mean_squared_error: 0.2390 - val_loss: 0.0672 - val_root_mean_squared_error: 0.2592\n",
      "Epoch 9/10\n",
      "669/669 [==============================] - 2s 3ms/step - loss: 0.0546 - root_mean_squared_error: 0.2337 - val_loss: 0.0672 - val_root_mean_squared_error: 0.2593\n",
      "Epoch 10/10\n",
      "669/669 [==============================] - 2s 2ms/step - loss: 0.0517 - root_mean_squared_error: 0.2274 - val_loss: 0.0637 - val_root_mean_squared_error: 0.2525\n",
      "168/168 [==============================] - 0s 2ms/step\n",
      "Epoch 1/10\n",
      "669/669 [==============================] - 3s 3ms/step - loss: 0.7177 - root_mean_squared_error: 0.8472 - val_loss: 0.0879 - val_root_mean_squared_error: 0.2965\n",
      "Epoch 2/10\n",
      "669/669 [==============================] - 3s 4ms/step - loss: 0.0840 - root_mean_squared_error: 0.2897 - val_loss: 0.0821 - val_root_mean_squared_error: 0.2865\n",
      "Epoch 3/10\n",
      "669/669 [==============================] - 2s 3ms/step - loss: 0.0784 - root_mean_squared_error: 0.2800 - val_loss: 0.0754 - val_root_mean_squared_error: 0.2745\n",
      "Epoch 4/10\n",
      "669/669 [==============================] - 2s 4ms/step - loss: 0.0726 - root_mean_squared_error: 0.2694 - val_loss: 0.0734 - val_root_mean_squared_error: 0.2709\n",
      "Epoch 5/10\n",
      "669/669 [==============================] - 3s 4ms/step - loss: 0.0694 - root_mean_squared_error: 0.2635 - val_loss: 0.0700 - val_root_mean_squared_error: 0.2645\n",
      "Epoch 6/10\n",
      "669/669 [==============================] - 2s 3ms/step - loss: 0.0657 - root_mean_squared_error: 0.2564 - val_loss: 0.0684 - val_root_mean_squared_error: 0.2615\n",
      "Epoch 7/10\n",
      "669/669 [==============================] - 2s 3ms/step - loss: 0.0623 - root_mean_squared_error: 0.2496 - val_loss: 0.0657 - val_root_mean_squared_error: 0.2563\n",
      "Epoch 8/10\n",
      "669/669 [==============================] - 2s 3ms/step - loss: 0.0599 - root_mean_squared_error: 0.2448 - val_loss: 0.0645 - val_root_mean_squared_error: 0.2540\n",
      "Epoch 9/10\n",
      "669/669 [==============================] - 2s 3ms/step - loss: 0.0571 - root_mean_squared_error: 0.2389 - val_loss: 0.0672 - val_root_mean_squared_error: 0.2593\n",
      "Epoch 10/10\n",
      "669/669 [==============================] - 3s 4ms/step - loss: 0.0551 - root_mean_squared_error: 0.2346 - val_loss: 0.0631 - val_root_mean_squared_error: 0.2511\n",
      "168/168 [==============================] - 0s 2ms/step\n",
      "Epoch 1/10\n",
      "669/669 [==============================] - 4s 3ms/step - loss: 0.6567 - root_mean_squared_error: 0.8104 - val_loss: 0.0896 - val_root_mean_squared_error: 0.2993\n",
      "Epoch 2/10\n",
      "669/669 [==============================] - 2s 3ms/step - loss: 0.0831 - root_mean_squared_error: 0.2882 - val_loss: 0.0818 - val_root_mean_squared_error: 0.2859\n",
      "Epoch 3/10\n",
      "669/669 [==============================] - 2s 3ms/step - loss: 0.0777 - root_mean_squared_error: 0.2788 - val_loss: 0.0772 - val_root_mean_squared_error: 0.2779\n",
      "Epoch 4/10\n",
      "669/669 [==============================] - 2s 3ms/step - loss: 0.0722 - root_mean_squared_error: 0.2686 - val_loss: 0.0751 - val_root_mean_squared_error: 0.2741\n",
      "Epoch 5/10\n",
      "669/669 [==============================] - 2s 3ms/step - loss: 0.0688 - root_mean_squared_error: 0.2623 - val_loss: 0.0724 - val_root_mean_squared_error: 0.2691\n",
      "Epoch 6/10\n",
      "669/669 [==============================] - 2s 3ms/step - loss: 0.0651 - root_mean_squared_error: 0.2551 - val_loss: 0.0712 - val_root_mean_squared_error: 0.2669\n",
      "Epoch 7/10\n",
      "669/669 [==============================] - 2s 3ms/step - loss: 0.0617 - root_mean_squared_error: 0.2485 - val_loss: 0.0699 - val_root_mean_squared_error: 0.2643\n",
      "Epoch 8/10\n",
      "669/669 [==============================] - 2s 3ms/step - loss: 0.0587 - root_mean_squared_error: 0.2423 - val_loss: 0.0660 - val_root_mean_squared_error: 0.2570\n",
      "Epoch 9/10\n",
      "669/669 [==============================] - 2s 3ms/step - loss: 0.0564 - root_mean_squared_error: 0.2375 - val_loss: 0.0652 - val_root_mean_squared_error: 0.2553\n",
      "Epoch 10/10\n",
      "669/669 [==============================] - 2s 3ms/step - loss: 0.0539 - root_mean_squared_error: 0.2322 - val_loss: 0.0667 - val_root_mean_squared_error: 0.2582\n",
      "168/168 [==============================] - 0s 1ms/step\n",
      "Epoch 1/10\n",
      "669/669 [==============================] - 3s 3ms/step - loss: 0.6822 - root_mean_squared_error: 0.8260 - val_loss: 0.0919 - val_root_mean_squared_error: 0.3032\n",
      "Epoch 2/10\n",
      "669/669 [==============================] - 2s 3ms/step - loss: 0.0820 - root_mean_squared_error: 0.2864 - val_loss: 0.0934 - val_root_mean_squared_error: 0.3056\n",
      "Epoch 3/10\n",
      "669/669 [==============================] - 2s 3ms/step - loss: 0.0759 - root_mean_squared_error: 0.2754 - val_loss: 0.0809 - val_root_mean_squared_error: 0.2844\n",
      "Epoch 4/10\n",
      "669/669 [==============================] - 2s 3ms/step - loss: 0.0720 - root_mean_squared_error: 0.2684 - val_loss: 0.0780 - val_root_mean_squared_error: 0.2793\n",
      "Epoch 5/10\n",
      "669/669 [==============================] - 2s 3ms/step - loss: 0.0685 - root_mean_squared_error: 0.2617 - val_loss: 0.0740 - val_root_mean_squared_error: 0.2720\n",
      "Epoch 6/10\n",
      "669/669 [==============================] - 2s 3ms/step - loss: 0.0638 - root_mean_squared_error: 0.2526 - val_loss: 0.0705 - val_root_mean_squared_error: 0.2656\n",
      "Epoch 7/10\n",
      "669/669 [==============================] - 2s 3ms/step - loss: 0.0608 - root_mean_squared_error: 0.2466 - val_loss: 0.0724 - val_root_mean_squared_error: 0.2690\n",
      "Epoch 8/10\n",
      "669/669 [==============================] - 2s 3ms/step - loss: 0.0579 - root_mean_squared_error: 0.2407 - val_loss: 0.0672 - val_root_mean_squared_error: 0.2592\n",
      "Epoch 9/10\n",
      "669/669 [==============================] - 2s 3ms/step - loss: 0.0551 - root_mean_squared_error: 0.2348 - val_loss: 0.0776 - val_root_mean_squared_error: 0.2785\n",
      "Epoch 10/10\n",
      "669/669 [==============================] - 2s 3ms/step - loss: 0.0533 - root_mean_squared_error: 0.2310 - val_loss: 0.0717 - val_root_mean_squared_error: 0.2678\n",
      "168/168 [==============================] - 0s 2ms/step\n",
      "Epoch 1/10\n",
      "669/669 [==============================] - 3s 3ms/step - loss: 0.6216 - root_mean_squared_error: 0.7884 - val_loss: 0.0883 - val_root_mean_squared_error: 0.2971\n",
      "Epoch 2/10\n",
      "669/669 [==============================] - 2s 3ms/step - loss: 0.0847 - root_mean_squared_error: 0.2910 - val_loss: 0.0784 - val_root_mean_squared_error: 0.2800\n",
      "Epoch 3/10\n",
      "669/669 [==============================] - 2s 3ms/step - loss: 0.0786 - root_mean_squared_error: 0.2804 - val_loss: 0.0777 - val_root_mean_squared_error: 0.2787\n",
      "Epoch 4/10\n",
      "669/669 [==============================] - 2s 4ms/step - loss: 0.0749 - root_mean_squared_error: 0.2737 - val_loss: 0.0769 - val_root_mean_squared_error: 0.2772\n",
      "Epoch 5/10\n",
      "669/669 [==============================] - 2s 3ms/step - loss: 0.0717 - root_mean_squared_error: 0.2678 - val_loss: 0.0718 - val_root_mean_squared_error: 0.2680\n",
      "Epoch 6/10\n",
      "669/669 [==============================] - 2s 3ms/step - loss: 0.0686 - root_mean_squared_error: 0.2620 - val_loss: 0.0690 - val_root_mean_squared_error: 0.2627\n",
      "Epoch 7/10\n",
      "669/669 [==============================] - 2s 3ms/step - loss: 0.0651 - root_mean_squared_error: 0.2551 - val_loss: 0.0666 - val_root_mean_squared_error: 0.2580\n",
      "Epoch 8/10\n",
      "669/669 [==============================] - 2s 3ms/step - loss: 0.0624 - root_mean_squared_error: 0.2498 - val_loss: 0.0675 - val_root_mean_squared_error: 0.2598\n",
      "Epoch 9/10\n",
      "669/669 [==============================] - 2s 3ms/step - loss: 0.0596 - root_mean_squared_error: 0.2441 - val_loss: 0.0664 - val_root_mean_squared_error: 0.2578\n",
      "Epoch 10/10\n",
      "669/669 [==============================] - 2s 3ms/step - loss: 0.0569 - root_mean_squared_error: 0.2384 - val_loss: 0.0668 - val_root_mean_squared_error: 0.2584\n",
      "168/168 [==============================] - 0s 2ms/step\n"
     ]
    }
   ],
   "source": [
    "l=[]\n",
    "for train_index,test_index in ksplit:\n",
    "    \n",
    "    X = x_train.iloc[train_index]\n",
    "    y = y_train.iloc[train_index]\n",
    "    \n",
    "    X_val = x_train.iloc[test_index]\n",
    "    y_val = y_train.iloc[test_index]\n",
    "    \n",
    "    m = make_model()\n",
    "    m.fit(x=X,y=y,epochs=10,batch_size=32,\n",
    "          validation_data=(X_val,y_val))\n",
    "    \n",
    "    pred = m.predict(X_val)\n",
    "    r2 = r2_score(y_val,pred)\n",
    "    \n",
    "    l.append(r2)"
   ]
  },
  {
   "cell_type": "code",
   "execution_count": 84,
   "id": "05c4d70a-80a0-4381-b5a0-f9eb5c1b55e0",
   "metadata": {},
   "outputs": [
    {
     "data": {
      "text/plain": [
       "[0.675048592198858,\n",
       " 0.6621908604976778,\n",
       " 0.6532552461958251,\n",
       " 0.6285733658112269,\n",
       " 0.643225912603139]"
      ]
     },
     "execution_count": 84,
     "metadata": {},
     "output_type": "execute_result"
    }
   ],
   "source": [
    "l"
   ]
  },
  {
   "cell_type": "code",
   "execution_count": 85,
   "id": "52575c0b-373c-49ce-977f-d58d1d738573",
   "metadata": {},
   "outputs": [],
   "source": [
    "def build_model(n_hidden=1, n_neurons=10, learning_rate=0.001):\n",
    "    \n",
    "    model = keras.models.Sequential()\n",
    "    model.add(keras.layers.InputLayer(input_shape=[334]))\n",
    "    \n",
    "    for layer in range(n_hidden):\n",
    "        model.add(keras.layers.Dense(n_neurons, activation=\"relu\"))\n",
    "        \n",
    "    model.add(keras.layers.Dense(1,activation='relu'))\n",
    "    \n",
    "    optimizer = keras.optimizers.Adam(learning_rate=learning_rate)\n",
    "    \n",
    "    model.compile(loss=\"mse\", optimizer=optimizer,\n",
    "                  metrics=[keras.metrics.RootMeanSquaredError()])\n",
    "    return model"
   ]
  },
  {
   "cell_type": "code",
   "execution_count": 86,
   "id": "309aa026-7df0-4470-acc9-6c348def2b13",
   "metadata": {},
   "outputs": [],
   "source": [
    "# SKLEARN WRAPPER\n",
    "\n",
    "from scikeras.wrappers import KerasRegressor"
   ]
  },
  {
   "cell_type": "code",
   "execution_count": 87,
   "id": "1878670b-deba-4de9-8ae1-d9a824015d21",
   "metadata": {},
   "outputs": [],
   "source": [
    "model = KerasRegressor(model=build_model,\n",
    "                      n_hidden=3, n_neurons=124, learning_rate=0.001)"
   ]
  },
  {
   "cell_type": "code",
   "execution_count": 88,
   "id": "9c86e227-2a69-495e-943f-019919ab9722",
   "metadata": {},
   "outputs": [
    {
     "data": {
      "text/plain": [
       "KerasRegressor(\n",
       "\tmodel=<function build_model at 0x7fd5c1eebe50>\n",
       "\tbuild_fn=None\n",
       "\twarm_start=False\n",
       "\trandom_state=None\n",
       "\toptimizer=rmsprop\n",
       "\tloss=None\n",
       "\tmetrics=None\n",
       "\tbatch_size=None\n",
       "\tvalidation_batch_size=None\n",
       "\tverbose=1\n",
       "\tcallbacks=None\n",
       "\tvalidation_split=0.0\n",
       "\tshuffle=True\n",
       "\trun_eagerly=False\n",
       "\tepochs=1\n",
       "\tn_hidden=2\n",
       "\tn_neurons=124\n",
       "\tlearning_rate=0.001\n",
       ")"
      ]
     },
     "execution_count": 88,
     "metadata": {},
     "output_type": "execute_result"
    }
   ],
   "source": [
    "model.set_params(n_hidden=2)"
   ]
  },
  {
   "cell_type": "code",
   "execution_count": 89,
   "id": "56627c33-09c5-46f7-9d0f-188fe7f6564d",
   "metadata": {},
   "outputs": [
    {
     "name": "stdout",
     "output_type": "stream",
     "text": [
      "Epoch 1/10\n",
      "836/836 [==============================] - 4s 3ms/step - loss: 0.2692 - root_mean_squared_error: 0.5188 - val_loss: 0.0842 - val_root_mean_squared_error: 0.2901\n",
      "Epoch 2/10\n",
      "836/836 [==============================] - 3s 3ms/step - loss: 0.0752 - root_mean_squared_error: 0.2743 - val_loss: 0.0777 - val_root_mean_squared_error: 0.2787\n",
      "Epoch 3/10\n",
      "836/836 [==============================] - 3s 4ms/step - loss: 0.0662 - root_mean_squared_error: 0.2572 - val_loss: 0.0910 - val_root_mean_squared_error: 0.3017\n",
      "Epoch 4/10\n",
      "836/836 [==============================] - 3s 3ms/step - loss: 0.0590 - root_mean_squared_error: 0.2430 - val_loss: 0.0731 - val_root_mean_squared_error: 0.2704\n",
      "Epoch 5/10\n",
      "836/836 [==============================] - 3s 3ms/step - loss: 0.0517 - root_mean_squared_error: 0.2275 - val_loss: 0.0784 - val_root_mean_squared_error: 0.2801\n",
      "Epoch 6/10\n",
      "836/836 [==============================] - 3s 3ms/step - loss: 0.0463 - root_mean_squared_error: 0.2153 - val_loss: 0.0625 - val_root_mean_squared_error: 0.2500\n",
      "Epoch 7/10\n",
      "836/836 [==============================] - 4s 5ms/step - loss: 0.0404 - root_mean_squared_error: 0.2009 - val_loss: 0.0563 - val_root_mean_squared_error: 0.2374\n",
      "Epoch 8/10\n",
      "836/836 [==============================] - 4s 5ms/step - loss: 0.0372 - root_mean_squared_error: 0.1928 - val_loss: 0.0551 - val_root_mean_squared_error: 0.2348\n",
      "Epoch 9/10\n",
      "836/836 [==============================] - 3s 3ms/step - loss: 0.0330 - root_mean_squared_error: 0.1816 - val_loss: 0.0510 - val_root_mean_squared_error: 0.2259\n",
      "Epoch 10/10\n",
      "836/836 [==============================] - 3s 3ms/step - loss: 0.0293 - root_mean_squared_error: 0.1712 - val_loss: 0.0490 - val_root_mean_squared_error: 0.2215\n"
     ]
    },
    {
     "data": {
      "text/plain": [
       "KerasRegressor(\n",
       "\tmodel=<function build_model at 0x7fd5c1eebe50>\n",
       "\tbuild_fn=None\n",
       "\twarm_start=False\n",
       "\trandom_state=None\n",
       "\toptimizer=rmsprop\n",
       "\tloss=None\n",
       "\tmetrics=None\n",
       "\tbatch_size=None\n",
       "\tvalidation_batch_size=None\n",
       "\tverbose=1\n",
       "\tcallbacks=None\n",
       "\tvalidation_split=0.0\n",
       "\tshuffle=True\n",
       "\trun_eagerly=False\n",
       "\tepochs=1\n",
       "\tn_hidden=2\n",
       "\tn_neurons=124\n",
       "\tlearning_rate=0.001\n",
       ")"
      ]
     },
     "execution_count": 89,
     "metadata": {},
     "output_type": "execute_result"
    }
   ],
   "source": [
    "model.fit(X=x_train,y=y_train,\n",
    "         epochs=10,\n",
    "          batch_size=32,\n",
    "              validation_data=(x_test, y_test),\n",
    "              callbacks=[keras.callbacks.EarlyStopping(patience=10)])"
   ]
  },
  {
   "cell_type": "code",
   "execution_count": 90,
   "id": "0c0a5bce-e9ee-4df8-9add-a48cbcba093d",
   "metadata": {},
   "outputs": [
    {
     "name": "stdout",
     "output_type": "stream",
     "text": [
      "258/258 [==============================] - 1s 2ms/step\n"
     ]
    },
    {
     "data": {
      "text/plain": [
       "0.7553663125733058"
      ]
     },
     "execution_count": 90,
     "metadata": {},
     "output_type": "execute_result"
    }
   ],
   "source": [
    "from sklearn.metrics import r2_score\n",
    "\n",
    "pred = model.predict(x_test)\n",
    "r2_score(y_test,pred)"
   ]
  },
  {
   "cell_type": "code",
   "execution_count": 91,
   "id": "7a715a0d-7d9b-4a5d-8469-4f61b7c00bc4",
   "metadata": {},
   "outputs": [],
   "source": [
    "from sklearn.model_selection import RandomizedSearchCV"
   ]
  },
  {
   "cell_type": "code",
   "execution_count": 92,
   "id": "56104968-6a3a-4035-b9b9-8ff16fbfcb4f",
   "metadata": {},
   "outputs": [],
   "source": [
    "from scipy import stats"
   ]
  },
  {
   "cell_type": "code",
   "execution_count": 102,
   "id": "81cd5928-603b-4073-9d0c-890df009792c",
   "metadata": {},
   "outputs": [
    {
     "data": {
      "text/plain": [
       "-9.26113671816551"
      ]
     },
     "execution_count": 102,
     "metadata": {},
     "output_type": "execute_result"
    }
   ],
   "source": [
    "stats.norm(10,20).rvs()"
   ]
  },
  {
   "cell_type": "code",
   "execution_count": 103,
   "id": "7e655765-632d-4e9c-bc2b-16afbffc30a5",
   "metadata": {},
   "outputs": [],
   "source": [
    "param = dict(\n",
    "n_hidden=stats.randint(3,6),\n",
    "n_neurons=stats.randint(64,256), \n",
    "    \n",
    "learning_rate=stats.uniform(0.001,0.01)\n",
    "\n",
    "\n",
    ")"
   ]
  },
  {
   "cell_type": "code",
   "execution_count": 105,
   "id": "5467bc11-69cc-429e-9bbc-dded1ab4f27d",
   "metadata": {},
   "outputs": [],
   "source": [
    "rand = RandomizedSearchCV(model,param,cv=5,scoring='r2')"
   ]
  },
  {
   "cell_type": "code",
   "execution_count": 108,
   "id": "5d458bd7-c032-4b88-98fa-606e686d8b1c",
   "metadata": {},
   "outputs": [],
   "source": [
    "# rand.fit(X=x_train,y=y_train,\n",
    "#          epochs=10,\n",
    "#           batch_size=32,\n",
    "#               validation_data=(x_test, y_test))"
   ]
  },
  {
   "cell_type": "code",
   "execution_count": 128,
   "id": "b1e5bb85-f9bd-4596-b08f-52416a2c988f",
   "metadata": {},
   "outputs": [
    {
     "name": "stderr",
     "output_type": "stream",
     "text": [
      "WARNING:absl:Found untraced functions such as _update_step_xla while saving (showing 1 of 1). These functions will not be directly callable after loading.\n"
     ]
    },
    {
     "name": "stdout",
     "output_type": "stream",
     "text": [
      "INFO:tensorflow:Assets written to: best_model/neural_model/assets\n"
     ]
    },
    {
     "name": "stderr",
     "output_type": "stream",
     "text": [
      "INFO:tensorflow:Assets written to: best_model/neural_model/assets\n"
     ]
    }
   ],
   "source": [
    "# SAVE MODEL\n",
    "model.save('best_model/neural_model')"
   ]
  },
  {
   "cell_type": "code",
   "execution_count": 129,
   "id": "7c704372-5496-45a4-a01d-0463fd927b20",
   "metadata": {},
   "outputs": [],
   "source": [
    "mod = keras.models.load_model('best_model/neural_model')"
   ]
  },
  {
   "cell_type": "code",
   "execution_count": 130,
   "id": "0cbe9f58-573e-48d5-820b-bc697cc18eb9",
   "metadata": {},
   "outputs": [
    {
     "name": "stdout",
     "output_type": "stream",
     "text": [
      "258/258 [==============================] - 1s 2ms/step\n"
     ]
    },
    {
     "data": {
      "text/plain": [
       "0.6042645194150045"
      ]
     },
     "execution_count": 130,
     "metadata": {},
     "output_type": "execute_result"
    }
   ],
   "source": [
    "pred = mod.predict(x_test)\n",
    "r2_score(y_test,pred)"
   ]
  },
  {
   "cell_type": "code",
   "execution_count": null,
   "id": "0ffd9ba9-ca0d-49e2-ae72-850c81ac86b6",
   "metadata": {},
   "outputs": [],
   "source": []
  },
  {
   "cell_type": "code",
   "execution_count": null,
   "id": "a57b5a5e-dc54-40cd-a6b5-45d7b787d6af",
   "metadata": {},
   "outputs": [],
   "source": []
  }
 ],
 "metadata": {
  "kernelspec": {
   "display_name": "Python 3 (ipykernel)",
   "language": "python",
   "name": "python3"
  },
  "language_info": {
   "codemirror_mode": {
    "name": "ipython",
    "version": 3
   },
   "file_extension": ".py",
   "mimetype": "text/x-python",
   "name": "python",
   "nbconvert_exporter": "python",
   "pygments_lexer": "ipython3",
   "version": "3.9.12"
  }
 },
 "nbformat": 4,
 "nbformat_minor": 5
}
