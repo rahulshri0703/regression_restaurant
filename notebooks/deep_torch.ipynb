{
 "cells": [
  {
   "cell_type": "code",
   "execution_count": 1,
   "id": "91ad5523-8f78-407c-943d-ea9436a81771",
   "metadata": {},
   "outputs": [],
   "source": [
    "import pandas as pd \n",
    "import numpy as np\n",
    "import torch\n",
    "\n",
    "from torch import nn\n",
    "import torch.nn.functional as F"
   ]
  },
  {
   "cell_type": "code",
   "execution_count": 2,
   "id": "a982226d-8816-4a82-b965-d1786b8a9feb",
   "metadata": {
    "tags": []
   },
   "outputs": [],
   "source": [
    "x_train = pd.read_csv('../data/split/train/x_train.csv',index_col=0)\n",
    "y_train = pd.read_csv('../data/split/train/y_train.csv',index_col=0)\n",
    "\n",
    "x_test = pd.read_csv('../data/split/test/x_test.csv',index_col=0)\n",
    "y_test = pd.read_csv('../data/split/test/y_test.csv',index_col=0)"
   ]
  },
  {
   "cell_type": "code",
   "execution_count": 4,
   "id": "6695884c-4436-4944-b16b-10b5d4a5bd6e",
   "metadata": {},
   "outputs": [],
   "source": [
    "x_train = torch.FloatTensor(x_train.to_numpy())\n",
    "y_train = torch.FloatTensor(y_train.to_numpy())\n",
    "\n",
    "x_test = torch.FloatTensor(x_test.to_numpy())\n",
    "y_test = torch.FloatTensor(y_test.to_numpy())"
   ]
  },
  {
   "cell_type": "code",
   "execution_count": 29,
   "id": "e2c7d962-583d-418e-9c4b-6063d9ce58ea",
   "metadata": {},
   "outputs": [],
   "source": [
    "train = torch.utils.data.TensorDataset(x_train,y_train)\n",
    "test = torch.utils.data.TensorDataset(x_test,y_test)"
   ]
  },
  {
   "cell_type": "code",
   "execution_count": 30,
   "id": "df323b9b-888d-4bdc-bc3a-3caa7f29bc1e",
   "metadata": {},
   "outputs": [],
   "source": [
    "train = torch.utils.data.DataLoader(train,batch_size=32)\n",
    "test = torch.utils.data.DataLoader(test,batch_size=1)"
   ]
  },
  {
   "cell_type": "code",
   "execution_count": 7,
   "id": "8862c14f-db43-41eb-b088-c0fdea8adc75",
   "metadata": {},
   "outputs": [
    {
     "data": {
      "text/plain": [
       "[tensor([[ 1.0000,  0.0000, -0.2830,  ...,  0.0000,  0.0000,  0.0000],\n",
       "         [ 0.0000,  0.0000, -1.3225,  ...,  0.0000,  0.0000,  0.0000],\n",
       "         [ 1.0000,  0.0000,  1.0963,  ...,  0.0473,  0.8913,  0.0000],\n",
       "         ...,\n",
       "         [ 1.0000,  0.0000, -0.8203,  ...,  0.0000,  0.0000,  0.0000],\n",
       "         [ 1.0000,  0.0000,  0.4463,  ...,  0.0000,  0.0000,  0.0177],\n",
       "         [ 0.0000,  0.0000, -0.4847,  ...,  0.0000,  0.9983,  0.0000]]),\n",
       " tensor([[4.0000],\n",
       "         [3.5000],\n",
       "         [4.2000],\n",
       "         [3.8000],\n",
       "         [4.2000],\n",
       "         [3.0000],\n",
       "         [3.8000],\n",
       "         [3.0000],\n",
       "         [4.4000],\n",
       "         [4.4000],\n",
       "         [4.0000],\n",
       "         [3.6000],\n",
       "         [3.7000],\n",
       "         [4.4000],\n",
       "         [4.0000],\n",
       "         [4.0000],\n",
       "         [3.2000],\n",
       "         [2.8000],\n",
       "         [3.6000],\n",
       "         [2.6000],\n",
       "         [3.9000],\n",
       "         [3.6000],\n",
       "         [3.4000],\n",
       "         [4.4000],\n",
       "         [3.5000],\n",
       "         [3.8000],\n",
       "         [2.9000],\n",
       "         [3.0000],\n",
       "         [3.8000],\n",
       "         [3.0000],\n",
       "         [2.9000],\n",
       "         [3.9000]])]"
      ]
     },
     "execution_count": 7,
     "metadata": {},
     "output_type": "execute_result"
    }
   ],
   "source": [
    "next(iter(train))"
   ]
  },
  {
   "cell_type": "code",
   "execution_count": 8,
   "id": "3cbef22b-b306-4750-aea5-aa9329ab47b6",
   "metadata": {},
   "outputs": [
    {
     "data": {
      "text/plain": [
       "torch.Size([26738, 334])"
      ]
     },
     "execution_count": 8,
     "metadata": {},
     "output_type": "execute_result"
    }
   ],
   "source": [
    "x_train.shape"
   ]
  },
  {
   "cell_type": "code",
   "execution_count": 10,
   "id": "ebff5549-ef8d-4d3b-a6f6-d91e5e174d0a",
   "metadata": {},
   "outputs": [],
   "source": [
    "model = nn.Sequential(\n",
    "        nn.Linear((334),64),\n",
    "        nn.ReLU(),\n",
    "        nn.Linear(64,64),\n",
    "        nn.ReLU(),\n",
    "        nn.Linear(64,1)\n",
    "\n",
    ")"
   ]
  },
  {
   "cell_type": "code",
   "execution_count": 11,
   "id": "7da4ee31-11b3-4282-bb41-228de7da53c5",
   "metadata": {},
   "outputs": [],
   "source": [
    "from torchsummary import summary"
   ]
  },
  {
   "cell_type": "code",
   "execution_count": 12,
   "id": "8a2eb671-b691-424a-bd19-2faa8cc4961a",
   "metadata": {},
   "outputs": [
    {
     "name": "stdout",
     "output_type": "stream",
     "text": [
      "=================================================================\n",
      "Layer (type:depth-idx)                   Param #\n",
      "=================================================================\n",
      "├─Linear: 1-1                            21,440\n",
      "├─ReLU: 1-2                              --\n",
      "├─Linear: 1-3                            4,160\n",
      "├─ReLU: 1-4                              --\n",
      "├─Linear: 1-5                            65\n",
      "=================================================================\n",
      "Total params: 25,665\n",
      "Trainable params: 25,665\n",
      "Non-trainable params: 0\n",
      "=================================================================\n"
     ]
    },
    {
     "data": {
      "text/plain": [
       "=================================================================\n",
       "Layer (type:depth-idx)                   Param #\n",
       "=================================================================\n",
       "├─Linear: 1-1                            21,440\n",
       "├─ReLU: 1-2                              --\n",
       "├─Linear: 1-3                            4,160\n",
       "├─ReLU: 1-4                              --\n",
       "├─Linear: 1-5                            65\n",
       "=================================================================\n",
       "Total params: 25,665\n",
       "Trainable params: 25,665\n",
       "Non-trainable params: 0\n",
       "================================================================="
      ]
     },
     "execution_count": 12,
     "metadata": {},
     "output_type": "execute_result"
    }
   ],
   "source": [
    "summary(model)"
   ]
  },
  {
   "cell_type": "code",
   "execution_count": 18,
   "id": "898a4517-8a8d-46d5-b343-648b3408155f",
   "metadata": {},
   "outputs": [],
   "source": [
    "x = x_train[:10]\n",
    "y = y_train[:10]"
   ]
  },
  {
   "cell_type": "code",
   "execution_count": 19,
   "id": "b7f987cb-78b2-4e70-bc8d-9fae462ef84b",
   "metadata": {},
   "outputs": [
    {
     "data": {
      "text/plain": [
       "tensor([[ 0.0013],\n",
       "        [ 0.0016],\n",
       "        [-0.0064],\n",
       "        [-0.0011],\n",
       "        [-0.0066],\n",
       "        [ 0.0093],\n",
       "        [-0.0129],\n",
       "        [ 0.0032],\n",
       "        [-0.0329],\n",
       "        [-0.0187]], grad_fn=<AddmmBackward0>)"
      ]
     },
     "execution_count": 19,
     "metadata": {},
     "output_type": "execute_result"
    }
   ],
   "source": [
    "yhat = model(x)\n",
    "yhat"
   ]
  },
  {
   "cell_type": "code",
   "execution_count": 20,
   "id": "b25d622b-87f2-455b-a61c-0d7cee7e02f9",
   "metadata": {},
   "outputs": [],
   "source": [
    "lossfn = nn.MSELoss()"
   ]
  },
  {
   "cell_type": "code",
   "execution_count": 27,
   "id": "67d07b23-aab3-46d5-b177-9446c3122d59",
   "metadata": {},
   "outputs": [
    {
     "data": {
      "text/plain": [
       "14.970410346984863"
      ]
     },
     "execution_count": 27,
     "metadata": {},
     "output_type": "execute_result"
    }
   ],
   "source": [
    "lossfn(yhat ,y).detach().numpy().item()"
   ]
  },
  {
   "cell_type": "code",
   "execution_count": 28,
   "id": "44507a50-f157-48a7-8e07-d4735a29888f",
   "metadata": {},
   "outputs": [],
   "source": [
    "optim = torch.optim.Adam(model.parameters(),lr=0.01)"
   ]
  },
  {
   "cell_type": "code",
   "execution_count": 31,
   "id": "7e4f4643-86b0-4fc9-8e2c-cfbe94da8dec",
   "metadata": {},
   "outputs": [
    {
     "name": "stdout",
     "output_type": "stream",
     "text": [
      " epoch: 0 train_loss: 0.21224163437449334 test_loss: 0.03513309732079506\n",
      " epoch: 1 train_loss: 0.09153618575096059 test_loss: 0.027294347062706947\n",
      " epoch: 2 train_loss: 0.0816997888132609 test_loss: 0.10184179246425629\n",
      " epoch: 3 train_loss: 0.07411555865218052 test_loss: 0.10806426405906677\n",
      " epoch: 4 train_loss: 0.0683791161332119 test_loss: 0.16917784512043\n",
      " epoch: 5 train_loss: 0.06330405619512335 test_loss: 0.18941687047481537\n",
      " epoch: 6 train_loss: 0.058904645128986625 test_loss: 0.1478276252746582\n",
      " epoch: 7 train_loss: 0.05481183327707734 test_loss: 0.1227341964840889\n",
      " epoch: 8 train_loss: 0.05033978323884415 test_loss: 0.15022577345371246\n",
      " epoch: 9 train_loss: 0.04462032263394463 test_loss: 0.1300368309020996\n"
     ]
    }
   ],
   "source": [
    "epochs = 10\n",
    "\n",
    "train_loss = []\n",
    "test_loss = []\n",
    "for epoch in range(epochs):\n",
    "    \n",
    "    batch_loss = []\n",
    "    for X,y in train:\n",
    "  \n",
    "        yhat = model(X)\n",
    "        loss = lossfn(yhat ,y)\n",
    "        \n",
    "        batch_loss.append(loss.detach().numpy().item())\n",
    "        \n",
    "        optim.zero_grad()\n",
    "        loss.backward()\n",
    "        optim.step()\n",
    "    \n",
    "    with torch.no_grad():\n",
    "        xx,yy= next(iter(test))\n",
    "        \n",
    "        yhat2 = model(xx)\n",
    "        loss2 = lossfn(yhat2,yy)\n",
    "        \n",
    "    test_loss.append(loss2.detach().numpy().item())\n",
    "    train_loss.append(np.mean(batch_loss))\n",
    "    \n",
    "    print(f' epoch: {epoch} train_loss: {np.mean(batch_loss)} test_loss: {loss2.detach().numpy().item()}')\n",
    "    \n",
    "        \n",
    "        "
   ]
  },
  {
   "cell_type": "code",
   "execution_count": 36,
   "id": "9b210355-fa9d-4cc0-8550-fed4a4e8c734",
   "metadata": {},
   "outputs": [
    {
     "data": {
      "text/plain": [
       "0.6697588502678133"
      ]
     },
     "execution_count": 36,
     "metadata": {},
     "output_type": "execute_result"
    }
   ],
   "source": [
    "pred = model(x_test)\n",
    "r2_score(y_test,pred.detach().numpy())"
   ]
  },
  {
   "cell_type": "code",
   "execution_count": 34,
   "id": "5ecc6c0b-aff4-4c1b-bacd-a2f17b9c1ea3",
   "metadata": {},
   "outputs": [],
   "source": [
    "from sklearn.metrics import r2_score"
   ]
  },
  {
   "cell_type": "code",
   "execution_count": 50,
   "id": "cc976096-97c4-4728-9f92-1ed16144a638",
   "metadata": {},
   "outputs": [],
   "source": [
    "# Class\n",
    "\n",
    "class make_model(nn.Module):\n",
    "    \n",
    "    def __init__(self,n1=32,n2=64,n_hidden=1):\n",
    "        super().__init__()\n",
    "        self.n1 = n1\n",
    "        self.n2=n2\n",
    "        self.hidden = n_hidden\n",
    "        \n",
    "        self.inp = nn.Linear(334,n1)\n",
    "        self.hidden_layer = [nn.Linear(n1,n1) for _ \n",
    "                             in range(self.hidden)]\n",
    "        \n",
    "        self.fc1 = nn.Linear(n1,n2)\n",
    "        self.out = nn.Linear(n2,1)\n",
    "        \n",
    "    def forward(self,X):\n",
    "        \n",
    "        x = F.relu(self.inp(X))\n",
    "        for i in range(self.hidden):\n",
    "            x = F.relu(self.hidden_layer[i](x))\n",
    "        x = F.relu(self.fc1(x))\n",
    "        x = self.out(x)\n",
    "        \n",
    "        return x\n",
    "\n",
    "                \n",
    "        "
   ]
  },
  {
   "cell_type": "code",
   "execution_count": 51,
   "id": "1dae32d7-27cd-4bc3-8cf3-eb48e6567db3",
   "metadata": {},
   "outputs": [],
   "source": [
    "m = make_model()"
   ]
  },
  {
   "cell_type": "code",
   "execution_count": 52,
   "id": "a92194e1-124c-42e0-9f30-456bb470ac46",
   "metadata": {},
   "outputs": [
    {
     "data": {
      "text/plain": [
       "tensor([[-0.0879],\n",
       "        [-0.0819],\n",
       "        [-0.0869],\n",
       "        [-0.0838],\n",
       "        [-0.0890],\n",
       "        [-0.0765],\n",
       "        [-0.0827],\n",
       "        [-0.0811],\n",
       "        [-0.0862],\n",
       "        [-0.0867]], grad_fn=<AddmmBackward0>)"
      ]
     },
     "execution_count": 52,
     "metadata": {},
     "output_type": "execute_result"
    }
   ],
   "source": [
    "m(x)"
   ]
  },
  {
   "cell_type": "code",
   "execution_count": null,
   "id": "f873f099-6061-4f1e-8746-ab56789e1732",
   "metadata": {},
   "outputs": [],
   "source": []
  }
 ],
 "metadata": {
  "kernelspec": {
   "display_name": "Python 3 (ipykernel)",
   "language": "python",
   "name": "python3"
  },
  "language_info": {
   "codemirror_mode": {
    "name": "ipython",
    "version": 3
   },
   "file_extension": ".py",
   "mimetype": "text/x-python",
   "name": "python",
   "nbconvert_exporter": "python",
   "pygments_lexer": "ipython3",
   "version": "3.9.12"
  }
 },
 "nbformat": 4,
 "nbformat_minor": 5
}
