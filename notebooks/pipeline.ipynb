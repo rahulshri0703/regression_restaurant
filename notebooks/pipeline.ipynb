{
 "cells": [
  {
   "cell_type": "code",
   "execution_count": 1,
   "id": "d12fa25a-fe51-49fc-994a-7e1ae53f44b7",
   "metadata": {},
   "outputs": [],
   "source": [
    "import pandas as pd\n",
    "import numpy as np\n",
    "import joblib\n",
    "\n"
   ]
  },
  {
   "cell_type": "code",
   "execution_count": 2,
   "id": "cd5050b9-24bc-4c07-9dc1-bfc5224861ce",
   "metadata": {},
   "outputs": [
    {
     "data": {
      "text/html": [
       "<div>\n",
       "<style scoped>\n",
       "    .dataframe tbody tr th:only-of-type {\n",
       "        vertical-align: middle;\n",
       "    }\n",
       "\n",
       "    .dataframe tbody tr th {\n",
       "        vertical-align: top;\n",
       "    }\n",
       "\n",
       "    .dataframe thead th {\n",
       "        text-align: right;\n",
       "    }\n",
       "</style>\n",
       "<table border=\"1\" class=\"dataframe\">\n",
       "  <thead>\n",
       "    <tr style=\"text-align: right;\">\n",
       "      <th></th>\n",
       "      <th>name</th>\n",
       "      <th>online_order</th>\n",
       "      <th>book_table</th>\n",
       "      <th>rate</th>\n",
       "      <th>votes</th>\n",
       "      <th>location</th>\n",
       "      <th>rest_type</th>\n",
       "      <th>cuisines</th>\n",
       "      <th>approx_cost(for two people)</th>\n",
       "      <th>reviews_list</th>\n",
       "      <th>listed_in(type)</th>\n",
       "      <th>listed_in(city)</th>\n",
       "    </tr>\n",
       "  </thead>\n",
       "  <tbody>\n",
       "    <tr>\n",
       "      <th>0</th>\n",
       "      <td>Jalsa</td>\n",
       "      <td>1</td>\n",
       "      <td>1</td>\n",
       "      <td>4.1</td>\n",
       "      <td>775</td>\n",
       "      <td>Banashankari</td>\n",
       "      <td>Casual Dining</td>\n",
       "      <td>North Indian, Mughlai, Chinese</td>\n",
       "      <td>800</td>\n",
       "      <td>[('Rated 4.0', 'RATED\\n  A beautiful place to ...</td>\n",
       "      <td>Buffet</td>\n",
       "      <td>Banashankari</td>\n",
       "    </tr>\n",
       "    <tr>\n",
       "      <th>1</th>\n",
       "      <td>Spice Elephant</td>\n",
       "      <td>1</td>\n",
       "      <td>0</td>\n",
       "      <td>4.1</td>\n",
       "      <td>787</td>\n",
       "      <td>Banashankari</td>\n",
       "      <td>Casual Dining</td>\n",
       "      <td>Chinese, North Indian, Thai</td>\n",
       "      <td>800</td>\n",
       "      <td>[('Rated 4.0', 'RATED\\n  Had been here for din...</td>\n",
       "      <td>Buffet</td>\n",
       "      <td>Banashankari</td>\n",
       "    </tr>\n",
       "    <tr>\n",
       "      <th>2</th>\n",
       "      <td>San Churro Cafe</td>\n",
       "      <td>1</td>\n",
       "      <td>0</td>\n",
       "      <td>3.8</td>\n",
       "      <td>918</td>\n",
       "      <td>Banashankari</td>\n",
       "      <td>Cafe, Casual Dining</td>\n",
       "      <td>Cafe, Mexican, Italian</td>\n",
       "      <td>800</td>\n",
       "      <td>[('Rated 3.0', \"RATED\\n  Ambience is not that ...</td>\n",
       "      <td>Buffet</td>\n",
       "      <td>Banashankari</td>\n",
       "    </tr>\n",
       "    <tr>\n",
       "      <th>3</th>\n",
       "      <td>Addhuri Udupi Bhojana</td>\n",
       "      <td>0</td>\n",
       "      <td>0</td>\n",
       "      <td>3.7</td>\n",
       "      <td>88</td>\n",
       "      <td>Banashankari</td>\n",
       "      <td>Quick Bites</td>\n",
       "      <td>South Indian, North Indian</td>\n",
       "      <td>300</td>\n",
       "      <td>[('Rated 4.0', \"RATED\\n  Great food and proper...</td>\n",
       "      <td>Buffet</td>\n",
       "      <td>Banashankari</td>\n",
       "    </tr>\n",
       "    <tr>\n",
       "      <th>4</th>\n",
       "      <td>Grand Village</td>\n",
       "      <td>0</td>\n",
       "      <td>0</td>\n",
       "      <td>3.8</td>\n",
       "      <td>166</td>\n",
       "      <td>Basavanagudi</td>\n",
       "      <td>Casual Dining</td>\n",
       "      <td>North Indian, Rajasthani</td>\n",
       "      <td>600</td>\n",
       "      <td>[('Rated 4.0', 'RATED\\n  Very good restaurant ...</td>\n",
       "      <td>Buffet</td>\n",
       "      <td>Banashankari</td>\n",
       "    </tr>\n",
       "  </tbody>\n",
       "</table>\n",
       "</div>"
      ],
      "text/plain": [
       "                    name  online_order  book_table  rate  votes      location  \\\n",
       "0                  Jalsa             1           1   4.1    775  Banashankari   \n",
       "1         Spice Elephant             1           0   4.1    787  Banashankari   \n",
       "2        San Churro Cafe             1           0   3.8    918  Banashankari   \n",
       "3  Addhuri Udupi Bhojana             0           0   3.7     88  Banashankari   \n",
       "4          Grand Village             0           0   3.8    166  Basavanagudi   \n",
       "\n",
       "             rest_type                        cuisines  \\\n",
       "0        Casual Dining  North Indian, Mughlai, Chinese   \n",
       "1        Casual Dining     Chinese, North Indian, Thai   \n",
       "2  Cafe, Casual Dining          Cafe, Mexican, Italian   \n",
       "3          Quick Bites      South Indian, North Indian   \n",
       "4        Casual Dining        North Indian, Rajasthani   \n",
       "\n",
       "   approx_cost(for two people)  \\\n",
       "0                          800   \n",
       "1                          800   \n",
       "2                          800   \n",
       "3                          300   \n",
       "4                          600   \n",
       "\n",
       "                                        reviews_list listed_in(type)  \\\n",
       "0  [('Rated 4.0', 'RATED\\n  A beautiful place to ...          Buffet   \n",
       "1  [('Rated 4.0', 'RATED\\n  Had been here for din...          Buffet   \n",
       "2  [('Rated 3.0', \"RATED\\n  Ambience is not that ...          Buffet   \n",
       "3  [('Rated 4.0', \"RATED\\n  Great food and proper...          Buffet   \n",
       "4  [('Rated 4.0', 'RATED\\n  Very good restaurant ...          Buffet   \n",
       "\n",
       "  listed_in(city)  \n",
       "0    Banashankari  \n",
       "1    Banashankari  \n",
       "2    Banashankari  \n",
       "3    Banashankari  \n",
       "4    Banashankari  "
      ]
     },
     "execution_count": 2,
     "metadata": {},
     "output_type": "execute_result"
    }
   ],
   "source": [
    "df = pd.read_csv('../data/cleaned_dataset.csv',index_col=0)\n",
    "df.head()"
   ]
  },
  {
   "cell_type": "code",
   "execution_count": 5,
   "id": "ac0824d6-1cd2-482d-8bc7-3eb07ca2ed77",
   "metadata": {},
   "outputs": [
    {
     "data": {
      "text/plain": [
       "name                            6602\n",
       "online_order                       2\n",
       "book_table                         2\n",
       "rate                              31\n",
       "votes                           2323\n",
       "location                          92\n",
       "rest_type                         87\n",
       "cuisines                        2367\n",
       "approx_cost(for two people)       63\n",
       "reviews_list                   21103\n",
       "listed_in(type)                    7\n",
       "listed_in(city)                   30\n",
       "dtype: int64"
      ]
     },
     "execution_count": 5,
     "metadata": {},
     "output_type": "execute_result"
    }
   ],
   "source": [
    "df.nunique()"
   ]
  },
  {
   "cell_type": "code",
   "execution_count": 6,
   "id": "48615504-5237-45c1-a95a-217ca2bf65ff",
   "metadata": {},
   "outputs": [],
   "source": [
    "df['cuisines'] = df['cuisines'].apply(lambda x: x.lower())"
   ]
  },
  {
   "cell_type": "code",
   "execution_count": 7,
   "id": "ab191d2a-5656-47f9-a37c-5679be9ec711",
   "metadata": {},
   "outputs": [],
   "source": [
    "m = \",\".join(df['cuisines'].to_list())"
   ]
  },
  {
   "cell_type": "code",
   "execution_count": 8,
   "id": "ac67eef9-ebb2-4207-bc67-87bf1df33e11",
   "metadata": {},
   "outputs": [],
   "source": [
    "df['cuisines'] = df['cuisines'].apply(lambda x: x.replace(' ',''))"
   ]
  },
  {
   "cell_type": "code",
   "execution_count": 9,
   "id": "7ca72e23-3d79-496b-aef7-bb94bdf39172",
   "metadata": {},
   "outputs": [],
   "source": [
    "from sklearn.feature_extraction.text import CountVectorizer"
   ]
  },
  {
   "cell_type": "code",
   "execution_count": 10,
   "id": "b7e54d9e-5a0c-4d27-8d74-5fe5a9e092fe",
   "metadata": {},
   "outputs": [],
   "source": [
    "from preprocessor import features_to_drop,sklearnTransformerWrapper,sklearnCountVector"
   ]
  },
  {
   "cell_type": "code",
   "execution_count": 16,
   "id": "dabfd0c0-2de9-4c64-975c-30a3575da488",
   "metadata": {},
   "outputs": [
    {
     "data": {
      "text/plain": [
       "CountVectorizer()"
      ]
     },
     "execution_count": 16,
     "metadata": {},
     "output_type": "execute_result"
    }
   ],
   "source": []
  },
  {
   "cell_type": "code",
   "execution_count": 11,
   "id": "775a49e9-36b7-4c5c-b9d5-9d3ccdbdc045",
   "metadata": {},
   "outputs": [
    {
     "data": {
      "text/plain": [
       "sklearnCountVector(variable=['cuisines'])"
      ]
     },
     "execution_count": 11,
     "metadata": {},
     "output_type": "execute_result"
    }
   ],
   "source": []
  },
  {
   "cell_type": "code",
   "execution_count": 81,
   "id": "fb3087c2-a97b-421a-9b87-8d950d8c9319",
   "metadata": {},
   "outputs": [],
   "source": [
    "from sklearn.base import BaseEstimator, TransformerMixin\n",
    "from sklearn.feature_extraction.text import CountVectorizer,TfidfVectorizer"
   ]
  },
  {
   "cell_type": "code",
   "execution_count": 77,
   "id": "182d0567-68ce-485f-acf2-144adc538844",
   "metadata": {},
   "outputs": [],
   "source": [
    "\n",
    "class sklearnCountVector(BaseEstimator, TransformerMixin):\n",
    "\n",
    "    def __init__(self, variable=None):\n",
    "\n",
    "        self.variable = variable[0]\n",
    "        \n",
    "\n",
    "        self.transformer = CountVectorizer()\n",
    "\n",
    "    def fit(self, X, y=None):\n",
    "        \n",
    "        X = X.copy()\n",
    "        X[self.variable] = X[self.variable].apply(lambda x: x.lower())\n",
    "        X[self.variable] = X[self.variable].apply(lambda x: x.replace(' ',''))\n",
    "        self.transformer.fit(X[self.variable])\n",
    "        return self\n",
    "\n",
    "    def transform(self, X):\n",
    "        \n",
    "        X = X.copy()\n",
    "        X[self.variable] = X[self.variable].apply(lambda x: x.lower())\n",
    "        X[self.variable] = X[self.variable].apply(lambda x: x.replace(' ',''))\n",
    "        x = X[self.variable]\n",
    "\n",
    "        xx = self.transformer.transform(x)\n",
    "        xx = pd.DataFrame(\n",
    "             xx.toarray(), columns=self.transformer.\n",
    "                    get_feature_names_out())\n",
    "        \n",
    "        xx.index = X.index\n",
    "        xx = pd.concat([X,xx],axis=1)\n",
    "        xx = xx.drop(columns=[self.variable],axis=1)\n",
    "        return xx\n",
    "    \n",
    "    def get_features(self):\n",
    "        return self.transformer.get_feature_names_out()"
   ]
  },
  {
   "cell_type": "code",
   "execution_count": 78,
   "id": "25ae77de-80da-4ed4-8293-69856c0ab055",
   "metadata": {},
   "outputs": [],
   "source": [
    "skcount = sklearnCountVector(variable=['cuisines'])\n",
    "skcount.fit(df)\n",
    "x = skcount.transform(df)"
   ]
  },
  {
   "cell_type": "code",
   "execution_count": null,
   "id": "3a6f3038-3a44-4a6f-a29d-860be074852c",
   "metadata": {},
   "outputs": [],
   "source": []
  },
  {
   "cell_type": "code",
   "execution_count": 80,
   "id": "0385ad41-2891-4a0a-81a6-9c2d04ac3793",
   "metadata": {},
   "outputs": [],
   "source": [
    "import re"
   ]
  },
  {
   "cell_type": "code",
   "execution_count": 15,
   "id": "0bdfbd8f-d1bb-4ff6-a239-de2ad7c997e7",
   "metadata": {},
   "outputs": [],
   "source": [
    "class reviewsTransform2(BaseEstimator,TransformerMixin):\n",
    "    \n",
    "    def __init__(self,features=None):\n",
    "        \n",
    "        self.feature = features[0]\n",
    "        self.c = re.compile('[(\\\\\\.,)(?\\]\\[\\\\\\']|(RATED)|(Rated)|(\\d)')\n",
    "        self.transformer = TfidfVectorizer(max_features=100,stop_words='english')\n",
    "        \n",
    "    def fit(self,X,y=None):\n",
    "        \n",
    "        X = X.copy()\n",
    "        \n",
    "        X[self.feature] = X[self.feature].apply(lambda x:self.c.sub('',x))\n",
    "        self.transformer.fit(X[self.feature])\n",
    "        \n",
    "        return self\n",
    "    \n",
    "    def transform(self,X):\n",
    "        \n",
    "        X = X.copy()\n",
    "        \n",
    "        X[self.feature] = X[self.feature].apply(lambda x:self.c.sub('',x))\n",
    "        xx = self.transformer.transform(X[self.feature])\n",
    "        xx = pd.DataFrame(xx.toarray(),columns= self.transformer.get_feature_names_out())\n",
    "        xx = pd.concat([X,xx],axis=1)\n",
    "        xx = xx.drop(columns=[self.feature],axis=1)\n",
    "        \n",
    "        return xx\n",
    "        \n",
    "        "
   ]
  },
  {
   "cell_type": "code",
   "execution_count": 94,
   "id": "15e1c225-3ccf-4a35-a761-515858f5b9f0",
   "metadata": {},
   "outputs": [],
   "source": [
    "cat = [x for x in df.columns if df[x].dtype=='O']\n",
    "num = [x for x in df.columns if x not in cat]"
   ]
  },
  {
   "cell_type": "code",
   "execution_count": 97,
   "id": "4b0ebd89-8291-40d3-ba55-d0a223992b30",
   "metadata": {},
   "outputs": [],
   "source": [
    "num = list(set(num) - set(['online_order','book_table']))"
   ]
  },
  {
   "cell_type": "code",
   "execution_count": 100,
   "id": "1e89b053-bc17-4976-ab0d-fe2bbf635485",
   "metadata": {},
   "outputs": [],
   "source": [
    "cat = list(set(cat) - set(['name','location','cuisines','reviews_list']))"
   ]
  },
  {
   "cell_type": "code",
   "execution_count": 102,
   "id": "123bf634-14db-442d-abdc-ed4ab87b5d35",
   "metadata": {},
   "outputs": [
    {
     "data": {
      "text/plain": [
       "listed_in(type)     7\n",
       "rest_type          87\n",
       "listed_in(city)    30\n",
       "dtype: int64"
      ]
     },
     "execution_count": 102,
     "metadata": {},
     "output_type": "execute_result"
    }
   ],
   "source": [
    "df[cat].nunique()"
   ]
  },
  {
   "cell_type": "code",
   "execution_count": 103,
   "id": "f05a14bd-4b30-4882-9ef6-3e2c4d3439d5",
   "metadata": {},
   "outputs": [],
   "source": [
    "from feature_engine.encoding import RareLabelEncoder"
   ]
  },
  {
   "cell_type": "code",
   "execution_count": 104,
   "id": "bf63a91d-eaa3-4805-9caa-4d6db981a7ca",
   "metadata": {},
   "outputs": [
    {
     "name": "stderr",
     "output_type": "stream",
     "text": [
      "/Users/rahul/anacond/anaconda3/lib/python3.9/site-packages/feature_engine/encoding/rare_label.py:157: UserWarning: The number of unique categories for variable listed_in(type) is less than that indicated in n_categories. Thus, all categories will be considered frequent\n",
      "  warnings.warn(\n"
     ]
    },
    {
     "data": {
      "text/plain": [
       "RareLabelEncoder(tol=0.03,\n",
       "                 variables=['listed_in(type)', 'rest_type', 'listed_in(city)'])"
      ]
     },
     "execution_count": 104,
     "metadata": {},
     "output_type": "execute_result"
    }
   ],
   "source": [
    "r = RareLabelEncoder(tol=0.03,variables=cat)\n",
    "r.fit(df)"
   ]
  },
  {
   "cell_type": "code",
   "execution_count": 107,
   "id": "2428d5cc-c53a-48e4-a0a1-27d8342d6161",
   "metadata": {},
   "outputs": [
    {
     "data": {
      "text/plain": [
       "listed_in(type)     7\n",
       "rest_type           7\n",
       "listed_in(city)    16\n",
       "dtype: int64"
      ]
     },
     "execution_count": 107,
     "metadata": {},
     "output_type": "execute_result"
    }
   ],
   "source": [
    "rr = r.transform(df)\n",
    "rr[cat].nunique()"
   ]
  },
  {
   "cell_type": "code",
   "execution_count": 108,
   "id": "bb4ca1b0-d4d9-47b5-92af-13265ab463ef",
   "metadata": {},
   "outputs": [],
   "source": [
    "from sklearn.preprocessing import OneHotEncoder"
   ]
  },
  {
   "cell_type": "code",
   "execution_count": 110,
   "id": "dd2f714d-1216-41b2-86b3-b74e106ef97e",
   "metadata": {},
   "outputs": [
    {
     "data": {
      "text/plain": [
       "sklearnTransformerWrapper(transformer=OneHotEncoder(sparse=False),\n",
       "                          variable=['listed_in(type)', 'rest_type',\n",
       "                                    'listed_in(city)'])"
      ]
     },
     "execution_count": 110,
     "metadata": {},
     "output_type": "execute_result"
    }
   ],
   "source": []
  },
  {
   "cell_type": "code",
   "execution_count": 120,
   "id": "ba19e55e-5497-4ea7-b9ef-4c6770a18b08",
   "metadata": {},
   "outputs": [],
   "source": [
    "class sklearnOne(BaseEstimator, TransformerMixin):\n",
    "\n",
    "    def __init__(self, variable=None, transformer=None):\n",
    "\n",
    "        if not isinstance(variable, list):\n",
    "            self.variable = [variable]\n",
    "        else:\n",
    "            self.variable = variable\n",
    "\n",
    "        self.transformer = transformer\n",
    "\n",
    "    def fit(self, X, y=None):\n",
    "\n",
    "        self.transformer.fit(X[self.variable])\n",
    "        return self\n",
    "\n",
    "    def transform(self, X):\n",
    "        X = X.copy()\n",
    "\n",
    "        xx = self.transformer.transform(X[self.variable])\n",
    "        xx = pd.DataFrame(xx,columns = self.transformer.get_feature_names_out())\n",
    "        xx = pd.concat([X,xx],axis=1)\n",
    "        xx = xx.drop(columns=self.variable,axis=1)\n",
    "        return xx"
   ]
  },
  {
   "cell_type": "code",
   "execution_count": 121,
   "id": "b0a33edc-92fe-4679-b18c-fb8f6a5539a4",
   "metadata": {},
   "outputs": [
    {
     "data": {
      "text/plain": [
       "sklearnOne(transformer=OneHotEncoder(sparse=False),\n",
       "           variable=['listed_in(type)', 'rest_type', 'listed_in(city)'])"
      ]
     },
     "execution_count": 121,
     "metadata": {},
     "output_type": "execute_result"
    }
   ],
   "source": [
    "sk = sklearnOne(variable=cat,transformer=OneHotEncoder(sparse=False))\n",
    "sk.fit(df)"
   ]
  },
  {
   "cell_type": "code",
   "execution_count": 144,
   "id": "8b6038e3-7570-4632-a270-09340369f677",
   "metadata": {},
   "outputs": [],
   "source": [
    "class featuresDrop(BaseEstimator, TransformerMixin):\n",
    "\n",
    "    def __init__(self, variables=None):\n",
    "\n",
    "        self.variables = variables\n",
    "\n",
    "    def fit(self, X, y=None):\n",
    "\n",
    "        return self\n",
    "\n",
    "    def transform(self, X):\n",
    "\n",
    "        X = X.copy()\n",
    "\n",
    "        X = X.drop(columns=self.variables, axis=1)\n",
    "\n",
    "        return X"
   ]
  },
  {
   "cell_type": "code",
   "execution_count": 145,
   "id": "948b235f-9c33-4122-a0ad-3ccead45212f",
   "metadata": {},
   "outputs": [],
   "source": [
    "dd = featuresDrop(variables=['name','location'])\n"
   ]
  },
  {
   "cell_type": "raw",
   "id": "c1659b50-fdf2-46c9-96c5-2ef171aa6aa7",
   "metadata": {},
   "source": [
    "dd.fit(df)"
   ]
  },
  {
   "cell_type": "code",
   "execution_count": 148,
   "id": "6045b33b-b89b-45fd-9764-604362399b4c",
   "metadata": {},
   "outputs": [
    {
     "name": "stdout",
     "output_type": "stream",
     "text": [
      "['listed_in(type)', 'rest_type', 'listed_in(city)']\n"
     ]
    }
   ],
   "source": [
    "print(cat)"
   ]
  },
  {
   "cell_type": "code",
   "execution_count": 149,
   "id": "641c4963-5607-422d-a710-a326b1cf3118",
   "metadata": {},
   "outputs": [],
   "source": [
    "import yaml"
   ]
  },
  {
   "cell_type": "code",
   "execution_count": 155,
   "id": "2f5b9d2f-2c0c-4466-88ef-2cf47cc4fbd9",
   "metadata": {},
   "outputs": [],
   "source": [
    "with open('config.yaml','r') as f:\n",
    "    y = yaml.safe_load(f)"
   ]
  },
  {
   "cell_type": "code",
   "execution_count": 190,
   "id": "e9e3c57d-038b-4062-8e05-128e230d9c13",
   "metadata": {},
   "outputs": [
    {
     "data": {
      "text/plain": [
       "['location', 'name']"
      ]
     },
     "execution_count": 190,
     "metadata": {},
     "output_type": "execute_result"
    }
   ],
   "source": [
    "y['feature_to_drop']"
   ]
  },
  {
   "cell_type": "code",
   "execution_count": 161,
   "id": "51609720-45c7-4a83-95c3-49d7e96fd3b5",
   "metadata": {},
   "outputs": [
    {
     "data": {
      "text/plain": [
       "votes                          6.869773\n",
       "approx_cost(for two people)    2.431718\n",
       "dtype: float64"
      ]
     },
     "execution_count": 161,
     "metadata": {},
     "output_type": "execute_result"
    }
   ],
   "source": [
    "df[num].skew()\n",
    "\n"
   ]
  },
  {
   "cell_type": "code",
   "execution_count": 160,
   "id": "8ec99a04-e53a-42e2-a7d2-c4b068f49f87",
   "metadata": {},
   "outputs": [],
   "source": [
    "num.remove('rate')"
   ]
  },
  {
   "cell_type": "code",
   "execution_count": 163,
   "id": "b0fdf42d-8c37-46cd-98a3-d3f53fbae94b",
   "metadata": {},
   "outputs": [
    {
     "data": {
      "text/plain": [
       "votes                          0.310714\n",
       "approx_cost(for two people)    0.205978\n",
       "dtype: float64"
      ]
     },
     "execution_count": 163,
     "metadata": {},
     "output_type": "execute_result"
    }
   ],
   "source": [
    "np.log(df[num]+1).skew()"
   ]
  },
  {
   "cell_type": "code",
   "execution_count": 164,
   "id": "ac25dd13-f9c1-4231-bc94-2cdff7baea7b",
   "metadata": {},
   "outputs": [],
   "source": [
    "from sklearn.preprocessing import FunctionTransformer"
   ]
  },
  {
   "cell_type": "code",
   "execution_count": 167,
   "id": "ca1afc77-a906-4e40-989c-5c6618144aa9",
   "metadata": {},
   "outputs": [
    {
     "data": {
      "text/plain": [
       "FunctionTransformer(func=<function <lambda> at 0x7fb1ad5f2700>)"
      ]
     },
     "execution_count": 167,
     "metadata": {},
     "output_type": "execute_result"
    }
   ],
   "source": [
    "f = FunctionTransformer(func = lambda x: np.log(x+1))\n",
    "f.fit(df[num])"
   ]
  },
  {
   "cell_type": "code",
   "execution_count": 185,
   "id": "3e1db79f-4834-497e-a367-1d4232436ef3",
   "metadata": {},
   "outputs": [
    {
     "data": {
      "text/plain": [
       "array([[<AxesSubplot:title={'center':'votes'}>,\n",
       "        <AxesSubplot:title={'center':'approx_cost(for two people)'}>]],\n",
       "      dtype=object)"
      ]
     },
     "execution_count": 185,
     "metadata": {},
     "output_type": "execute_result"
    },
    {
     "data": {
      "image/png": "[encoded data removed]",
      "text/plain": [
       "<Figure size 432x288 with 2 Axes>"
      ]
     },
     "metadata": {
      "needs_background": "light"
     },
     "output_type": "display_data"
    }
   ],
   "source": [
    "f.transform(df[num])"
   ]
  },
  {
   "cell_type": "code",
   "execution_count": 182,
   "id": "6dc4d565-e85b-4b3c-afc0-f74552314461",
   "metadata": {},
   "outputs": [],
   "source": [
    "class sklearnTransformerWrapper(BaseEstimator, TransformerMixin):\n",
    "\n",
    "    def __init__(self, variable=None, transformer=None):\n",
    "\n",
    "        if not isinstance(variable, list):\n",
    "            self.variable = [variable]\n",
    "        else:\n",
    "            self.variable = variable\n",
    "\n",
    "        self.transformer = transformer\n",
    "\n",
    "    def fit(self, X, y=None):\n",
    "\n",
    "        self.transformer.fit(X[self.variable])\n",
    "        return self\n",
    "\n",
    "    def transform(self, X):\n",
    "        X = X.copy()\n",
    "\n",
    "        X[self.variable] = self.transformer.transform(X[self.variable])\n",
    "        return X"
   ]
  },
  {
   "cell_type": "code",
   "execution_count": 183,
   "id": "df706d32-6d1a-4fbc-964a-e3cf7a6a05b8",
   "metadata": {},
   "outputs": [
    {
     "data": {
      "text/plain": [
       "sklearnTransformerWrapper(transformer=FunctionTransformer(func=<function <lambda> at 0x7fb1ad5921f0>),\n",
       "                          variable=['votes', 'approx_cost(for two people)'])"
      ]
     },
     "execution_count": 183,
     "metadata": {},
     "output_type": "execute_result"
    }
   ],
   "source": [
    "p = sklearnTransformerWrapper(variable=num,\n",
    "                transformer=FunctionTransformer(func = lambda x: np.log(x+1)))\n",
    "p.fit(df)\n",
    "                             "
   ]
  },
  {
   "cell_type": "code",
   "execution_count": 186,
   "id": "88e9710d-be1f-465f-868e-255c08d49675",
   "metadata": {},
   "outputs": [],
   "source": [
    "from sklearn.preprocessing import StandardScaler\n"
   ]
  },
  {
   "cell_type": "code",
   "execution_count": 187,
   "id": "0c440b97-8d5c-49f5-9554-4067db1cd3bc",
   "metadata": {},
   "outputs": [
    {
     "data": {
      "text/html": [
       "<div>\n",
       "<style scoped>\n",
       "    .dataframe tbody tr th:only-of-type {\n",
       "        vertical-align: middle;\n",
       "    }\n",
       "\n",
       "    .dataframe tbody tr th {\n",
       "        vertical-align: top;\n",
       "    }\n",
       "\n",
       "    .dataframe thead th {\n",
       "        text-align: right;\n",
       "    }\n",
       "</style>\n",
       "<table border=\"1\" class=\"dataframe\">\n",
       "  <thead>\n",
       "    <tr style=\"text-align: right;\">\n",
       "      <th></th>\n",
       "      <th>name</th>\n",
       "      <th>online_order</th>\n",
       "      <th>book_table</th>\n",
       "      <th>rate</th>\n",
       "      <th>votes</th>\n",
       "      <th>location</th>\n",
       "      <th>rest_type</th>\n",
       "      <th>cuisines</th>\n",
       "      <th>approx_cost(for two people)</th>\n",
       "      <th>reviews_list</th>\n",
       "      <th>listed_in(type)</th>\n",
       "      <th>listed_in(city)</th>\n",
       "    </tr>\n",
       "  </thead>\n",
       "  <tbody>\n",
       "    <tr>\n",
       "      <th>0</th>\n",
       "      <td>Jalsa</td>\n",
       "      <td>1</td>\n",
       "      <td>1</td>\n",
       "      <td>4.1</td>\n",
       "      <td>0.477644</td>\n",
       "      <td>Banashankari</td>\n",
       "      <td>Casual Dining</td>\n",
       "      <td>North Indian, Mughlai, Chinese</td>\n",
       "      <td>0.421747</td>\n",
       "      <td>[('Rated 4.0', 'RATED\\n  A beautiful place to ...</td>\n",
       "      <td>Buffet</td>\n",
       "      <td>Banashankari</td>\n",
       "    </tr>\n",
       "    <tr>\n",
       "      <th>1</th>\n",
       "      <td>Spice Elephant</td>\n",
       "      <td>1</td>\n",
       "      <td>0</td>\n",
       "      <td>4.1</td>\n",
       "      <td>0.491216</td>\n",
       "      <td>Banashankari</td>\n",
       "      <td>Casual Dining</td>\n",
       "      <td>Chinese, North Indian, Thai</td>\n",
       "      <td>0.421747</td>\n",
       "      <td>[('Rated 4.0', 'RATED\\n  Had been here for din...</td>\n",
       "      <td>Buffet</td>\n",
       "      <td>Banashankari</td>\n",
       "    </tr>\n",
       "    <tr>\n",
       "      <th>2</th>\n",
       "      <td>San Churro Cafe</td>\n",
       "      <td>1</td>\n",
       "      <td>0</td>\n",
       "      <td>3.8</td>\n",
       "      <td>0.639378</td>\n",
       "      <td>Banashankari</td>\n",
       "      <td>Cafe, Casual Dining</td>\n",
       "      <td>Cafe, Mexican, Italian</td>\n",
       "      <td>0.421747</td>\n",
       "      <td>[('Rated 3.0', \"RATED\\n  Ambience is not that ...</td>\n",
       "      <td>Buffet</td>\n",
       "      <td>Banashankari</td>\n",
       "    </tr>\n",
       "    <tr>\n",
       "      <th>3</th>\n",
       "      <td>Addhuri Udupi Bhojana</td>\n",
       "      <td>0</td>\n",
       "      <td>0</td>\n",
       "      <td>3.7</td>\n",
       "      <td>-0.299359</td>\n",
       "      <td>Banashankari</td>\n",
       "      <td>Quick Bites</td>\n",
       "      <td>South Indian, North Indian</td>\n",
       "      <td>-0.653667</td>\n",
       "      <td>[('Rated 4.0', \"RATED\\n  Great food and proper...</td>\n",
       "      <td>Buffet</td>\n",
       "      <td>Banashankari</td>\n",
       "    </tr>\n",
       "    <tr>\n",
       "      <th>4</th>\n",
       "      <td>Grand Village</td>\n",
       "      <td>0</td>\n",
       "      <td>0</td>\n",
       "      <td>3.8</td>\n",
       "      <td>-0.211140</td>\n",
       "      <td>Basavanagudi</td>\n",
       "      <td>Casual Dining</td>\n",
       "      <td>North Indian, Rajasthani</td>\n",
       "      <td>-0.008418</td>\n",
       "      <td>[('Rated 4.0', 'RATED\\n  Very good restaurant ...</td>\n",
       "      <td>Buffet</td>\n",
       "      <td>Banashankari</td>\n",
       "    </tr>\n",
       "    <tr>\n",
       "      <th>...</th>\n",
       "      <td>...</td>\n",
       "      <td>...</td>\n",
       "      <td>...</td>\n",
       "      <td>...</td>\n",
       "      <td>...</td>\n",
       "      <td>...</td>\n",
       "      <td>...</td>\n",
       "      <td>...</td>\n",
       "      <td>...</td>\n",
       "      <td>...</td>\n",
       "      <td>...</td>\n",
       "      <td>...</td>\n",
       "    </tr>\n",
       "    <tr>\n",
       "      <th>51709</th>\n",
       "      <td>The Farm House Bar n Grill</td>\n",
       "      <td>0</td>\n",
       "      <td>0</td>\n",
       "      <td>3.7</td>\n",
       "      <td>-0.360433</td>\n",
       "      <td>Whitefield</td>\n",
       "      <td>Casual Dining, Bar</td>\n",
       "      <td>North Indian, Continental</td>\n",
       "      <td>0.421747</td>\n",
       "      <td>[('Rated 4.0', 'RATED\\n  Ambience- Big and spa...</td>\n",
       "      <td>Pubs and bars</td>\n",
       "      <td>Whitefield</td>\n",
       "    </tr>\n",
       "    <tr>\n",
       "      <th>51711</th>\n",
       "      <td>Bhagini</td>\n",
       "      <td>0</td>\n",
       "      <td>0</td>\n",
       "      <td>2.5</td>\n",
       "      <td>-0.307276</td>\n",
       "      <td>Whitefield</td>\n",
       "      <td>Casual Dining, Bar</td>\n",
       "      <td>Andhra, South Indian, Chinese, North Indian</td>\n",
       "      <td>0.421747</td>\n",
       "      <td>[('Rated 4.0', 'RATED\\n  A fine place to chill...</td>\n",
       "      <td>Pubs and bars</td>\n",
       "      <td>Whitefield</td>\n",
       "    </tr>\n",
       "    <tr>\n",
       "      <th>51712</th>\n",
       "      <td>Best Brews - Four Points by Sheraton Bengaluru...</td>\n",
       "      <td>0</td>\n",
       "      <td>0</td>\n",
       "      <td>3.6</td>\n",
       "      <td>-0.368350</td>\n",
       "      <td>Whitefield</td>\n",
       "      <td>Bar</td>\n",
       "      <td>Continental</td>\n",
       "      <td>1.927326</td>\n",
       "      <td>[('Rated 5.0', \"RATED\\n  Food and service are ...</td>\n",
       "      <td>Pubs and bars</td>\n",
       "      <td>Whitefield</td>\n",
       "    </tr>\n",
       "    <tr>\n",
       "      <th>51715</th>\n",
       "      <td>Chime - Sheraton Grand Bengaluru Whitefield Ho...</td>\n",
       "      <td>0</td>\n",
       "      <td>1</td>\n",
       "      <td>4.3</td>\n",
       "      <td>-0.131970</td>\n",
       "      <td>ITPL Main Road, Whitefield</td>\n",
       "      <td>Bar</td>\n",
       "      <td>Finger Food</td>\n",
       "      <td>4.078154</td>\n",
       "      <td>[('Rated 4.0', 'RATED\\n  Nice and friendly pla...</td>\n",
       "      <td>Pubs and bars</td>\n",
       "      <td>Whitefield</td>\n",
       "    </tr>\n",
       "    <tr>\n",
       "      <th>51716</th>\n",
       "      <td>The Nest - The Den Bengaluru</td>\n",
       "      <td>0</td>\n",
       "      <td>0</td>\n",
       "      <td>3.4</td>\n",
       "      <td>-0.384184</td>\n",
       "      <td>ITPL Main Road, Whitefield</td>\n",
       "      <td>Bar, Casual Dining</td>\n",
       "      <td>Finger Food, North Indian, Continental</td>\n",
       "      <td>1.927326</td>\n",
       "      <td>[('Rated 5.0', 'RATED\\n  Great ambience , look...</td>\n",
       "      <td>Pubs and bars</td>\n",
       "      <td>Whitefield</td>\n",
       "    </tr>\n",
       "  </tbody>\n",
       "</table>\n",
       "<p>41263 rows × 12 columns</p>\n",
       "</div>"
      ],
      "text/plain": [
       "                                                    name  online_order  \\\n",
       "0                                                  Jalsa             1   \n",
       "1                                         Spice Elephant             1   \n",
       "2                                        San Churro Cafe             1   \n",
       "3                                  Addhuri Udupi Bhojana             0   \n",
       "4                                          Grand Village             0   \n",
       "...                                                  ...           ...   \n",
       "51709                         The Farm House Bar n Grill             0   \n",
       "51711                                            Bhagini             0   \n",
       "51712  Best Brews - Four Points by Sheraton Bengaluru...             0   \n",
       "51715  Chime - Sheraton Grand Bengaluru Whitefield Ho...             0   \n",
       "51716                       The Nest - The Den Bengaluru             0   \n",
       "\n",
       "       book_table  rate     votes                    location  \\\n",
       "0               1   4.1  0.477644                Banashankari   \n",
       "1               0   4.1  0.491216                Banashankari   \n",
       "2               0   3.8  0.639378                Banashankari   \n",
       "3               0   3.7 -0.299359                Banashankari   \n",
       "4               0   3.8 -0.211140                Basavanagudi   \n",
       "...           ...   ...       ...                         ...   \n",
       "51709           0   3.7 -0.360433                  Whitefield   \n",
       "51711           0   2.5 -0.307276                  Whitefield   \n",
       "51712           0   3.6 -0.368350                  Whitefield   \n",
       "51715           1   4.3 -0.131970  ITPL Main Road, Whitefield   \n",
       "51716           0   3.4 -0.384184  ITPL Main Road, Whitefield   \n",
       "\n",
       "                 rest_type                                     cuisines  \\\n",
       "0            Casual Dining               North Indian, Mughlai, Chinese   \n",
       "1            Casual Dining                  Chinese, North Indian, Thai   \n",
       "2      Cafe, Casual Dining                       Cafe, Mexican, Italian   \n",
       "3              Quick Bites                   South Indian, North Indian   \n",
       "4            Casual Dining                     North Indian, Rajasthani   \n",
       "...                    ...                                          ...   \n",
       "51709   Casual Dining, Bar                    North Indian, Continental   \n",
       "51711   Casual Dining, Bar  Andhra, South Indian, Chinese, North Indian   \n",
       "51712                  Bar                                  Continental   \n",
       "51715                  Bar                                  Finger Food   \n",
       "51716   Bar, Casual Dining       Finger Food, North Indian, Continental   \n",
       "\n",
       "       approx_cost(for two people)  \\\n",
       "0                         0.421747   \n",
       "1                         0.421747   \n",
       "2                         0.421747   \n",
       "3                        -0.653667   \n",
       "4                        -0.008418   \n",
       "...                            ...   \n",
       "51709                     0.421747   \n",
       "51711                     0.421747   \n",
       "51712                     1.927326   \n",
       "51715                     4.078154   \n",
       "51716                     1.927326   \n",
       "\n",
       "                                            reviews_list listed_in(type)  \\\n",
       "0      [('Rated 4.0', 'RATED\\n  A beautiful place to ...          Buffet   \n",
       "1      [('Rated 4.0', 'RATED\\n  Had been here for din...          Buffet   \n",
       "2      [('Rated 3.0', \"RATED\\n  Ambience is not that ...          Buffet   \n",
       "3      [('Rated 4.0', \"RATED\\n  Great food and proper...          Buffet   \n",
       "4      [('Rated 4.0', 'RATED\\n  Very good restaurant ...          Buffet   \n",
       "...                                                  ...             ...   \n",
       "51709  [('Rated 4.0', 'RATED\\n  Ambience- Big and spa...   Pubs and bars   \n",
       "51711  [('Rated 4.0', 'RATED\\n  A fine place to chill...   Pubs and bars   \n",
       "51712  [('Rated 5.0', \"RATED\\n  Food and service are ...   Pubs and bars   \n",
       "51715  [('Rated 4.0', 'RATED\\n  Nice and friendly pla...   Pubs and bars   \n",
       "51716  [('Rated 5.0', 'RATED\\n  Great ambience , look...   Pubs and bars   \n",
       "\n",
       "      listed_in(city)  \n",
       "0        Banashankari  \n",
       "1        Banashankari  \n",
       "2        Banashankari  \n",
       "3        Banashankari  \n",
       "4        Banashankari  \n",
       "...               ...  \n",
       "51709      Whitefield  \n",
       "51711      Whitefield  \n",
       "51712      Whitefield  \n",
       "51715      Whitefield  \n",
       "51716      Whitefield  \n",
       "\n",
       "[41263 rows x 12 columns]"
      ]
     },
     "execution_count": 187,
     "metadata": {},
     "output_type": "execute_result"
    }
   ],
   "source": [
    "scale = sklearnTransformerWrapper(variable=num, transformer=StandardScaler())\n",
    "scale.fit_transform(df)"
   ]
  },
  {
   "cell_type": "code",
   "execution_count": 8,
   "id": "e46e2eb5-3ed8-411f-98f1-1b899cff3dd2",
   "metadata": {},
   "outputs": [],
   "source": [
    "from pipeline import pipe"
   ]
  },
  {
   "cell_type": "code",
   "execution_count": 4,
   "id": "ef07bf0f-66e1-4247-944e-24c0a6d9bcf2",
   "metadata": {},
   "outputs": [],
   "source": [
    "x = df.iloc[:10]"
   ]
  },
  {
   "cell_type": "code",
   "execution_count": 9,
   "id": "6f00dd8e-5360-49ac-b08e-202aef5356b9",
   "metadata": {},
   "outputs": [
    {
     "data": {
      "text/plain": [
       "Pipeline(steps=[('drop feature', featuresDrop(variables=['location', 'name'])),\n",
       "                ('functional',\n",
       "                 sklearnTransformerWrapper(transformer=FunctionTransformer(func=<function <lambda> at 0x7fa56f55db80>),\n",
       "                                           variable=['votes',\n",
       "                                                     'approx_cost(for two '\n",
       "                                                     'people)'])),\n",
       "                ('scale',\n",
       "                 sklearnTransformerWrapper(transformer=StandardScaler(),\n",
       "                                           variable=['votes',\n",
       "                                                     'approx_cost(for two '\n",
       "                                                     'people)'])),\n",
       "                ('onehot',\n",
       "                 sklearnOne(transformer=OneHotEncoder(sparse=False),\n",
       "                            variable=['listed_in(type)', 'rest_type',\n",
       "                                      'listed_in(city)'])),\n",
       "                ('countVector', sklearnCountVector(variable='cuisines')),\n",
       "                ('tfidf', reviewsTransform(variable='reviews_list'))])"
      ]
     },
     "execution_count": 9,
     "metadata": {},
     "output_type": "execute_result"
    }
   ],
   "source": [
    "pipe.fit(x)"
   ]
  },
  {
   "cell_type": "code",
   "execution_count": 10,
   "id": "9102086e-51b6-411e-bd9f-5229297e78b1",
   "metadata": {},
   "outputs": [
    {
     "data": {
      "text/html": [
       "<div>\n",
       "<style scoped>\n",
       "    .dataframe tbody tr th:only-of-type {\n",
       "        vertical-align: middle;\n",
       "    }\n",
       "\n",
       "    .dataframe tbody tr th {\n",
       "        vertical-align: top;\n",
       "    }\n",
       "\n",
       "    .dataframe thead th {\n",
       "        text-align: right;\n",
       "    }\n",
       "</style>\n",
       "<table border=\"1\" class=\"dataframe\">\n",
       "  <thead>\n",
       "    <tr style=\"text-align: right;\">\n",
       "      <th></th>\n",
       "      <th>online_order</th>\n",
       "      <th>book_table</th>\n",
       "      <th>rate</th>\n",
       "      <th>votes</th>\n",
       "      <th>approx_cost(for two people)</th>\n",
       "      <th>listed_in(type)_Buffet</th>\n",
       "      <th>listed_in(type)_Cafes</th>\n",
       "      <th>rest_type_Cafe</th>\n",
       "      <th>rest_type_Cafe, Casual Dining</th>\n",
       "      <th>rest_type_Casual Dining</th>\n",
       "      <th>...</th>\n",
       "      <th>try</th>\n",
       "      <th>unlimited</th>\n",
       "      <th>variety</th>\n",
       "      <th>view</th>\n",
       "      <th>visit</th>\n",
       "      <th>visited</th>\n",
       "      <th>wasnt</th>\n",
       "      <th>went</th>\n",
       "      <th>worth</th>\n",
       "      <th>xã</th>\n",
       "    </tr>\n",
       "  </thead>\n",
       "  <tbody>\n",
       "    <tr>\n",
       "      <th>0</th>\n",
       "      <td>1</td>\n",
       "      <td>1</td>\n",
       "      <td>4.1</td>\n",
       "      <td>0.611122</td>\n",
       "      <td>0.824023</td>\n",
       "      <td>1.0</td>\n",
       "      <td>0.0</td>\n",
       "      <td>0.0</td>\n",
       "      <td>0.0</td>\n",
       "      <td>1.0</td>\n",
       "      <td>...</td>\n",
       "      <td>0.093283</td>\n",
       "      <td>0.000000</td>\n",
       "      <td>0.000000</td>\n",
       "      <td>0.000000</td>\n",
       "      <td>0.028317</td>\n",
       "      <td>0.068487</td>\n",
       "      <td>0.000000</td>\n",
       "      <td>0.075758</td>\n",
       "      <td>0.037879</td>\n",
       "      <td>0.719113</td>\n",
       "    </tr>\n",
       "    <tr>\n",
       "      <th>1</th>\n",
       "      <td>1</td>\n",
       "      <td>0</td>\n",
       "      <td>4.1</td>\n",
       "      <td>0.621454</td>\n",
       "      <td>0.824023</td>\n",
       "      <td>1.0</td>\n",
       "      <td>0.0</td>\n",
       "      <td>0.0</td>\n",
       "      <td>0.0</td>\n",
       "      <td>1.0</td>\n",
       "      <td>...</td>\n",
       "      <td>0.162182</td>\n",
       "      <td>0.000000</td>\n",
       "      <td>0.049489</td>\n",
       "      <td>0.056567</td>\n",
       "      <td>0.029539</td>\n",
       "      <td>0.000000</td>\n",
       "      <td>0.000000</td>\n",
       "      <td>0.039514</td>\n",
       "      <td>0.000000</td>\n",
       "      <td>0.000000</td>\n",
       "    </tr>\n",
       "    <tr>\n",
       "      <th>2</th>\n",
       "      <td>1</td>\n",
       "      <td>0</td>\n",
       "      <td>3.8</td>\n",
       "      <td>0.725002</td>\n",
       "      <td>0.824023</td>\n",
       "      <td>1.0</td>\n",
       "      <td>0.0</td>\n",
       "      <td>0.0</td>\n",
       "      <td>1.0</td>\n",
       "      <td>0.0</td>\n",
       "      <td>...</td>\n",
       "      <td>0.091923</td>\n",
       "      <td>0.000000</td>\n",
       "      <td>0.000000</td>\n",
       "      <td>0.000000</td>\n",
       "      <td>0.083711</td>\n",
       "      <td>0.060740</td>\n",
       "      <td>0.056100</td>\n",
       "      <td>0.022396</td>\n",
       "      <td>0.022396</td>\n",
       "      <td>0.283452</td>\n",
       "    </tr>\n",
       "    <tr>\n",
       "      <th>3</th>\n",
       "      <td>0</td>\n",
       "      <td>0</td>\n",
       "      <td>3.7</td>\n",
       "      <td>-0.846958</td>\n",
       "      <td>-2.610829</td>\n",
       "      <td>1.0</td>\n",
       "      <td>0.0</td>\n",
       "      <td>0.0</td>\n",
       "      <td>0.0</td>\n",
       "      <td>0.0</td>\n",
       "      <td>...</td>\n",
       "      <td>0.030700</td>\n",
       "      <td>0.107077</td>\n",
       "      <td>0.202973</td>\n",
       "      <td>0.000000</td>\n",
       "      <td>0.074553</td>\n",
       "      <td>0.056349</td>\n",
       "      <td>0.015613</td>\n",
       "      <td>0.024932</td>\n",
       "      <td>0.049865</td>\n",
       "      <td>0.236665</td>\n",
       "    </tr>\n",
       "    <tr>\n",
       "      <th>4</th>\n",
       "      <td>0</td>\n",
       "      <td>0</td>\n",
       "      <td>3.8</td>\n",
       "      <td>-0.423201</td>\n",
       "      <td>-0.184116</td>\n",
       "      <td>1.0</td>\n",
       "      <td>0.0</td>\n",
       "      <td>0.0</td>\n",
       "      <td>0.0</td>\n",
       "      <td>1.0</td>\n",
       "      <td>...</td>\n",
       "      <td>0.000000</td>\n",
       "      <td>0.000000</td>\n",
       "      <td>0.347146</td>\n",
       "      <td>0.000000</td>\n",
       "      <td>0.000000</td>\n",
       "      <td>0.000000</td>\n",
       "      <td>0.000000</td>\n",
       "      <td>0.000000</td>\n",
       "      <td>0.000000</td>\n",
       "      <td>0.000000</td>\n",
       "    </tr>\n",
       "    <tr>\n",
       "      <th>5</th>\n",
       "      <td>1</td>\n",
       "      <td>0</td>\n",
       "      <td>3.8</td>\n",
       "      <td>-0.058607</td>\n",
       "      <td>-0.184116</td>\n",
       "      <td>1.0</td>\n",
       "      <td>0.0</td>\n",
       "      <td>0.0</td>\n",
       "      <td>0.0</td>\n",
       "      <td>1.0</td>\n",
       "      <td>...</td>\n",
       "      <td>0.000000</td>\n",
       "      <td>0.000000</td>\n",
       "      <td>0.000000</td>\n",
       "      <td>0.000000</td>\n",
       "      <td>0.000000</td>\n",
       "      <td>0.000000</td>\n",
       "      <td>0.000000</td>\n",
       "      <td>0.000000</td>\n",
       "      <td>0.000000</td>\n",
       "      <td>0.000000</td>\n",
       "    </tr>\n",
       "    <tr>\n",
       "      <th>6</th>\n",
       "      <td>0</td>\n",
       "      <td>0</td>\n",
       "      <td>3.6</td>\n",
       "      <td>-2.389805</td>\n",
       "      <td>0.824023</td>\n",
       "      <td>1.0</td>\n",
       "      <td>0.0</td>\n",
       "      <td>0.0</td>\n",
       "      <td>0.0</td>\n",
       "      <td>1.0</td>\n",
       "      <td>...</td>\n",
       "      <td>0.000000</td>\n",
       "      <td>0.000000</td>\n",
       "      <td>0.000000</td>\n",
       "      <td>0.000000</td>\n",
       "      <td>0.151473</td>\n",
       "      <td>0.000000</td>\n",
       "      <td>0.000000</td>\n",
       "      <td>0.000000</td>\n",
       "      <td>0.000000</td>\n",
       "      <td>0.000000</td>\n",
       "    </tr>\n",
       "    <tr>\n",
       "      <th>7</th>\n",
       "      <td>1</td>\n",
       "      <td>1</td>\n",
       "      <td>4.6</td>\n",
       "      <td>1.414010</td>\n",
       "      <td>-0.184116</td>\n",
       "      <td>0.0</td>\n",
       "      <td>1.0</td>\n",
       "      <td>0.0</td>\n",
       "      <td>0.0</td>\n",
       "      <td>0.0</td>\n",
       "      <td>...</td>\n",
       "      <td>0.031960</td>\n",
       "      <td>0.185786</td>\n",
       "      <td>0.000000</td>\n",
       "      <td>0.000000</td>\n",
       "      <td>0.019403</td>\n",
       "      <td>0.017598</td>\n",
       "      <td>0.000000</td>\n",
       "      <td>0.000000</td>\n",
       "      <td>0.000000</td>\n",
       "      <td>0.574882</td>\n",
       "    </tr>\n",
       "    <tr>\n",
       "      <th>8</th>\n",
       "      <td>1</td>\n",
       "      <td>0</td>\n",
       "      <td>4.0</td>\n",
       "      <td>0.025115</td>\n",
       "      <td>0.356030</td>\n",
       "      <td>0.0</td>\n",
       "      <td>1.0</td>\n",
       "      <td>1.0</td>\n",
       "      <td>0.0</td>\n",
       "      <td>0.0</td>\n",
       "      <td>...</td>\n",
       "      <td>0.134863</td>\n",
       "      <td>0.000000</td>\n",
       "      <td>0.000000</td>\n",
       "      <td>0.111062</td>\n",
       "      <td>0.071642</td>\n",
       "      <td>0.024754</td>\n",
       "      <td>0.068588</td>\n",
       "      <td>0.036509</td>\n",
       "      <td>0.031945</td>\n",
       "      <td>0.144396</td>\n",
       "    </tr>\n",
       "    <tr>\n",
       "      <th>9</th>\n",
       "      <td>1</td>\n",
       "      <td>0</td>\n",
       "      <td>4.2</td>\n",
       "      <td>0.321868</td>\n",
       "      <td>-0.488945</td>\n",
       "      <td>0.0</td>\n",
       "      <td>1.0</td>\n",
       "      <td>1.0</td>\n",
       "      <td>0.0</td>\n",
       "      <td>0.0</td>\n",
       "      <td>...</td>\n",
       "      <td>0.119101</td>\n",
       "      <td>0.000000</td>\n",
       "      <td>0.000000</td>\n",
       "      <td>0.000000</td>\n",
       "      <td>0.054231</td>\n",
       "      <td>0.065582</td>\n",
       "      <td>0.000000</td>\n",
       "      <td>0.000000</td>\n",
       "      <td>0.217633</td>\n",
       "      <td>0.459073</td>\n",
       "    </tr>\n",
       "  </tbody>\n",
       "</table>\n",
       "<p>10 rows × 127 columns</p>\n",
       "</div>"
      ],
      "text/plain": [
       "   online_order  book_table  rate     votes  approx_cost(for two people)  \\\n",
       "0             1           1   4.1  0.611122                     0.824023   \n",
       "1             1           0   4.1  0.621454                     0.824023   \n",
       "2             1           0   3.8  0.725002                     0.824023   \n",
       "3             0           0   3.7 -0.846958                    -2.610829   \n",
       "4             0           0   3.8 -0.423201                    -0.184116   \n",
       "5             1           0   3.8 -0.058607                    -0.184116   \n",
       "6             0           0   3.6 -2.389805                     0.824023   \n",
       "7             1           1   4.6  1.414010                    -0.184116   \n",
       "8             1           0   4.0  0.025115                     0.356030   \n",
       "9             1           0   4.2  0.321868                    -0.488945   \n",
       "\n",
       "   listed_in(type)_Buffet  listed_in(type)_Cafes  rest_type_Cafe  \\\n",
       "0                     1.0                    0.0             0.0   \n",
       "1                     1.0                    0.0             0.0   \n",
       "2                     1.0                    0.0             0.0   \n",
       "3                     1.0                    0.0             0.0   \n",
       "4                     1.0                    0.0             0.0   \n",
       "5                     1.0                    0.0             0.0   \n",
       "6                     1.0                    0.0             0.0   \n",
       "7                     0.0                    1.0             0.0   \n",
       "8                     0.0                    1.0             1.0   \n",
       "9                     0.0                    1.0             1.0   \n",
       "\n",
       "   rest_type_Cafe, Casual Dining  rest_type_Casual Dining  ...       try  \\\n",
       "0                            0.0                      1.0  ...  0.093283   \n",
       "1                            0.0                      1.0  ...  0.162182   \n",
       "2                            1.0                      0.0  ...  0.091923   \n",
       "3                            0.0                      0.0  ...  0.030700   \n",
       "4                            0.0                      1.0  ...  0.000000   \n",
       "5                            0.0                      1.0  ...  0.000000   \n",
       "6                            0.0                      1.0  ...  0.000000   \n",
       "7                            0.0                      0.0  ...  0.031960   \n",
       "8                            0.0                      0.0  ...  0.134863   \n",
       "9                            0.0                      0.0  ...  0.119101   \n",
       "\n",
       "   unlimited   variety      view     visit   visited     wasnt      went  \\\n",
       "0   0.000000  0.000000  0.000000  0.028317  0.068487  0.000000  0.075758   \n",
       "1   0.000000  0.049489  0.056567  0.029539  0.000000  0.000000  0.039514   \n",
       "2   0.000000  0.000000  0.000000  0.083711  0.060740  0.056100  0.022396   \n",
       "3   0.107077  0.202973  0.000000  0.074553  0.056349  0.015613  0.024932   \n",
       "4   0.000000  0.347146  0.000000  0.000000  0.000000  0.000000  0.000000   \n",
       "5   0.000000  0.000000  0.000000  0.000000  0.000000  0.000000  0.000000   \n",
       "6   0.000000  0.000000  0.000000  0.151473  0.000000  0.000000  0.000000   \n",
       "7   0.185786  0.000000  0.000000  0.019403  0.017598  0.000000  0.000000   \n",
       "8   0.000000  0.000000  0.111062  0.071642  0.024754  0.068588  0.036509   \n",
       "9   0.000000  0.000000  0.000000  0.054231  0.065582  0.000000  0.000000   \n",
       "\n",
       "      worth        xã  \n",
       "0  0.037879  0.719113  \n",
       "1  0.000000  0.000000  \n",
       "2  0.022396  0.283452  \n",
       "3  0.049865  0.236665  \n",
       "4  0.000000  0.000000  \n",
       "5  0.000000  0.000000  \n",
       "6  0.000000  0.000000  \n",
       "7  0.000000  0.574882  \n",
       "8  0.031945  0.144396  \n",
       "9  0.217633  0.459073  \n",
       "\n",
       "[10 rows x 127 columns]"
      ]
     },
     "execution_count": 10,
     "metadata": {},
     "output_type": "execute_result"
    }
   ],
   "source": [
    "pipe.transform(x)"
   ]
  },
  {
   "cell_type": "code",
   "execution_count": null,
   "id": "122c1c11-b8f3-4cce-ad1d-2a6ba4c6a8f1",
   "metadata": {},
   "outputs": [],
   "source": []
  }
 ],
 "metadata": {
  "kernelspec": {
   "display_name": "Python 3 (ipykernel)",
   "language": "python",
   "name": "python3"
  },
  "language_info": {
   "codemirror_mode": {
    "name": "ipython",
    "version": 3
   },
   "file_extension": ".py",
   "mimetype": "text/x-python",
   "name": "python",
   "nbconvert_exporter": "python",
   "pygments_lexer": "ipython3",
   "version": "3.9.12"
  }
 },
 "nbformat": 4,
 "nbformat_minor": 5
}
