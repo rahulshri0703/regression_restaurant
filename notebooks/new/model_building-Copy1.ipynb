{
 "cells": [
  {
   "cell_type": "code",
   "execution_count": 1,
   "id": "b1e093f0-1935-4fbc-81e3-3c7d25363ea1",
   "metadata": {},
   "outputs": [],
   "source": [
    "import numpy as np\n",
    "import pandas as pd\n",
    "import mlflow\n",
    "from sklearn.linear_model import LinearRegression,Lasso,Ridge\n",
    "from sklearn.ensemble import RandomForestRegressor,GradientBoostingRegressor,AdaBoostRegressor\n",
    "from sklearn.neighbors import KNeighborsRegressor\n",
    "from sklearn.svm import SVR,LinearSVR\n",
    "from sklearn.tree import DecisionTreeRegressor\n",
    "from urllib.parse import urlparse"
   ]
  },
  {
   "cell_type": "code",
   "execution_count": 2,
   "id": "ec6a4135-ab43-4345-8755-cc93e3fdb0ae",
   "metadata": {},
   "outputs": [],
   "source": [
    "x_train = pd.read_csv('../../data/split/train/x_train.csv',index_col=0)\n",
    "y_train = pd.read_csv('../../data/split/train/y_train.csv',index_col=0)\n",
    "\n",
    "x_test = pd.read_csv('../../data/split/test/x_test.csv',index_col=0)\n",
    "y_test = pd.read_csv('../../data/split/test/y_test.csv',index_col=0)"
   ]
  },
  {
   "cell_type": "code",
   "execution_count": 3,
   "id": "37386378-34e5-409b-a1ee-424cb8f89d68",
   "metadata": {},
   "outputs": [],
   "source": [
    "from sklearn.metrics import mean_squared_error,mean_absolute_error,r2_score"
   ]
  },
  {
   "cell_type": "code",
   "execution_count": 4,
   "id": "f6bf2f0a-eba2-48a2-a910-fad60f635241",
   "metadata": {},
   "outputs": [],
   "source": [
    "models_dic = dict(\n",
    "\n",
    "    linear = LinearRegression(),\n",
    "    lasso = Lasso(random_state=5,alpha=0.2),\n",
    "    ridge = Ridge(random_state=5,alpha=0.5),\n",
    "   \n",
    ")"
   ]
  },
  {
   "cell_type": "code",
   "execution_count": 5,
   "id": "375cab49-d11b-47c9-ab1c-b2cad8477219",
   "metadata": {},
   "outputs": [],
   "source": [
    "experiment = {\n",
    "'number':[],\n",
    "    'metrics' :[]\n",
    "\n",
    "}\n"
   ]
  },
  {
   "cell_type": "code",
   "execution_count": 6,
   "id": "42c6a9eb-5a5d-4365-a0f3-62b0a7f601e1",
   "metadata": {},
   "outputs": [],
   "source": [
    "metric = {\n",
    "    'name': [],\n",
    "    'train_mse':[],\n",
    "    'train_mae':[],\n",
    "    'train_r2' : [],\n",
    "    'train_rmse':[],\n",
    "    'test_mse':[],\n",
    "    'test_mae':[],\n",
    "    'test_r2' : [],\n",
    "    'test_rmse':[],\n",
    "    'metrics':[]\n",
    "    \n",
    "\n",
    "}"
   ]
  },
  {
   "cell_type": "code",
   "execution_count": 7,
   "id": "ee06844d-bd8b-4980-962d-9d9faaa6ad4c",
   "metadata": {},
   "outputs": [
    {
     "name": "stderr",
     "output_type": "stream",
     "text": [
      "2022/12/29 04:58:30 INFO mlflow.tracking.fluent: Experiment with name 'restaurant7' does not exist. Creating a new experiment.\n"
     ]
    },
    {
     "data": {
      "text/plain": [
       "<Experiment: artifact_location='./artifacts/1', creation_time=1672270110502, experiment_id='1', last_update_time=1672270110502, lifecycle_stage='active', name='restaurant7', tags={}>"
      ]
     },
     "execution_count": 7,
     "metadata": {},
     "output_type": "execute_result"
    }
   ],
   "source": [
    "# run : mlflow server --backend-store-uri sqlite:///mlflow.db --default-artifact-root ./artifacts --host 0.0.0.0\n",
    "# server : http://0.0.0.0:5000\n",
    "remote_server_uri = 'http://0.0.0.0:5000'\n",
    "mlflow.set_tracking_uri(remote_server_uri)\n",
    "mlflow.set_experiment('restaurant7')\n"
   ]
  },
  {
   "cell_type": "code",
   "execution_count": 16,
   "id": "e75b0e34-0ca4-48b4-9a92-e5c4ee1206c2",
   "metadata": {},
   "outputs": [
    {
     "name": "stdout",
     "output_type": "stream",
     "text": [
      "linear \n",
      "\n"
     ]
    },
    {
     "name": "stderr",
     "output_type": "stream",
     "text": [
      "2022/12/29 05:08:27 WARNING mlflow.utils.autologging_utils: MLflow autologging encountered a warning: \"/Users/rahul/anacond/anaconda3/lib/python3.9/site-packages/mlflow/models/signature.py:129: UserWarning: Hint: Inferred schema contains integer column(s). Integer columns in Python cannot represent missing values. If your input data contains missing values at inference time, it will be encoded as floats and will cause a schema enforcement error. The best way to avoid this problem is to infer the model schema based on a realistic data sample (training dataset) that includes missing values. Alternatively, you can declare integer columns as doubles (float64) whenever these columns may have missing values. See `Handling Integers With Missing Values <https://www.mlflow.org/docs/latest/models.html#handling-integers-with-missing-values>`_ for more details.\"\n",
      "2022/12/29 05:08:34 WARNING mlflow.models.model: Logging model metadata to the tracking server has failed, possibly due older server version. The model artifacts have been logged successfully under ./artifacts/1/b1d46a7cd4b14077b48166a5a7edae95/artifacts. In addition to exporting model artifacts, MLflow clients 1.7.0 and above attempt to record model metadata to the tracking store. If logging to a mlflow server via REST, consider upgrading the server version to MLflow 1.7.0 or above. Set logging level to DEBUG via `logging.getLogger(\"mlflow\").setLevel(logging.DEBUG)` to see the full traceback.\n",
      "Registered model 'linear' already exists. Creating a new version of this model...\n",
      "2022/12/29 05:08:44 INFO mlflow.tracking._model_registry.client: Waiting up to 300 seconds for model version to finish creation.                     Model name: linear, version 2\n",
      "Created version '2' of model 'linear'.\n"
     ]
    },
    {
     "name": "stdout",
     "output_type": "stream",
     "text": [
      " train = mse : 0.07804743368387873 mae : 0.20078302960235664 r2 : 0.5916809246863175 \n",
      "                 test = mse : 0.08298500852408149 mae : 0.20473000644178632 r2 : 0.5860407000126586 \n",
      "================================================================\n",
      "lasso \n",
      "\n"
     ]
    },
    {
     "name": "stderr",
     "output_type": "stream",
     "text": [
      "2022/12/29 05:08:46 WARNING mlflow.utils.autologging_utils: MLflow autologging encountered a warning: \"/Users/rahul/anacond/anaconda3/lib/python3.9/site-packages/mlflow/models/signature.py:129: UserWarning: Hint: Inferred schema contains integer column(s). Integer columns in Python cannot represent missing values. If your input data contains missing values at inference time, it will be encoded as floats and will cause a schema enforcement error. The best way to avoid this problem is to infer the model schema based on a realistic data sample (training dataset) that includes missing values. Alternatively, you can declare integer columns as doubles (float64) whenever these columns may have missing values. See `Handling Integers With Missing Values <https://www.mlflow.org/docs/latest/models.html#handling-integers-with-missing-values>`_ for more details.\"\n",
      "2022/12/29 05:08:55 WARNING mlflow.models.model: Logging model metadata to the tracking server has failed, possibly due older server version. The model artifacts have been logged successfully under ./artifacts/1/56ae7cab1a444ad8b760606e150d1511/artifacts. In addition to exporting model artifacts, MLflow clients 1.7.0 and above attempt to record model metadata to the tracking store. If logging to a mlflow server via REST, consider upgrading the server version to MLflow 1.7.0 or above. Set logging level to DEBUG via `logging.getLogger(\"mlflow\").setLevel(logging.DEBUG)` to see the full traceback.\n",
      "Registered model 'lasso' already exists. Creating a new version of this model...\n",
      "2022/12/29 05:09:03 INFO mlflow.tracking._model_registry.client: Waiting up to 300 seconds for model version to finish creation.                     Model name: lasso, version 2\n",
      "Created version '2' of model 'lasso'.\n"
     ]
    },
    {
     "name": "stdout",
     "output_type": "stream",
     "text": [
      " train = mse : 0.1520564669641754 mae : 0.3015614903363699 r2 : 0.20448946165538995 \n",
      "                 test = mse : 0.160223469676195 mae : 0.3074980893270784 r2 : 0.2007472611218265 \n",
      "================================================================\n",
      "ridge \n",
      "\n"
     ]
    },
    {
     "name": "stderr",
     "output_type": "stream",
     "text": [
      "2022/12/29 05:09:05 WARNING mlflow.utils.autologging_utils: MLflow autologging encountered a warning: \"/Users/rahul/anacond/anaconda3/lib/python3.9/site-packages/mlflow/models/signature.py:129: UserWarning: Hint: Inferred schema contains integer column(s). Integer columns in Python cannot represent missing values. If your input data contains missing values at inference time, it will be encoded as floats and will cause a schema enforcement error. The best way to avoid this problem is to infer the model schema based on a realistic data sample (training dataset) that includes missing values. Alternatively, you can declare integer columns as doubles (float64) whenever these columns may have missing values. See `Handling Integers With Missing Values <https://www.mlflow.org/docs/latest/models.html#handling-integers-with-missing-values>`_ for more details.\"\n",
      "2022/12/29 05:09:15 WARNING mlflow.models.model: Logging model metadata to the tracking server has failed, possibly due older server version. The model artifacts have been logged successfully under ./artifacts/1/d97347a22a8a4c79b90cf498c377a7fb/artifacts. In addition to exporting model artifacts, MLflow clients 1.7.0 and above attempt to record model metadata to the tracking store. If logging to a mlflow server via REST, consider upgrading the server version to MLflow 1.7.0 or above. Set logging level to DEBUG via `logging.getLogger(\"mlflow\").setLevel(logging.DEBUG)` to see the full traceback.\n",
      "Registered model 'ridge' already exists. Creating a new version of this model...\n",
      "2022/12/29 05:09:26 INFO mlflow.tracking._model_registry.client: Waiting up to 300 seconds for model version to finish creation.                     Model name: ridge, version 2\n"
     ]
    },
    {
     "name": "stdout",
     "output_type": "stream",
     "text": [
      " train = mse : 0.07805752606482656 mae : 0.20085450794844528 r2 : 0.5916281245946062 \n",
      "                 test = mse : 0.08283527466074668 mae : 0.20462295143309067 r2 : 0.5867876267932046 \n",
      "================================================================\n"
     ]
    },
    {
     "name": "stderr",
     "output_type": "stream",
     "text": [
      "Created version '2' of model 'ridge'.\n"
     ]
    }
   ],
   "source": [
    "for keys in models_dic.keys():\n",
    "    \n",
    "    number = 1\n",
    "    mlflow.sklearn.autolog()\n",
    "    with mlflow.start_run(run_name=keys):\n",
    "        \n",
    "        print(keys,\"\\n\")\n",
    "        lr = models_dic[keys]\n",
    "        lr.fit(x_train,y_train)\n",
    "        \n",
    "        metric['metrics'].append(lr.get_params())\n",
    "        y_train_pred = lr.predict(x_train)\n",
    "        y_test_pred = lr.predict(x_test)\n",
    "        \n",
    "        mse_train = mean_squared_error(y_train,y_train_pred)\n",
    "        mae_train = mean_absolute_error(y_train,y_train_pred)\n",
    "        \n",
    "        mse_test = mean_squared_error(y_test,y_test_pred)\n",
    "        mae_test = mean_absolute_error(y_test,y_test_pred)\n",
    "        \n",
    "        r2_train =r2_score(y_train,y_train_pred)\n",
    "        r2_test = r2_score(y_test,y_test_pred)\n",
    "        \n",
    "        rmse_train = np.sqrt(mse_train)\n",
    "        rmse_test = np.sqrt(mse_test)\n",
    "        \n",
    "        \n",
    "        metric['name'].append(keys)\n",
    "        metric['train_mse'].append(mse_train)\n",
    "        metric['test_mse'].append(mse_test)\n",
    "        metric['train_mae'].append(mae_train)\n",
    "        metric['test_mse'].append(mae_test)\n",
    "        metric['train_r2'].append(r2_train)\n",
    "        metric['test_r2'].append(r2_test)\n",
    "        metric['train_rmse'].append(rmse_train)\n",
    "        metric['test_rmse'].append(rmse_test)\n",
    "        \n",
    "        mlflow.log_metric('train_mse',mse_train)\n",
    "        mlflow.log_metric('test_mse',mse_test)\n",
    "        mlflow.log_metric('train_mae',mae_train)\n",
    "        mlflow.log_metric('test_mae',mae_test)\n",
    "        mlflow.log_metric('train_r2',r2_train)\n",
    "        mlflow.log_metric('test_r2',r2_test)\n",
    "        mlflow.log_metric('train_rmse',rmse_train)\n",
    "        mlflow.log_metric('test_rmse',rmse_test)\n",
    "        \n",
    "      \n",
    "       \n",
    "        tracking_url_type_store = urlparse(\n",
    "            mlflow.get_artifact_uri()).scheme\n",
    "\n",
    "        if tracking_url_type_store != \"file\":\n",
    "            mlflow.sklearn.log_model(\n",
    "                lr,\n",
    "                keys,\n",
    "                registered_model_name=keys)\n",
    "        else:\n",
    "            mlflow.sklearn.log_model(lr, keys)\n",
    "        \n",
    "        print(f' train = mse : {mse_train} mae : {mae_train} r2 : {r2_train} \\n \\\n",
    "                test = mse : {mse_test} mae : {mae_test} r2 : {r2_test} ')\n",
    "        print(\"================================================================\")\n",
    "        \n",
    "experiment['number'].append(number)\n",
    "experiment['metrics'].append(metric)"
   ]
  },
  {
   "cell_type": "code",
   "execution_count": 16,
   "id": "a1b0c27b-e127-4224-8e8a-adb5838e06b6",
   "metadata": {},
   "outputs": [],
   "source": [
    "#run: mlflow ui"
   ]
  },
  {
   "cell_type": "code",
   "execution_count": 10,
   "id": "a20d6613-f9c0-4be3-a4cc-6babb8b22341",
   "metadata": {},
   "outputs": [],
   "source": [
    "import sqlite3"
   ]
  },
  {
   "cell_type": "code",
   "execution_count": 11,
   "id": "f834afd9-df71-43a6-b2f4-cef5bea6ba74",
   "metadata": {},
   "outputs": [],
   "source": [
    "conn = sqlite3.connect('mlflow.db')"
   ]
  },
  {
   "cell_type": "code",
   "execution_count": 12,
   "id": "edbf8772-1672-470f-8ed5-9595e1ae2481",
   "metadata": {},
   "outputs": [
    {
     "data": {
      "text/html": [
       "<div>\n",
       "<style scoped>\n",
       "    .dataframe tbody tr th:only-of-type {\n",
       "        vertical-align: middle;\n",
       "    }\n",
       "\n",
       "    .dataframe tbody tr th {\n",
       "        vertical-align: top;\n",
       "    }\n",
       "\n",
       "    .dataframe thead th {\n",
       "        text-align: right;\n",
       "    }\n",
       "</style>\n",
       "<table border=\"1\" class=\"dataframe\">\n",
       "  <thead>\n",
       "    <tr style=\"text-align: right;\">\n",
       "      <th></th>\n",
       "      <th>name</th>\n",
       "    </tr>\n",
       "  </thead>\n",
       "  <tbody>\n",
       "    <tr>\n",
       "      <th>0</th>\n",
       "      <td>experiments</td>\n",
       "    </tr>\n",
       "    <tr>\n",
       "      <th>1</th>\n",
       "      <td>alembic_version</td>\n",
       "    </tr>\n",
       "    <tr>\n",
       "      <th>2</th>\n",
       "      <td>experiment_tags</td>\n",
       "    </tr>\n",
       "    <tr>\n",
       "      <th>3</th>\n",
       "      <td>tags</td>\n",
       "    </tr>\n",
       "    <tr>\n",
       "      <th>4</th>\n",
       "      <td>registered_models</td>\n",
       "    </tr>\n",
       "    <tr>\n",
       "      <th>5</th>\n",
       "      <td>runs</td>\n",
       "    </tr>\n",
       "    <tr>\n",
       "      <th>6</th>\n",
       "      <td>registered_model_tags</td>\n",
       "    </tr>\n",
       "    <tr>\n",
       "      <th>7</th>\n",
       "      <td>model_version_tags</td>\n",
       "    </tr>\n",
       "    <tr>\n",
       "      <th>8</th>\n",
       "      <td>model_versions</td>\n",
       "    </tr>\n",
       "    <tr>\n",
       "      <th>9</th>\n",
       "      <td>latest_metrics</td>\n",
       "    </tr>\n",
       "    <tr>\n",
       "      <th>10</th>\n",
       "      <td>metrics</td>\n",
       "    </tr>\n",
       "    <tr>\n",
       "      <th>11</th>\n",
       "      <td>params</td>\n",
       "    </tr>\n",
       "  </tbody>\n",
       "</table>\n",
       "</div>"
      ],
      "text/plain": [
       "                     name\n",
       "0             experiments\n",
       "1         alembic_version\n",
       "2         experiment_tags\n",
       "3                    tags\n",
       "4       registered_models\n",
       "5                    runs\n",
       "6   registered_model_tags\n",
       "7      model_version_tags\n",
       "8          model_versions\n",
       "9          latest_metrics\n",
       "10                metrics\n",
       "11                 params"
      ]
     },
     "execution_count": 12,
     "metadata": {},
     "output_type": "execute_result"
    }
   ],
   "source": [
    "pd.read_sql_query('''select name from sqlite_master\n",
    "            where type='table';''',conn)"
   ]
  },
  {
   "cell_type": "code",
   "execution_count": 13,
   "id": "03250e7c-2e5f-4b80-8629-d00bb55b1e8f",
   "metadata": {},
   "outputs": [
    {
     "data": {
      "text/html": [
       "<div>\n",
       "<style scoped>\n",
       "    .dataframe tbody tr th:only-of-type {\n",
       "        vertical-align: middle;\n",
       "    }\n",
       "\n",
       "    .dataframe tbody tr th {\n",
       "        vertical-align: top;\n",
       "    }\n",
       "\n",
       "    .dataframe thead th {\n",
       "        text-align: right;\n",
       "    }\n",
       "</style>\n",
       "<table border=\"1\" class=\"dataframe\">\n",
       "  <thead>\n",
       "    <tr style=\"text-align: right;\">\n",
       "      <th></th>\n",
       "      <th>key</th>\n",
       "      <th>value</th>\n",
       "      <th>run_uuid</th>\n",
       "    </tr>\n",
       "  </thead>\n",
       "  <tbody>\n",
       "    <tr>\n",
       "      <th>0</th>\n",
       "      <td>copy_X</td>\n",
       "      <td>True</td>\n",
       "      <td>aa733b4b3bdf4882b9f4a557b658811c</td>\n",
       "    </tr>\n",
       "    <tr>\n",
       "      <th>1</th>\n",
       "      <td>fit_intercept</td>\n",
       "      <td>True</td>\n",
       "      <td>aa733b4b3bdf4882b9f4a557b658811c</td>\n",
       "    </tr>\n",
       "    <tr>\n",
       "      <th>2</th>\n",
       "      <td>n_jobs</td>\n",
       "      <td>None</td>\n",
       "      <td>aa733b4b3bdf4882b9f4a557b658811c</td>\n",
       "    </tr>\n",
       "    <tr>\n",
       "      <th>3</th>\n",
       "      <td>normalize</td>\n",
       "      <td>deprecated</td>\n",
       "      <td>aa733b4b3bdf4882b9f4a557b658811c</td>\n",
       "    </tr>\n",
       "    <tr>\n",
       "      <th>4</th>\n",
       "      <td>positive</td>\n",
       "      <td>False</td>\n",
       "      <td>aa733b4b3bdf4882b9f4a557b658811c</td>\n",
       "    </tr>\n",
       "    <tr>\n",
       "      <th>5</th>\n",
       "      <td>alpha</td>\n",
       "      <td>0.2</td>\n",
       "      <td>147efad8267849fd87e82f0163be33e8</td>\n",
       "    </tr>\n",
       "    <tr>\n",
       "      <th>6</th>\n",
       "      <td>copy_X</td>\n",
       "      <td>True</td>\n",
       "      <td>147efad8267849fd87e82f0163be33e8</td>\n",
       "    </tr>\n",
       "    <tr>\n",
       "      <th>7</th>\n",
       "      <td>fit_intercept</td>\n",
       "      <td>True</td>\n",
       "      <td>147efad8267849fd87e82f0163be33e8</td>\n",
       "    </tr>\n",
       "    <tr>\n",
       "      <th>8</th>\n",
       "      <td>max_iter</td>\n",
       "      <td>1000</td>\n",
       "      <td>147efad8267849fd87e82f0163be33e8</td>\n",
       "    </tr>\n",
       "    <tr>\n",
       "      <th>9</th>\n",
       "      <td>normalize</td>\n",
       "      <td>deprecated</td>\n",
       "      <td>147efad8267849fd87e82f0163be33e8</td>\n",
       "    </tr>\n",
       "    <tr>\n",
       "      <th>10</th>\n",
       "      <td>positive</td>\n",
       "      <td>False</td>\n",
       "      <td>147efad8267849fd87e82f0163be33e8</td>\n",
       "    </tr>\n",
       "    <tr>\n",
       "      <th>11</th>\n",
       "      <td>precompute</td>\n",
       "      <td>False</td>\n",
       "      <td>147efad8267849fd87e82f0163be33e8</td>\n",
       "    </tr>\n",
       "    <tr>\n",
       "      <th>12</th>\n",
       "      <td>random_state</td>\n",
       "      <td>5</td>\n",
       "      <td>147efad8267849fd87e82f0163be33e8</td>\n",
       "    </tr>\n",
       "    <tr>\n",
       "      <th>13</th>\n",
       "      <td>selection</td>\n",
       "      <td>cyclic</td>\n",
       "      <td>147efad8267849fd87e82f0163be33e8</td>\n",
       "    </tr>\n",
       "    <tr>\n",
       "      <th>14</th>\n",
       "      <td>tol</td>\n",
       "      <td>0.0001</td>\n",
       "      <td>147efad8267849fd87e82f0163be33e8</td>\n",
       "    </tr>\n",
       "    <tr>\n",
       "      <th>15</th>\n",
       "      <td>warm_start</td>\n",
       "      <td>False</td>\n",
       "      <td>147efad8267849fd87e82f0163be33e8</td>\n",
       "    </tr>\n",
       "    <tr>\n",
       "      <th>16</th>\n",
       "      <td>alpha</td>\n",
       "      <td>0.5</td>\n",
       "      <td>7d2a39882f524da494a0de0442291267</td>\n",
       "    </tr>\n",
       "    <tr>\n",
       "      <th>17</th>\n",
       "      <td>copy_X</td>\n",
       "      <td>True</td>\n",
       "      <td>7d2a39882f524da494a0de0442291267</td>\n",
       "    </tr>\n",
       "    <tr>\n",
       "      <th>18</th>\n",
       "      <td>fit_intercept</td>\n",
       "      <td>True</td>\n",
       "      <td>7d2a39882f524da494a0de0442291267</td>\n",
       "    </tr>\n",
       "    <tr>\n",
       "      <th>19</th>\n",
       "      <td>max_iter</td>\n",
       "      <td>None</td>\n",
       "      <td>7d2a39882f524da494a0de0442291267</td>\n",
       "    </tr>\n",
       "    <tr>\n",
       "      <th>20</th>\n",
       "      <td>normalize</td>\n",
       "      <td>deprecated</td>\n",
       "      <td>7d2a39882f524da494a0de0442291267</td>\n",
       "    </tr>\n",
       "    <tr>\n",
       "      <th>21</th>\n",
       "      <td>positive</td>\n",
       "      <td>False</td>\n",
       "      <td>7d2a39882f524da494a0de0442291267</td>\n",
       "    </tr>\n",
       "    <tr>\n",
       "      <th>22</th>\n",
       "      <td>random_state</td>\n",
       "      <td>5</td>\n",
       "      <td>7d2a39882f524da494a0de0442291267</td>\n",
       "    </tr>\n",
       "    <tr>\n",
       "      <th>23</th>\n",
       "      <td>solver</td>\n",
       "      <td>auto</td>\n",
       "      <td>7d2a39882f524da494a0de0442291267</td>\n",
       "    </tr>\n",
       "    <tr>\n",
       "      <th>24</th>\n",
       "      <td>tol</td>\n",
       "      <td>0.001</td>\n",
       "      <td>7d2a39882f524da494a0de0442291267</td>\n",
       "    </tr>\n",
       "  </tbody>\n",
       "</table>\n",
       "</div>"
      ],
      "text/plain": [
       "              key       value                          run_uuid\n",
       "0          copy_X        True  aa733b4b3bdf4882b9f4a557b658811c\n",
       "1   fit_intercept        True  aa733b4b3bdf4882b9f4a557b658811c\n",
       "2          n_jobs        None  aa733b4b3bdf4882b9f4a557b658811c\n",
       "3       normalize  deprecated  aa733b4b3bdf4882b9f4a557b658811c\n",
       "4        positive       False  aa733b4b3bdf4882b9f4a557b658811c\n",
       "5           alpha         0.2  147efad8267849fd87e82f0163be33e8\n",
       "6          copy_X        True  147efad8267849fd87e82f0163be33e8\n",
       "7   fit_intercept        True  147efad8267849fd87e82f0163be33e8\n",
       "8        max_iter        1000  147efad8267849fd87e82f0163be33e8\n",
       "9       normalize  deprecated  147efad8267849fd87e82f0163be33e8\n",
       "10       positive       False  147efad8267849fd87e82f0163be33e8\n",
       "11     precompute       False  147efad8267849fd87e82f0163be33e8\n",
       "12   random_state           5  147efad8267849fd87e82f0163be33e8\n",
       "13      selection      cyclic  147efad8267849fd87e82f0163be33e8\n",
       "14            tol      0.0001  147efad8267849fd87e82f0163be33e8\n",
       "15     warm_start       False  147efad8267849fd87e82f0163be33e8\n",
       "16          alpha         0.5  7d2a39882f524da494a0de0442291267\n",
       "17         copy_X        True  7d2a39882f524da494a0de0442291267\n",
       "18  fit_intercept        True  7d2a39882f524da494a0de0442291267\n",
       "19       max_iter        None  7d2a39882f524da494a0de0442291267\n",
       "20      normalize  deprecated  7d2a39882f524da494a0de0442291267\n",
       "21       positive       False  7d2a39882f524da494a0de0442291267\n",
       "22   random_state           5  7d2a39882f524da494a0de0442291267\n",
       "23         solver        auto  7d2a39882f524da494a0de0442291267\n",
       "24            tol       0.001  7d2a39882f524da494a0de0442291267"
      ]
     },
     "execution_count": 13,
     "metadata": {},
     "output_type": "execute_result"
    }
   ],
   "source": [
    "pd.read_sql_query('''\n",
    "select * from params\n",
    "\n",
    "''',conn)"
   ]
  },
  {
   "cell_type": "code",
   "execution_count": 14,
   "id": "1a99c16a-f297-4cf8-8abc-560c58760106",
   "metadata": {},
   "outputs": [
    {
     "data": {
      "text/html": [
       "<div>\n",
       "<style scoped>\n",
       "    .dataframe tbody tr th:only-of-type {\n",
       "        vertical-align: middle;\n",
       "    }\n",
       "\n",
       "    .dataframe tbody tr th {\n",
       "        vertical-align: top;\n",
       "    }\n",
       "\n",
       "    .dataframe thead th {\n",
       "        text-align: right;\n",
       "    }\n",
       "</style>\n",
       "<table border=\"1\" class=\"dataframe\">\n",
       "  <thead>\n",
       "    <tr style=\"text-align: right;\">\n",
       "      <th></th>\n",
       "      <th>experiment_id</th>\n",
       "      <th>name</th>\n",
       "      <th>artifact_location</th>\n",
       "      <th>lifecycle_stage</th>\n",
       "      <th>creation_time</th>\n",
       "      <th>last_update_time</th>\n",
       "    </tr>\n",
       "  </thead>\n",
       "  <tbody>\n",
       "    <tr>\n",
       "      <th>0</th>\n",
       "      <td>0</td>\n",
       "      <td>Default</td>\n",
       "      <td>./artifacts/0</td>\n",
       "      <td>active</td>\n",
       "      <td>1672269993280</td>\n",
       "      <td>1672269993280</td>\n",
       "    </tr>\n",
       "    <tr>\n",
       "      <th>1</th>\n",
       "      <td>1</td>\n",
       "      <td>restaurant7</td>\n",
       "      <td>./artifacts/1</td>\n",
       "      <td>active</td>\n",
       "      <td>1672270110502</td>\n",
       "      <td>1672270110502</td>\n",
       "    </tr>\n",
       "  </tbody>\n",
       "</table>\n",
       "</div>"
      ],
      "text/plain": [
       "   experiment_id         name artifact_location lifecycle_stage  \\\n",
       "0              0      Default     ./artifacts/0          active   \n",
       "1              1  restaurant7     ./artifacts/1          active   \n",
       "\n",
       "   creation_time  last_update_time  \n",
       "0  1672269993280     1672269993280  \n",
       "1  1672270110502     1672270110502  "
      ]
     },
     "execution_count": 14,
     "metadata": {},
     "output_type": "execute_result"
    }
   ],
   "source": [
    "pd.read_sql_query('''\n",
    "select * from experiments\n",
    "\n",
    "''',conn)"
   ]
  },
  {
   "cell_type": "code",
   "execution_count": 15,
   "id": "f2475010-f3a2-40ee-9999-02885a105946",
   "metadata": {},
   "outputs": [],
   "source": [
    "conn.close()"
   ]
  },
  {
   "cell_type": "code",
   "execution_count": 18,
   "id": "551431e1-57d4-44d7-84cf-c693de2653fd",
   "metadata": {},
   "outputs": [
    {
     "data": {
      "text/plain": [
       "0.8727651513495669"
      ]
     },
     "execution_count": 18,
     "metadata": {},
     "output_type": "execute_result"
    }
   ],
   "source": [
    "y_pred = boost.predict(x_test)\n",
    "r2_score(y_test,y_pred)"
   ]
  },
  {
   "cell_type": "code",
   "execution_count": 19,
   "id": "b2ff3c90-3894-4106-a06f-96a172cb500a",
   "metadata": {},
   "outputs": [
    {
     "data": {
      "text/plain": [
       "0.1597070318104302"
      ]
     },
     "execution_count": 19,
     "metadata": {},
     "output_type": "execute_result"
    }
   ],
   "source": [
    "np.sqrt(mean_squared_error(y_test,y_pred))"
   ]
  },
  {
   "cell_type": "code",
   "execution_count": 20,
   "id": "6296a2ab-1f3c-452a-94f0-42b680ac2974",
   "metadata": {},
   "outputs": [
    {
     "data": {
      "text/html": [
       "<div>\n",
       "<style scoped>\n",
       "    .dataframe tbody tr th:only-of-type {\n",
       "        vertical-align: middle;\n",
       "    }\n",
       "\n",
       "    .dataframe tbody tr th {\n",
       "        vertical-align: top;\n",
       "    }\n",
       "\n",
       "    .dataframe thead th {\n",
       "        text-align: right;\n",
       "    }\n",
       "</style>\n",
       "<table border=\"1\" class=\"dataframe\">\n",
       "  <thead>\n",
       "    <tr style=\"text-align: right;\">\n",
       "      <th></th>\n",
       "      <th>rate</th>\n",
       "    </tr>\n",
       "  </thead>\n",
       "  <tbody>\n",
       "    <tr>\n",
       "      <th>count</th>\n",
       "      <td>8253.000000</td>\n",
       "    </tr>\n",
       "    <tr>\n",
       "      <th>mean</th>\n",
       "      <td>3.695892</td>\n",
       "    </tr>\n",
       "    <tr>\n",
       "      <th>std</th>\n",
       "      <td>0.447762</td>\n",
       "    </tr>\n",
       "    <tr>\n",
       "      <th>min</th>\n",
       "      <td>1.800000</td>\n",
       "    </tr>\n",
       "    <tr>\n",
       "      <th>25%</th>\n",
       "      <td>3.400000</td>\n",
       "    </tr>\n",
       "    <tr>\n",
       "      <th>50%</th>\n",
       "      <td>3.700000</td>\n",
       "    </tr>\n",
       "    <tr>\n",
       "      <th>75%</th>\n",
       "      <td>4.000000</td>\n",
       "    </tr>\n",
       "    <tr>\n",
       "      <th>max</th>\n",
       "      <td>4.900000</td>\n",
       "    </tr>\n",
       "  </tbody>\n",
       "</table>\n",
       "</div>"
      ],
      "text/plain": [
       "              rate\n",
       "count  8253.000000\n",
       "mean      3.695892\n",
       "std       0.447762\n",
       "min       1.800000\n",
       "25%       3.400000\n",
       "50%       3.700000\n",
       "75%       4.000000\n",
       "max       4.900000"
      ]
     },
     "execution_count": 20,
     "metadata": {},
     "output_type": "execute_result"
    }
   ],
   "source": [
    "y_test.describe()"
   ]
  },
  {
   "cell_type": "code",
   "execution_count": null,
   "id": "c777c7a9-a5b1-4cb1-b7ca-5557ea3a9811",
   "metadata": {},
   "outputs": [],
   "source": []
  }
 ],
 "metadata": {
  "kernelspec": {
   "display_name": "Python 3 (ipykernel)",
   "language": "python",
   "name": "python3"
  },
  "language_info": {
   "codemirror_mode": {
    "name": "ipython",
    "version": 3
   },
   "file_extension": ".py",
   "mimetype": "text/x-python",
   "name": "python",
   "nbconvert_exporter": "python",
   "pygments_lexer": "ipython3",
   "version": "3.9.12"
  }
 },
 "nbformat": 4,
 "nbformat_minor": 5
}
