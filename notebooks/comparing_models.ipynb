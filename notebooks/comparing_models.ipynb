{
 "cells": [
  {
   "cell_type": "code",
   "execution_count": 1,
   "id": "ea796089-5503-448a-8a3e-12a8f371ec07",
   "metadata": {},
   "outputs": [],
   "source": [
    "import pandas as pd \n",
    "import numpy as np\n",
    "import joblib\n",
    "import xgboost as xgb"
   ]
  },
  {
   "cell_type": "code",
   "execution_count": 2,
   "id": "b258e299-0208-48c0-b92b-d9f77792089f",
   "metadata": {},
   "outputs": [],
   "source": [
    "x_test = pd.read_csv('../data/split/test/x_test.csv',index_col=0)\n",
    "y_test = pd.read_csv('../data/split/test/y_test.csv',index_col=0)"
   ]
  },
  {
   "cell_type": "code",
   "execution_count": 5,
   "id": "7fa554da-8a77-4909-936b-4c3b33e524a9",
   "metadata": {},
   "outputs": [],
   "source": [
    "gb = joblib.load('best_model/gradboost.pkl')"
   ]
  },
  {
   "cell_type": "code",
   "execution_count": 6,
   "id": "855f4a7f-45da-4417-872c-af6fae7337ec",
   "metadata": {},
   "outputs": [],
   "source": [
    "boost = xgb.XGBRegressor()\n"
   ]
  },
  {
   "cell_type": "code",
   "execution_count": 7,
   "id": "f5207034-62ad-4c69-95ac-d083d738ddd7",
   "metadata": {},
   "outputs": [],
   "source": [
    "boost.load_model('best_model/xgboost')"
   ]
  },
  {
   "cell_type": "code",
   "execution_count": 9,
   "id": "f501c5b6-b37d-4054-a41a-2a348db7ff87",
   "metadata": {},
   "outputs": [],
   "source": [
    "from sklearn.metrics import r2_score"
   ]
  },
  {
   "cell_type": "code",
   "execution_count": 11,
   "id": "e1371054-5672-4fc7-a233-679b7a0131e7",
   "metadata": {},
   "outputs": [
    {
     "data": {
      "text/plain": [
       "(0.8580984239661257, 0.8727651513495669)"
      ]
     },
     "execution_count": 11,
     "metadata": {},
     "output_type": "execute_result"
    }
   ],
   "source": [
    "p1 = gb.predict(x_test)\n",
    "p2 = boost.predict(x_test)\n",
    "\n",
    "r2_score(y_test,p1),r2_score(y_test,p2)"
   ]
  },
  {
   "cell_type": "code",
   "execution_count": 12,
   "id": "1bf07930-4740-4198-abba-2a7b45679556",
   "metadata": {},
   "outputs": [],
   "source": [
    "from scipy import stats\n",
    "from sklearn.utils import resample"
   ]
  },
  {
   "cell_type": "code",
   "execution_count": null,
   "id": "562a3a02-c370-448a-afba-a147dd778751",
   "metadata": {},
   "outputs": [],
   "source": [
    "# confidence interval"
   ]
  },
  {
   "cell_type": "code",
   "execution_count": 25,
   "id": "42ac9d92-dad5-4caa-b54d-33ae4f22b19d",
   "metadata": {},
   "outputs": [
    {
     "data": {
      "text/plain": [
       "(8253, 335)"
      ]
     },
     "execution_count": 25,
     "metadata": {},
     "output_type": "execute_result"
    }
   ],
   "source": [
    "X = x_test.copy()\n",
    "X['target'] = y_test\n",
    "\n",
    "X.shape"
   ]
  },
  {
   "cell_type": "code",
   "execution_count": 34,
   "id": "6772c75b-c0fa-4274-a2d9-1e39f4c4e455",
   "metadata": {},
   "outputs": [],
   "source": [
    "conf_dic={}\n",
    "conf_dic['gb']=[]\n",
    "conf_dic['xgb']=[]"
   ]
  },
  {
   "cell_type": "code",
   "execution_count": 39,
   "id": "44527b72-176f-45ac-83f5-704d0206be5b",
   "metadata": {},
   "outputs": [],
   "source": [
    "# for gradient boosting\n",
    "\n",
    "for i in range(1000):\n",
    "    \n",
    "    x = resample(X,replace=True,n_samples=1000)\n",
    "\n",
    "    xx = x.iloc[:,:-1]\n",
    "    yy = x.iloc[:,-1]\n",
    "    \n",
    "    yhat = gb.predict(xx)\n",
    "    r2 = r2_score(yy,yhat)\n",
    "    conf_dic['gb'].append(r2)\n"
   ]
  },
  {
   "cell_type": "code",
   "execution_count": 118,
   "id": "4f25f9b5-b86a-44d7-87de-8c7b5e75a983",
   "metadata": {},
   "outputs": [
    {
     "data": {
      "text/plain": [
       "array([0.82809759, 0.88056454])"
      ]
     },
     "execution_count": 118,
     "metadata": {},
     "output_type": "execute_result"
    }
   ],
   "source": [
    "'''\n",
    "for 95% confidence interval and 0.05 alpha\n",
    "\n",
    "\n",
    "'''\n",
    "np.percentile(conf_dic['gb'],[2.5,95+0.25])"
   ]
  },
  {
   "cell_type": "code",
   "execution_count": 43,
   "id": "1a63b1e4-2504-4f42-a824-df35023d6cd3",
   "metadata": {},
   "outputs": [
    {
     "data": {
      "text/plain": [
       "0.8584115325755245"
      ]
     },
     "execution_count": 43,
     "metadata": {},
     "output_type": "execute_result"
    }
   ],
   "source": [
    "np.mean(conf_dic['gb'])"
   ]
  },
  {
   "cell_type": "code",
   "execution_count": 110,
   "id": "a91adde5-ea1b-467d-b18c-a0e4a28e9011",
   "metadata": {},
   "outputs": [
    {
     "data": {
      "text/plain": [
       "(0.8304593719646391, 0.8863636931864098)"
      ]
     },
     "execution_count": 110,
     "metadata": {},
     "output_type": "execute_result"
    }
   ],
   "source": [
    "stats.t.interval(.95,len(conf_dic['gb'])-1,\n",
    "        loc = np.mean(conf_dic['gb']),\n",
    "                scale = np.std(conf_dic['gb']))"
   ]
  },
  {
   "cell_type": "code",
   "execution_count": 115,
   "id": "611f31d4-5432-4baa-8351-323a2ba6bf45",
   "metadata": {},
   "outputs": [
    {
     "data": {
      "text/plain": [
       "0.8304638763203503"
      ]
     },
     "execution_count": 115,
     "metadata": {},
     "output_type": "execute_result"
    }
   ],
   "source": [
    "np.mean(conf_dic['gb'])- (stats.norm.isf(0.025) \\\n",
    "            * stats.sem(conf_dic['gb'],ddof=len(conf_dic['gb'])-1) )\n"
   ]
  },
  {
   "cell_type": "code",
   "execution_count": 117,
   "id": "11e67694-b16a-4e26-8e95-6a4ea8b41213",
   "metadata": {},
   "outputs": [
    {
     "data": {
      "text/plain": [
       "0.8863591888306986"
      ]
     },
     "execution_count": 117,
     "metadata": {},
     "output_type": "execute_result"
    }
   ],
   "source": [
    "np.mean(conf_dic['gb']) + (stats.norm.isf(0.025) \\\n",
    "                * stats.sem(conf_dic['gb'],ddof=len(conf_dic['gb'])-1))\n",
    "\n"
   ]
  },
  {
   "cell_type": "code",
   "execution_count": null,
   "id": "1a1eefd4-7d8c-44d5-b410-e243bd44cade",
   "metadata": {},
   "outputs": [],
   "source": [
    "#formula is\n",
    "# mean +- Z_criti * sigma/np.sqrt(N)"
   ]
  },
  {
   "cell_type": "code",
   "execution_count": null,
   "id": "1f16c86d-087b-482d-b564-3e2a14498acc",
   "metadata": {},
   "outputs": [],
   "source": []
  },
  {
   "cell_type": "code",
   "execution_count": 59,
   "id": "4f245a0f-2d8d-46e0-baa5-329874fd3f6a",
   "metadata": {},
   "outputs": [],
   "source": [
    "# for xg boosting\n",
    "\n",
    "for i in range(1000):\n",
    "    \n",
    "    x = resample(X,replace=True,n_samples=1000)\n",
    "\n",
    "    xx = x.iloc[:,:-1]\n",
    "    yy = x.iloc[:,-1]\n",
    "    \n",
    "    yhat = boost.predict(xx)\n",
    "    r2 = r2_score(yy,yhat)\n",
    "    conf_dic['xgb'].append(r2)\n",
    "\n"
   ]
  },
  {
   "cell_type": "code",
   "execution_count": 119,
   "id": "62a2a2f5-9644-4dcd-9848-df48939462ad",
   "metadata": {},
   "outputs": [
    {
     "data": {
      "text/plain": [
       "array([0.84478542, 0.89374883])"
      ]
     },
     "execution_count": 119,
     "metadata": {},
     "output_type": "execute_result"
    }
   ],
   "source": [
    "'''\n",
    "for 95% confidence interval and 0.05 alpha\n",
    "\n",
    "\n",
    "'''\n",
    "np.percentile(conf_dic['xgb'],[2.5,95+0.25])"
   ]
  },
  {
   "cell_type": "code",
   "execution_count": 62,
   "id": "4afa9cca-4a5a-4956-982d-7135ccc0cfda",
   "metadata": {},
   "outputs": [
    {
     "data": {
      "text/plain": [
       "0.8729737799473032"
      ]
     },
     "execution_count": 62,
     "metadata": {},
     "output_type": "execute_result"
    }
   ],
   "source": [
    "np.mean(conf_dic['xgb'])"
   ]
  },
  {
   "cell_type": "code",
   "execution_count": 121,
   "id": "96dedb26-5eb2-4da3-a2ce-50c1060f3da8",
   "metadata": {},
   "outputs": [
    {
     "data": {
      "text/plain": [
       "(0.8463560076641113, 0.899591552230495)"
      ]
     },
     "execution_count": 121,
     "metadata": {},
     "output_type": "execute_result"
    }
   ],
   "source": [
    "stats.t.interval(0.95,len(conf_dic['xgb'])-1,\n",
    "                 loc = np.mean(conf_dic['xgb']),\n",
    "                scale =np.std(conf_dic['xgb']) )"
   ]
  },
  {
   "cell_type": "code",
   "execution_count": null,
   "id": "95218273-999d-4811-8f69-169168026b21",
   "metadata": {},
   "outputs": [],
   "source": [
    "# comparing the two models"
   ]
  },
  {
   "cell_type": "code",
   "execution_count": 65,
   "id": "f04c5715-c620-43f0-8146-8f28ec0abc2c",
   "metadata": {},
   "outputs": [
    {
     "data": {
      "text/plain": [
       "(3.6992831142457736, 3.6968553)"
      ]
     },
     "execution_count": 65,
     "metadata": {},
     "output_type": "execute_result"
    }
   ],
   "source": [
    "m1 = np.mean(p1)\n",
    "m2 = np.mean(p2)\n",
    "\n",
    "m1,m2"
   ]
  },
  {
   "cell_type": "code",
   "execution_count": null,
   "id": "b7e0daa4-5009-4934-a464-df06dd2002b7",
   "metadata": {},
   "outputs": [],
   "source": [
    "# H0: both model r equal(m1 =m2)\n",
    "# Ha : both model r not equal(m1 != m2)\n",
    "# alpha:0.05\n",
    "# CI : 95%\n",
    "# two tail test"
   ]
  },
  {
   "cell_type": "code",
   "execution_count": 66,
   "id": "97080621-d821-4f6d-ac88-87c5827fabc7",
   "metadata": {},
   "outputs": [
    {
     "data": {
      "text/plain": [
       "Ttest_indResult(statistic=0.39446633107173573, pvalue=0.6932418925543472)"
      ]
     },
     "execution_count": 66,
     "metadata": {},
     "output_type": "execute_result"
    }
   ],
   "source": [
    "stats.ttest_ind(p1,p2,equal_var=False)"
   ]
  },
  {
   "cell_type": "code",
   "execution_count": 132,
   "id": "0604ca72-36c8-41e4-86a6-12351007e1e9",
   "metadata": {},
   "outputs": [
    {
     "data": {
      "text/plain": [
       "MannwhitneyuResult(statistic=4403228.0, pvalue=0.8774911871045854)"
      ]
     },
     "execution_count": 132,
     "metadata": {},
     "output_type": "execute_result"
    }
   ],
   "source": [
    "stats.mannwhitneyu(p1,p2)"
   ]
  },
  {
   "cell_type": "code",
   "execution_count": null,
   "id": "0be6626c-6095-4c1f-b561-e0472ee2163f",
   "metadata": {},
   "outputs": [],
   "source": [
    "# pvalue is bigger than 0.05 we fail to reject the null hypo"
   ]
  },
  {
   "cell_type": "code",
   "execution_count": 67,
   "id": "9ba28a6f-3a60-4b0c-9b2a-1ed2cb0c556b",
   "metadata": {},
   "outputs": [],
   "source": [
    "# permutation test(Two Tails)"
   ]
  },
  {
   "cell_type": "code",
   "execution_count": 75,
   "id": "f22957f2-3e8e-4e43-b11c-ea26062c5756",
   "metadata": {},
   "outputs": [
    {
     "data": {
      "text/plain": [
       "0.002427807620407396"
      ]
     },
     "execution_count": 75,
     "metadata": {},
     "output_type": "execute_result"
    }
   ],
   "source": [
    "diff = m1-m2\n",
    "diff"
   ]
  },
  {
   "cell_type": "code",
   "execution_count": 73,
   "id": "c4852a6e-b84b-4d4e-89f2-02b0e49eec13",
   "metadata": {},
   "outputs": [
    {
     "data": {
      "text/plain": [
       "(8253, 8253)"
      ]
     },
     "execution_count": 73,
     "metadata": {},
     "output_type": "execute_result"
    }
   ],
   "source": [
    "n1 = len(p1)\n",
    "n2 = len(p2)\n",
    "n=n1+n2\n",
    "n1,n2"
   ]
  },
  {
   "cell_type": "code",
   "execution_count": 82,
   "id": "60aec66e-c180-4482-a4ae-e08307f4b285",
   "metadata": {},
   "outputs": [
    {
     "data": {
      "text/plain": [
       "array([3.71563917, 3.70634682, 4.30515593, ..., 3.15097904, 4.07093143,\n",
       "       3.38934898])"
      ]
     },
     "execution_count": 82,
     "metadata": {},
     "output_type": "execute_result"
    }
   ],
   "source": [
    "p = np.concatenate([p1,p2])\n",
    "p"
   ]
  },
  {
   "cell_type": "code",
   "execution_count": 85,
   "id": "11ba1bd6-bfed-41d5-9d7d-f23ff9194593",
   "metadata": {},
   "outputs": [
    {
     "data": {
      "text/plain": [
       "array([4.30515593, 3.21288119, 3.38934898])"
      ]
     },
     "execution_count": 85,
     "metadata": {},
     "output_type": "execute_result"
    }
   ],
   "source": [
    "p[[2,6,-1]]"
   ]
  },
  {
   "cell_type": "code",
   "execution_count": 95,
   "id": "6ea04d83-1851-4408-bdf0-46525033ba7a",
   "metadata": {},
   "outputs": [],
   "source": [
    "import random\n",
    "idx = random.sample(range(n),1000)\n"
   ]
  },
  {
   "cell_type": "code",
   "execution_count": 99,
   "id": "5773a1c8-9d31-4454-a987-26ba0ed5dedd",
   "metadata": {},
   "outputs": [],
   "source": [
    "def permutation_test(p,n1,n2):\n",
    "    \n",
    "    n = n1+n2\n",
    "    idx1 = random.sample(range(n),n1)\n",
    "    idx2 = list(set(range(n)) - set(idx1))\n",
    "    \n",
    "    x = p[idx1]\n",
    "    xx = p[idx2]\n",
    "    \n",
    "    return np.mean(x) - np.mean(xx)    "
   ]
  },
  {
   "cell_type": "code",
   "execution_count": 100,
   "id": "782e478b-39e2-4c93-a8cb-3df2955e896d",
   "metadata": {},
   "outputs": [
    {
     "data": {
      "text/plain": [
       "0.0002198178006307394"
      ]
     },
     "execution_count": 100,
     "metadata": {},
     "output_type": "execute_result"
    }
   ],
   "source": [
    "permutation_test(p,n1,n2)"
   ]
  },
  {
   "cell_type": "code",
   "execution_count": 92,
   "id": "df150b81-892f-4367-95c8-3c70fdef382a",
   "metadata": {},
   "outputs": [
    {
     "data": {
      "text/plain": [
       "'\\nh0 : m1 = m2\\nha: m1 != m2\\n\\nalpha=0.05\\nci = 95%\\ntwo tail test\\n'"
      ]
     },
     "execution_count": 92,
     "metadata": {},
     "output_type": "execute_result"
    }
   ],
   "source": [
    "'''\n",
    "h0 : m1 = m2\n",
    "ha: m1 != m2\n",
    "\n",
    "alpha=0.05\n",
    "ci = 95%\n",
    "two tail test\n",
    "'''"
   ]
  },
  {
   "cell_type": "code",
   "execution_count": 101,
   "id": "da85b728-ddd6-4fe7-a8fd-297c2b95d77d",
   "metadata": {},
   "outputs": [],
   "source": [
    "d =[permutation_test(p,n1,n2) for _ in range(1000)]"
   ]
  },
  {
   "cell_type": "code",
   "execution_count": 105,
   "id": "048105ff-83d5-46f9-95cf-499da25e6a93",
   "metadata": {},
   "outputs": [
    {
     "data": {
      "text/plain": [
       "(-0.012393810048515419, 0.011754012632669883)"
      ]
     },
     "execution_count": 105,
     "metadata": {},
     "output_type": "execute_result"
    }
   ],
   "source": [
    "np.percentile(d,2.5),np.percentile(d,95+2.5)"
   ]
  },
  {
   "cell_type": "code",
   "execution_count": 106,
   "id": "d994a7e5-603b-4d88-a41f-b530aa395be3",
   "metadata": {},
   "outputs": [],
   "source": [
    "import matplotlib.pyplot as plt"
   ]
  },
  {
   "cell_type": "code",
   "execution_count": 108,
   "id": "a988da3b-3ccd-4798-b4da-3fbd7703f877",
   "metadata": {},
   "outputs": [
    {
     "data": {
      "text/plain": [
       "<matplotlib.lines.Line2D at 0x7fa688ac56a0>"
      ]
     },
     "execution_count": 108,
     "metadata": {},
     "output_type": "execute_result"
    },
    {
     "data": {
      "image/png": "[encoded data removed]",
      "text/plain": [
       "<Figure size 432x288 with 1 Axes>"
      ]
     },
     "metadata": {
      "needs_background": "light"
     },
     "output_type": "display_data"
    }
   ],
   "source": [
    "plt.hist(d,bins=20)\n",
    "plt.axvline(diff,c='r')"
   ]
  },
  {
   "cell_type": "code",
   "execution_count": null,
   "id": "a744d495-c740-49b9-98ce-e17f61035266",
   "metadata": {},
   "outputs": [],
   "source": [
    "'''\n",
    "since diff fall within the 2.5% and 97.5% range,we fail to \n",
    "reject the null hypo\n",
    "\n",
    "'''"
   ]
  },
  {
   "cell_type": "code",
   "execution_count": 130,
   "id": "a9c2cc97-8f89-42ea-81d9-02802101e685",
   "metadata": {},
   "outputs": [],
   "source": [
    "x_val = pd.read_csv('../data/split/val/x_val.csv',index_col=0)\n",
    "y_val = pd.read_csv('../data/split/val/y_val.csv',index_col=0)"
   ]
  },
  {
   "cell_type": "code",
   "execution_count": 131,
   "id": "237e4d73-fc71-489a-acda-723462dc197c",
   "metadata": {},
   "outputs": [
    {
     "data": {
      "text/plain": [
       "(0.8434624004140495, 0.8725145412162132)"
      ]
     },
     "execution_count": 131,
     "metadata": {},
     "output_type": "execute_result"
    }
   ],
   "source": [
    "p1 = gb.predict(x_val)\n",
    "p2 = boost.predict(x_val)\n",
    "\n",
    "r2_score(y_val,p1),r2_score(y_val,p2)"
   ]
  },
  {
   "cell_type": "code",
   "execution_count": null,
   "id": "2dfcf96d-ecf7-4d55-a214-ac0e86155582",
   "metadata": {},
   "outputs": [],
   "source": []
  }
 ],
 "metadata": {
  "kernelspec": {
   "display_name": "Python 3 (ipykernel)",
   "language": "python",
   "name": "python3"
  },
  "language_info": {
   "codemirror_mode": {
    "name": "ipython",
    "version": 3
   },
   "file_extension": ".py",
   "mimetype": "text/x-python",
   "name": "python",
   "nbconvert_exporter": "python",
   "pygments_lexer": "ipython3",
   "version": "3.9.12"
  }
 },
 "nbformat": 4,
 "nbformat_minor": 5
}
