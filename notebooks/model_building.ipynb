{
 "cells": [
  {
   "cell_type": "code",
   "execution_count": 12,
   "id": "b1e093f0-1935-4fbc-81e3-3c7d25363ea1",
   "metadata": {},
   "outputs": [],
   "source": [
    "import numpy as np\n",
    "import pandas as pd\n",
    "import mlflow\n",
    "from sklearn.linear_model import LinearRegression,Lasso,Ridge\n",
    "from sklearn.ensemble import RandomForestRegressor,GradientBoostingRegressor,AdaBoostRegressor\n",
    "from sklearn.neighbors import KNeighborsRegressor\n",
    "from sklearn.svm import SVR,LinearSVR\n",
    "from sklearn.tree import DecisionTreeRegressor\n",
    "from urllib.parse import urlparse"
   ]
  },
  {
   "cell_type": "code",
   "execution_count": 13,
   "id": "ec6a4135-ab43-4345-8755-cc93e3fdb0ae",
   "metadata": {},
   "outputs": [],
   "source": [
    "x_train = pd.read_csv('../data/split/train/x_train.csv',index_col=0)\n",
    "y_train = pd.read_csv('../data/split/train/y_train.csv',index_col=0)\n",
    "\n",
    "x_test = pd.read_csv('../data/split/test/x_test.csv',index_col=0)\n",
    "y_test = pd.read_csv('../data/split/test/y_test.csv',index_col=0)"
   ]
  },
  {
   "cell_type": "code",
   "execution_count": 14,
   "id": "37386378-34e5-409b-a1ee-424cb8f89d68",
   "metadata": {},
   "outputs": [],
   "source": [
    "from sklearn.metrics import mean_squared_error,mean_absolute_error,r2_score"
   ]
  },
  {
   "cell_type": "code",
   "execution_count": 8,
   "id": "f6bf2f0a-eba2-48a2-a910-fad60f635241",
   "metadata": {},
   "outputs": [],
   "source": [
    "models_dic = dict(\n",
    "\n",
    "    linear = LinearRegression(),\n",
    "    lasso = Lasso(random_state=5,alpha=0.2),\n",
    "    ridge = Ridge(random_state=5,alpha=0.5),\n",
    "    rf = RandomForestRegressor(max_depth=10,min_samples_split=2,\n",
    "                               random_state=5),\n",
    "    ada = AdaBoostRegressor(DecisionTreeRegressor(max_depth=3,min_samples_split=2,\n",
    "                               random_state=5),random_state=5),\n",
    "    gb = GradientBoostingRegressor(max_depth=10,min_samples_leaf=2,\n",
    "                                  random_state=5),\n",
    "    tree = DecisionTreeRegressor(max_depth=15,random_state=5),\n",
    "    neigh = KNeighborsRegressor(n_neighbors=13),\n",
    "    linearsvm = LinearSVR(random_state=5,C=0.5,epsilon=0.2),\n",
    "    #svm = SVR()\n",
    "\n",
    ")"
   ]
  },
  {
   "cell_type": "code",
   "execution_count": 5,
   "id": "375cab49-d11b-47c9-ab1c-b2cad8477219",
   "metadata": {},
   "outputs": [],
   "source": [
    "experiment = {\n",
    "'number':[],\n",
    "    'metrics' :[]\n",
    "\n",
    "}\n"
   ]
  },
  {
   "cell_type": "code",
   "execution_count": 6,
   "id": "42c6a9eb-5a5d-4365-a0f3-62b0a7f601e1",
   "metadata": {},
   "outputs": [],
   "source": [
    "metric = {\n",
    "    'name': [],\n",
    "    'train_mse':[],\n",
    "    'train_mae':[],\n",
    "    'train_r2' : [],\n",
    "    'train_rmse':[],\n",
    "    'test_mse':[],\n",
    "    'test_mae':[],\n",
    "    'test_r2' : [],\n",
    "    'test_rmse':[],\n",
    "    'metrics':[]\n",
    "    \n",
    "\n",
    "}"
   ]
  },
  {
   "cell_type": "code",
   "execution_count": 7,
   "id": "ee06844d-bd8b-4980-962d-9d9faaa6ad4c",
   "metadata": {},
   "outputs": [
    {
     "name": "stderr",
     "output_type": "stream",
     "text": [
      "2022/12/29 02:27:14 INFO mlflow.tracking.fluent: Experiment with name 'restaurant7' does not exist. Creating a new experiment.\n"
     ]
    },
    {
     "data": {
      "text/plain": [
       "<Experiment: artifact_location='mlflow-artifacts:/774803706839969484', creation_time=1672261034960, experiment_id='774803706839969484', last_update_time=1672261034960, lifecycle_stage='active', name='restaurant7', tags={}>"
      ]
     },
     "execution_count": 7,
     "metadata": {},
     "output_type": "execute_result"
    }
   ],
   "source": [
    "# run : mlflow server --backend-store-uri sqlite:///mlflow.db --default-artifact-root ./artifacts --host 0.0.0.0\n",
    "# server : http://0.0.0.0:5000\n",
    "remote_server_uri = 'http://0.0.0.0:5000'\n",
    "mlflow.set_tracking_uri(remote_server_uri)\n",
    "mlflow.set_experiment('restaurant7')\n"
   ]
  },
  {
   "cell_type": "code",
   "execution_count": 9,
   "id": "e75b0e34-0ca4-48b4-9a92-e5c4ee1206c2",
   "metadata": {},
   "outputs": [
    {
     "name": "stderr",
     "output_type": "stream",
     "text": [
      "2022/12/29 02:30:21 WARNING mlflow.utils.git_utils: Failed to import Git (the Git executable is probably not on your PATH), so Git SHA is not available. Error: Failed to initialize: Cmd('git') failed due to: exit code(1)\n",
      "  cmdline: git version\n",
      "  stderr: 'xcode-select: note: no developer tools were found at '/Applications/Xcode.app', requesting install. Choose an option in the dialog to download the command line developer tools.'\n"
     ]
    },
    {
     "name": "stdout",
     "output_type": "stream",
     "text": [
      "linear \n",
      "\n"
     ]
    },
    {
     "name": "stderr",
     "output_type": "stream",
     "text": [
      "2022/12/29 02:30:23 WARNING mlflow.utils.autologging_utils: MLflow autologging encountered a warning: \"/Users/rahul/anacond/anaconda3/lib/python3.9/site-packages/mlflow/models/signature.py:129: UserWarning: Hint: Inferred schema contains integer column(s). Integer columns in Python cannot represent missing values. If your input data contains missing values at inference time, it will be encoded as floats and will cause a schema enforcement error. The best way to avoid this problem is to infer the model schema based on a realistic data sample (training dataset) that includes missing values. Alternatively, you can declare integer columns as doubles (float64) whenever these columns may have missing values. See `Handling Integers With Missing Values <https://www.mlflow.org/docs/latest/models.html#handling-integers-with-missing-values>`_ for more details.\"\n"
     ]
    },
    {
     "name": "stdout",
     "output_type": "stream",
     "text": [
      " train = mse : 0.07804743368387873 mae : 0.20078302960235664 r2 : 0.5916809246863175 \n",
      "                 test = mse : 0.08298500852408149 mae : 0.20473000644178632 r2 : 0.5860407000126586 \n",
      "================================================================\n",
      "lasso \n",
      "\n"
     ]
    },
    {
     "name": "stderr",
     "output_type": "stream",
     "text": [
      "2022/12/29 02:30:41 WARNING mlflow.utils.autologging_utils: MLflow autologging encountered a warning: \"/Users/rahul/anacond/anaconda3/lib/python3.9/site-packages/mlflow/models/signature.py:129: UserWarning: Hint: Inferred schema contains integer column(s). Integer columns in Python cannot represent missing values. If your input data contains missing values at inference time, it will be encoded as floats and will cause a schema enforcement error. The best way to avoid this problem is to infer the model schema based on a realistic data sample (training dataset) that includes missing values. Alternatively, you can declare integer columns as doubles (float64) whenever these columns may have missing values. See `Handling Integers With Missing Values <https://www.mlflow.org/docs/latest/models.html#handling-integers-with-missing-values>`_ for more details.\"\n"
     ]
    },
    {
     "name": "stdout",
     "output_type": "stream",
     "text": [
      " train = mse : 0.1520564669641754 mae : 0.3015614903363699 r2 : 0.20448946165538995 \n",
      "                 test = mse : 0.160223469676195 mae : 0.3074980893270784 r2 : 0.2007472611218265 \n",
      "================================================================\n",
      "ridge \n",
      "\n"
     ]
    },
    {
     "name": "stderr",
     "output_type": "stream",
     "text": [
      "2022/12/29 02:30:54 WARNING mlflow.utils.autologging_utils: MLflow autologging encountered a warning: \"/Users/rahul/anacond/anaconda3/lib/python3.9/site-packages/mlflow/models/signature.py:129: UserWarning: Hint: Inferred schema contains integer column(s). Integer columns in Python cannot represent missing values. If your input data contains missing values at inference time, it will be encoded as floats and will cause a schema enforcement error. The best way to avoid this problem is to infer the model schema based on a realistic data sample (training dataset) that includes missing values. Alternatively, you can declare integer columns as doubles (float64) whenever these columns may have missing values. See `Handling Integers With Missing Values <https://www.mlflow.org/docs/latest/models.html#handling-integers-with-missing-values>`_ for more details.\"\n"
     ]
    },
    {
     "name": "stdout",
     "output_type": "stream",
     "text": [
      " train = mse : 0.07805752606482656 mae : 0.20085450794844528 r2 : 0.5916281245946062 \n",
      "                 test = mse : 0.08283527466074668 mae : 0.20462295143309067 r2 : 0.5867876267932046 \n",
      "================================================================\n",
      "rf \n",
      "\n"
     ]
    },
    {
     "name": "stderr",
     "output_type": "stream",
     "text": [
      "2022/12/29 02:31:07 WARNING mlflow.utils.autologging_utils: MLflow autologging encountered a warning: \"/Users/rahul/anacond/anaconda3/lib/python3.9/site-packages/mlflow/utils/autologging_utils/safety.py:533: DataConversionWarning: A column-vector y was passed when a 1d array was expected. Please change the shape of y to (n_samples,), for example using ravel().\"\n",
      "2022/12/29 02:33:13 WARNING mlflow.utils.autologging_utils: MLflow autologging encountered a warning: \"/Users/rahul/anacond/anaconda3/lib/python3.9/site-packages/mlflow/models/signature.py:129: UserWarning: Hint: Inferred schema contains integer column(s). Integer columns in Python cannot represent missing values. If your input data contains missing values at inference time, it will be encoded as floats and will cause a schema enforcement error. The best way to avoid this problem is to infer the model schema based on a realistic data sample (training dataset) that includes missing values. Alternatively, you can declare integer columns as doubles (float64) whenever these columns may have missing values. See `Handling Integers With Missing Values <https://www.mlflow.org/docs/latest/models.html#handling-integers-with-missing-values>`_ for more details.\"\n"
     ]
    },
    {
     "name": "stdout",
     "output_type": "stream",
     "text": [
      " train = mse : 0.03880535349146819 mae : 0.13966976418155636 r2 : 0.7969828691737013 \n",
      "                 test = mse : 0.05268357099279741 mae : 0.16045603381764129 r2 : 0.737195253011475 \n",
      "================================================================\n",
      "ada \n",
      "\n"
     ]
    },
    {
     "name": "stderr",
     "output_type": "stream",
     "text": [
      "/Users/rahul/anacond/anaconda3/lib/python3.9/site-packages/sklearn/utils/validation.py:993: DataConversionWarning: A column-vector y was passed when a 1d array was expected. Please change the shape of y to (n_samples, ), for example using ravel().\n",
      "  y = column_or_1d(y, warn=True)\n",
      "2022/12/29 02:34:19 WARNING mlflow.utils.autologging_utils: MLflow autologging encountered a warning: \"/Users/rahul/anacond/anaconda3/lib/python3.9/site-packages/mlflow/models/signature.py:129: UserWarning: Hint: Inferred schema contains integer column(s). Integer columns in Python cannot represent missing values. If your input data contains missing values at inference time, it will be encoded as floats and will cause a schema enforcement error. The best way to avoid this problem is to infer the model schema based on a realistic data sample (training dataset) that includes missing values. Alternatively, you can declare integer columns as doubles (float64) whenever these columns may have missing values. See `Handling Integers With Missing Values <https://www.mlflow.org/docs/latest/models.html#handling-integers-with-missing-values>`_ for more details.\"\n"
     ]
    },
    {
     "name": "stdout",
     "output_type": "stream",
     "text": [
      " train = mse : 0.1287276926390979 mae : 0.2962110220537805 r2 : 0.32653810708810727 \n",
      "                 test = mse : 0.1296721046431239 mae : 0.29581681522618886 r2 : 0.353148543084433 \n",
      "================================================================\n",
      "gb \n",
      "\n"
     ]
    },
    {
     "name": "stderr",
     "output_type": "stream",
     "text": [
      "/Users/rahul/anacond/anaconda3/lib/python3.9/site-packages/sklearn/ensemble/_gb.py:494: DataConversionWarning: A column-vector y was passed when a 1d array was expected. Please change the shape of y to (n_samples, ), for example using ravel().\n",
      "  y = column_or_1d(y, warn=True)\n",
      "2022/12/29 02:37:08 WARNING mlflow.utils.autologging_utils: MLflow autologging encountered a warning: \"/Users/rahul/anacond/anaconda3/lib/python3.9/site-packages/mlflow/models/signature.py:129: UserWarning: Hint: Inferred schema contains integer column(s). Integer columns in Python cannot represent missing values. If your input data contains missing values at inference time, it will be encoded as floats and will cause a schema enforcement error. The best way to avoid this problem is to infer the model schema based on a realistic data sample (training dataset) that includes missing values. Alternatively, you can declare integer columns as doubles (float64) whenever these columns may have missing values. See `Handling Integers With Missing Values <https://www.mlflow.org/docs/latest/models.html#handling-integers-with-missing-values>`_ for more details.\"\n"
     ]
    },
    {
     "name": "stdout",
     "output_type": "stream",
     "text": [
      " train = mse : 0.009873864178183145 mae : 0.0687731399968115 r2 : 0.9483431177591505 \n",
      "                 test = mse : 0.028446524808385148 mae : 0.10754592095610742 r2 : 0.8580984239661257 \n",
      "================================================================\n",
      "tree \n",
      "\n"
     ]
    },
    {
     "name": "stderr",
     "output_type": "stream",
     "text": [
      "2022/12/29 02:37:20 WARNING mlflow.utils.autologging_utils: MLflow autologging encountered a warning: \"/Users/rahul/anacond/anaconda3/lib/python3.9/site-packages/mlflow/models/signature.py:129: UserWarning: Hint: Inferred schema contains integer column(s). Integer columns in Python cannot represent missing values. If your input data contains missing values at inference time, it will be encoded as floats and will cause a schema enforcement error. The best way to avoid this problem is to infer the model schema based on a realistic data sample (training dataset) that includes missing values. Alternatively, you can declare integer columns as doubles (float64) whenever these columns may have missing values. See `Handling Integers With Missing Values <https://www.mlflow.org/docs/latest/models.html#handling-integers-with-missing-values>`_ for more details.\"\n"
     ]
    },
    {
     "name": "stdout",
     "output_type": "stream",
     "text": [
      " train = mse : 0.01828357077732563 mae : 0.07090883252730183 r2 : 0.9043462371425555 \n",
      "                 test = mse : 0.05380119237556974 mae : 0.1268517850192557 r2 : 0.7316201524783581 \n",
      "================================================================\n",
      "neigh \n",
      "\n"
     ]
    },
    {
     "name": "stderr",
     "output_type": "stream",
     "text": [
      "2022/12/29 02:38:29 WARNING mlflow.utils.autologging_utils: MLflow autologging encountered a warning: \"/Users/rahul/anacond/anaconda3/lib/python3.9/site-packages/mlflow/models/signature.py:129: UserWarning: Hint: Inferred schema contains integer column(s). Integer columns in Python cannot represent missing values. If your input data contains missing values at inference time, it will be encoded as floats and will cause a schema enforcement error. The best way to avoid this problem is to infer the model schema based on a realistic data sample (training dataset) that includes missing values. Alternatively, you can declare integer columns as doubles (float64) whenever these columns may have missing values. See `Handling Integers With Missing Values <https://www.mlflow.org/docs/latest/models.html#handling-integers-with-missing-values>`_ for more details.\"\n"
     ]
    },
    {
     "name": "stdout",
     "output_type": "stream",
     "text": [
      " train = mse : 0.05647508299913117 mae : 0.16953572271097891 r2 : 0.7045405264461386 \n",
      "                 test = mse : 0.07145380879966903 mae : 0.19003812133583126 r2 : 0.6435625036592388 \n",
      "================================================================\n",
      "linearsvm \n",
      "\n"
     ]
    },
    {
     "name": "stderr",
     "output_type": "stream",
     "text": [
      "/Users/rahul/anacond/anaconda3/lib/python3.9/site-packages/sklearn/utils/validation.py:993: DataConversionWarning: A column-vector y was passed when a 1d array was expected. Please change the shape of y to (n_samples, ), for example using ravel().\n",
      "  y = column_or_1d(y, warn=True)\n",
      "/Users/rahul/anacond/anaconda3/lib/python3.9/site-packages/sklearn/svm/_base.py:1206: ConvergenceWarning: Liblinear failed to converge, increase the number of iterations.\n",
      "  warnings.warn(\n",
      "2022/12/29 02:39:49 WARNING mlflow.utils.autologging_utils: MLflow autologging encountered a warning: \"/Users/rahul/anacond/anaconda3/lib/python3.9/site-packages/mlflow/models/signature.py:129: UserWarning: Hint: Inferred schema contains integer column(s). Integer columns in Python cannot represent missing values. If your input data contains missing values at inference time, it will be encoded as floats and will cause a schema enforcement error. The best way to avoid this problem is to infer the model schema based on a realistic data sample (training dataset) that includes missing values. Alternatively, you can declare integer columns as doubles (float64) whenever these columns may have missing values. See `Handling Integers With Missing Values <https://www.mlflow.org/docs/latest/models.html#handling-integers-with-missing-values>`_ for more details.\"\n"
     ]
    },
    {
     "name": "stdout",
     "output_type": "stream",
     "text": [
      " train = mse : 0.07971366685242783 mae : 0.19866315350400657 r2 : 0.5829637285592206 \n",
      "                 test = mse : 0.08458553429103963 mae : 0.20211861512221158 r2 : 0.5780566973851307 \n",
      "================================================================\n"
     ]
    }
   ],
   "source": [
    "for keys in models_dic.keys():\n",
    "    \n",
    "    number = 1\n",
    "    mlflow.sklearn.autolog()\n",
    "    with mlflow.start_run(run_name=keys):\n",
    "        \n",
    "        print(keys,\"\\n\")\n",
    "        lr = models_dic[keys]\n",
    "        lr.fit(x_train,y_train)\n",
    "        \n",
    "        metric['metrics'].append(lr.get_params())\n",
    "        y_train_pred = lr.predict(x_train)\n",
    "        y_test_pred = lr.predict(x_test)\n",
    "        \n",
    "        mse_train = mean_squared_error(y_train,y_train_pred)\n",
    "        mae_train = mean_absolute_error(y_train,y_train_pred)\n",
    "        \n",
    "        mse_test = mean_squared_error(y_test,y_test_pred)\n",
    "        mae_test = mean_absolute_error(y_test,y_test_pred)\n",
    "        \n",
    "        r2_train =r2_score(y_train,y_train_pred)\n",
    "        r2_test = r2_score(y_test,y_test_pred)\n",
    "        \n",
    "        rmse_train = np.sqrt(mse_train)\n",
    "        rmse_test = np.sqrt(mse_test)\n",
    "        \n",
    "        \n",
    "        metric['name'].append(keys)\n",
    "        metric['train_mse'].append(mse_train)\n",
    "        metric['test_mse'].append(mse_test)\n",
    "        metric['train_mae'].append(mae_train)\n",
    "        metric['test_mse'].append(mae_test)\n",
    "        metric['train_r2'].append(r2_train)\n",
    "        metric['test_r2'].append(r2_test)\n",
    "        metric['train_rmse'].append(rmse_train)\n",
    "        metric['test_rmse'].append(rmse_test)\n",
    "        \n",
    "        mlflow.log_metric('train_mse',mse_train)\n",
    "        mlflow.log_metric('test_mse',mse_test)\n",
    "        mlflow.log_metric('train_mae',mae_train)\n",
    "        mlflow.log_metric('test_mae',mae_test)\n",
    "        mlflow.log_metric('train_r2',r2_train)\n",
    "        mlflow.log_metric('test_r2',r2_test)\n",
    "        mlflow.log_metric('train_rmse',rmse_train)\n",
    "        mlflow.log_metric('test_rmse',rmse_test)\n",
    "        \n",
    "      \n",
    "       \n",
    "        mlflow.sklearn.log_model(lr, \"model\")\n",
    "        \n",
    "        print(f' train = mse : {mse_train} mae : {mae_train} r2 : {r2_train} \\n \\\n",
    "                test = mse : {mse_test} mae : {mae_test} r2 : {r2_test} ')\n",
    "        print(\"================================================================\")\n",
    "        \n",
    "experiment['number'].append(number)\n",
    "experiment['metrics'].append(metric)"
   ]
  },
  {
   "cell_type": "code",
   "execution_count": 16,
   "id": "a1b0c27b-e127-4224-8e8a-adb5838e06b6",
   "metadata": {},
   "outputs": [],
   "source": [
    "#run: mlflow ui"
   ]
  },
  {
   "cell_type": "code",
   "execution_count": 15,
   "id": "a20d6613-f9c0-4be3-a4cc-6babb8b22341",
   "metadata": {},
   "outputs": [],
   "source": [
    "#experiment"
   ]
  },
  {
   "cell_type": "code",
   "execution_count": 15,
   "id": "03250e7c-2e5f-4b80-8629-d00bb55b1e8f",
   "metadata": {},
   "outputs": [],
   "source": [
    "import xgboost as xgb"
   ]
  },
  {
   "cell_type": "code",
   "execution_count": 13,
   "id": "1a99c16a-f297-4cf8-8abc-560c58760106",
   "metadata": {},
   "outputs": [],
   "source": [
    "boost = xgb.XGBRegressor(n_estimators=100,max_depth=10,reg_lambda=3,reg_alpha=2)"
   ]
  },
  {
   "cell_type": "code",
   "execution_count": 14,
   "id": "f2475010-f3a2-40ee-9999-02885a105946",
   "metadata": {},
   "outputs": [
    {
     "data": {
      "text/plain": [
       "XGBRegressor(base_score=0.5, booster='gbtree', callbacks=None,\n",
       "             colsample_bylevel=1, colsample_bynode=1, colsample_bytree=1,\n",
       "             early_stopping_rounds=None, enable_categorical=False,\n",
       "             eval_metric=None, gamma=0, gpu_id=-1, grow_policy='depthwise',\n",
       "             importance_type=None, interaction_constraints='',\n",
       "             learning_rate=0.300000012, max_bin=256, max_cat_to_onehot=4,\n",
       "             max_delta_step=0, max_depth=10, max_leaves=0, min_child_weight=1,\n",
       "             missing=nan, monotone_constraints='()', n_estimators=100, n_jobs=0,\n",
       "             num_parallel_tree=1, predictor='auto', random_state=0, reg_alpha=2,\n",
       "             reg_lambda=3, ...)"
      ]
     },
     "execution_count": 14,
     "metadata": {},
     "output_type": "execute_result"
    }
   ],
   "source": [
    "boost.fit(x_train,y_train)"
   ]
  },
  {
   "cell_type": "code",
   "execution_count": 18,
   "id": "551431e1-57d4-44d7-84cf-c693de2653fd",
   "metadata": {},
   "outputs": [
    {
     "data": {
      "text/plain": [
       "0.8727651513495669"
      ]
     },
     "execution_count": 18,
     "metadata": {},
     "output_type": "execute_result"
    }
   ],
   "source": [
    "y_pred = boost.predict(x_test)\n",
    "r2_score(y_test,y_pred)"
   ]
  },
  {
   "cell_type": "code",
   "execution_count": 19,
   "id": "b2ff3c90-3894-4106-a06f-96a172cb500a",
   "metadata": {},
   "outputs": [
    {
     "data": {
      "text/plain": [
       "0.1597070318104302"
      ]
     },
     "execution_count": 19,
     "metadata": {},
     "output_type": "execute_result"
    }
   ],
   "source": [
    "np.sqrt(mean_squared_error(y_test,y_pred))"
   ]
  },
  {
   "cell_type": "code",
   "execution_count": 22,
   "id": "6296a2ab-1f3c-452a-94f0-42b680ac2974",
   "metadata": {},
   "outputs": [],
   "source": [
    "from sklearn.model_selection import cross_val_score\n",
    "from sklearn.metrics import SCORERS"
   ]
  },
  {
   "cell_type": "code",
   "execution_count": 24,
   "id": "e4fb1e5d-94bd-48eb-8c56-be248115548e",
   "metadata": {},
   "outputs": [
    {
     "data": {
      "text/plain": [
       "dict_keys(['explained_variance', 'r2', 'max_error', 'neg_median_absolute_error', 'neg_mean_absolute_error', 'neg_mean_absolute_percentage_error', 'neg_mean_squared_error', 'neg_mean_squared_log_error', 'neg_root_mean_squared_error', 'neg_mean_poisson_deviance', 'neg_mean_gamma_deviance', 'accuracy', 'top_k_accuracy', 'roc_auc', 'roc_auc_ovr', 'roc_auc_ovo', 'roc_auc_ovr_weighted', 'roc_auc_ovo_weighted', 'balanced_accuracy', 'average_precision', 'neg_log_loss', 'neg_brier_score', 'adjusted_rand_score', 'rand_score', 'homogeneity_score', 'completeness_score', 'v_measure_score', 'mutual_info_score', 'adjusted_mutual_info_score', 'normalized_mutual_info_score', 'fowlkes_mallows_score', 'precision', 'precision_macro', 'precision_micro', 'precision_samples', 'precision_weighted', 'recall', 'recall_macro', 'recall_micro', 'recall_samples', 'recall_weighted', 'f1', 'f1_macro', 'f1_micro', 'f1_samples', 'f1_weighted', 'jaccard', 'jaccard_macro', 'jaccard_micro', 'jaccard_samples', 'jaccard_weighted'])"
      ]
     },
     "execution_count": 24,
     "metadata": {},
     "output_type": "execute_result"
    }
   ],
   "source": [
    "SCORERS.keys()"
   ]
  },
  {
   "cell_type": "code",
   "execution_count": 25,
   "id": "c777c7a9-a5b1-4cb1-b7ca-5557ea3a9811",
   "metadata": {},
   "outputs": [],
   "source": [
    "cross = cross_val_score(xgb.XGBRegressor(n_estimators=100,max_depth=10,reg_lambda=3,reg_alpha=2),\n",
    "                       x_train,y_train,cv=5,scoring='r2')"
   ]
  },
  {
   "cell_type": "code",
   "execution_count": 26,
   "id": "efa5fcec-6ad7-45b8-9543-00e7645e7fc5",
   "metadata": {},
   "outputs": [
    {
     "data": {
      "text/plain": [
       "array([0.84466283, 0.8475287 , 0.84138651, 0.85000773, 0.85240295])"
      ]
     },
     "execution_count": 26,
     "metadata": {},
     "output_type": "execute_result"
    }
   ],
   "source": [
    "cross"
   ]
  },
  {
   "cell_type": "code",
   "execution_count": 27,
   "id": "2f3acab6-a3e6-45dd-a8bb-93cbb28748d2",
   "metadata": {},
   "outputs": [],
   "source": [
    "from sklearn.decomposition import PCA,IncrementalPCA"
   ]
  },
  {
   "cell_type": "code",
   "execution_count": 40,
   "id": "0ad76bc9-7ba9-4a4b-9525-5e6ec17c08e0",
   "metadata": {},
   "outputs": [
    {
     "name": "stderr",
     "output_type": "stream",
     "text": [
      "2022/12/29 05:32:33 WARNING mlflow.utils.autologging_utils: Encountered unexpected error during sklearn autologging: RESOURCE_DOES_NOT_EXIST: No Experiment with id=774803706839969484 exists\n"
     ]
    },
    {
     "data": {
      "text/plain": [
       "PCA(n_components=0.98)"
      ]
     },
     "execution_count": 40,
     "metadata": {},
     "output_type": "execute_result"
    }
   ],
   "source": [
    "pca = PCA(0.98)\n",
    "pca.fit(x_train)"
   ]
  },
  {
   "cell_type": "code",
   "execution_count": 41,
   "id": "56e1c88b-472f-4193-86ce-16c1a0340f39",
   "metadata": {},
   "outputs": [
    {
     "data": {
      "text/plain": [
       "0.9800571987360844"
      ]
     },
     "execution_count": 41,
     "metadata": {},
     "output_type": "execute_result"
    }
   ],
   "source": [
    "sum(pca.explained_variance_ratio_)"
   ]
  },
  {
   "cell_type": "code",
   "execution_count": 42,
   "id": "4b62d059-e80b-4fdf-bc8d-9929b6d1ebe8",
   "metadata": {},
   "outputs": [
    {
     "data": {
      "text/plain": [
       "184"
      ]
     },
     "execution_count": 42,
     "metadata": {},
     "output_type": "execute_result"
    }
   ],
   "source": [
    "len(pca.explained_variance_ratio_)"
   ]
  },
  {
   "cell_type": "code",
   "execution_count": 46,
   "id": "f54734ed-d6cd-4e37-8247-68d99c696a01",
   "metadata": {},
   "outputs": [],
   "source": [
    "x_train_pca = pca.transform(x_train)\n",
    "x_test_pca = pca.transform(x_test)"
   ]
  },
  {
   "cell_type": "code",
   "execution_count": 45,
   "id": "317f43a2-bf46-4e16-8f60-c4b03ed2459e",
   "metadata": {},
   "outputs": [],
   "source": [
    "from sklearn.model_selection import cross_validate,cross_val_predict"
   ]
  },
  {
   "cell_type": "code",
   "execution_count": null,
   "id": "4dcb61aa-8aaa-4606-bd6a-7c215c1b1a01",
   "metadata": {},
   "outputs": [],
   "source": [
    "cross_val_predict()"
   ]
  },
  {
   "cell_type": "code",
   "execution_count": 47,
   "id": "34668c90-8eff-4ea6-b473-2affe983e64f",
   "metadata": {},
   "outputs": [],
   "source": [
    "model = xgb.XGBRegressor(n_estimators=100,max_depth=10,reg_lambda=3,reg_alpha=2)\n",
    "cross = cross_val_score(model,\n",
    "                       x_train_pca,y_train,cv=5,scoring='r2')"
   ]
  },
  {
   "cell_type": "code",
   "execution_count": 48,
   "id": "70acee42-c840-4ace-84c1-cca895d8ef29",
   "metadata": {},
   "outputs": [
    {
     "data": {
      "text/plain": [
       "array([0.78033326, 0.77757385, 0.77541992, 0.77609908, 0.7760005 ])"
      ]
     },
     "execution_count": 48,
     "metadata": {},
     "output_type": "execute_result"
    }
   ],
   "source": [
    "cross"
   ]
  },
  {
   "cell_type": "code",
   "execution_count": null,
   "id": "196e2175-c21f-43a0-9b05-47d5cd35aef9",
   "metadata": {},
   "outputs": [],
   "source": []
  },
  {
   "cell_type": "code",
   "execution_count": 14,
   "id": "08ab668c-eeea-4bde-af00-b4ecee43038a",
   "metadata": {},
   "outputs": [],
   "source": [
    "from sklearn.ensemble import VotingRegressor,StackingRegressor"
   ]
  },
  {
   "cell_type": "code",
   "execution_count": 18,
   "id": "bc2608c4-d4a1-44fc-b0e4-ff70e15beea6",
   "metadata": {},
   "outputs": [],
   "source": [
    "m = [('gb',GradientBoostingRegressor(max_depth=10)),('rf',RandomForestRegressor(max_depth=10)),\n",
    "      ('neigh',KNeighborsRegressor(n_neighbors=10)),\n",
    "     ]"
   ]
  },
  {
   "cell_type": "code",
   "execution_count": 19,
   "id": "29827259-bf37-4e96-b0ad-ddb99d3541bc",
   "metadata": {},
   "outputs": [],
   "source": [
    "v = VotingRegressor(m)"
   ]
  },
  {
   "cell_type": "code",
   "execution_count": 20,
   "id": "b346f33f-1ea8-4823-ab1a-1ede57838015",
   "metadata": {},
   "outputs": [
    {
     "name": "stderr",
     "output_type": "stream",
     "text": [
      "/Users/rahul/anacond/anaconda3/lib/python3.9/site-packages/sklearn/ensemble/_voting.py:528: DataConversionWarning: A column-vector y was passed when a 1d array was expected. Please change the shape of y to (n_samples, ), for example using ravel().\n",
      "  y = column_or_1d(y, warn=True)\n"
     ]
    },
    {
     "data": {
      "text/plain": [
       "VotingRegressor(estimators=[('gb', GradientBoostingRegressor(max_depth=10)),\n",
       "                            ('rf', RandomForestRegressor(max_depth=10)),\n",
       "                            ('neigh', KNeighborsRegressor(n_neighbors=10))])"
      ]
     },
     "execution_count": 20,
     "metadata": {},
     "output_type": "execute_result"
    }
   ],
   "source": [
    "v.fit(x_train,y_train)"
   ]
  },
  {
   "cell_type": "code",
   "execution_count": 21,
   "id": "3946a68b-5062-4680-9071-6646991041c9",
   "metadata": {},
   "outputs": [
    {
     "data": {
      "text/plain": [
       "0.7988718391722823"
      ]
     },
     "execution_count": 21,
     "metadata": {},
     "output_type": "execute_result"
    }
   ],
   "source": [
    "pred = v.predict(x_test)\n",
    "r2_score(y_test,pred)"
   ]
  },
  {
   "cell_type": "code",
   "execution_count": 35,
   "id": "2fd11044-6c5f-4403-8d02-f0d4db18fb53",
   "metadata": {},
   "outputs": [],
   "source": [
    "from sklearn.model_selection import GridSearchCV,RandomizedSearchCV"
   ]
  },
  {
   "cell_type": "code",
   "execution_count": 36,
   "id": "2e19b6bd-c0f2-47a7-8998-f8bcf1e993a9",
   "metadata": {},
   "outputs": [],
   "source": [
    "params = dict(\n",
    "\n",
    "n_estimators=[50,100],\n",
    "max_depth=[10,12],\n",
    "reg_lambda=[3,5],\n",
    "reg_alpha=[2,5]\n",
    "\n",
    "\n",
    "\n",
    ")"
   ]
  },
  {
   "cell_type": "code",
   "execution_count": 37,
   "id": "22f227fd-085d-480c-b269-e168e3833cc0",
   "metadata": {},
   "outputs": [],
   "source": [
    "grid = GridSearchCV(xgb.XGBRFRegressor(),params,scoring='r2',cv=5,return_train_score=True)"
   ]
  },
  {
   "cell_type": "code",
   "execution_count": 38,
   "id": "7efd3c64-c29b-404c-b4c3-37ca311b6d24",
   "metadata": {},
   "outputs": [
    {
     "data": {
      "text/plain": [
       "GridSearchCV(cv=5,\n",
       "             estimator=XGBRFRegressor(base_score=None, booster=None,\n",
       "                                      callbacks=None, colsample_bylevel=None,\n",
       "                                      colsample_bytree=None,\n",
       "                                      early_stopping_rounds=None,\n",
       "                                      enable_categorical=False,\n",
       "                                      eval_metric=None, gamma=None, gpu_id=None,\n",
       "                                      grow_policy=None, importance_type=None,\n",
       "                                      interaction_constraints=None,\n",
       "                                      max_bin=None, max_cat_to_onehot=None,\n",
       "                                      max_delta_step=None, max...\n",
       "                                      max_leaves=None, min_child_weight=None,\n",
       "                                      missing=nan, monotone_constraints=None,\n",
       "                                      n_estimators=100, n_jobs=None,\n",
       "                                      num_parallel_tree=None,\n",
       "                                      objective='reg:squarederror',\n",
       "                                      predictor=None, random_state=None,\n",
       "                                      reg_alpha=None, sampling_method=None,\n",
       "                                      scale_pos_weight=None, ...),\n",
       "             param_grid={'max_depth': [10, 12], 'n_estimators': [50, 100],\n",
       "                         'reg_alpha': [2, 5], 'reg_lambda': [3, 5]},\n",
       "             return_train_score=True, scoring='r2')"
      ]
     },
     "execution_count": 38,
     "metadata": {},
     "output_type": "execute_result"
    }
   ],
   "source": [
    "grid.fit(x_train,y_train)"
   ]
  },
  {
   "cell_type": "code",
   "execution_count": 39,
   "id": "a4e9ac60-a49e-466c-8f65-382532466fa9",
   "metadata": {},
   "outputs": [
    {
     "data": {
      "text/plain": [
       "{'max_depth': 10, 'n_estimators': 100, 'reg_alpha': 2, 'reg_lambda': 3}"
      ]
     },
     "execution_count": 39,
     "metadata": {},
     "output_type": "execute_result"
    }
   ],
   "source": [
    "grid.best_params_"
   ]
  },
  {
   "cell_type": "code",
   "execution_count": 40,
   "id": "84521b06-deb8-4b8b-bbb0-da6629979f67",
   "metadata": {},
   "outputs": [
    {
     "data": {
      "text/plain": [
       "0.4664888451298418"
      ]
     },
     "execution_count": 40,
     "metadata": {},
     "output_type": "execute_result"
    }
   ],
   "source": [
    "grid.best_score_"
   ]
  },
  {
   "cell_type": "code",
   "execution_count": 42,
   "id": "ed45a793-ae16-4fa3-9001-7c26cd37f03f",
   "metadata": {},
   "outputs": [
    {
     "data": {
      "text/html": [
       "<div>\n",
       "<style scoped>\n",
       "    .dataframe tbody tr th:only-of-type {\n",
       "        vertical-align: middle;\n",
       "    }\n",
       "\n",
       "    .dataframe tbody tr th {\n",
       "        vertical-align: top;\n",
       "    }\n",
       "\n",
       "    .dataframe thead th {\n",
       "        text-align: right;\n",
       "    }\n",
       "</style>\n",
       "<table border=\"1\" class=\"dataframe\">\n",
       "  <thead>\n",
       "    <tr style=\"text-align: right;\">\n",
       "      <th></th>\n",
       "      <th>mean_fit_time</th>\n",
       "      <th>std_fit_time</th>\n",
       "      <th>mean_score_time</th>\n",
       "      <th>std_score_time</th>\n",
       "      <th>param_max_depth</th>\n",
       "      <th>param_n_estimators</th>\n",
       "      <th>param_reg_alpha</th>\n",
       "      <th>param_reg_lambda</th>\n",
       "      <th>params</th>\n",
       "      <th>split0_test_score</th>\n",
       "      <th>...</th>\n",
       "      <th>mean_test_score</th>\n",
       "      <th>std_test_score</th>\n",
       "      <th>rank_test_score</th>\n",
       "      <th>split0_train_score</th>\n",
       "      <th>split1_train_score</th>\n",
       "      <th>split2_train_score</th>\n",
       "      <th>split3_train_score</th>\n",
       "      <th>split4_train_score</th>\n",
       "      <th>mean_train_score</th>\n",
       "      <th>std_train_score</th>\n",
       "    </tr>\n",
       "  </thead>\n",
       "  <tbody>\n",
       "    <tr>\n",
       "      <th>0</th>\n",
       "      <td>12.881411</td>\n",
       "      <td>1.716647</td>\n",
       "      <td>0.106043</td>\n",
       "      <td>0.010017</td>\n",
       "      <td>10</td>\n",
       "      <td>50</td>\n",
       "      <td>2</td>\n",
       "      <td>3</td>\n",
       "      <td>{'max_depth': 10, 'n_estimators': 50, 'reg_alp...</td>\n",
       "      <td>0.481667</td>\n",
       "      <td>...</td>\n",
       "      <td>0.466134</td>\n",
       "      <td>0.011981</td>\n",
       "      <td>3</td>\n",
       "      <td>0.489238</td>\n",
       "      <td>0.473551</td>\n",
       "      <td>0.473095</td>\n",
       "      <td>0.449670</td>\n",
       "      <td>0.483932</td>\n",
       "      <td>0.473897</td>\n",
       "      <td>0.013592</td>\n",
       "    </tr>\n",
       "    <tr>\n",
       "      <th>1</th>\n",
       "      <td>10.859351</td>\n",
       "      <td>0.318780</td>\n",
       "      <td>0.100874</td>\n",
       "      <td>0.011879</td>\n",
       "      <td>10</td>\n",
       "      <td>50</td>\n",
       "      <td>2</td>\n",
       "      <td>5</td>\n",
       "      <td>{'max_depth': 10, 'n_estimators': 50, 'reg_alp...</td>\n",
       "      <td>0.461842</td>\n",
       "      <td>...</td>\n",
       "      <td>0.452725</td>\n",
       "      <td>0.008876</td>\n",
       "      <td>11</td>\n",
       "      <td>0.469988</td>\n",
       "      <td>0.458081</td>\n",
       "      <td>0.461813</td>\n",
       "      <td>0.441330</td>\n",
       "      <td>0.464888</td>\n",
       "      <td>0.459220</td>\n",
       "      <td>0.009759</td>\n",
       "    </tr>\n",
       "    <tr>\n",
       "      <th>2</th>\n",
       "      <td>10.248973</td>\n",
       "      <td>0.751470</td>\n",
       "      <td>0.114804</td>\n",
       "      <td>0.011810</td>\n",
       "      <td>10</td>\n",
       "      <td>50</td>\n",
       "      <td>5</td>\n",
       "      <td>3</td>\n",
       "      <td>{'max_depth': 10, 'n_estimators': 50, 'reg_alp...</td>\n",
       "      <td>0.463053</td>\n",
       "      <td>...</td>\n",
       "      <td>0.452936</td>\n",
       "      <td>0.008851</td>\n",
       "      <td>9</td>\n",
       "      <td>0.470706</td>\n",
       "      <td>0.456722</td>\n",
       "      <td>0.461595</td>\n",
       "      <td>0.441506</td>\n",
       "      <td>0.465071</td>\n",
       "      <td>0.459120</td>\n",
       "      <td>0.009917</td>\n",
       "    </tr>\n",
       "    <tr>\n",
       "      <th>3</th>\n",
       "      <td>8.679311</td>\n",
       "      <td>1.202495</td>\n",
       "      <td>0.083581</td>\n",
       "      <td>0.022403</td>\n",
       "      <td>10</td>\n",
       "      <td>50</td>\n",
       "      <td>5</td>\n",
       "      <td>5</td>\n",
       "      <td>{'max_depth': 10, 'n_estimators': 50, 'reg_alp...</td>\n",
       "      <td>0.448861</td>\n",
       "      <td>...</td>\n",
       "      <td>0.442171</td>\n",
       "      <td>0.006664</td>\n",
       "      <td>15</td>\n",
       "      <td>0.457075</td>\n",
       "      <td>0.446552</td>\n",
       "      <td>0.455039</td>\n",
       "      <td>0.436435</td>\n",
       "      <td>0.446820</td>\n",
       "      <td>0.448384</td>\n",
       "      <td>0.007327</td>\n",
       "    </tr>\n",
       "    <tr>\n",
       "      <th>4</th>\n",
       "      <td>47.460619</td>\n",
       "      <td>17.276428</td>\n",
       "      <td>0.169574</td>\n",
       "      <td>0.076693</td>\n",
       "      <td>10</td>\n",
       "      <td>100</td>\n",
       "      <td>2</td>\n",
       "      <td>3</td>\n",
       "      <td>{'max_depth': 10, 'n_estimators': 100, 'reg_al...</td>\n",
       "      <td>0.478983</td>\n",
       "      <td>...</td>\n",
       "      <td>0.466489</td>\n",
       "      <td>0.010110</td>\n",
       "      <td>1</td>\n",
       "      <td>0.485523</td>\n",
       "      <td>0.468795</td>\n",
       "      <td>0.466689</td>\n",
       "      <td>0.459556</td>\n",
       "      <td>0.489122</td>\n",
       "      <td>0.473937</td>\n",
       "      <td>0.011407</td>\n",
       "    </tr>\n",
       "    <tr>\n",
       "      <th>5</th>\n",
       "      <td>21.317006</td>\n",
       "      <td>6.456960</td>\n",
       "      <td>0.093892</td>\n",
       "      <td>0.027930</td>\n",
       "      <td>10</td>\n",
       "      <td>100</td>\n",
       "      <td>2</td>\n",
       "      <td>5</td>\n",
       "      <td>{'max_depth': 10, 'n_estimators': 100, 'reg_al...</td>\n",
       "      <td>0.461585</td>\n",
       "      <td>...</td>\n",
       "      <td>0.453076</td>\n",
       "      <td>0.007409</td>\n",
       "      <td>7</td>\n",
       "      <td>0.468558</td>\n",
       "      <td>0.454331</td>\n",
       "      <td>0.456084</td>\n",
       "      <td>0.449120</td>\n",
       "      <td>0.467276</td>\n",
       "      <td>0.459074</td>\n",
       "      <td>0.007586</td>\n",
       "    </tr>\n",
       "    <tr>\n",
       "      <th>6</th>\n",
       "      <td>19.635057</td>\n",
       "      <td>5.201823</td>\n",
       "      <td>0.093721</td>\n",
       "      <td>0.035311</td>\n",
       "      <td>10</td>\n",
       "      <td>100</td>\n",
       "      <td>5</td>\n",
       "      <td>3</td>\n",
       "      <td>{'max_depth': 10, 'n_estimators': 100, 'reg_al...</td>\n",
       "      <td>0.462311</td>\n",
       "      <td>...</td>\n",
       "      <td>0.453427</td>\n",
       "      <td>0.007282</td>\n",
       "      <td>5</td>\n",
       "      <td>0.468838</td>\n",
       "      <td>0.453096</td>\n",
       "      <td>0.456213</td>\n",
       "      <td>0.449870</td>\n",
       "      <td>0.467555</td>\n",
       "      <td>0.459114</td>\n",
       "      <td>0.007693</td>\n",
       "    </tr>\n",
       "    <tr>\n",
       "      <th>7</th>\n",
       "      <td>21.489025</td>\n",
       "      <td>3.910703</td>\n",
       "      <td>0.101935</td>\n",
       "      <td>0.024528</td>\n",
       "      <td>10</td>\n",
       "      <td>100</td>\n",
       "      <td>5</td>\n",
       "      <td>5</td>\n",
       "      <td>{'max_depth': 10, 'n_estimators': 100, 'reg_al...</td>\n",
       "      <td>0.447604</td>\n",
       "      <td>...</td>\n",
       "      <td>0.442383</td>\n",
       "      <td>0.004683</td>\n",
       "      <td>13</td>\n",
       "      <td>0.454993</td>\n",
       "      <td>0.443805</td>\n",
       "      <td>0.449879</td>\n",
       "      <td>0.443767</td>\n",
       "      <td>0.448824</td>\n",
       "      <td>0.448254</td>\n",
       "      <td>0.004202</td>\n",
       "    </tr>\n",
       "    <tr>\n",
       "      <th>8</th>\n",
       "      <td>8.601368</td>\n",
       "      <td>1.995299</td>\n",
       "      <td>0.086221</td>\n",
       "      <td>0.020639</td>\n",
       "      <td>12</td>\n",
       "      <td>50</td>\n",
       "      <td>2</td>\n",
       "      <td>3</td>\n",
       "      <td>{'max_depth': 12, 'n_estimators': 50, 'reg_alp...</td>\n",
       "      <td>0.481667</td>\n",
       "      <td>...</td>\n",
       "      <td>0.466134</td>\n",
       "      <td>0.011981</td>\n",
       "      <td>3</td>\n",
       "      <td>0.489238</td>\n",
       "      <td>0.473551</td>\n",
       "      <td>0.473095</td>\n",
       "      <td>0.449670</td>\n",
       "      <td>0.483932</td>\n",
       "      <td>0.473897</td>\n",
       "      <td>0.013592</td>\n",
       "    </tr>\n",
       "    <tr>\n",
       "      <th>9</th>\n",
       "      <td>13.383447</td>\n",
       "      <td>0.439073</td>\n",
       "      <td>0.125768</td>\n",
       "      <td>0.030084</td>\n",
       "      <td>12</td>\n",
       "      <td>50</td>\n",
       "      <td>2</td>\n",
       "      <td>5</td>\n",
       "      <td>{'max_depth': 12, 'n_estimators': 50, 'reg_alp...</td>\n",
       "      <td>0.461842</td>\n",
       "      <td>...</td>\n",
       "      <td>0.452725</td>\n",
       "      <td>0.008876</td>\n",
       "      <td>11</td>\n",
       "      <td>0.469988</td>\n",
       "      <td>0.458081</td>\n",
       "      <td>0.461813</td>\n",
       "      <td>0.441330</td>\n",
       "      <td>0.464888</td>\n",
       "      <td>0.459220</td>\n",
       "      <td>0.009759</td>\n",
       "    </tr>\n",
       "    <tr>\n",
       "      <th>10</th>\n",
       "      <td>13.184657</td>\n",
       "      <td>1.579045</td>\n",
       "      <td>0.115672</td>\n",
       "      <td>0.029434</td>\n",
       "      <td>12</td>\n",
       "      <td>50</td>\n",
       "      <td>5</td>\n",
       "      <td>3</td>\n",
       "      <td>{'max_depth': 12, 'n_estimators': 50, 'reg_alp...</td>\n",
       "      <td>0.463053</td>\n",
       "      <td>...</td>\n",
       "      <td>0.452936</td>\n",
       "      <td>0.008851</td>\n",
       "      <td>9</td>\n",
       "      <td>0.470706</td>\n",
       "      <td>0.456722</td>\n",
       "      <td>0.461595</td>\n",
       "      <td>0.441506</td>\n",
       "      <td>0.465071</td>\n",
       "      <td>0.459120</td>\n",
       "      <td>0.009917</td>\n",
       "    </tr>\n",
       "    <tr>\n",
       "      <th>11</th>\n",
       "      <td>6.732115</td>\n",
       "      <td>0.149086</td>\n",
       "      <td>0.067845</td>\n",
       "      <td>0.005895</td>\n",
       "      <td>12</td>\n",
       "      <td>50</td>\n",
       "      <td>5</td>\n",
       "      <td>5</td>\n",
       "      <td>{'max_depth': 12, 'n_estimators': 50, 'reg_alp...</td>\n",
       "      <td>0.448861</td>\n",
       "      <td>...</td>\n",
       "      <td>0.442171</td>\n",
       "      <td>0.006664</td>\n",
       "      <td>15</td>\n",
       "      <td>0.457075</td>\n",
       "      <td>0.446552</td>\n",
       "      <td>0.455039</td>\n",
       "      <td>0.436435</td>\n",
       "      <td>0.446820</td>\n",
       "      <td>0.448384</td>\n",
       "      <td>0.007327</td>\n",
       "    </tr>\n",
       "    <tr>\n",
       "      <th>12</th>\n",
       "      <td>21.897750</td>\n",
       "      <td>6.715937</td>\n",
       "      <td>0.097567</td>\n",
       "      <td>0.030748</td>\n",
       "      <td>12</td>\n",
       "      <td>100</td>\n",
       "      <td>2</td>\n",
       "      <td>3</td>\n",
       "      <td>{'max_depth': 12, 'n_estimators': 100, 'reg_al...</td>\n",
       "      <td>0.478983</td>\n",
       "      <td>...</td>\n",
       "      <td>0.466489</td>\n",
       "      <td>0.010110</td>\n",
       "      <td>1</td>\n",
       "      <td>0.485523</td>\n",
       "      <td>0.468795</td>\n",
       "      <td>0.466689</td>\n",
       "      <td>0.459556</td>\n",
       "      <td>0.489122</td>\n",
       "      <td>0.473937</td>\n",
       "      <td>0.011407</td>\n",
       "    </tr>\n",
       "    <tr>\n",
       "      <th>13</th>\n",
       "      <td>20.689157</td>\n",
       "      <td>6.061813</td>\n",
       "      <td>0.079935</td>\n",
       "      <td>0.011168</td>\n",
       "      <td>12</td>\n",
       "      <td>100</td>\n",
       "      <td>2</td>\n",
       "      <td>5</td>\n",
       "      <td>{'max_depth': 12, 'n_estimators': 100, 'reg_al...</td>\n",
       "      <td>0.461585</td>\n",
       "      <td>...</td>\n",
       "      <td>0.453076</td>\n",
       "      <td>0.007409</td>\n",
       "      <td>7</td>\n",
       "      <td>0.468558</td>\n",
       "      <td>0.454331</td>\n",
       "      <td>0.456084</td>\n",
       "      <td>0.449120</td>\n",
       "      <td>0.467276</td>\n",
       "      <td>0.459074</td>\n",
       "      <td>0.007586</td>\n",
       "    </tr>\n",
       "    <tr>\n",
       "      <th>14</th>\n",
       "      <td>23.834209</td>\n",
       "      <td>1.349372</td>\n",
       "      <td>0.111016</td>\n",
       "      <td>0.026832</td>\n",
       "      <td>12</td>\n",
       "      <td>100</td>\n",
       "      <td>5</td>\n",
       "      <td>3</td>\n",
       "      <td>{'max_depth': 12, 'n_estimators': 100, 'reg_al...</td>\n",
       "      <td>0.462311</td>\n",
       "      <td>...</td>\n",
       "      <td>0.453427</td>\n",
       "      <td>0.007282</td>\n",
       "      <td>5</td>\n",
       "      <td>0.468838</td>\n",
       "      <td>0.453096</td>\n",
       "      <td>0.456213</td>\n",
       "      <td>0.449870</td>\n",
       "      <td>0.467555</td>\n",
       "      <td>0.459114</td>\n",
       "      <td>0.007693</td>\n",
       "    </tr>\n",
       "    <tr>\n",
       "      <th>15</th>\n",
       "      <td>22.455330</td>\n",
       "      <td>2.115555</td>\n",
       "      <td>0.102141</td>\n",
       "      <td>0.023701</td>\n",
       "      <td>12</td>\n",
       "      <td>100</td>\n",
       "      <td>5</td>\n",
       "      <td>5</td>\n",
       "      <td>{'max_depth': 12, 'n_estimators': 100, 'reg_al...</td>\n",
       "      <td>0.447604</td>\n",
       "      <td>...</td>\n",
       "      <td>0.442383</td>\n",
       "      <td>0.004683</td>\n",
       "      <td>13</td>\n",
       "      <td>0.454993</td>\n",
       "      <td>0.443805</td>\n",
       "      <td>0.449879</td>\n",
       "      <td>0.443767</td>\n",
       "      <td>0.448824</td>\n",
       "      <td>0.448254</td>\n",
       "      <td>0.004202</td>\n",
       "    </tr>\n",
       "  </tbody>\n",
       "</table>\n",
       "<p>16 rows × 24 columns</p>\n",
       "</div>"
      ],
      "text/plain": [
       "    mean_fit_time  std_fit_time  mean_score_time  std_score_time  \\\n",
       "0       12.881411      1.716647         0.106043        0.010017   \n",
       "1       10.859351      0.318780         0.100874        0.011879   \n",
       "2       10.248973      0.751470         0.114804        0.011810   \n",
       "3        8.679311      1.202495         0.083581        0.022403   \n",
       "4       47.460619     17.276428         0.169574        0.076693   \n",
       "5       21.317006      6.456960         0.093892        0.027930   \n",
       "6       19.635057      5.201823         0.093721        0.035311   \n",
       "7       21.489025      3.910703         0.101935        0.024528   \n",
       "8        8.601368      1.995299         0.086221        0.020639   \n",
       "9       13.383447      0.439073         0.125768        0.030084   \n",
       "10      13.184657      1.579045         0.115672        0.029434   \n",
       "11       6.732115      0.149086         0.067845        0.005895   \n",
       "12      21.897750      6.715937         0.097567        0.030748   \n",
       "13      20.689157      6.061813         0.079935        0.011168   \n",
       "14      23.834209      1.349372         0.111016        0.026832   \n",
       "15      22.455330      2.115555         0.102141        0.023701   \n",
       "\n",
       "   param_max_depth param_n_estimators param_reg_alpha param_reg_lambda  \\\n",
       "0               10                 50               2                3   \n",
       "1               10                 50               2                5   \n",
       "2               10                 50               5                3   \n",
       "3               10                 50               5                5   \n",
       "4               10                100               2                3   \n",
       "5               10                100               2                5   \n",
       "6               10                100               5                3   \n",
       "7               10                100               5                5   \n",
       "8               12                 50               2                3   \n",
       "9               12                 50               2                5   \n",
       "10              12                 50               5                3   \n",
       "11              12                 50               5                5   \n",
       "12              12                100               2                3   \n",
       "13              12                100               2                5   \n",
       "14              12                100               5                3   \n",
       "15              12                100               5                5   \n",
       "\n",
       "                                               params  split0_test_score  ...  \\\n",
       "0   {'max_depth': 10, 'n_estimators': 50, 'reg_alp...           0.481667  ...   \n",
       "1   {'max_depth': 10, 'n_estimators': 50, 'reg_alp...           0.461842  ...   \n",
       "2   {'max_depth': 10, 'n_estimators': 50, 'reg_alp...           0.463053  ...   \n",
       "3   {'max_depth': 10, 'n_estimators': 50, 'reg_alp...           0.448861  ...   \n",
       "4   {'max_depth': 10, 'n_estimators': 100, 'reg_al...           0.478983  ...   \n",
       "5   {'max_depth': 10, 'n_estimators': 100, 'reg_al...           0.461585  ...   \n",
       "6   {'max_depth': 10, 'n_estimators': 100, 'reg_al...           0.462311  ...   \n",
       "7   {'max_depth': 10, 'n_estimators': 100, 'reg_al...           0.447604  ...   \n",
       "8   {'max_depth': 12, 'n_estimators': 50, 'reg_alp...           0.481667  ...   \n",
       "9   {'max_depth': 12, 'n_estimators': 50, 'reg_alp...           0.461842  ...   \n",
       "10  {'max_depth': 12, 'n_estimators': 50, 'reg_alp...           0.463053  ...   \n",
       "11  {'max_depth': 12, 'n_estimators': 50, 'reg_alp...           0.448861  ...   \n",
       "12  {'max_depth': 12, 'n_estimators': 100, 'reg_al...           0.478983  ...   \n",
       "13  {'max_depth': 12, 'n_estimators': 100, 'reg_al...           0.461585  ...   \n",
       "14  {'max_depth': 12, 'n_estimators': 100, 'reg_al...           0.462311  ...   \n",
       "15  {'max_depth': 12, 'n_estimators': 100, 'reg_al...           0.447604  ...   \n",
       "\n",
       "    mean_test_score  std_test_score  rank_test_score  split0_train_score  \\\n",
       "0          0.466134        0.011981                3            0.489238   \n",
       "1          0.452725        0.008876               11            0.469988   \n",
       "2          0.452936        0.008851                9            0.470706   \n",
       "3          0.442171        0.006664               15            0.457075   \n",
       "4          0.466489        0.010110                1            0.485523   \n",
       "5          0.453076        0.007409                7            0.468558   \n",
       "6          0.453427        0.007282                5            0.468838   \n",
       "7          0.442383        0.004683               13            0.454993   \n",
       "8          0.466134        0.011981                3            0.489238   \n",
       "9          0.452725        0.008876               11            0.469988   \n",
       "10         0.452936        0.008851                9            0.470706   \n",
       "11         0.442171        0.006664               15            0.457075   \n",
       "12         0.466489        0.010110                1            0.485523   \n",
       "13         0.453076        0.007409                7            0.468558   \n",
       "14         0.453427        0.007282                5            0.468838   \n",
       "15         0.442383        0.004683               13            0.454993   \n",
       "\n",
       "    split1_train_score  split2_train_score  split3_train_score  \\\n",
       "0             0.473551            0.473095            0.449670   \n",
       "1             0.458081            0.461813            0.441330   \n",
       "2             0.456722            0.461595            0.441506   \n",
       "3             0.446552            0.455039            0.436435   \n",
       "4             0.468795            0.466689            0.459556   \n",
       "5             0.454331            0.456084            0.449120   \n",
       "6             0.453096            0.456213            0.449870   \n",
       "7             0.443805            0.449879            0.443767   \n",
       "8             0.473551            0.473095            0.449670   \n",
       "9             0.458081            0.461813            0.441330   \n",
       "10            0.456722            0.461595            0.441506   \n",
       "11            0.446552            0.455039            0.436435   \n",
       "12            0.468795            0.466689            0.459556   \n",
       "13            0.454331            0.456084            0.449120   \n",
       "14            0.453096            0.456213            0.449870   \n",
       "15            0.443805            0.449879            0.443767   \n",
       "\n",
       "    split4_train_score  mean_train_score  std_train_score  \n",
       "0             0.483932          0.473897         0.013592  \n",
       "1             0.464888          0.459220         0.009759  \n",
       "2             0.465071          0.459120         0.009917  \n",
       "3             0.446820          0.448384         0.007327  \n",
       "4             0.489122          0.473937         0.011407  \n",
       "5             0.467276          0.459074         0.007586  \n",
       "6             0.467555          0.459114         0.007693  \n",
       "7             0.448824          0.448254         0.004202  \n",
       "8             0.483932          0.473897         0.013592  \n",
       "9             0.464888          0.459220         0.009759  \n",
       "10            0.465071          0.459120         0.009917  \n",
       "11            0.446820          0.448384         0.007327  \n",
       "12            0.489122          0.473937         0.011407  \n",
       "13            0.467276          0.459074         0.007586  \n",
       "14            0.467555          0.459114         0.007693  \n",
       "15            0.448824          0.448254         0.004202  \n",
       "\n",
       "[16 rows x 24 columns]"
      ]
     },
     "execution_count": 42,
     "metadata": {},
     "output_type": "execute_result"
    }
   ],
   "source": [
    "pd.DataFrame(grid.cv_results_)"
   ]
  },
  {
   "cell_type": "code",
   "execution_count": 45,
   "id": "d1ac7004-2de3-4c9c-a314-80059589c0f1",
   "metadata": {},
   "outputs": [
    {
     "data": {
      "text/plain": [
       "0.47984424914136725"
      ]
     },
     "execution_count": 45,
     "metadata": {},
     "output_type": "execute_result"
    }
   ],
   "source": [
    "pred = grid.best_estimator_.predict(x_test)\n",
    "r2_score(y_test,pred)"
   ]
  },
  {
   "cell_type": "code",
   "execution_count": 4,
   "id": "fb8ef023-e6d2-40de-8ec8-f5a020a579be",
   "metadata": {},
   "outputs": [],
   "source": [
    "from sklearn.ensemble import StackingRegressor\n",
    "from sklearn.neural_network import MLPRegressor"
   ]
  },
  {
   "cell_type": "code",
   "execution_count": 5,
   "id": "24f78bdb-905f-4c26-b4a2-e1962a85e216",
   "metadata": {},
   "outputs": [],
   "source": [
    "m = [('gb',GradientBoostingRegressor(max_depth=10)),('rf',RandomForestRegressor(max_depth=10)),\n",
    "      ('neigh',KNeighborsRegressor(n_neighbors=10))]"
   ]
  },
  {
   "cell_type": "code",
   "execution_count": 10,
   "id": "19b2f2f1-03f0-4c91-86d1-a6bc038f212d",
   "metadata": {},
   "outputs": [],
   "source": [
    "stack = StackingRegressor(estimators=m,\n",
    "            final_estimator=xgb.XGBRegressor(n_estimators=100,\n",
    "            max_depth=10,reg_lambda=3,reg_alpha=2),\n",
    "                          cv=5\n",
    "            )"
   ]
  },
  {
   "cell_type": "code",
   "execution_count": 15,
   "id": "a6fc13f6-7ef9-46a9-9797-75e593ec6b15",
   "metadata": {},
   "outputs": [
    {
     "name": "stderr",
     "output_type": "stream",
     "text": [
      "/Users/rahul/anacond/anaconda3/lib/python3.9/site-packages/sklearn/ensemble/_stacking.py:758: DataConversionWarning: A column-vector y was passed when a 1d array was expected. Please change the shape of y to (n_samples, ), for example using ravel().\n",
      "  y = column_or_1d(y, warn=True)\n"
     ]
    },
    {
     "data": {
      "text/plain": [
       "StackingRegressor(estimators=[('gb', GradientBoostingRegressor(max_depth=10)),\n",
       "                              ('rf', RandomForestRegressor(max_depth=10)),\n",
       "                              ('neigh', KNeighborsRegressor(n_neighbors=10))],\n",
       "                  final_estimator=XGBRegressor(base_score=None, booster=None,\n",
       "                                               callbacks=None,\n",
       "                                               colsample_bylevel=None,\n",
       "                                               colsample_bynode=None,\n",
       "                                               colsample_bytree=None,\n",
       "                                               early_stopping_rounds=None,\n",
       "                                               enable_categoric...\n",
       "                                               gpu_id=None, grow_policy=None,\n",
       "                                               importance_type=None,\n",
       "                                               interaction_constraints=None,\n",
       "                                               learning_rate=None, max_bin=None,\n",
       "                                               max_cat_to_onehot=None,\n",
       "                                               max_delta_step=None,\n",
       "                                               max_depth=10, max_leaves=None,\n",
       "                                               min_child_weight=None,\n",
       "                                               missing=nan,\n",
       "                                               monotone_constraints=None,\n",
       "                                               n_estimators=100, n_jobs=None,\n",
       "                                               num_parallel_tree=None,\n",
       "                                               predictor=None,\n",
       "                                               random_state=None, reg_alpha=2,\n",
       "                                               reg_lambda=3, ...))"
      ]
     },
     "execution_count": 15,
     "metadata": {},
     "output_type": "execute_result"
    }
   ],
   "source": [
    "stack.fit(x_train,y_train)"
   ]
  },
  {
   "cell_type": "code",
   "execution_count": 17,
   "id": "ab961855-c1ae-4588-8162-7849d7448baf",
   "metadata": {},
   "outputs": [
    {
     "data": {
      "text/plain": [
       "0.8642685916504569"
      ]
     },
     "execution_count": 17,
     "metadata": {},
     "output_type": "execute_result"
    }
   ],
   "source": [
    "pred = stack.predict(x_test)\n",
    "r2_score(y_test,pred)"
   ]
  },
  {
   "cell_type": "code",
   "execution_count": 30,
   "id": "54f759f7-f2d1-418b-a20c-ca5f69ca79cc",
   "metadata": {},
   "outputs": [],
   "source": [
    "mlp = MLPRegressor( hidden_layer_sizes=(124,6),\n",
    "    activation='relu',\n",
    "    solver='adam',\n",
    "    alpha=0.0001,\n",
    "    batch_size=32,\n",
    "    learning_rate='constant',\n",
    "    learning_rate_init=0.001,\n",
    "    power_t=0.5,\n",
    "    max_iter=200,\n",
    "    shuffle=True,\n",
    "    random_state=None,)"
   ]
  },
  {
   "cell_type": "code",
   "execution_count": 31,
   "id": "1c9c3bcb-996b-4bf4-a48c-493b27d5202e",
   "metadata": {},
   "outputs": [
    {
     "name": "stderr",
     "output_type": "stream",
     "text": [
      "/Users/rahul/anacond/anaconda3/lib/python3.9/site-packages/sklearn/neural_network/_multilayer_perceptron.py:1599: DataConversionWarning: A column-vector y was passed when a 1d array was expected. Please change the shape of y to (n_samples, ), for example using ravel().\n",
      "  y = column_or_1d(y, warn=True)\n"
     ]
    },
    {
     "data": {
      "text/plain": [
       "MLPRegressor(batch_size=32, hidden_layer_sizes=(124, 6))"
      ]
     },
     "execution_count": 31,
     "metadata": {},
     "output_type": "execute_result"
    }
   ],
   "source": [
    "mlp.fit(x_train,y_train)"
   ]
  },
  {
   "cell_type": "code",
   "execution_count": 32,
   "id": "d56bbab2-76b2-47ab-9013-d241a53612ff",
   "metadata": {},
   "outputs": [
    {
     "data": {
      "text/plain": [
       "0.8157690482484795"
      ]
     },
     "execution_count": 32,
     "metadata": {},
     "output_type": "execute_result"
    }
   ],
   "source": [
    "pred = mlp.predict(x_test)\n",
    "r2_score(y_test,pred)"
   ]
  },
  {
   "cell_type": "code",
   "execution_count": 62,
   "id": "53d3fe15-f177-48eb-bad0-26c2b4c7f316",
   "metadata": {},
   "outputs": [],
   "source": [
    "# plot tree\n",
    "from sklearn.tree import plot_tree,export_text,export_graphviz"
   ]
  },
  {
   "cell_type": "code",
   "execution_count": 47,
   "id": "82455017-8778-4724-ae47-15f45f5c1a8c",
   "metadata": {},
   "outputs": [],
   "source": [
    "models_dic = dict(\n",
    "\n",
    "    rf = RandomForestRegressor(max_depth=10,min_samples_split=2,\n",
    "                               random_state=5),\n",
    "  \n",
    "    gb = GradientBoostingRegressor(max_depth=10,min_samples_leaf=2,\n",
    "                                  random_state=5),\n",
    "    tree = DecisionTreeRegressor(max_depth=15,random_state=5),\n",
    "  \n",
    ")"
   ]
  },
  {
   "cell_type": "code",
   "execution_count": 56,
   "id": "4a3e1a24-4d83-4873-88e4-bbfc4e21e4d2",
   "metadata": {},
   "outputs": [
    {
     "name": "stderr",
     "output_type": "stream",
     "text": [
      "/Users/rahul/anacond/anaconda3/lib/python3.9/site-packages/sklearn/ensemble/_gb.py:494: DataConversionWarning: A column-vector y was passed when a 1d array was expected. Please change the shape of y to (n_samples, ), for example using ravel().\n",
      "  y = column_or_1d(y, warn=True)\n"
     ]
    },
    {
     "data": {
      "text/plain": [
       "GradientBoostingRegressor(max_depth=10, min_samples_leaf=2, random_state=5)"
      ]
     },
     "execution_count": 56,
     "metadata": {},
     "output_type": "execute_result"
    }
   ],
   "source": [
    "models_dic['gb'].fit(x_train,y_train)"
   ]
  },
  {
   "cell_type": "code",
   "execution_count": 53,
   "id": "5bab9dd7-b5d9-4f8e-ab12-1b7393e64a47",
   "metadata": {},
   "outputs": [
    {
     "data": {
      "image/png": "[encoded data removed]",
      "text/plain": [
       "<Figure size 864x576 with 1 Axes>"
      ]
     },
     "metadata": {
      "needs_background": "light"
     },
     "output_type": "display_data"
    }
   ],
   "source": [
    "import matplotlib.pyplot as plt\n",
    "\n",
    "fig,ax = plt.subplots(figsize=(12,8))\n",
    "plot_tree(models_dic['tree'],max_depth=2,feature_names=x_train.columns,filled=True,fontsize=10,ax=ax)\n",
    "plt.show()"
   ]
  },
  {
   "cell_type": "code",
   "execution_count": 61,
   "id": "fc3b5078-4258-46a8-9748-be441c7c6d08",
   "metadata": {},
   "outputs": [
    {
     "name": "stdout",
     "output_type": "stream",
     "text": [
      "|--- votes <= 0.33\n",
      "|   |--- votes <= -0.66\n",
      "|   |   |--- votes <= -1.23\n",
      "|   |   |   |--- truncated branch of depth 13\n",
      "|   |   |--- votes >  -1.23\n",
      "|   |   |   |--- truncated branch of depth 13\n",
      "|   |--- votes >  -0.66\n",
      "|   |   |--- bad <= 0.02\n",
      "|   |   |   |--- truncated branch of depth 13\n",
      "|   |   |--- bad >  0.02\n",
      "|   |   |   |--- truncated branch of depth 13\n",
      "|--- votes >  0.33\n",
      "|   |--- amazing <= 0.00\n",
      "|   |   |--- votes <= 0.99\n",
      "|   |   |   |--- truncated branch of depth 13\n",
      "|   |   |--- votes >  0.99\n",
      "|   |   |   |--- truncated branch of depth 13\n",
      "|   |--- amazing >  0.00\n",
      "|   |   |--- votes <= 1.38\n",
      "|   |   |   |--- truncated branch of depth 13\n",
      "|   |   |--- votes >  1.38\n",
      "|   |   |   |--- truncated branch of depth 13\n",
      "\n"
     ]
    }
   ],
   "source": [
    "t = export_text(models_dic['tree'],feature_names=list(x_train.columns),max_depth=2)\n",
    "print(t)"
   ]
  },
  {
   "cell_type": "code",
   "execution_count": 74,
   "id": "d68e4d99-476c-491f-bf1e-b038a45223f8",
   "metadata": {},
   "outputs": [],
   "source": [
    "from graphviz import Source\n",
    "\n",
    "t = export_graphviz(models_dic['tree'],feature_names=list(x_train.columns),max_depth=2)\n"
   ]
  },
  {
   "cell_type": "code",
   "execution_count": 90,
   "id": "16fdc910-db3d-4573-b202-643a09771ff3",
   "metadata": {},
   "outputs": [],
   "source": [
    "#Source(t)"
   ]
  },
  {
   "cell_type": "code",
   "execution_count": 55,
   "id": "6095bd73-623c-4bfb-8dda-d10562e3f9e3",
   "metadata": {},
   "outputs": [
    {
     "data": {
      "image/png": "[encoded data removed]",
      "text/plain": [
       "<Figure size 864x576 with 1 Axes>"
      ]
     },
     "metadata": {
      "needs_background": "light"
     },
     "output_type": "display_data"
    }
   ],
   "source": [
    "import matplotlib.pyplot as plt\n",
    "\n",
    "fig,ax = plt.subplots(figsize=(12,8))\n",
    "plot_tree(models_dic['rf'].estimators_[0],max_depth=2,feature_names=x_train.columns,filled=True,fontsize=10,ax=ax)\n",
    "plt.show()"
   ]
  },
  {
   "cell_type": "code",
   "execution_count": 67,
   "id": "c8e6e246-a1ac-44cc-ba1d-66e07223ed41",
   "metadata": {},
   "outputs": [
    {
     "data": {
      "image/png": "[encoded data removed]",
      "text/plain": [
       "<Figure size 864x576 with 1 Axes>"
      ]
     },
     "metadata": {
      "needs_background": "light"
     },
     "output_type": "display_data"
    }
   ],
   "source": [
    "import matplotlib.pyplot as plt\n",
    "\n",
    "fig,ax = plt.subplots(figsize=(12,8))\n",
    "plot_tree(models_dic['gb'].estimators_[0][0],max_depth=2,feature_names=x_train.columns,filled=True,fontsize=10,ax=ax)\n",
    "plt.show()"
   ]
  },
  {
   "cell_type": "code",
   "execution_count": 68,
   "id": "0e08c761-fce6-4b7d-bbd3-de3861c03d5d",
   "metadata": {},
   "outputs": [
    {
     "data": {
      "text/plain": [
       "XGBRegressor(base_score=0.5, booster='gbtree', callbacks=None,\n",
       "             colsample_bylevel=1, colsample_bynode=1, colsample_bytree=1,\n",
       "             early_stopping_rounds=None, enable_categorical=False,\n",
       "             eval_metric=None, gamma=0, gpu_id=-1, grow_policy='depthwise',\n",
       "             importance_type=None, interaction_constraints='',\n",
       "             learning_rate=0.300000012, max_bin=256, max_cat_to_onehot=4,\n",
       "             max_delta_step=0, max_depth=10, max_leaves=0, min_child_weight=1,\n",
       "             missing=nan, monotone_constraints='()', n_estimators=100, n_jobs=0,\n",
       "             num_parallel_tree=1, predictor='auto', random_state=0, reg_alpha=2,\n",
       "             reg_lambda=3, ...)"
      ]
     },
     "execution_count": 68,
     "metadata": {},
     "output_type": "execute_result"
    }
   ],
   "source": [
    "boost = xgb.XGBRegressor(n_estimators=100,max_depth=10,reg_lambda=3,reg_alpha=2)\n",
    "boost.fit(x_train,y_train)"
   ]
  },
  {
   "cell_type": "code",
   "execution_count": 89,
   "id": "779acb7b-ed49-4b0a-ae7b-db517ebd1376",
   "metadata": {},
   "outputs": [],
   "source": [
    "#xgb.plot_tree(boost)"
   ]
  },
  {
   "cell_type": "code",
   "execution_count": 72,
   "id": "d5b5e219-561c-4414-8ba8-6dfa264c7d3f",
   "metadata": {},
   "outputs": [],
   "source": [
    "boost"
   ]
  },
  {
   "cell_type": "code",
   "execution_count": 75,
   "id": "e6c14291-48c4-4874-80c2-538e51d01c2e",
   "metadata": {},
   "outputs": [
    {
     "data": {
      "text/plain": [
       "0.8727651513495669"
      ]
     },
     "execution_count": 75,
     "metadata": {},
     "output_type": "execute_result"
    }
   ],
   "source": [
    "# prediction\n",
    "\n",
    "pred = boost.predict(x_test)\n",
    "r2_score(y_test,pred)"
   ]
  },
  {
   "cell_type": "code",
   "execution_count": 76,
   "id": "86ec8a82-708c-4ec2-a7bf-0ddc50129419",
   "metadata": {},
   "outputs": [
    {
     "data": {
      "text/plain": [
       "0.8580984239661257"
      ]
     },
     "execution_count": 76,
     "metadata": {},
     "output_type": "execute_result"
    }
   ],
   "source": [
    "pred = models_dic['gb'].predict(x_test)\n",
    "r2_score(y_test,pred)"
   ]
  },
  {
   "cell_type": "code",
   "execution_count": 77,
   "id": "b0221b3e-7a76-4d5a-806f-98f4180ce399",
   "metadata": {},
   "outputs": [],
   "source": [
    "# Saving best models\n",
    "\n",
    "import os\n",
    "\n",
    "os.mkdir('best_model/')"
   ]
  },
  {
   "cell_type": "code",
   "execution_count": 78,
   "id": "20ccc8a2-8737-430b-9a33-8f7bb684e240",
   "metadata": {},
   "outputs": [],
   "source": [
    "boost.save_model('best_model/xgboost')"
   ]
  },
  {
   "cell_type": "code",
   "execution_count": 80,
   "id": "cef5370d-beb4-48aa-87d5-b662b55f915f",
   "metadata": {},
   "outputs": [
    {
     "data": {
      "text/plain": [
       "0.8727651513495669"
      ]
     },
     "execution_count": 80,
     "metadata": {},
     "output_type": "execute_result"
    }
   ],
   "source": [
    "mod = xgb.XGBRegressor()\n",
    "mod.load_model('best_model/xgboost')\n",
    "\n",
    "pred = mod.predict(x_test)\n",
    "r2_score(y_test,pred)"
   ]
  },
  {
   "cell_type": "code",
   "execution_count": 81,
   "id": "230cde17-9343-4794-91b3-6fa95e3f4bc2",
   "metadata": {},
   "outputs": [
    {
     "data": {
      "text/plain": [
       "['best_model/gradboost.pkl']"
      ]
     },
     "execution_count": 81,
     "metadata": {},
     "output_type": "execute_result"
    }
   ],
   "source": [
    "import joblib\n",
    "\n",
    "joblib.dump(models_dic['gb'],'best_model/gradboost.pkl')"
   ]
  },
  {
   "cell_type": "code",
   "execution_count": 82,
   "id": "fd2e971b-13dd-4030-801b-00d99d058759",
   "metadata": {},
   "outputs": [
    {
     "data": {
      "text/plain": [
       "0.8580984239661257"
      ]
     },
     "execution_count": 82,
     "metadata": {},
     "output_type": "execute_result"
    }
   ],
   "source": [
    "mod = joblib.load('best_model/gradboost.pkl')\n",
    "pred = mod.predict(x_test)\n",
    "r2_score(y_test,pred)"
   ]
  },
  {
   "cell_type": "code",
   "execution_count": 83,
   "id": "2e61b8a2-c839-4260-9be0-75e1fc329c44",
   "metadata": {},
   "outputs": [
    {
     "data": {
      "text/plain": [
       "array([4.44388203e-03, 4.37865295e-02, 4.80833650e-02, 4.14049439e-03,\n",
       "       1.19529170e-04, 3.55266850e-04, 6.05428708e-04, 5.20529633e-04,\n",
       "       2.22811796e-04, 1.18014088e-03, 1.82031340e-03, 1.94615175e-04,\n",
       "       0.00000000e+00, 1.22507662e-02, 3.21383565e-03, 7.00256834e-03,\n",
       "       1.76581386e-02, 2.26913462e-03, 5.82136039e-04, 0.00000000e+00,\n",
       "       0.00000000e+00, 2.46448535e-03, 3.61316488e-04, 0.00000000e+00,\n",
       "       0.00000000e+00, 1.45725312e-03, 0.00000000e+00, 3.67008848e-03,\n",
       "       4.73328633e-03, 8.16068932e-05, 0.00000000e+00, 1.59188407e-04,\n",
       "       0.00000000e+00, 0.00000000e+00, 1.13409944e-03, 4.79683001e-03,\n",
       "       2.54652300e-03, 1.87823724e-03, 1.85903686e-03, 0.00000000e+00,\n",
       "       2.09825055e-04, 0.00000000e+00, 0.00000000e+00, 0.00000000e+00,\n",
       "       1.57178365e-04, 0.00000000e+00, 0.00000000e+00, 5.80984808e-04,\n",
       "       3.50694987e-03, 0.00000000e+00, 7.61509873e-04, 6.66546077e-03,\n",
       "       0.00000000e+00, 4.79458412e-03, 2.07914338e-02, 0.00000000e+00,\n",
       "       0.00000000e+00, 6.75863748e-06, 0.00000000e+00, 0.00000000e+00,\n",
       "       0.00000000e+00, 7.76276179e-03, 0.00000000e+00, 0.00000000e+00,\n",
       "       0.00000000e+00, 3.63823329e-03, 5.86829567e-03, 7.85990269e-05,\n",
       "       9.24432371e-03, 1.74066785e-03, 7.05063483e-03, 2.38921121e-03,\n",
       "       1.22722415e-02, 4.25096089e-03, 0.00000000e+00, 0.00000000e+00,\n",
       "       5.91581666e-05, 2.78767518e-04, 1.46247551e-03, 7.60124484e-03,\n",
       "       0.00000000e+00, 0.00000000e+00, 1.00858719e-03, 2.06730183e-04,\n",
       "       1.24657317e-03, 4.76280751e-04, 1.16306612e-04, 9.35978629e-03,\n",
       "       2.17501912e-02, 4.37373817e-02, 0.00000000e+00, 0.00000000e+00,\n",
       "       0.00000000e+00, 3.22005269e-03, 2.04081531e-03, 2.51367717e-04,\n",
       "       2.63649691e-03, 1.46216585e-03, 4.56402806e-04, 7.77309760e-04,\n",
       "       5.86552196e-04, 3.15608078e-04, 6.20577484e-04, 1.98044800e-04,\n",
       "       3.29402788e-03, 5.07801778e-05, 5.03984140e-03, 9.19517042e-05,\n",
       "       1.39079615e-03, 1.02846592e-03, 7.76842586e-04, 1.92882915e-04,\n",
       "       1.09680353e-04, 5.04708791e-04, 8.66135932e-04, 8.71592609e-04,\n",
       "       7.97426503e-04, 1.40893494e-03, 3.68636131e-04, 5.14562300e-04,\n",
       "       2.20166563e-04, 2.35621654e-03, 4.01571393e-04, 1.78458716e-03,\n",
       "       1.09345210e-03, 4.47775587e-04, 3.02741211e-03, 2.58873636e-03,\n",
       "       1.41000914e-04, 3.30371608e-04, 0.00000000e+00, 1.35344977e-03,\n",
       "       7.67353573e-04, 4.97803045e-03, 4.37744381e-03, 0.00000000e+00,\n",
       "       0.00000000e+00, 1.70957865e-04, 5.19465469e-03, 0.00000000e+00,\n",
       "       2.85516633e-03, 0.00000000e+00, 1.85156969e-04, 2.14716955e-03,\n",
       "       0.00000000e+00, 2.06189416e-03, 0.00000000e+00, 0.00000000e+00,\n",
       "       0.00000000e+00, 2.71236594e-03, 2.19099829e-03, 3.07313050e-04,\n",
       "       0.00000000e+00, 5.77866612e-03, 1.26455007e-02, 2.08162628e-02,\n",
       "       1.17917976e-03, 2.90335109e-03, 6.52149552e-03, 0.00000000e+00,\n",
       "       1.16494354e-02, 2.20228569e-03, 3.71963414e-03, 0.00000000e+00,\n",
       "       0.00000000e+00, 2.49242224e-03, 0.00000000e+00, 0.00000000e+00,\n",
       "       3.13773425e-03, 6.86610397e-03, 0.00000000e+00, 1.82780903e-02,\n",
       "       7.73044478e-04, 0.00000000e+00, 0.00000000e+00, 2.31022062e-03,\n",
       "       2.66449573e-03, 0.00000000e+00, 1.68464740e-03, 4.68604965e-03,\n",
       "       2.11706874e-03, 3.34726041e-03, 1.27030369e-02, 1.72750457e-04,\n",
       "       9.98136587e-03, 0.00000000e+00, 1.17218383e-02, 0.00000000e+00,\n",
       "       2.73395213e-03, 1.92463602e-04, 1.05618732e-02, 1.46184306e-04,\n",
       "       7.85217807e-03, 4.46495740e-03, 7.54754525e-04, 3.12786386e-03,\n",
       "       0.00000000e+00, 2.24279123e-03, 6.26594556e-06, 0.00000000e+00,\n",
       "       2.07874528e-03, 4.51795533e-02, 1.66053977e-02, 0.00000000e+00,\n",
       "       0.00000000e+00, 0.00000000e+00, 1.81169587e-03, 0.00000000e+00,\n",
       "       0.00000000e+00, 0.00000000e+00, 0.00000000e+00, 4.49168822e-03,\n",
       "       0.00000000e+00, 5.54088911e-04, 8.02888419e-04, 3.20070051e-03,\n",
       "       0.00000000e+00, 0.00000000e+00, 0.00000000e+00, 1.82050408e-03,\n",
       "       2.30211648e-03, 0.00000000e+00, 3.02115083e-03, 2.58538057e-03,\n",
       "       0.00000000e+00, 0.00000000e+00, 1.28114561e-05, 0.00000000e+00,\n",
       "       3.41721403e-04, 5.12289908e-03, 0.00000000e+00, 0.00000000e+00,\n",
       "       7.69284414e-03, 0.00000000e+00, 2.08002273e-02, 1.23147923e-03,\n",
       "       1.52487017e-03, 5.65743679e-03, 2.05876771e-03, 2.38034278e-02,\n",
       "       1.43647741e-03, 6.43410115e-03, 4.85296641e-03, 2.18325853e-03,\n",
       "       4.53760615e-03, 1.25188834e-03, 2.84806825e-03, 1.52483967e-03,\n",
       "       2.06708652e-03, 2.54250760e-03, 2.29111477e-03, 9.88458376e-03,\n",
       "       3.42895580e-03, 1.62861974e-03, 5.31628914e-03, 3.21883848e-03,\n",
       "       3.42520885e-03, 1.33052620e-03, 1.43625436e-03, 4.27671568e-03,\n",
       "       4.50798916e-03, 1.78491266e-03, 1.03566109e-03, 2.26741284e-03,\n",
       "       1.49381533e-03, 2.10996508e-03, 2.16963259e-03, 1.31389976e-03,\n",
       "       1.87272346e-03, 2.13653641e-03, 1.68865547e-03, 1.60935055e-03,\n",
       "       2.96965637e-03, 1.65907689e-03, 1.98274734e-03, 1.41907367e-03,\n",
       "       1.29972841e-03, 1.36949623e-03, 2.22778623e-03, 1.02735478e-02,\n",
       "       2.51974375e-03, 3.24946549e-03, 2.65711849e-03, 2.39335257e-03,\n",
       "       3.08663677e-03, 1.96110900e-03, 1.36518164e-03, 3.45714577e-03,\n",
       "       1.96958915e-03, 4.23072232e-03, 1.96980103e-03, 6.01876620e-03,\n",
       "       1.82091107e-03, 1.18385104e-03, 1.98997790e-03, 1.68640958e-03,\n",
       "       1.45969132e-03, 6.02966454e-03, 5.79300430e-03, 2.04104325e-03,\n",
       "       3.11654946e-03, 1.43790024e-03, 2.98857247e-03, 1.64892001e-03,\n",
       "       1.86090299e-03, 1.43646298e-03, 1.87853421e-03, 1.96353695e-03,\n",
       "       2.28954456e-03, 1.86699454e-03, 2.42697611e-03, 1.05588883e-03,\n",
       "       2.32096366e-03, 2.41549988e-03, 1.59299525e-03, 1.29539508e-03,\n",
       "       1.50790787e-03, 2.07381439e-03, 1.93653442e-03, 1.68095937e-03,\n",
       "       1.55995809e-03, 1.81260740e-03, 1.67829392e-03, 1.85217778e-03,\n",
       "       3.90692707e-03, 1.78168470e-03, 1.74879655e-03, 2.15486204e-03,\n",
       "       2.10168795e-03, 1.97058986e-03, 1.65907061e-03, 4.53741523e-03,\n",
       "       2.82007433e-03, 2.26317323e-03], dtype=float32)"
      ]
     },
     "execution_count": 83,
     "metadata": {},
     "output_type": "execute_result"
    }
   ],
   "source": [
    "# feature importance\n",
    "\n",
    "boost.feature_importances_"
   ]
  },
  {
   "cell_type": "code",
   "execution_count": 84,
   "id": "26c8fba9-0337-4557-b12c-f4b676a4596e",
   "metadata": {},
   "outputs": [
    {
     "data": {
      "text/plain": [
       "array([1.87367551e-03, 4.27872934e-03, 4.23186837e-01, 1.50799319e-02,\n",
       "       1.01267754e-04, 4.80943863e-05, 1.50994285e-04, 5.20204648e-05,\n",
       "       1.66990885e-04, 7.05637308e-06, 9.35678986e-09, 8.69952136e-05,\n",
       "       0.00000000e+00, 3.76259228e-04, 1.33373362e-04, 0.00000000e+00,\n",
       "       9.40478620e-04, 1.75671461e-04, 1.31643850e-04, 0.00000000e+00,\n",
       "       3.03977145e-05, 0.00000000e+00, 6.78305721e-05, 0.00000000e+00,\n",
       "       1.43773682e-07, 6.50576612e-06, 0.00000000e+00, 6.98447364e-04,\n",
       "       2.97547564e-05, 0.00000000e+00, 1.58055952e-05, 3.83898179e-06,\n",
       "       0.00000000e+00, 0.00000000e+00, 0.00000000e+00, 2.44320896e-03,\n",
       "       3.31292492e-04, 2.71326636e-05, 0.00000000e+00, 0.00000000e+00,\n",
       "       0.00000000e+00, 3.42367439e-06, 0.00000000e+00, 0.00000000e+00,\n",
       "       0.00000000e+00, 0.00000000e+00, 0.00000000e+00, 2.09746961e-04,\n",
       "       8.35528558e-04, 0.00000000e+00, 0.00000000e+00, 8.37184085e-04,\n",
       "       0.00000000e+00, 3.53524670e-05, 1.90190719e-04, 0.00000000e+00,\n",
       "       0.00000000e+00, 9.41362549e-06, 0.00000000e+00, 0.00000000e+00,\n",
       "       0.00000000e+00, 7.58748300e-04, 0.00000000e+00, 0.00000000e+00,\n",
       "       0.00000000e+00, 8.38877231e-05, 1.21950358e-05, 2.82374013e-05,\n",
       "       1.85439414e-03, 3.16760806e-05, 0.00000000e+00, 4.08821989e-05,\n",
       "       9.97195389e-04, 2.36698924e-04, 0.00000000e+00, 3.43594549e-06,\n",
       "       2.24962278e-06, 0.00000000e+00, 2.27048582e-05, 1.21853872e-03,\n",
       "       0.00000000e+00, 2.00704233e-05, 3.33881761e-07, 6.16738416e-05,\n",
       "       1.63104051e-03, 0.00000000e+00, 8.92439572e-06, 8.09369649e-05,\n",
       "       1.36843427e-04, 8.02962622e-05, 0.00000000e+00, 0.00000000e+00,\n",
       "       0.00000000e+00, 2.23972827e-05, 7.56882315e-05, 8.98018559e-08,\n",
       "       2.72674580e-05, 5.22060973e-04, 3.40199132e-05, 1.27967344e-05,\n",
       "       3.86128124e-05, 6.86455372e-06, 1.53116655e-04, 1.68678162e-05,\n",
       "       6.25809579e-04, 3.59047854e-05, 7.62157195e-04, 2.57831182e-05,\n",
       "       2.87990345e-05, 3.30480807e-05, 8.80775898e-06, 1.52515660e-05,\n",
       "       2.43668626e-05, 1.45093365e-05, 3.98658678e-05, 2.93341829e-05,\n",
       "       4.35541809e-05, 5.73860386e-05, 7.79610808e-06, 1.77358377e-05,\n",
       "       6.24926182e-05, 8.75595871e-04, 7.27092808e-05, 1.80462155e-04,\n",
       "       1.79405395e-04, 3.38977372e-06, 5.10272149e-04, 8.01949139e-04,\n",
       "       1.32460324e-06, 0.00000000e+00, 6.22762186e-05, 3.59134926e-05,\n",
       "       2.86294815e-04, 1.00861878e-03, 2.74231432e-04, 0.00000000e+00,\n",
       "       0.00000000e+00, 8.99955707e-05, 2.47248301e-04, 4.18116136e-05,\n",
       "       3.83823402e-04, 0.00000000e+00, 9.61329639e-05, 1.11760591e-03,\n",
       "       0.00000000e+00, 1.53594608e-03, 9.82537033e-07, 0.00000000e+00,\n",
       "       0.00000000e+00, 1.86976657e-04, 2.27507847e-05, 6.09403657e-04,\n",
       "       0.00000000e+00, 1.88656370e-04, 1.61712332e-04, 7.26594158e-03,\n",
       "       3.67915087e-05, 9.62557141e-04, 2.25217209e-03, 0.00000000e+00,\n",
       "       2.85954457e-04, 1.69240126e-03, 4.04571178e-04, 0.00000000e+00,\n",
       "       0.00000000e+00, 5.15095799e-06, 0.00000000e+00, 3.09214862e-05,\n",
       "       2.26278010e-05, 4.99016298e-04, 0.00000000e+00, 5.62797485e-04,\n",
       "       2.53470744e-04, 4.84245187e-09, 1.67467474e-05, 8.26516295e-04,\n",
       "       4.26847003e-04, 0.00000000e+00, 1.49115836e-04, 3.74612788e-05,\n",
       "       3.07416488e-04, 6.93065372e-04, 7.31853656e-05, 8.21031438e-05,\n",
       "       5.94005378e-05, 0.00000000e+00, 3.53704487e-08, 0.00000000e+00,\n",
       "       2.21762953e-04, 1.17134150e-04, 8.91805800e-05, 7.97921482e-04,\n",
       "       4.06699517e-05, 9.55641796e-05, 1.01101332e-05, 4.27628087e-04,\n",
       "       0.00000000e+00, 6.18186533e-04, 0.00000000e+00, 0.00000000e+00,\n",
       "       1.11606460e-05, 8.20074847e-03, 5.46258200e-06, 0.00000000e+00,\n",
       "       0.00000000e+00, 0.00000000e+00, 1.19063692e-03, 0.00000000e+00,\n",
       "       6.07295621e-06, 0.00000000e+00, 0.00000000e+00, 6.48672544e-04,\n",
       "       1.58061366e-06, 1.05869466e-04, 2.73947100e-05, 4.43490801e-04,\n",
       "       0.00000000e+00, 0.00000000e+00, 0.00000000e+00, 7.25369388e-04,\n",
       "       4.24279432e-06, 0.00000000e+00, 3.32806332e-05, 8.83817340e-04,\n",
       "       1.22394824e-05, 0.00000000e+00, 3.60668369e-05, 1.03352135e-04,\n",
       "       1.50737809e-04, 1.42104850e-04, 7.37666889e-05, 0.00000000e+00,\n",
       "       4.87043536e-04, 0.00000000e+00, 5.81683406e-02, 9.42463306e-04,\n",
       "       3.41943094e-03, 1.05091036e-02, 3.33035451e-03, 5.50967869e-02,\n",
       "       1.82088915e-03, 1.54281820e-03, 1.21205861e-02, 3.54307542e-03,\n",
       "       9.95868545e-03, 1.16237319e-03, 7.53371812e-04, 1.20465015e-03,\n",
       "       4.41532857e-03, 2.06753297e-03, 5.36012408e-03, 6.72948188e-03,\n",
       "       4.19649047e-03, 2.06824007e-03, 5.81032562e-03, 5.51574558e-03,\n",
       "       5.00506940e-03, 2.03620782e-03, 3.30820975e-03, 1.20146366e-02,\n",
       "       3.21644817e-03, 4.52736305e-03, 1.51496778e-03, 7.41091601e-03,\n",
       "       2.32517410e-03, 2.18063354e-03, 3.56754012e-03, 1.69792218e-03,\n",
       "       6.93798749e-03, 4.75061817e-03, 4.40138265e-03, 1.73833602e-03,\n",
       "       5.08654737e-03, 3.07763720e-03, 3.59255029e-03, 5.09010189e-03,\n",
       "       2.00545550e-03, 1.55574681e-03, 4.82993302e-03, 1.37750151e-02,\n",
       "       1.52641782e-03, 2.43054369e-03, 5.68861301e-03, 4.52146984e-03,\n",
       "       4.41009164e-03, 6.54923818e-04, 3.36534709e-03, 2.65718993e-03,\n",
       "       1.66673414e-03, 6.39210371e-03, 1.63340323e-03, 1.33939133e-02,\n",
       "       6.60569135e-03, 2.38096436e-03, 2.78819288e-03, 4.69050290e-04,\n",
       "       1.70044412e-03, 3.95748210e-03, 4.41640099e-03, 8.59870977e-03,\n",
       "       2.41024372e-03, 2.53607626e-03, 5.17507309e-03, 2.42432439e-03,\n",
       "       2.39201169e-03, 2.13672411e-03, 4.44766759e-03, 2.05480681e-03,\n",
       "       4.96183498e-03, 2.67997156e-03, 3.25158607e-03, 1.32819739e-03,\n",
       "       1.91765324e-03, 2.60499186e-03, 5.31356812e-03, 2.00936991e-03,\n",
       "       2.76980217e-03, 2.85616482e-03, 1.33158052e-03, 5.54184556e-03,\n",
       "       2.56337516e-03, 2.43173387e-03, 2.65178094e-03, 3.70814008e-03,\n",
       "       1.48990822e-02, 4.18490723e-03, 3.98807504e-03, 1.36245140e-03,\n",
       "       2.23870953e-03, 1.20614317e-03, 1.06170069e-03, 3.09433032e-03,\n",
       "       4.38700148e-03, 3.18718210e-03])"
      ]
     },
     "execution_count": 84,
     "metadata": {},
     "output_type": "execute_result"
    }
   ],
   "source": [
    "models_dic['gb'].feature_importances_"
   ]
  },
  {
   "cell_type": "code",
   "execution_count": 4,
   "id": "d3b6660c-920c-490d-8e68-7a5e519892d9",
   "metadata": {},
   "outputs": [],
   "source": [
    "from sklearn.decomposition import (MiniBatchSparsePCA,KernelPCA,\n",
    "                                   IncrementalPCA,PCA)"
   ]
  },
  {
   "cell_type": "code",
   "execution_count": 94,
   "id": "8a4dd627-9ed6-495a-bfdd-bd180a89b7b4",
   "metadata": {},
   "outputs": [],
   "source": [
    "ipca = IncrementalPCA(105)"
   ]
  },
  {
   "cell_type": "code",
   "execution_count": 95,
   "id": "34a203e3-11bf-46a8-af06-7188491633c3",
   "metadata": {},
   "outputs": [
    {
     "data": {
      "text/plain": [
       "IncrementalPCA(n_components=105)"
      ]
     },
     "execution_count": 95,
     "metadata": {},
     "output_type": "execute_result"
    }
   ],
   "source": [
    "ipca.fit(x_train)"
   ]
  },
  {
   "cell_type": "code",
   "execution_count": 97,
   "id": "e6121d96-1c8e-4c27-a881-48cee80641db",
   "metadata": {},
   "outputs": [
    {
     "data": {
      "text/plain": [
       "0.9339770668244046"
      ]
     },
     "execution_count": 97,
     "metadata": {},
     "output_type": "execute_result"
    }
   ],
   "source": [
    "sum(ipca.explained_variance_ratio_)"
   ]
  },
  {
   "cell_type": "code",
   "execution_count": 98,
   "id": "2b6db481-9526-4621-b688-c3c1c8409170",
   "metadata": {},
   "outputs": [
    {
     "data": {
      "text/plain": [
       "MiniBatchSparsePCA(n_components=100)"
      ]
     },
     "execution_count": 98,
     "metadata": {},
     "output_type": "execute_result"
    }
   ],
   "source": [
    "mpca = MiniBatchSparsePCA(100)\n",
    "mpca.fit(x_train)"
   ]
  },
  {
   "cell_type": "code",
   "execution_count": 99,
   "id": "09d10223-8a6b-45f5-a6db-ee2d95aa36e7",
   "metadata": {},
   "outputs": [
    {
     "data": {
      "text/plain": [
       "(26738, 100)"
      ]
     },
     "execution_count": 99,
     "metadata": {},
     "output_type": "execute_result"
    }
   ],
   "source": [
    "mpca.transform(x_train).shape"
   ]
  },
  {
   "cell_type": "code",
   "execution_count": 101,
   "id": "108c7bd7-0813-48e0-a3ca-4c92c66b5ae8",
   "metadata": {},
   "outputs": [],
   "source": [
    "# kpca = KernelPCA(100)\n",
    "# kpca.fit(x_train)"
   ]
  },
  {
   "cell_type": "code",
   "execution_count": 6,
   "id": "d101584e-a553-49d0-a3fa-8ff6f00a1966",
   "metadata": {
    "tags": []
   },
   "outputs": [],
   "source": [
    "from sklearn.manifold import TSNE,MDS\n",
    "                                                "
   ]
  },
  {
   "cell_type": "code",
   "execution_count": 7,
   "id": "59264a91-5a94-4341-bae5-7b412530fa3f",
   "metadata": {},
   "outputs": [
    {
     "data": {
      "text/plain": [
       "IncrementalPCA(n_components=50)"
      ]
     },
     "execution_count": 7,
     "metadata": {},
     "output_type": "execute_result"
    }
   ],
   "source": [
    "pca = IncrementalPCA(n_components=50)\n",
    "\n",
    "pca.fit(x_train)"
   ]
  },
  {
   "cell_type": "code",
   "execution_count": 8,
   "id": "ae8f7303-31db-4ddc-8f31-721880766ea4",
   "metadata": {},
   "outputs": [
    {
     "data": {
      "text/plain": [
       "(26738, 50)"
      ]
     },
     "execution_count": 8,
     "metadata": {},
     "output_type": "execute_result"
    }
   ],
   "source": [
    "x = pca.transform(x_train)\n",
    "x.shape"
   ]
  },
  {
   "cell_type": "code",
   "execution_count": 10,
   "id": "994f356d-30a7-4e92-8862-12e16b6da481",
   "metadata": {},
   "outputs": [],
   "source": [
    "# tsne = TSNE()\n",
    "\n",
    "\n",
    "# tsne.fit(x)"
   ]
  },
  {
   "cell_type": "code",
   "execution_count": 60,
   "id": "6e03251d-cb77-46c9-8237-7c840345ce35",
   "metadata": {},
   "outputs": [],
   "source": [
    "x_train.reset_index(drop=True,inplace=True)"
   ]
  },
  {
   "cell_type": "code",
   "execution_count": 64,
   "id": "de116097-0f0c-4950-ba01-95b05e03c974",
   "metadata": {},
   "outputs": [
    {
     "data": {
      "text/html": [
       "<div>\n",
       "<style scoped>\n",
       "    .dataframe tbody tr th:only-of-type {\n",
       "        vertical-align: middle;\n",
       "    }\n",
       "\n",
       "    .dataframe tbody tr th {\n",
       "        vertical-align: top;\n",
       "    }\n",
       "\n",
       "    .dataframe thead th {\n",
       "        text-align: right;\n",
       "    }\n",
       "</style>\n",
       "<table border=\"1\" class=\"dataframe\">\n",
       "  <thead>\n",
       "    <tr style=\"text-align: right;\">\n",
       "      <th></th>\n",
       "      <th>rate</th>\n",
       "    </tr>\n",
       "  </thead>\n",
       "  <tbody>\n",
       "    <tr>\n",
       "      <th>0</th>\n",
       "      <td>4.0</td>\n",
       "    </tr>\n",
       "    <tr>\n",
       "      <th>1</th>\n",
       "      <td>3.5</td>\n",
       "    </tr>\n",
       "    <tr>\n",
       "      <th>2</th>\n",
       "      <td>4.2</td>\n",
       "    </tr>\n",
       "    <tr>\n",
       "      <th>3</th>\n",
       "      <td>3.8</td>\n",
       "    </tr>\n",
       "    <tr>\n",
       "      <th>4</th>\n",
       "      <td>4.2</td>\n",
       "    </tr>\n",
       "    <tr>\n",
       "      <th>...</th>\n",
       "      <td>...</td>\n",
       "    </tr>\n",
       "    <tr>\n",
       "      <th>26733</th>\n",
       "      <td>3.3</td>\n",
       "    </tr>\n",
       "    <tr>\n",
       "      <th>26734</th>\n",
       "      <td>3.5</td>\n",
       "    </tr>\n",
       "    <tr>\n",
       "      <th>26735</th>\n",
       "      <td>3.5</td>\n",
       "    </tr>\n",
       "    <tr>\n",
       "      <th>26736</th>\n",
       "      <td>3.1</td>\n",
       "    </tr>\n",
       "    <tr>\n",
       "      <th>26737</th>\n",
       "      <td>4.4</td>\n",
       "    </tr>\n",
       "  </tbody>\n",
       "</table>\n",
       "<p>26738 rows × 1 columns</p>\n",
       "</div>"
      ],
      "text/plain": [
       "       rate\n",
       "0       4.0\n",
       "1       3.5\n",
       "2       4.2\n",
       "3       3.8\n",
       "4       4.2\n",
       "...     ...\n",
       "26733   3.3\n",
       "26734   3.5\n",
       "26735   3.5\n",
       "26736   3.1\n",
       "26737   4.4\n",
       "\n",
       "[26738 rows x 1 columns]"
      ]
     },
     "execution_count": 64,
     "metadata": {},
     "output_type": "execute_result"
    }
   ],
   "source": [
    "y_train"
   ]
  },
  {
   "cell_type": "code",
   "execution_count": 65,
   "id": "a12d9d22-bef3-4fe1-87c7-8b0889d80f9c",
   "metadata": {},
   "outputs": [],
   "source": [
    "# MINI BATCH GRADIENT DESCENT FOR XGBOOST\n",
    "\n",
    "batch=5000\n",
    "model = None\n",
    "y_train.index = x_train.index\n",
    "\n",
    "j = batch\n",
    "for i in range(0,len(x_train),batch):\n",
    "    \n",
    "    if j>len(x_train):\n",
    "        j = len(x_train)-1\n",
    "    \n",
    "    x = x_train.iloc[i:j]\n",
    "    y = y_train.iloc[i:j]\n",
    "    \n",
    "    # model = xgb.train(params={'max_depth':10,,'n_estimator'=50,\n",
    "    #                          'reg_lambda':2})\n",
    "    \n",
    "    model = xgb.train(params = dict(objective='reg:squarederror',n_estimators=100,max_depth=15, \\\n",
    "                               reg_lambda=3,reg_alpha=2 ,verbosity=0\n",
    "                               ),\n",
    "                     dtrain=xgb.DMatrix(x,y),\n",
    "                     xgb_model = model)\n",
    "                      "
   ]
  },
  {
   "cell_type": "code",
   "execution_count": 66,
   "id": "7a125a7d-87c2-44e9-afc4-47e941ed6bd1",
   "metadata": {},
   "outputs": [
    {
     "data": {
      "text/plain": [
       "0.5429915608783591"
      ]
     },
     "execution_count": 66,
     "metadata": {},
     "output_type": "execute_result"
    }
   ],
   "source": [
    "pred = model.predict(xgb.DMatrix(x_test))\n",
    "r2_score(y_test,pred)"
   ]
  },
  {
   "cell_type": "code",
   "execution_count": 57,
   "id": "6f6188cd-4241-4bd2-aa03-cf6982d66d52",
   "metadata": {},
   "outputs": [],
   "source": [
    "# MINI BATCH GRADIENT DESCENT FOR XGBOOST\n",
    "\n",
    "batch=5000\n",
    "model = None\n",
    "y_train.index = x_train.index\n",
    "\n",
    "j = batch\n",
    "for i in range(0,len(x_train),batch):\n",
    "    \n",
    "    x = x_train.iloc[i:j]\n",
    "    y = y_train.iloc[i:j]\n",
    "    \n",
    "    # model = xgb.train(params={'max_depth':10,,'n_estimator'=50,\n",
    "    #                          'reg_lambda':2})\n",
    "    \n",
    "    model = xgb.XGBRegressor(n_estimators=100,max_depth=10,\n",
    "                               reg_lambda=3,reg_alpha=2\n",
    "                               ,xgb_model=model,verbosity=0)\n",
    "    \n",
    "    model.fit(x,y)"
   ]
  },
  {
   "cell_type": "code",
   "execution_count": 58,
   "id": "c6cad3f1-80f3-4833-b050-0ac9ed24ecf9",
   "metadata": {},
   "outputs": [
    {
     "data": {
      "text/plain": [
       "-50.94977842195259"
      ]
     },
     "execution_count": 58,
     "metadata": {},
     "output_type": "execute_result"
    }
   ],
   "source": [
    "pred = model.predict(x_test)\n",
    "r2_score(y_test,pred)"
   ]
  },
  {
   "cell_type": "code",
   "execution_count": null,
   "id": "58c6dee5-5887-41b6-92b8-92fef0ee3f3f",
   "metadata": {},
   "outputs": [],
   "source": []
  }
 ],
 "metadata": {
  "kernelspec": {
   "display_name": "Python 3 (ipykernel)",
   "language": "python",
   "name": "python3"
  },
  "language_info": {
   "codemirror_mode": {
    "name": "ipython",
    "version": 3
   },
   "file_extension": ".py",
   "mimetype": "text/x-python",
   "name": "python",
   "nbconvert_exporter": "python",
   "pygments_lexer": "ipython3",
   "version": "3.9.12"
  }
 },
 "nbformat": 4,
 "nbformat_minor": 5
}
